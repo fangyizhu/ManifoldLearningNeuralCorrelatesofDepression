{
 "cells": [
  {
   "cell_type": "code",
   "id": "initial_id",
   "metadata": {
    "collapsed": true,
    "ExecuteTime": {
     "end_time": "2025-08-20T01:01:48.052973Z",
     "start_time": "2025-08-20T01:01:47.295819Z"
    }
   },
   "source": [
    "from transformers import AutoModelForCausalLM, AutoTokenizer\n",
    "from torch import cuda, cdist\n",
    "from collections import OrderedDict\n",
    "import gc\n",
    "from functools import partial\n",
    "from pandas import DataFrame\n",
    "import warnings\n",
    "import torch.nn.functional as f\n",
    "from itertools import combinations\n",
    "import plotly.express as px\n",
    "warnings.simplefilter(action='ignore', category=FutureWarning)"
   ],
   "outputs": [],
   "execution_count": 147
  },
  {
   "metadata": {
    "ExecuteTime": {
     "end_time": "2025-08-19T23:49:13.418446Z",
     "start_time": "2025-08-19T23:49:13.415436Z"
    }
   },
   "cell_type": "code",
   "source": [
    "MODEL = \"google/gemma-2-2b\"\n",
    "DEVICE = \"cpu\""
   ],
   "id": "8b5fa285cae359f8",
   "outputs": [],
   "execution_count": 96
  },
  {
   "metadata": {
    "ExecuteTime": {
     "end_time": "2025-08-19T23:49:15.361961Z",
     "start_time": "2025-08-19T23:49:13.424856Z"
    }
   },
   "cell_type": "code",
   "source": [
    "cuda.empty_cache()\n",
    "gc.collect()\n",
    "model = AutoModelForCausalLM.from_pretrained(\n",
    "    MODEL,\n",
    "    device_map=DEVICE,\n",
    "    torch_dtype=\"auto\",\n",
    "    trust_remote_code=True,\n",
    ")"
   ],
   "id": "b355d9de207f2763",
   "outputs": [
    {
     "data": {
      "text/plain": [
       "Loading checkpoint shards:   0%|          | 0/3 [00:00<?, ?it/s]"
      ],
      "application/vnd.jupyter.widget-view+json": {
       "version_major": 2,
       "version_minor": 0,
       "model_id": "898a6ca5c8cb4494bf948315d2611563"
      }
     },
     "metadata": {},
     "output_type": "display_data"
    }
   ],
   "execution_count": 97
  },
  {
   "metadata": {
    "ExecuteTime": {
     "end_time": "2025-08-19T23:49:16.427671Z",
     "start_time": "2025-08-19T23:49:15.443360Z"
    }
   },
   "cell_type": "code",
   "source": [
    "tokenizer = AutoTokenizer.from_pretrained(MODEL)\n",
    "emotions = [\"happy\", \"calm\", \"sad\", \"anxious\",  \"angry\", \"scared\", \"fearful\", \"el\", \"ated\", \"dep\", \"ressed\"]\n",
    "\n",
    "# squeeze tensor dim, strip <bos>\n",
    "print(\"orignal shape: \", tokenizer(\"happy\", return_tensors='pt').input_ids)\n",
    "emo_tokens = OrderedDict({emo: tokenizer(emo, return_tensors='pt').input_ids.squeeze()[1].unsqueeze(0).unsqueeze(0) for emo in emotions})\n",
    "print(emo_tokens)"
   ],
   "id": "22b5c00f0c1630e9",
   "outputs": [
    {
     "name": "stdout",
     "output_type": "stream",
     "text": [
      "orignal shape:  tensor([[    2, 11896]])\n",
      "OrderedDict({'happy': tensor([[11896]]), 'calm': tensor([[116051]]), 'sad': tensor([[37968]]), 'anxious': tensor([[481]]), 'angry': tensor([[70709]]), 'scared': tensor([[221959]]), 'fearful': tensor([[71339]]), 'el': tensor([[521]]), 'ated': tensor([[840]]), 'dep': tensor([[3243]]), 'ressed': tensor([[3734]])})\n"
     ]
    }
   ],
   "execution_count": 98
  },
  {
   "metadata": {
    "ExecuteTime": {
     "end_time": "2025-08-20T00:39:16.238905Z",
     "start_time": "2025-08-20T00:39:15.709102Z"
    }
   },
   "cell_type": "code",
   "source": [
    "# Create a table to record initial embeddings, and then output after selected layers\n",
    "layers = [0, 5, 10, 15, 20, 25]\n",
    "layer_embs = DataFrame(index=emotions, columns=layers)\n",
    "print(layer_embs)\n",
    "print(layer_embs[0]['happy'])"
   ],
   "id": "c8b55e224753c2f2",
   "outputs": [
    {
     "name": "stdout",
     "output_type": "stream",
     "text": [
      "          0    5    10   15   20   25\n",
      "happy    NaN  NaN  NaN  NaN  NaN  NaN\n",
      "calm     NaN  NaN  NaN  NaN  NaN  NaN\n",
      "sad      NaN  NaN  NaN  NaN  NaN  NaN\n",
      "anxious  NaN  NaN  NaN  NaN  NaN  NaN\n",
      "angry    NaN  NaN  NaN  NaN  NaN  NaN\n",
      "scared   NaN  NaN  NaN  NaN  NaN  NaN\n",
      "fearful  NaN  NaN  NaN  NaN  NaN  NaN\n",
      "el       NaN  NaN  NaN  NaN  NaN  NaN\n",
      "ated     NaN  NaN  NaN  NaN  NaN  NaN\n",
      "dep      NaN  NaN  NaN  NaN  NaN  NaN\n",
      "ressed   NaN  NaN  NaN  NaN  NaN  NaN\n",
      "nan\n"
     ]
    }
   ],
   "execution_count": 138
  },
  {
   "metadata": {
    "ExecuteTime": {
     "end_time": "2025-08-20T00:39:17.868417Z",
     "start_time": "2025-08-20T00:39:17.861290Z"
    }
   },
   "cell_type": "code",
   "source": [
    "def pandas_hook(module, input, output, word, layer_id):\n",
    "    if layer_id == 0: # put in initial embeddings\n",
    "        layer_embs[layer_id][word] = input[0].squeeze()\n",
    "    else:\n",
    "        layer_embs[layer_id][word] = output[0].squeeze()\n",
    "\n",
    "def pass_word_through_model(word):\n",
    "    for l in layers:\n",
    "            model.model.layers[l]._forward_hooks = OrderedDict() # clear all the old hooks first\n",
    "            model.model.layers[l].register_forward_hook(partial(pandas_hook, word=word, layer_id=l))\n",
    "    model(emo_tokens[word])\n",
    " # model.model separates out attention head"
   ],
   "id": "9f0eeac43b1b882f",
   "outputs": [],
   "execution_count": 139
  },
  {
   "metadata": {
    "ExecuteTime": {
     "end_time": "2025-08-20T00:43:28.424941Z",
     "start_time": "2025-08-20T00:39:20.110669Z"
    }
   },
   "cell_type": "code",
   "source": [
    "for emo in emotions:\n",
    "    pass_word_through_model(emo)\n",
    "print(layer_embs[0]['happy'])"
   ],
   "id": "871eefc87fc40a93",
   "outputs": [
    {
     "name": "stdout",
     "output_type": "stream",
     "text": [
      "tensor([-0.5460,  2.3400, -2.8969,  ..., -0.9964,  2.3312, -0.4533],\n",
      "       grad_fn=<SqueezeBackward0>)\n"
     ]
    }
   ],
   "execution_count": 140
  },
  {
   "metadata": {
    "ExecuteTime": {
     "end_time": "2025-08-20T00:44:09.916814Z",
     "start_time": "2025-08-20T00:44:08.231067Z"
    }
   },
   "cell_type": "code",
   "source": "print(layer_embs)",
   "id": "6d25d17f97fe87b3",
   "outputs": [
    {
     "name": "stdout",
     "output_type": "stream",
     "text": [
      "                                                        0   \\\n",
      "happy    [tensor(-0.5460, grad_fn=<UnbindBackward0>), t...   \n",
      "calm     [tensor(-1.0288, grad_fn=<UnbindBackward0>), t...   \n",
      "sad      [tensor(2.1290, grad_fn=<UnbindBackward0>), te...   \n",
      "anxious  [tensor(-0.9365, grad_fn=<UnbindBackward0>), t...   \n",
      "angry    [tensor(2.2207, grad_fn=<UnbindBackward0>), te...   \n",
      "scared   [tensor(-0.9843, grad_fn=<UnbindBackward0>), t...   \n",
      "fearful  [tensor(1.5781, grad_fn=<UnbindBackward0>), te...   \n",
      "el       [tensor(1.6869, grad_fn=<UnbindBackward0>), te...   \n",
      "ated     [tensor(1.6462, grad_fn=<UnbindBackward0>), te...   \n",
      "dep      [tensor(-0.3469, grad_fn=<UnbindBackward0>), t...   \n",
      "ressed   [tensor(-0.9824, grad_fn=<UnbindBackward0>), t...   \n",
      "\n",
      "                                                        5   \\\n",
      "happy    [tensor(-0.1694, grad_fn=<UnbindBackward0>), t...   \n",
      "calm     [tensor(-0.9991, grad_fn=<UnbindBackward0>), t...   \n",
      "sad      [tensor(-0.4275, grad_fn=<UnbindBackward0>), t...   \n",
      "anxious  [tensor(0.1535, grad_fn=<UnbindBackward0>), te...   \n",
      "angry    [tensor(-0.2193, grad_fn=<UnbindBackward0>), t...   \n",
      "scared   [tensor(0.0334, grad_fn=<UnbindBackward0>), te...   \n",
      "fearful  [tensor(-0.4938, grad_fn=<UnbindBackward0>), t...   \n",
      "el       [tensor(1.0403, grad_fn=<UnbindBackward0>), te...   \n",
      "ated     [tensor(0.1249, grad_fn=<UnbindBackward0>), te...   \n",
      "dep      [tensor(1.3730, grad_fn=<UnbindBackward0>), te...   \n",
      "ressed   [tensor(-0.2225, grad_fn=<UnbindBackward0>), t...   \n",
      "\n",
      "                                                        10  \\\n",
      "happy    [tensor(0.6221, grad_fn=<UnbindBackward0>), te...   \n",
      "calm     [tensor(-0.3151, grad_fn=<UnbindBackward0>), t...   \n",
      "sad      [tensor(2.3782, grad_fn=<UnbindBackward0>), te...   \n",
      "anxious  [tensor(0.5230, grad_fn=<UnbindBackward0>), te...   \n",
      "angry    [tensor(-1.3294, grad_fn=<UnbindBackward0>), t...   \n",
      "scared   [tensor(-0.2237, grad_fn=<UnbindBackward0>), t...   \n",
      "fearful  [tensor(0.3219, grad_fn=<UnbindBackward0>), te...   \n",
      "el       [tensor(-0.3551, grad_fn=<UnbindBackward0>), t...   \n",
      "ated     [tensor(-0.2669, grad_fn=<UnbindBackward0>), t...   \n",
      "dep      [tensor(-2.0814, grad_fn=<UnbindBackward0>), t...   \n",
      "ressed   [tensor(-0.3146, grad_fn=<UnbindBackward0>), t...   \n",
      "\n",
      "                                                        15  \\\n",
      "happy    [tensor(0.5791, grad_fn=<UnbindBackward0>), te...   \n",
      "calm     [tensor(-3.2878, grad_fn=<UnbindBackward0>), t...   \n",
      "sad      [tensor(-3.2964, grad_fn=<UnbindBackward0>), t...   \n",
      "anxious  [tensor(0.9662, grad_fn=<UnbindBackward0>), te...   \n",
      "angry    [tensor(-0.6386, grad_fn=<UnbindBackward0>), t...   \n",
      "scared   [tensor(-1.2451, grad_fn=<UnbindBackward0>), t...   \n",
      "fearful  [tensor(-1.4800, grad_fn=<UnbindBackward0>), t...   \n",
      "el       [tensor(-3.1974, grad_fn=<UnbindBackward0>), t...   \n",
      "ated     [tensor(-0.9829, grad_fn=<UnbindBackward0>), t...   \n",
      "dep      [tensor(-3.1591, grad_fn=<UnbindBackward0>), t...   \n",
      "ressed   [tensor(-0.3985, grad_fn=<UnbindBackward0>), t...   \n",
      "\n",
      "                                                        20  \\\n",
      "happy    [tensor(-2.8660, grad_fn=<UnbindBackward0>), t...   \n",
      "calm     [tensor(-8.6809, grad_fn=<UnbindBackward0>), t...   \n",
      "sad      [tensor(-5.8604, grad_fn=<UnbindBackward0>), t...   \n",
      "anxious  [tensor(3.5863, grad_fn=<UnbindBackward0>), te...   \n",
      "angry    [tensor(-2.3615, grad_fn=<UnbindBackward0>), t...   \n",
      "scared   [tensor(-5.9769, grad_fn=<UnbindBackward0>), t...   \n",
      "fearful  [tensor(-6.4143, grad_fn=<UnbindBackward0>), t...   \n",
      "el       [tensor(-0.1717, grad_fn=<UnbindBackward0>), t...   \n",
      "ated     [tensor(-0.8369, grad_fn=<UnbindBackward0>), t...   \n",
      "dep      [tensor(-8.5263, grad_fn=<UnbindBackward0>), t...   \n",
      "ressed   [tensor(-2.4397, grad_fn=<UnbindBackward0>), t...   \n",
      "\n",
      "                                                        25  \n",
      "happy    [tensor(-3.3988, grad_fn=<UnbindBackward0>), t...  \n",
      "calm     [tensor(-9.0129, grad_fn=<UnbindBackward0>), t...  \n",
      "sad      [tensor(-20.3405, grad_fn=<UnbindBackward0>), ...  \n",
      "anxious  [tensor(0.8134, grad_fn=<UnbindBackward0>), te...  \n",
      "angry    [tensor(-2.6988, grad_fn=<UnbindBackward0>), t...  \n",
      "scared   [tensor(-14.9399, grad_fn=<UnbindBackward0>), ...  \n",
      "fearful  [tensor(-5.6624, grad_fn=<UnbindBackward0>), t...  \n",
      "el       [tensor(8.6135, grad_fn=<UnbindBackward0>), te...  \n",
      "ated     [tensor(-1.4387, grad_fn=<UnbindBackward0>), t...  \n",
      "dep      [tensor(-15.7256, grad_fn=<UnbindBackward0>), ...  \n",
      "ressed   [tensor(2.4812, grad_fn=<UnbindBackward0>), te...  \n"
     ]
    }
   ],
   "execution_count": 141
  },
  {
   "metadata": {
    "ExecuteTime": {
     "end_time": "2025-08-20T01:21:49.561645Z",
     "start_time": "2025-08-20T01:21:49.336855Z"
    }
   },
   "cell_type": "code",
   "source": [
    "def cos_dist(emb1, emb2):\n",
    "    return 1 - f.cosine_similarity(emb1, emb2, dim=0).item()\n",
    "\n",
    "cos_dist_figs = []\n",
    "\n",
    "for l in layers:\n",
    "    df = DataFrame(index=emotions+[\"depressed-avg\", \"elated-avg\"], columns=emotions+[\"depressed-avg\", \"elated-avg\"])\n",
    "\n",
    "    for p in combinations(emotions, r=2):\n",
    "        df[p[0]][p[1]]= cos_dist(layer_embs[l][p[0]], layer_embs[l][p[1]])\n",
    "\n",
    "    for emo in emotions:\n",
    "        df[emo]['depressed-avg'] = (cos_dist(layer_embs[l][emo], layer_embs[l]['dep']) + cos_dist(layer_embs[l][emo], layer_embs[l]['ressed'])) / 2\n",
    "        df[emo]['elated-avg'] = (cos_dist(layer_embs[l][emo], layer_embs[l]['el']) + cos_dist(layer_embs[l][emo], layer_embs[l]['ated'])) / 2\n",
    "        df['depressed-avg']['elated-avg'] = (cos_dist(layer_embs[l]['dep'], layer_embs[l]['el']) + cos_dist(layer_embs[l]['ressed'], layer_embs[l]['ated'])) / 2\n",
    "\n",
    "    fig = px.imshow(df, title=\"Cosine Distance between Emotions at Layer \" + str(l), labels=dict(color=\"Cosine Distance\"), text_auto=True, aspect=\"auto\", color_continuous_scale='RdBu', range_color=[0.13, 1.26])\n",
    "    cos_dist_figs.append(fig)"
   ],
   "id": "689ba57ce10bd39c",
   "outputs": [],
   "execution_count": 162
  },
  {
   "metadata": {
    "ExecuteTime": {
     "end_time": "2025-08-20T01:21:51.220519Z",
     "start_time": "2025-08-20T01:21:51.015119Z"
    }
   },
   "cell_type": "code",
   "source": [
    "def euc(emb1, emb2):\n",
    "    return cdist(emb1.unsqueeze(0), emb2.unsqueeze(0)).item()\n",
    "\n",
    "euc_dist_figs = []\n",
    "\n",
    "for l in layers:\n",
    "    df = DataFrame(index=emotions+[\"depressed-avg\", \"elated-avg\"], columns=emotions+[\"depressed-avg\", \"elated-avg\"])\n",
    "\n",
    "    for p in combinations(emotions, r=2):\n",
    "        df[p[0]][p[1]]= euc(layer_embs[l][p[0]], layer_embs[l][p[1]])\n",
    "\n",
    "    for emo in emotions:\n",
    "        df[emo]['depressed-avg'] = (euc(layer_embs[l][emo], layer_embs[l]['dep']) + euc(layer_embs[l][emo], layer_embs[l]['ressed'])) / 2\n",
    "        df[emo]['elated-avg'] = (euc(layer_embs[l][emo], layer_embs[l]['el']) + euc(layer_embs[l][emo], layer_embs[l]['ated'])) / 2\n",
    "        df['depressed-avg']['elated-avg'] = (euc(layer_embs[l]['dep'], layer_embs[l]['el']) + euc(layer_embs[l]['ressed'], layer_embs[l]['ated'])) / 2\n",
    "\n",
    "    fig = px.imshow(df, title=\"Euclidean Distance between Emotions at Layer \" + str(l), labels=dict(color=\"Euclidean Distance\"), text_auto=True, aspect=\"auto\", color_continuous_scale='RdBu', range_color=[44, 925])\n",
    "    euc_dist_figs.append(fig)"
   ],
   "id": "c8c82fd71418de7b",
   "outputs": [],
   "execution_count": 163
  },
  {
   "metadata": {
    "ExecuteTime": {
     "end_time": "2025-08-20T01:21:53.842946Z",
     "start_time": "2025-08-20T01:21:53.447403Z"
    }
   },
   "cell_type": "code",
   "source": [
    "def figures_to_html(figs, filename=\"dashboard.html\"):\n",
    "    with open(filename, 'w', encoding='utf-8') as dashboard:\n",
    "        dashboard.write(\"<html><head></head><body>\" + \"\\n\")\n",
    "        for fig in figs:\n",
    "            inner_html = fig.to_html().split('<body>')[1].split('</body>')[0]\n",
    "            dashboard.write(inner_html)\n",
    "        dashboard.write(\"</body></html>\" + \"\\n\")\n",
    "\n",
    "figures_to_html(cos_dist_figs + euc_dist_figs, filename=\"layer_distances.html\")"
   ],
   "id": "a1618cec2a2ae9a8",
   "outputs": [],
   "execution_count": 164
  }
 ],
 "metadata": {
  "kernelspec": {
   "display_name": "Python 3",
   "language": "python",
   "name": "python3"
  },
  "language_info": {
   "codemirror_mode": {
    "name": "ipython",
    "version": 2
   },
   "file_extension": ".py",
   "mimetype": "text/x-python",
   "name": "python",
   "nbconvert_exporter": "python",
   "pygments_lexer": "ipython2",
   "version": "2.7.6"
  }
 },
 "nbformat": 4,
 "nbformat_minor": 5
}
