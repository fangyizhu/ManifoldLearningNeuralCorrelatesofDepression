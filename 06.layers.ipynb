{
 "cells": [
  {
   "cell_type": "code",
   "id": "initial_id",
   "metadata": {
    "collapsed": true,
    "ExecuteTime": {
     "end_time": "2025-08-25T02:56:33.822621Z",
     "start_time": "2025-08-25T02:56:33.817396Z"
    }
   },
   "source": [
    "import gc\n",
    "import warnings\n",
    "from collections import OrderedDict\n",
    "from functools import partial\n",
    "from itertools import combinations\n",
    "\n",
    "import plotly.express as px\n",
    "import torch.nn.functional as f\n",
    "from pandas import DataFrame\n",
    "from torch import cuda, cdist, sum\n",
    "from transformers import AutoModelForCausalLM, AutoTokenizer\n",
    "\n",
    "warnings.simplefilter(action='ignore', category=Warning)"
   ],
   "outputs": [],
   "execution_count": 25
  },
  {
   "metadata": {
    "ExecuteTime": {
     "end_time": "2025-08-24T22:24:35.913535Z",
     "start_time": "2025-08-24T22:24:35.910804Z"
    }
   },
   "cell_type": "code",
   "source": [
    "MODEL = \"google/gemma-2-2b\"\n",
    "DEVICE = \"cpu\""
   ],
   "id": "8b5fa285cae359f8",
   "outputs": [],
   "execution_count": 2
  },
  {
   "metadata": {
    "ExecuteTime": {
     "end_time": "2025-08-24T22:24:41.413027Z",
     "start_time": "2025-08-24T22:24:35.927074Z"
    }
   },
   "cell_type": "code",
   "source": [
    "cuda.empty_cache()\n",
    "gc.collect()\n",
    "model = AutoModelForCausalLM.from_pretrained(\n",
    "    MODEL,\n",
    "    device_map=DEVICE,\n",
    "    torch_dtype=\"auto\",\n",
    "    trust_remote_code=True,\n",
    ")"
   ],
   "id": "b355d9de207f2763",
   "outputs": [
    {
     "data": {
      "text/plain": [
       "Loading checkpoint shards:   0%|          | 0/3 [00:00<?, ?it/s]"
      ],
      "application/vnd.jupyter.widget-view+json": {
       "version_major": 2,
       "version_minor": 0,
       "model_id": "8a956edd1f3b483298c944f2949451d1"
      }
     },
     "metadata": {},
     "output_type": "display_data"
    }
   ],
   "execution_count": 3
  },
  {
   "metadata": {
    "ExecuteTime": {
     "end_time": "2025-08-25T03:55:21.046527Z",
     "start_time": "2025-08-25T03:55:19.689681Z"
    }
   },
   "cell_type": "code",
   "source": [
    "tokenizer = AutoTokenizer.from_pretrained(MODEL)\n",
    "emotions = [\"happy\", \"elated\", \"peaceful\", \"calm\", \"content\", \"relaxed\", \"sad\", \"anxious\", \"fearful\", \"scared\",\n",
    "            \"depressed\", \"lonely\", \"bitter\", \"jealous\", \"angry\", \"guilty\", \"passionate\", \"brave\", \"confident\"]\n",
    "\n",
    "# squeeze tensor dim, strip <bos>\n",
    "print(\"orignal shape: \", tokenizer(\"happy\", return_tensors='pt').input_ids)\n",
    "emo_tokens = OrderedDict({emo: tokenizer(emo, return_tensors='pt').input_ids for emo in emotions})\n",
    "\n",
    "print(emo_tokens)"
   ],
   "id": "22b5c00f0c1630e9",
   "outputs": [
    {
     "name": "stdout",
     "output_type": "stream",
     "text": [
      "orignal shape:  tensor([[    2, 11896]])\n",
      "OrderedDict({'happy': tensor([[    2, 11896]]), 'elated': tensor([[  2, 521, 840]]), 'peaceful': tensor([[     2, 211749]]), 'calm': tensor([[     2, 116051]]), 'content': tensor([[   2, 3312]]), 'relaxed': tensor([[     2, 163861]]), 'sad': tensor([[    2, 37968]]), 'anxious': tensor([[    2,   481, 24192]]), 'fearful': tensor([[    2, 71339,  1329]]), 'scared': tensor([[     2, 221959]]), 'depressed': tensor([[   2, 3243, 3734]]), 'lonely': tensor([[     2, 151738]]), 'bitter': tensor([[     2, 158930]]), 'jealous': tensor([[    2,  1792, 22108]]), 'angry': tensor([[    2, 70709]]), 'guilty': tensor([[     2, 206971]]), 'passionate': tensor([[    2, 94364,   607]]), 'brave': tensor([[     2, 149142]]), 'confident': tensor([[     2, 131181]])})\n"
     ]
    }
   ],
   "execution_count": 49
  },
  {
   "metadata": {
    "ExecuteTime": {
     "end_time": "2025-08-25T02:53:39.216096Z",
     "start_time": "2025-08-25T02:53:39.187185Z"
    }
   },
   "cell_type": "code",
   "source": [
    "# Create a table to record initial embeddings, and then output after selected layers\n",
    "layers = list(range(len(model.model.layers)+1))\n",
    "emb_sums = DataFrame(index=emotions, columns=layers)"
   ],
   "id": "c8b55e224753c2f2",
   "outputs": [],
   "execution_count": 17
  },
  {
   "metadata": {
    "ExecuteTime": {
     "end_time": "2025-08-25T03:09:35.321769Z",
     "start_time": "2025-08-25T03:09:35.317827Z"
    }
   },
   "cell_type": "code",
   "source": [
    "def pandas_hook(module, input, output, word, layer_id):\n",
    "    if layer_id == 0: # put in initial embeddings\n",
    "        emb_sums[layer_id][word] = sum(input[0].squeeze(), 0)\n",
    "    emb_sums[layer_id + 1][word] = sum(output[0].squeeze(), 0)\n",
    "\n",
    "def pass_word_through_model(word):\n",
    "    for l in layers[:-1]:\n",
    "            model.model.layers[l]._forward_hooks = OrderedDict() # clear all the old hooks first\n",
    "            model.model.layers[l].register_forward_hook(partial(pandas_hook, word=word, layer_id=l))\n",
    "    model.model(emo_tokens[word])\n",
    " # model.model separates out attention head"
   ],
   "id": "9f0eeac43b1b882f",
   "outputs": [],
   "execution_count": 40
  },
  {
   "metadata": {
    "ExecuteTime": {
     "end_time": "2025-08-25T03:10:34.569009Z",
     "start_time": "2025-08-25T03:10:27.698448Z"
    }
   },
   "cell_type": "code",
   "source": [
    "for emo in emotions:\n",
    "    pass_word_through_model(emo)\n",
    "print(emb_sums[25]['happy'])\n",
    "print(emb_sums[25]['sad'])"
   ],
   "id": "6d25d17f97fe87b3",
   "outputs": [
    {
     "name": "stdout",
     "output_type": "stream",
     "text": [
      "tensor([  8.8409,   7.5258,  -6.5818,  ..., -15.0469,  -5.6643,  -5.0516],\n",
      "       grad_fn=<SumBackward1>)\n",
      "tensor([ 2.2251,  9.1453,  6.4427,  ..., -5.4765, -3.3644,  6.1680],\n",
      "       grad_fn=<SumBackward1>)\n"
     ]
    }
   ],
   "execution_count": 43
  },
  {
   "metadata": {
    "ExecuteTime": {
     "end_time": "2025-08-25T04:43:10.899809Z",
     "start_time": "2025-08-25T04:43:09.829312Z"
    }
   },
   "cell_type": "code",
   "source": [
    "def cos_dist(emb1, emb2):\n",
    "    return 1 - f.cosine_similarity(emb1, emb2, dim=0).item()\n",
    "\n",
    "emo_combos = {c[0] + \"-\" + c[1]: (c[0], c[1]) for c in combinations(emotions, r=2)}\n",
    "\n",
    "cos_df = DataFrame(index=layers, columns=emo_combos.keys())\n",
    "\n",
    "for k, v in emo_combos.items():\n",
    "    for l in layers:\n",
    "        cos_df[k][l] = cos_dist(emb_sums[l][v[0]], emb_sums[l][v[1]])\n",
    "\n",
    "cos_fig = px.line(cos_df, title=\"Cosine Distance Between Emotions\", labels={\"index\": \"Layer\", \"value\": \"Cosine Distance\"})\n",
    "cos_fig.show()"
   ],
   "id": "689ba57ce10bd39c",
   "outputs": [
    {
     "data": {
      "application/vnd.plotly.v1+json": {
       "data": [
        {
         "hovertemplate": "variable=happy-elated<br>Layer=%{x}<br>Cosine Distance=%{y}<extra></extra>",
         "legendgroup": "happy-elated",
         "line": {
          "color": "#636efa",
          "dash": "solid"
         },
         "marker": {
          "symbol": "circle"
         },
         "mode": "lines",
         "name": "happy-elated",
         "showlegend": true,
         "x": {
          "dtype": "i1",
          "bdata": "AAECAwQFBgcICQoLDA0ODxAREhMUFRYXGBka"
         },
         "xaxis": "x",
         "y": [
          0.20340144634246826,
          0.04253262281417847,
          0.0242154598236084,
          0.021676242351531982,
          0.01627051830291748,
          0.011370301246643066,
          0.008504986763000488,
          0.007083535194396973,
          0.0053141117095947266,
          0.004990875720977783,
          0.0036310553550720215,
          0.00269395112991333,
          0.0021243691444396973,
          0.001783609390258789,
          0.0019341707229614258,
          0.002423882484436035,
          0.0022539496421813965,
          0.0032181739807128906,
          0.004274606704711914,
          0.0057413578033447266,
          0.007239341735839844,
          0.009457647800445557,
          0.011402606964111328,
          0.013043105602264404,
          0.015830397605895996,
          0.023188769817352295,
          0.03883546590805054
         ],
         "yaxis": "y",
         "type": "scattergl"
        },
        {
         "hovertemplate": "variable=happy-peaceful<br>Layer=%{x}<br>Cosine Distance=%{y}<extra></extra>",
         "legendgroup": "happy-peaceful",
         "line": {
          "color": "#EF553B",
          "dash": "solid"
         },
         "marker": {
          "symbol": "circle"
         },
         "mode": "lines",
         "name": "happy-peaceful",
         "showlegend": true,
         "x": {
          "dtype": "i1",
          "bdata": "AAECAwQFBgcICQoLDA0ODxAREhMUFRYXGBka"
         },
         "xaxis": "x",
         "y": [
          0.1178329586982727,
          0.030886709690093994,
          0.014923036098480225,
          0.01171863079071045,
          0.00744318962097168,
          0.005260169506072998,
          0.0034128427505493164,
          0.0030133724212646484,
          0.0022755861282348633,
          0.002068936824798584,
          0.001451253890991211,
          9.906291961669922E-4,
          7.305145263671875E-4,
          6.108283996582031E-4,
          6.570219993591309E-4,
          9.440779685974121E-4,
          9.642839431762695E-4,
          0.0014151930809020996,
          0.001963376998901367,
          0.00257951021194458,
          0.003293752670288086,
          0.004119515419006348,
          0.004938483238220215,
          0.005397617816925049,
          0.0062406063079833984,
          0.007391035556793213,
          0.010338246822357178
         ],
         "yaxis": "y",
         "type": "scattergl"
        },
        {
         "hovertemplate": "variable=happy-calm<br>Layer=%{x}<br>Cosine Distance=%{y}<extra></extra>",
         "legendgroup": "happy-calm",
         "line": {
          "color": "#00cc96",
          "dash": "solid"
         },
         "marker": {
          "symbol": "circle"
         },
         "mode": "lines",
         "name": "happy-calm",
         "showlegend": true,
         "x": {
          "dtype": "i1",
          "bdata": "AAECAwQFBgcICQoLDA0ODxAREhMUFRYXGBka"
         },
         "xaxis": "x",
         "y": [
          0.11361771821975708,
          0.03165954351425171,
          0.015004515647888184,
          0.012739181518554688,
          0.00843203067779541,
          0.005497992038726807,
          0.0036521553993225098,
          0.0031450986862182617,
          0.0023537278175354004,
          0.0021203160285949707,
          0.0014306306838989258,
          0.0010232329368591309,
          7.405281066894531E-4,
          6.155967712402344E-4,
          6.569623947143555E-4,
          9.062290191650391E-4,
          8.88824462890625E-4,
          0.0012974739074707031,
          0.0019073486328125,
          0.002790689468383789,
          0.003868579864501953,
          0.004701793193817139,
          0.005646824836730957,
          0.006182253360748291,
          0.007138192653656006,
          0.008525252342224121,
          0.01231229305267334
         ],
         "yaxis": "y",
         "type": "scattergl"
        },
        {
         "hovertemplate": "variable=happy-content<br>Layer=%{x}<br>Cosine Distance=%{y}<extra></extra>",
         "legendgroup": "happy-content",
         "line": {
          "color": "#ab63fa",
          "dash": "solid"
         },
         "marker": {
          "symbol": "circle"
         },
         "mode": "lines",
         "name": "happy-content",
         "showlegend": true,
         "x": {
          "dtype": "i1",
          "bdata": "AAECAwQFBgcICQoLDA0ODxAREhMUFRYXGBka"
         },
         "xaxis": "x",
         "y": [
          0.12255430221557617,
          0.03440159559249878,
          0.016706466674804688,
          0.014110743999481201,
          0.009247124195098877,
          0.006584107875823975,
          0.0043221116065979,
          0.0038014650344848633,
          0.0027616024017333984,
          0.002556025981903076,
          0.0016970634460449219,
          0.0011712312698364258,
          8.120536804199219E-4,
          6.672143936157227E-4,
          7.109642028808594E-4,
          9.970664978027344E-4,
          8.894205093383789E-4,
          0.001354217529296875,
          0.0023584365844726562,
          0.003339409828186035,
          0.004238486289978027,
          0.0056383609771728516,
          0.006952226161956787,
          0.008185744285583496,
          0.00987774133682251,
          0.012488126754760742,
          0.020867526531219482
         ],
         "yaxis": "y",
         "type": "scattergl"
        },
        {
         "hovertemplate": "variable=happy-relaxed<br>Layer=%{x}<br>Cosine Distance=%{y}<extra></extra>",
         "legendgroup": "happy-relaxed",
         "line": {
          "color": "#FFA15A",
          "dash": "solid"
         },
         "marker": {
          "symbol": "circle"
         },
         "mode": "lines",
         "name": "happy-relaxed",
         "showlegend": true,
         "x": {
          "dtype": "i1",
          "bdata": "AAECAwQFBgcICQoLDA0ODxAREhMUFRYXGBka"
         },
         "xaxis": "x",
         "y": [
          0.1090083122253418,
          0.032242774963378906,
          0.01580601930618286,
          0.013664186000823975,
          0.009309351444244385,
          0.0068787336349487305,
          0.004700422286987305,
          0.00397038459777832,
          0.0029914379119873047,
          0.002660989761352539,
          0.00177079439163208,
          0.0012305974960327148,
          8.971691131591797E-4,
          7.475614547729492E-4,
          7.981657981872559E-4,
          0.001114189624786377,
          0.0011031627655029297,
          0.001652538776397705,
          0.002293229103088379,
          0.0028030872344970703,
          0.003521561622619629,
          0.004296243190765381,
          0.005052804946899414,
          0.005445301532745361,
          0.006308197975158691,
          0.0073702335357666016,
          0.01184093952178955
         ],
         "yaxis": "y",
         "type": "scattergl"
        },
        {
         "hovertemplate": "variable=happy-sad<br>Layer=%{x}<br>Cosine Distance=%{y}<extra></extra>",
         "legendgroup": "happy-sad",
         "line": {
          "color": "#19d3f3",
          "dash": "solid"
         },
         "marker": {
          "symbol": "circle"
         },
         "mode": "lines",
         "name": "happy-sad",
         "showlegend": true,
         "x": {
          "dtype": "i1",
          "bdata": "AAECAwQFBgcICQoLDA0ODxAREhMUFRYXGBka"
         },
         "xaxis": "x",
         "y": [
          0.10585123300552368,
          0.029694974422454834,
          0.013536155223846436,
          0.011153221130371094,
          0.006842076778411865,
          0.0045945048332214355,
          0.0029402971267700195,
          0.0025511980056762695,
          0.0018794536590576172,
          0.0017508268356323242,
          0.0011519193649291992,
          8.04901123046875E-4,
          5.646944046020508E-4,
          4.6378374099731445E-4,
          5.017518997192383E-4,
          7.145404815673828E-4,
          6.706118583679199E-4,
          9.035468101501465E-4,
          0.001590430736541748,
          0.0025644898414611816,
          0.003352522850036621,
          0.004515290260314941,
          0.005354046821594238,
          0.005842387676239014,
          0.006953716278076172,
          0.008977532386779785,
          0.01506584882736206
         ],
         "yaxis": "y",
         "type": "scattergl"
        },
        {
         "hovertemplate": "variable=happy-anxious<br>Layer=%{x}<br>Cosine Distance=%{y}<extra></extra>",
         "legendgroup": "happy-anxious",
         "line": {
          "color": "#FF6692",
          "dash": "solid"
         },
         "marker": {
          "symbol": "circle"
         },
         "mode": "lines",
         "name": "happy-anxious",
         "showlegend": true,
         "x": {
          "dtype": "i1",
          "bdata": "AAECAwQFBgcICQoLDA0ODxAREhMUFRYXGBka"
         },
         "xaxis": "x",
         "y": [
          0.16494476795196533,
          0.04162818193435669,
          0.021985411643981934,
          0.01814854145050049,
          0.013006508350372314,
          0.009974360466003418,
          0.007291555404663086,
          0.006196379661560059,
          0.0053005218505859375,
          0.005039632320404053,
          0.0036128759384155273,
          0.002775907516479492,
          0.0022467374801635742,
          0.00191575288772583,
          0.0020526647567749023,
          0.002604067325592041,
          0.002434968948364258,
          0.0032842159271240234,
          0.00432819128036499,
          0.005722403526306152,
          0.006720423698425293,
          0.008710145950317383,
          0.011129498481750488,
          0.012536108493804932,
          0.015244364738464355,
          0.021397411823272705,
          0.02928406000137329
         ],
         "yaxis": "y",
         "type": "scattergl"
        },
        {
         "hovertemplate": "variable=happy-fearful<br>Layer=%{x}<br>Cosine Distance=%{y}<extra></extra>",
         "legendgroup": "happy-fearful",
         "line": {
          "color": "#B6E880",
          "dash": "solid"
         },
         "marker": {
          "symbol": "circle"
         },
         "mode": "lines",
         "name": "happy-fearful",
         "showlegend": true,
         "x": {
          "dtype": "i1",
          "bdata": "AAECAwQFBgcICQoLDA0ODxAREhMUFRYXGBka"
         },
         "xaxis": "x",
         "y": [
          0.17357492446899414,
          0.05115175247192383,
          0.025274157524108887,
          0.0221024751663208,
          0.017346084117889404,
          0.013599753379821777,
          0.009565770626068115,
          0.008721590042114258,
          0.006835818290710449,
          0.006428360939025879,
          0.0045354366302490234,
          0.0034202933311462402,
          0.0027007460594177246,
          0.002300858497619629,
          0.0024840235710144043,
          0.0030381083488464355,
          0.0031003952026367188,
          0.004204452037811279,
          0.005254209041595459,
          0.006965994834899902,
          0.008304357528686523,
          0.010236859321594238,
          0.01229238510131836,
          0.013267755508422852,
          0.01625901460647583,
          0.021216988563537598,
          0.026357650756835938
         ],
         "yaxis": "y",
         "type": "scattergl"
        },
        {
         "hovertemplate": "variable=happy-scared<br>Layer=%{x}<br>Cosine Distance=%{y}<extra></extra>",
         "legendgroup": "happy-scared",
         "line": {
          "color": "#FF97FF",
          "dash": "solid"
         },
         "marker": {
          "symbol": "circle"
         },
         "mode": "lines",
         "name": "happy-scared",
         "showlegend": true,
         "x": {
          "dtype": "i1",
          "bdata": "AAECAwQFBgcICQoLDA0ODxAREhMUFRYXGBka"
         },
         "xaxis": "x",
         "y": [
          0.11202847957611084,
          0.029825210571289062,
          0.014611124992370605,
          0.01219099760055542,
          0.00809568166732788,
          0.005920886993408203,
          0.0037521719932556152,
          0.0033000707626342773,
          0.0024591684341430664,
          0.0022806525230407715,
          0.0015069246292114258,
          0.0010592937469482422,
          7.583498954772949E-4,
          6.225109100341797E-4,
          6.71684741973877E-4,
          9.462237358093262E-4,
          9.278655052185059E-4,
          0.0014535784721374512,
          0.0020712614059448242,
          0.002699732780456543,
          0.003621995449066162,
          0.004533827304840088,
          0.0054585933685302734,
          0.005827546119689941,
          0.006681621074676514,
          0.007754623889923096,
          0.011749684810638428
         ],
         "yaxis": "y",
         "type": "scattergl"
        },
        {
         "hovertemplate": "variable=happy-depressed<br>Layer=%{x}<br>Cosine Distance=%{y}<extra></extra>",
         "legendgroup": "happy-depressed",
         "line": {
          "color": "#FECB52",
          "dash": "solid"
         },
         "marker": {
          "symbol": "circle"
         },
         "mode": "lines",
         "name": "happy-depressed",
         "showlegend": true,
         "x": {
          "dtype": "i1",
          "bdata": "AAECAwQFBgcICQoLDA0ODxAREhMUFRYXGBka"
         },
         "xaxis": "x",
         "y": [
          0.17477625608444214,
          0.05313640832901001,
          0.02851259708404541,
          0.0250929594039917,
          0.018083035945892334,
          0.013295769691467285,
          0.009436309337615967,
          0.008838117122650146,
          0.006638646125793457,
          0.006738901138305664,
          0.004781126976013184,
          0.0036216378211975098,
          0.002960801124572754,
          0.0024868249893188477,
          0.0026586055755615234,
          0.0033301115036010742,
          0.0030716657638549805,
          0.003809213638305664,
          0.00522160530090332,
          0.006393730640411377,
          0.007771432399749756,
          0.010218143463134766,
          0.012180507183074951,
          0.013559818267822266,
          0.016562700271606445,
          0.0233762264251709,
          0.032052695751190186
         ],
         "yaxis": "y",
         "type": "scattergl"
        },
        {
         "hovertemplate": "variable=happy-lonely<br>Layer=%{x}<br>Cosine Distance=%{y}<extra></extra>",
         "legendgroup": "happy-lonely",
         "line": {
          "color": "#636efa",
          "dash": "solid"
         },
         "marker": {
          "symbol": "circle"
         },
         "mode": "lines",
         "name": "happy-lonely",
         "showlegend": true,
         "x": {
          "dtype": "i1",
          "bdata": "AAECAwQFBgcICQoLDA0ODxAREhMUFRYXGBka"
         },
         "xaxis": "x",
         "y": [
          0.11269497871398926,
          0.031357645988464355,
          0.015286684036254883,
          0.011785566806793213,
          0.007498741149902344,
          0.005527377128601074,
          0.0035390853881835938,
          0.003031313419342041,
          0.0023550987243652344,
          0.002204298973083496,
          0.0015251636505126953,
          0.0010677576065063477,
          7.775425910949707E-4,
          6.501674652099609E-4,
          7.06017017364502E-4,
          0.0010281801223754883,
          0.0010048151016235352,
          0.0014144182205200195,
          0.0018851161003112793,
          0.0025601983070373535,
          0.003306746482849121,
          0.004342496395111084,
          0.005035579204559326,
          0.005378127098083496,
          0.006197512149810791,
          0.007200062274932861,
          0.01028674840927124
         ],
         "yaxis": "y",
         "type": "scattergl"
        },
        {
         "hovertemplate": "variable=happy-bitter<br>Layer=%{x}<br>Cosine Distance=%{y}<extra></extra>",
         "legendgroup": "happy-bitter",
         "line": {
          "color": "#EF553B",
          "dash": "solid"
         },
         "marker": {
          "symbol": "circle"
         },
         "mode": "lines",
         "name": "happy-bitter",
         "showlegend": true,
         "x": {
          "dtype": "i1",
          "bdata": "AAECAwQFBgcICQoLDA0ODxAREhMUFRYXGBka"
         },
         "xaxis": "x",
         "y": [
          0.11969470977783203,
          0.033035874366760254,
          0.01567089557647705,
          0.013558745384216309,
          0.008828401565551758,
          0.006240665912628174,
          0.004178881645202637,
          0.0036050081253051758,
          0.002654552459716797,
          0.0024259090423583984,
          0.0016524791717529297,
          0.0011808276176452637,
          8.949637413024902E-4,
          7.531642913818359E-4,
          8.10086727142334E-4,
          0.001157224178314209,
          0.001200854778289795,
          0.0017262697219848633,
          0.0022085905075073242,
          0.0031401515007019043,
          0.003966152667999268,
          0.005305171012878418,
          0.006272375583648682,
          0.006545066833496094,
          0.007559657096862793,
          0.008892059326171875,
          0.013289391994476318
         ],
         "yaxis": "y",
         "type": "scattergl"
        },
        {
         "hovertemplate": "variable=happy-jealous<br>Layer=%{x}<br>Cosine Distance=%{y}<extra></extra>",
         "legendgroup": "happy-jealous",
         "line": {
          "color": "#00cc96",
          "dash": "solid"
         },
         "marker": {
          "symbol": "circle"
         },
         "mode": "lines",
         "name": "happy-jealous",
         "showlegend": true,
         "x": {
          "dtype": "i1",
          "bdata": "AAECAwQFBgcICQoLDA0ODxAREhMUFRYXGBka"
         },
         "xaxis": "x",
         "y": [
          0.17353510856628418,
          0.05060899257659912,
          0.028518378734588623,
          0.026665210723876953,
          0.018669962882995605,
          0.01406252384185791,
          0.010133564472198486,
          0.008421599864959717,
          0.007212281227111816,
          0.006713211536407471,
          0.004780292510986328,
          0.0038949251174926758,
          0.0031136274337768555,
          0.0026145577430725098,
          0.002721548080444336,
          0.0032775402069091797,
          0.0027700066566467285,
          0.0037131309509277344,
          0.004777729511260986,
          0.0067757368087768555,
          0.00801306962966919,
          0.010264873504638672,
          0.012030839920043945,
          0.013002216815948486,
          0.01607722043991089,
          0.02353811264038086,
          0.03984427452087402
         ],
         "yaxis": "y",
         "type": "scattergl"
        },
        {
         "hovertemplate": "variable=happy-angry<br>Layer=%{x}<br>Cosine Distance=%{y}<extra></extra>",
         "legendgroup": "happy-angry",
         "line": {
          "color": "#ab63fa",
          "dash": "solid"
         },
         "marker": {
          "symbol": "circle"
         },
         "mode": "lines",
         "name": "happy-angry",
         "showlegend": true,
         "x": {
          "dtype": "i1",
          "bdata": "AAECAwQFBgcICQoLDA0ODxAREhMUFRYXGBka"
         },
         "xaxis": "x",
         "y": [
          0.08984792232513428,
          0.025596797466278076,
          0.01183319091796875,
          0.009923815727233887,
          0.006366312503814697,
          0.004849731922149658,
          0.0031971335411071777,
          0.0028368234634399414,
          0.0022986531257629395,
          0.0021355152130126953,
          0.0015017986297607422,
          0.0010989904403686523,
          7.860064506530762E-4,
          6.593465805053711E-4,
          7.091760635375977E-4,
          0.0010042786598205566,
          0.0010045170783996582,
          0.0013259649276733398,
          0.0017960071563720703,
          0.002577483654022217,
          0.0032178759574890137,
          0.004206955432891846,
          0.005034923553466797,
          0.005453646183013916,
          0.006408572196960449,
          0.007656276226043701,
          0.010493993759155273
         ],
         "yaxis": "y",
         "type": "scattergl"
        },
        {
         "hovertemplate": "variable=happy-guilty<br>Layer=%{x}<br>Cosine Distance=%{y}<extra></extra>",
         "legendgroup": "happy-guilty",
         "line": {
          "color": "#FFA15A",
          "dash": "solid"
         },
         "marker": {
          "symbol": "circle"
         },
         "mode": "lines",
         "name": "happy-guilty",
         "showlegend": true,
         "x": {
          "dtype": "i1",
          "bdata": "AAECAwQFBgcICQoLDA0ODxAREhMUFRYXGBka"
         },
         "xaxis": "x",
         "y": [
          0.12520438432693481,
          0.03420531749725342,
          0.016180992126464844,
          0.013457179069519043,
          0.008960902690887451,
          0.006513237953186035,
          0.004162967205047607,
          0.0036350488662719727,
          0.002596259117126465,
          0.0023726224899291992,
          0.0015685558319091797,
          0.0011103153228759766,
          8.101463317871094E-4,
          6.740689277648926E-4,
          7.271766662597656E-4,
          0.0010509490966796875,
          0.0010709762573242188,
          0.0015053153038024902,
          0.002298593521118164,
          0.003154933452606201,
          0.004330813884735107,
          0.005356967449188232,
          0.006436944007873535,
          0.007148385047912598,
          0.00841820240020752,
          0.010079443454742432,
          0.014491081237792969
         ],
         "yaxis": "y",
         "type": "scattergl"
        },
        {
         "hovertemplate": "variable=happy-passionate<br>Layer=%{x}<br>Cosine Distance=%{y}<extra></extra>",
         "legendgroup": "happy-passionate",
         "line": {
          "color": "#19d3f3",
          "dash": "solid"
         },
         "marker": {
          "symbol": "circle"
         },
         "mode": "lines",
         "name": "happy-passionate",
         "showlegend": true,
         "x": {
          "dtype": "i1",
          "bdata": "AAECAwQFBgcICQoLDA0ODxAREhMUFRYXGBka"
         },
         "xaxis": "x",
         "y": [
          0.16553175449371338,
          0.047585368156433105,
          0.024843335151672363,
          0.025217056274414062,
          0.01869577169418335,
          0.014038920402526855,
          0.010077238082885742,
          0.009373903274536133,
          0.007350921630859375,
          0.006865799427032471,
          0.004899144172668457,
          0.003796994686126709,
          0.0029965639114379883,
          0.002550363540649414,
          0.0027347207069396973,
          0.0034252405166625977,
          0.003306567668914795,
          0.004160642623901367,
          0.0051901936531066895,
          0.00701218843460083,
          0.008495688438415527,
          0.010855555534362793,
          0.013144075870513916,
          0.01446235179901123,
          0.017661631107330322,
          0.025114893913269043,
          0.03340667486190796
         ],
         "yaxis": "y",
         "type": "scattergl"
        },
        {
         "hovertemplate": "variable=happy-brave<br>Layer=%{x}<br>Cosine Distance=%{y}<extra></extra>",
         "legendgroup": "happy-brave",
         "line": {
          "color": "#FF6692",
          "dash": "solid"
         },
         "marker": {
          "symbol": "circle"
         },
         "mode": "lines",
         "name": "happy-brave",
         "showlegend": true,
         "x": {
          "dtype": "i1",
          "bdata": "AAECAwQFBgcICQoLDA0ODxAREhMUFRYXGBka"
         },
         "xaxis": "x",
         "y": [
          0.11207056045532227,
          0.03175848722457886,
          0.01491403579711914,
          0.012995243072509766,
          0.008655667304992676,
          0.006568253040313721,
          0.004476070404052734,
          0.004114687442779541,
          0.003331422805786133,
          0.002966165542602539,
          0.0019878149032592773,
          0.0013920068740844727,
          0.0010071992874145508,
          8.399486541748047E-4,
          9.025335311889648E-4,
          0.0012587308883666992,
          0.0012892484664916992,
          0.0016643404960632324,
          0.0023381710052490234,
          0.002892017364501953,
          0.0036104321479797363,
          0.0047855377197265625,
          0.005717813968658447,
          0.006217777729034424,
          0.007297813892364502,
          0.00879049301147461,
          0.01378864049911499
         ],
         "yaxis": "y",
         "type": "scattergl"
        },
        {
         "hovertemplate": "variable=happy-confident<br>Layer=%{x}<br>Cosine Distance=%{y}<extra></extra>",
         "legendgroup": "happy-confident",
         "line": {
          "color": "#B6E880",
          "dash": "solid"
         },
         "marker": {
          "symbol": "circle"
         },
         "mode": "lines",
         "name": "happy-confident",
         "showlegend": true,
         "x": {
          "dtype": "i1",
          "bdata": "AAECAwQFBgcICQoLDA0ODxAREhMUFRYXGBka"
         },
         "xaxis": "x",
         "y": [
          0.10499435663223267,
          0.030147433280944824,
          0.014837682247161865,
          0.012984097003936768,
          0.008805394172668457,
          0.006174445152282715,
          0.003969907760620117,
          0.0035538673400878906,
          0.0026214122772216797,
          0.0023772716522216797,
          0.0015620589256286621,
          0.0010914802551269531,
          7.646083831787109E-4,
          6.316304206848145E-4,
          6.755590438842773E-4,
          9.553432464599609E-4,
          9.243488311767578E-4,
          0.0013877153396606445,
          0.0020574331283569336,
          0.0026404857635498047,
          0.0034972429275512695,
          0.004392743110656738,
          0.005131721496582031,
          0.005566954612731934,
          0.006544709205627441,
          0.007943332195281982,
          0.012888312339782715
         ],
         "yaxis": "y",
         "type": "scattergl"
        },
        {
         "hovertemplate": "variable=elated-peaceful<br>Layer=%{x}<br>Cosine Distance=%{y}<extra></extra>",
         "legendgroup": "elated-peaceful",
         "line": {
          "color": "#FF97FF",
          "dash": "solid"
         },
         "marker": {
          "symbol": "circle"
         },
         "mode": "lines",
         "name": "elated-peaceful",
         "showlegend": true,
         "x": {
          "dtype": "i1",
          "bdata": "AAECAwQFBgcICQoLDA0ODxAREhMUFRYXGBka"
         },
         "xaxis": "x",
         "y": [
          0.2533036470413208,
          0.042817115783691406,
          0.02539241313934326,
          0.022316455841064453,
          0.016386210918426514,
          0.011850714683532715,
          0.008720755577087402,
          0.007681846618652344,
          0.006041288375854492,
          0.005458712577819824,
          0.0040171146392822266,
          0.002931952476501465,
          0.002238154411315918,
          0.0018889307975769043,
          0.002061307430267334,
          0.00252455472946167,
          0.0024954676628112793,
          0.003405749797821045,
          0.004243612289428711,
          0.005513370037078857,
          0.006697893142700195,
          0.008057653903961182,
          0.009409010410308838,
          0.0111197829246521,
          0.013629317283630371,
          0.02031409740447998,
          0.035831570625305176
         ],
         "yaxis": "y",
         "type": "scattergl"
        },
        {
         "hovertemplate": "variable=elated-calm<br>Layer=%{x}<br>Cosine Distance=%{y}<extra></extra>",
         "legendgroup": "elated-calm",
         "line": {
          "color": "#FECB52",
          "dash": "solid"
         },
         "marker": {
          "symbol": "circle"
         },
         "mode": "lines",
         "name": "elated-calm",
         "showlegend": true,
         "x": {
          "dtype": "i1",
          "bdata": "AAECAwQFBgcICQoLDA0ODxAREhMUFRYXGBka"
         },
         "xaxis": "x",
         "y": [
          0.22427964210510254,
          0.041136860847473145,
          0.024701952934265137,
          0.022149860858917236,
          0.016874194145202637,
          0.011154532432556152,
          0.00826561450958252,
          0.007428526878356934,
          0.005729556083679199,
          0.005209922790527344,
          0.0037398934364318848,
          0.00280839204788208,
          0.0021523237228393555,
          0.0018255114555358887,
          0.0019759535789489746,
          0.0024344921112060547,
          0.0023691654205322266,
          0.003123164176940918,
          0.003982901573181152,
          0.0054891109466552734,
          0.007077574729919434,
          0.00834500789642334,
          0.009739935398101807,
          0.011462688446044922,
          0.013823330402374268,
          0.02059870958328247,
          0.03432708978652954
         ],
         "yaxis": "y",
         "type": "scattergl"
        },
        {
         "hovertemplate": "variable=elated-content<br>Layer=%{x}<br>Cosine Distance=%{y}<extra></extra>",
         "legendgroup": "elated-content",
         "line": {
          "color": "#636efa",
          "dash": "solid"
         },
         "marker": {
          "symbol": "circle"
         },
         "mode": "lines",
         "name": "elated-content",
         "showlegend": true,
         "x": {
          "dtype": "i1",
          "bdata": "AAECAwQFBgcICQoLDA0ODxAREhMUFRYXGBka"
         },
         "xaxis": "x",
         "y": [
          0.1867598295211792,
          0.042699992656707764,
          0.025656700134277344,
          0.02161264419555664,
          0.01635420322418213,
          0.011440515518188477,
          0.008614063262939453,
          0.007379651069641113,
          0.005438446998596191,
          0.004987597465515137,
          0.0035549402236938477,
          0.002695918083190918,
          0.0021709203720092773,
          0.0018203258514404297,
          0.001963376998901367,
          0.002485513687133789,
          0.0022777318954467773,
          0.003010392189025879,
          0.004237651824951172,
          0.006158649921417236,
          0.007481694221496582,
          0.009562671184539795,
          0.011543631553649902,
          0.014075160026550293,
          0.01748579740524292,
          0.02565711736679077,
          0.040768206119537354
         ],
         "yaxis": "y",
         "type": "scattergl"
        },
        {
         "hovertemplate": "variable=elated-relaxed<br>Layer=%{x}<br>Cosine Distance=%{y}<extra></extra>",
         "legendgroup": "elated-relaxed",
         "line": {
          "color": "#EF553B",
          "dash": "solid"
         },
         "marker": {
          "symbol": "circle"
         },
         "mode": "lines",
         "name": "elated-relaxed",
         "showlegend": true,
         "x": {
          "dtype": "i1",
          "bdata": "AAECAwQFBgcICQoLDA0ODxAREhMUFRYXGBka"
         },
         "xaxis": "x",
         "y": [
          0.22818106412887573,
          0.04050123691558838,
          0.024125099182128906,
          0.020697593688964844,
          0.015639007091522217,
          0.010732054710388184,
          0.007890164852142334,
          0.006891608238220215,
          0.005410194396972656,
          0.0048749446868896484,
          0.00360715389251709,
          0.0026336312294006348,
          0.0020182132720947266,
          0.001700282096862793,
          0.0018362998962402344,
          0.0022479891777038574,
          0.0022019147872924805,
          0.002897977828979492,
          0.003573000431060791,
          0.0045490264892578125,
          0.0055678486824035645,
          0.006805360317230225,
          0.008065104484558105,
          0.009693741798400879,
          0.012167930603027344,
          0.01823490858078003,
          0.030102789402008057
         ],
         "yaxis": "y",
         "type": "scattergl"
        },
        {
         "hovertemplate": "variable=elated-sad<br>Layer=%{x}<br>Cosine Distance=%{y}<extra></extra>",
         "legendgroup": "elated-sad",
         "line": {
          "color": "#00cc96",
          "dash": "solid"
         },
         "marker": {
          "symbol": "circle"
         },
         "mode": "lines",
         "name": "elated-sad",
         "showlegend": true,
         "x": {
          "dtype": "i1",
          "bdata": "AAECAwQFBgcICQoLDA0ODxAREhMUFRYXGBka"
         },
         "xaxis": "x",
         "y": [
          0.20034974813461304,
          0.04293680191040039,
          0.024408459663391113,
          0.02194303274154663,
          0.01613032817840576,
          0.011094093322753906,
          0.0083085298538208,
          0.0070765018463134766,
          0.00517350435256958,
          0.004790604114532471,
          0.0033642053604125977,
          0.0025283098220825195,
          0.0020069479942321777,
          0.0016961097717285156,
          0.001829981803894043,
          0.002276897430419922,
          0.0021743178367614746,
          0.0030071139335632324,
          0.003940701484680176,
          0.005506336688995361,
          0.006688356399536133,
          0.008424222469329834,
          0.009873270988464355,
          0.011969983577728271,
          0.014430105686187744,
          0.021792352199554443,
          0.037425994873046875
         ],
         "yaxis": "y",
         "type": "scattergl"
        },
        {
         "hovertemplate": "variable=elated-anxious<br>Layer=%{x}<br>Cosine Distance=%{y}<extra></extra>",
         "legendgroup": "elated-anxious",
         "line": {
          "color": "#ab63fa",
          "dash": "solid"
         },
         "marker": {
          "symbol": "circle"
         },
         "mode": "lines",
         "name": "elated-anxious",
         "showlegend": true,
         "x": {
          "dtype": "i1",
          "bdata": "AAECAwQFBgcICQoLDA0ODxAREhMUFRYXGBka"
         },
         "xaxis": "x",
         "y": [
          0.193293035030365,
          0.043341994285583496,
          0.024604499340057373,
          0.02303338050842285,
          0.016379833221435547,
          0.011006295680999756,
          0.007860541343688965,
          0.0072975754737854,
          0.00525134801864624,
          0.004942178726196289,
          0.003245711326599121,
          0.002449214458465576,
          0.001794278621673584,
          0.0015786290168762207,
          0.0016848444938659668,
          0.0021169185638427734,
          0.0019363164901733398,
          0.002709686756134033,
          0.003408372402191162,
          0.00507122278213501,
          0.00609278678894043,
          0.007301807403564453,
          0.009933888912200928,
          0.011680781841278076,
          0.014317452907562256,
          0.021416306495666504,
          0.036486148834228516
         ],
         "yaxis": "y",
         "type": "scattergl"
        },
        {
         "hovertemplate": "variable=elated-fearful<br>Layer=%{x}<br>Cosine Distance=%{y}<extra></extra>",
         "legendgroup": "elated-fearful",
         "line": {
          "color": "#FFA15A",
          "dash": "solid"
         },
         "marker": {
          "symbol": "circle"
         },
         "mode": "lines",
         "name": "elated-fearful",
         "showlegend": true,
         "x": {
          "dtype": "i1",
          "bdata": "AAECAwQFBgcICQoLDA0ODxAREhMUFRYXGBka"
         },
         "xaxis": "x",
         "y": [
          0.25192713737487793,
          0.059249043464660645,
          0.031186580657958984,
          0.029485464096069336,
          0.02294921875,
          0.01642376184463501,
          0.011230230331420898,
          0.01065075397491455,
          0.007775723934173584,
          0.006949901580810547,
          0.004665017127990723,
          0.003399491310119629,
          0.002387404441833496,
          0.002039015293121338,
          0.002224445343017578,
          0.002700626850128174,
          0.002768099308013916,
          0.003925919532775879,
          0.004851639270782471,
          0.006888329982757568,
          0.008392691612243652,
          0.009782671928405762,
          0.01155000925064087,
          0.0129508376121521,
          0.015707731246948242,
          0.022067129611968994,
          0.04052722454071045
         ],
         "yaxis": "y",
         "type": "scattergl"
        },
        {
         "hovertemplate": "variable=elated-scared<br>Layer=%{x}<br>Cosine Distance=%{y}<extra></extra>",
         "legendgroup": "elated-scared",
         "line": {
          "color": "#19d3f3",
          "dash": "solid"
         },
         "marker": {
          "symbol": "circle"
         },
         "mode": "lines",
         "name": "elated-scared",
         "showlegend": true,
         "x": {
          "dtype": "i1",
          "bdata": "AAECAwQFBgcICQoLDA0ODxAREhMUFRYXGBka"
         },
         "xaxis": "x",
         "y": [
          0.24137812852859497,
          0.04002267122268677,
          0.02452683448791504,
          0.022109806537628174,
          0.01569265127182007,
          0.011124253273010254,
          0.00826573371887207,
          0.007151782512664795,
          0.005494117736816406,
          0.00501406192779541,
          0.0035269856452941895,
          0.002650141716003418,
          0.0020592212677001953,
          0.0017533302307128906,
          0.0019462108612060547,
          0.002420186996459961,
          0.002359449863433838,
          0.0031661391258239746,
          0.003960907459259033,
          0.005212306976318359,
          0.006605803966522217,
          0.00817948579788208,
          0.009788811206817627,
          0.01176905632019043,
          0.01412653923034668,
          0.02056884765625,
          0.03498131036758423
         ],
         "yaxis": "y",
         "type": "scattergl"
        },
        {
         "hovertemplate": "variable=elated-depressed<br>Layer=%{x}<br>Cosine Distance=%{y}<extra></extra>",
         "legendgroup": "elated-depressed",
         "line": {
          "color": "#FF6692",
          "dash": "solid"
         },
         "marker": {
          "symbol": "circle"
         },
         "mode": "lines",
         "name": "elated-depressed",
         "showlegend": true,
         "x": {
          "dtype": "i1",
          "bdata": "AAECAwQFBgcICQoLDA0ODxAREhMUFRYXGBka"
         },
         "xaxis": "x",
         "y": [
          0.23644518852233887,
          0.05510866641998291,
          0.031500399112701416,
          0.028137624263763428,
          0.020123839378356934,
          0.01440119743347168,
          0.01076573133468628,
          0.009650230407714844,
          0.006524920463562012,
          0.006298184394836426,
          0.004091918468475342,
          0.0030728578567504883,
          0.002238035202026367,
          0.001929938793182373,
          0.0020043253898620605,
          0.0023889541625976562,
          0.002164125442504883,
          0.002841949462890625,
          0.004227697849273682,
          0.005811631679534912,
          0.00721132755279541,
          0.008574128150939941,
          0.010353684425354004,
          0.011738479137420654,
          0.014405608177185059,
          0.022503018379211426,
          0.04195535182952881
         ],
         "yaxis": "y",
         "type": "scattergl"
        },
        {
         "hovertemplate": "variable=elated-lonely<br>Layer=%{x}<br>Cosine Distance=%{y}<extra></extra>",
         "legendgroup": "elated-lonely",
         "line": {
          "color": "#B6E880",
          "dash": "solid"
         },
         "marker": {
          "symbol": "circle"
         },
         "mode": "lines",
         "name": "elated-lonely",
         "showlegend": true,
         "x": {
          "dtype": "i1",
          "bdata": "AAECAwQFBgcICQoLDA0ODxAREhMUFRYXGBka"
         },
         "xaxis": "x",
         "y": [
          0.23531025648117065,
          0.042200565338134766,
          0.025677919387817383,
          0.02104640007019043,
          0.015845775604248047,
          0.011240601539611816,
          0.008396267890930176,
          0.00716853141784668,
          0.005639433860778809,
          0.005254209041595459,
          0.0037904977798461914,
          0.002829909324645996,
          0.0021532773971557617,
          0.001814723014831543,
          0.0019835829734802246,
          0.0024756193161010742,
          0.0024521350860595703,
          0.003179788589477539,
          0.003922879695892334,
          0.005370736122131348,
          0.0064771175384521484,
          0.00789034366607666,
          0.009166955947875977,
          0.011048972606658936,
          0.01381009817123413,
          0.020743966102600098,
          0.03576391935348511
         ],
         "yaxis": "y",
         "type": "scattergl"
        },
        {
         "hovertemplate": "variable=elated-bitter<br>Layer=%{x}<br>Cosine Distance=%{y}<extra></extra>",
         "legendgroup": "elated-bitter",
         "line": {
          "color": "#FF97FF",
          "dash": "solid"
         },
         "marker": {
          "symbol": "circle"
         },
         "mode": "lines",
         "name": "elated-bitter",
         "showlegend": true,
         "x": {
          "dtype": "i1",
          "bdata": "AAECAwQFBgcICQoLDA0ODxAREhMUFRYXGBka"
         },
         "xaxis": "x",
         "y": [
          0.2490464448928833,
          0.043803274631500244,
          0.02593839168548584,
          0.023273169994354248,
          0.01775902509689331,
          0.012175321578979492,
          0.008860349655151367,
          0.007645010948181152,
          0.005898594856262207,
          0.005362868309020996,
          0.003867030143737793,
          0.0028668642044067383,
          0.0022145509719848633,
          0.0018917322158813477,
          0.0020512938499450684,
          0.0025764107704162598,
          0.002646505832672119,
          0.0036527514457702637,
          0.004326760768890381,
          0.005934417247772217,
          0.007097303867340088,
          0.008553624153137207,
          0.00973522663116455,
          0.011493563652038574,
          0.014160215854644775,
          0.02023416757583618,
          0.036574363708496094
         ],
         "yaxis": "y",
         "type": "scattergl"
        },
        {
         "hovertemplate": "variable=elated-jealous<br>Layer=%{x}<br>Cosine Distance=%{y}<extra></extra>",
         "legendgroup": "elated-jealous",
         "line": {
          "color": "#FECB52",
          "dash": "solid"
         },
         "marker": {
          "symbol": "circle"
         },
         "mode": "lines",
         "name": "elated-jealous",
         "showlegend": true,
         "x": {
          "dtype": "i1",
          "bdata": "AAECAwQFBgcICQoLDA0ODxAREhMUFRYXGBka"
         },
         "xaxis": "x",
         "y": [
          0.2244279384613037,
          0.050275206565856934,
          0.029226481914520264,
          0.028013110160827637,
          0.018790841102600098,
          0.013944506645202637,
          0.01019364595413208,
          0.008922398090362549,
          0.006927430629730225,
          0.006296277046203613,
          0.004249691963195801,
          0.0034301280975341797,
          0.002555251121520996,
          0.002213001251220703,
          0.0023033618927001953,
          0.002780735492706299,
          0.0023236870765686035,
          0.00321882963180542,
          0.004060089588165283,
          0.006524503231048584,
          0.007899165153503418,
          0.00952136516571045,
          0.011287331581115723,
          0.013001739978790283,
          0.015735507011413574,
          0.02390599250793457,
          0.04640680551528931
         ],
         "yaxis": "y",
         "type": "scattergl"
        },
        {
         "hovertemplate": "variable=elated-angry<br>Layer=%{x}<br>Cosine Distance=%{y}<extra></extra>",
         "legendgroup": "elated-angry",
         "line": {
          "color": "#636efa",
          "dash": "solid"
         },
         "marker": {
          "symbol": "circle"
         },
         "mode": "lines",
         "name": "elated-angry",
         "showlegend": true,
         "x": {
          "dtype": "i1",
          "bdata": "AAECAwQFBgcICQoLDA0ODxAREhMUFRYXGBka"
         },
         "xaxis": "x",
         "y": [
          0.21419841051101685,
          0.03938525915145874,
          0.02308952808380127,
          0.020485222339630127,
          0.015291094779968262,
          0.010736465454101562,
          0.00803375244140625,
          0.006987094879150391,
          0.005675256252288818,
          0.0051457881927490234,
          0.0037766098976135254,
          0.002907872200012207,
          0.0021941065788269043,
          0.0018540620803833008,
          0.0020253658294677734,
          0.0025266408920288086,
          0.002484142780303955,
          0.0031884312629699707,
          0.004064679145812988,
          0.005531787872314453,
          0.0066176652908325195,
          0.008184492588043213,
          0.009584307670593262,
          0.011510729789733887,
          0.014344096183776855,
          0.021494567394256592,
          0.03768718242645264
         ],
         "yaxis": "y",
         "type": "scattergl"
        },
        {
         "hovertemplate": "variable=elated-guilty<br>Layer=%{x}<br>Cosine Distance=%{y}<extra></extra>",
         "legendgroup": "elated-guilty",
         "line": {
          "color": "#EF553B",
          "dash": "solid"
         },
         "marker": {
          "symbol": "circle"
         },
         "mode": "lines",
         "name": "elated-guilty",
         "showlegend": true,
         "x": {
          "dtype": "i1",
          "bdata": "AAECAwQFBgcICQoLDA0ODxAREhMUFRYXGBka"
         },
         "xaxis": "x",
         "y": [
          0.2584969997406006,
          0.04436373710632324,
          0.026314377784729004,
          0.02373605966567993,
          0.017293155193328857,
          0.012887835502624512,
          0.009404242038726807,
          0.008188247680664062,
          0.006205916404724121,
          0.005627334117889404,
          0.003931164741516113,
          0.0029532313346862793,
          0.002278745174407959,
          0.0019404292106628418,
          0.0021190643310546875,
          0.0026770830154418945,
          0.002710998058319092,
          0.0035468339920043945,
          0.004554271697998047,
          0.006061375141143799,
          0.0076032280921936035,
          0.009395301342010498,
          0.011243343353271484,
          0.013403534889221191,
          0.016282618045806885,
          0.023012518882751465,
          0.03695249557495117
         ],
         "yaxis": "y",
         "type": "scattergl"
        },
        {
         "hovertemplate": "variable=elated-passionate<br>Layer=%{x}<br>Cosine Distance=%{y}<extra></extra>",
         "legendgroup": "elated-passionate",
         "line": {
          "color": "#00cc96",
          "dash": "solid"
         },
         "marker": {
          "symbol": "circle"
         },
         "mode": "lines",
         "name": "elated-passionate",
         "showlegend": true,
         "x": {
          "dtype": "i1",
          "bdata": "AAECAwQFBgcICQoLDA0ODxAREhMUFRYXGBka"
         },
         "xaxis": "x",
         "y": [
          0.18807071447372437,
          0.04324084520339966,
          0.025875985622406006,
          0.03106212615966797,
          0.02373635768890381,
          0.017093658447265625,
          0.012196719646453857,
          0.011555731296539307,
          0.008564949035644531,
          0.007798314094543457,
          0.005309879779815674,
          0.004007220268249512,
          0.002813398838043213,
          0.0023880600929260254,
          0.0025739669799804688,
          0.003300309181213379,
          0.0030936002731323242,
          0.003966689109802246,
          0.005089998245239258,
          0.007401168346405029,
          0.008891642093658447,
          0.010672926902770996,
          0.013053715229034424,
          0.01489400863647461,
          0.01735818386077881,
          0.023936033248901367,
          0.03908485174179077
         ],
         "yaxis": "y",
         "type": "scattergl"
        },
        {
         "hovertemplate": "variable=elated-brave<br>Layer=%{x}<br>Cosine Distance=%{y}<extra></extra>",
         "legendgroup": "elated-brave",
         "line": {
          "color": "#ab63fa",
          "dash": "solid"
         },
         "marker": {
          "symbol": "circle"
         },
         "mode": "lines",
         "name": "elated-brave",
         "showlegend": true,
         "x": {
          "dtype": "i1",
          "bdata": "AAECAwQFBgcICQoLDA0ODxAREhMUFRYXGBka"
         },
         "xaxis": "x",
         "y": [
          0.22514766454696655,
          0.04204452037811279,
          0.025111496448516846,
          0.022692322731018066,
          0.01754218339920044,
          0.012553095817565918,
          0.009283304214477539,
          0.008600234985351562,
          0.007049083709716797,
          0.006270051002502441,
          0.0045778751373291016,
          0.0033162832260131836,
          0.0024951696395874023,
          0.002094089984893799,
          0.0022677183151245117,
          0.0028306245803833008,
          0.0027974843978881836,
          0.0036202073097229004,
          0.004514217376708984,
          0.0058525800704956055,
          0.0069206953048706055,
          0.008453726768493652,
          0.009915530681610107,
          0.011771678924560547,
          0.014830291271209717,
          0.02166271209716797,
          0.036384761333465576
         ],
         "yaxis": "y",
         "type": "scattergl"
        },
        {
         "hovertemplate": "variable=elated-confident<br>Layer=%{x}<br>Cosine Distance=%{y}<extra></extra>",
         "legendgroup": "elated-confident",
         "line": {
          "color": "#FFA15A",
          "dash": "solid"
         },
         "marker": {
          "symbol": "circle"
         },
         "mode": "lines",
         "name": "elated-confident",
         "showlegend": true,
         "x": {
          "dtype": "i1",
          "bdata": "AAECAwQFBgcICQoLDA0ODxAREhMUFRYXGBka"
         },
         "xaxis": "x",
         "y": [
          0.21960997581481934,
          0.04019719362258911,
          0.024003922939300537,
          0.022441387176513672,
          0.01552116870880127,
          0.011112809181213379,
          0.008054614067077637,
          0.007170975208282471,
          0.005452096462249756,
          0.004924416542053223,
          0.003522217273712158,
          0.002618074417114258,
          0.0020241737365722656,
          0.0017060637474060059,
          0.0018693208694458008,
          0.002279520034790039,
          0.0021864771842956543,
          0.0029048919677734375,
          0.0036342740058898926,
          0.004705309867858887,
          0.0059642791748046875,
          0.00718843936920166,
          0.008382439613342285,
          0.01012122631072998,
          0.012321531772613525,
          0.01804131269454956,
          0.028308212757110596
         ],
         "yaxis": "y",
         "type": "scattergl"
        },
        {
         "hovertemplate": "variable=peaceful-calm<br>Layer=%{x}<br>Cosine Distance=%{y}<extra></extra>",
         "legendgroup": "peaceful-calm",
         "line": {
          "color": "#19d3f3",
          "dash": "solid"
         },
         "marker": {
          "symbol": "circle"
         },
         "mode": "lines",
         "name": "peaceful-calm",
         "showlegend": true,
         "x": {
          "dtype": "i1",
          "bdata": "AAECAwQFBgcICQoLDA0ODxAREhMUFRYXGBka"
         },
         "xaxis": "x",
         "y": [
          0.08571738004684448,
          0.02386951446533203,
          0.011693775653839111,
          0.010226428508758545,
          0.006413877010345459,
          0.0042427778244018555,
          0.0028649568557739258,
          0.0025205612182617188,
          0.001789689064025879,
          0.001603245735168457,
          0.0010724067687988281,
          7.630586624145508E-4,
          5.363225936889648E-4,
          4.457235336303711E-4,
          4.799962043762207E-4,
          6.28352165222168E-4,
          6.250739097595215E-4,
          8.732080459594727E-4,
          0.0012189745903015137,
          0.0017393827438354492,
          0.0020578503608703613,
          0.002300858497619629,
          0.0027168989181518555,
          0.0030205845832824707,
          0.003497898578643799,
          0.004690706729888916,
          0.007633864879608154
         ],
         "yaxis": "y",
         "type": "scattergl"
        },
        {
         "hovertemplate": "variable=peaceful-content<br>Layer=%{x}<br>Cosine Distance=%{y}<extra></extra>",
         "legendgroup": "peaceful-content",
         "line": {
          "color": "#FF6692",
          "dash": "solid"
         },
         "marker": {
          "symbol": "circle"
         },
         "mode": "lines",
         "name": "peaceful-content",
         "showlegend": true,
         "x": {
          "dtype": "i1",
          "bdata": "AAECAwQFBgcICQoLDA0ODxAREhMUFRYXGBka"
         },
         "xaxis": "x",
         "y": [
          0.16091299057006836,
          0.03729832172393799,
          0.018895268440246582,
          0.015672743320465088,
          0.009889364242553711,
          0.007239341735839844,
          0.0049291253089904785,
          0.004459381103515625,
          0.0034079551696777344,
          0.0030641555786132812,
          0.0021733641624450684,
          0.001489877700805664,
          0.0011001825332641602,
          9.253025054931641E-4,
          0.0010195374488830566,
          0.0014151930809020996,
          0.0014460086822509766,
          0.001871943473815918,
          0.00273054838180542,
          0.0036312341690063477,
          0.004244208335876465,
          0.005012214183807373,
          0.006154119968414307,
          0.007186293601989746,
          0.008680522441864014,
          0.011247992515563965,
          0.017033159732818604
         ],
         "yaxis": "y",
         "type": "scattergl"
        },
        {
         "hovertemplate": "variable=peaceful-relaxed<br>Layer=%{x}<br>Cosine Distance=%{y}<extra></extra>",
         "legendgroup": "peaceful-relaxed",
         "line": {
          "color": "#B6E880",
          "dash": "solid"
         },
         "marker": {
          "symbol": "circle"
         },
         "mode": "lines",
         "name": "peaceful-relaxed",
         "showlegend": true,
         "x": {
          "dtype": "i1",
          "bdata": "AAECAwQFBgcICQoLDA0ODxAREhMUFRYXGBka"
         },
         "xaxis": "x",
         "y": [
          0.09011983871459961,
          0.026906490325927734,
          0.013214588165283203,
          0.011069118976593018,
          0.007125675678253174,
          0.005064725875854492,
          0.0034691691398620605,
          0.003143131732940674,
          0.002270638942718506,
          0.0019561052322387695,
          0.0013077855110168457,
          8.834600448608398E-4,
          6.027817726135254E-4,
          4.92095947265625E-4,
          5.23984432220459E-4,
          7.05420970916748E-4,
          7.066130638122559E-4,
          0.001121222972869873,
          0.0014246702194213867,
          0.0016963481903076172,
          0.0019715428352355957,
          0.002128005027770996,
          0.0025297999382019043,
          0.002821207046508789,
          0.0032445192337036133,
          0.0038734078407287598,
          0.007006227970123291
         ],
         "yaxis": "y",
         "type": "scattergl"
        },
        {
         "hovertemplate": "variable=peaceful-sad<br>Layer=%{x}<br>Cosine Distance=%{y}<extra></extra>",
         "legendgroup": "peaceful-sad",
         "line": {
          "color": "#FF97FF",
          "dash": "solid"
         },
         "marker": {
          "symbol": "circle"
         },
         "mode": "lines",
         "name": "peaceful-sad",
         "showlegend": true,
         "x": {
          "dtype": "i1",
          "bdata": "AAECAwQFBgcICQoLDA0ODxAREhMUFRYXGBka"
         },
         "xaxis": "x",
         "y": [
          0.13003480434417725,
          0.03375297784805298,
          0.016318023204803467,
          0.013244569301605225,
          0.00820314884185791,
          0.005879223346710205,
          0.003804624080657959,
          0.003440380096435547,
          0.002507328987121582,
          0.0022122859954833984,
          0.001522362232208252,
          0.0010597705841064453,
          7.549524307250977E-4,
          6.28352165222168E-4,
          6.87718391418457E-4,
          9.342432022094727E-4,
          9.717941284179688E-4,
          0.0014103055000305176,
          0.0020246505737304688,
          0.002817511558532715,
          0.0034897923469543457,
          0.004133641719818115,
          0.004821896553039551,
          0.005429208278656006,
          0.006372511386871338,
          0.008433699607849121,
          0.014639317989349365
         ],
         "yaxis": "y",
         "type": "scattergl"
        },
        {
         "hovertemplate": "variable=peaceful-anxious<br>Layer=%{x}<br>Cosine Distance=%{y}<extra></extra>",
         "legendgroup": "peaceful-anxious",
         "line": {
          "color": "#FECB52",
          "dash": "solid"
         },
         "marker": {
          "symbol": "circle"
         },
         "mode": "lines",
         "name": "peaceful-anxious",
         "showlegend": true,
         "x": {
          "dtype": "i1",
          "bdata": "AAECAwQFBgcICQoLDA0ODxAREhMUFRYXGBka"
         },
         "xaxis": "x",
         "y": [
          0.19803118705749512,
          0.04319179058074951,
          0.022973954677581787,
          0.01964867115020752,
          0.013407707214355469,
          0.010656893253326416,
          0.0076482295989990234,
          0.006907284259796143,
          0.006042659282684326,
          0.005471587181091309,
          0.0039473772048950195,
          0.0030072927474975586,
          0.0024419426918029785,
          0.0021054744720458984,
          0.0022749900817871094,
          0.002888619899749756,
          0.0029396414756774902,
          0.003574848175048828,
          0.004191100597381592,
          0.0052520036697387695,
          0.005935728549957275,
          0.007091403007507324,
          0.009078562259674072,
          0.0102805495262146,
          0.012595295906066895,
          0.01791703701019287,
          0.02838832139968872
         ],
         "yaxis": "y",
         "type": "scattergl"
        },
        {
         "hovertemplate": "variable=peaceful-fearful<br>Layer=%{x}<br>Cosine Distance=%{y}<extra></extra>",
         "legendgroup": "peaceful-fearful",
         "line": {
          "color": "#636efa",
          "dash": "solid"
         },
         "marker": {
          "symbol": "circle"
         },
         "mode": "lines",
         "name": "peaceful-fearful",
         "showlegend": true,
         "x": {
          "dtype": "i1",
          "bdata": "AAECAwQFBgcICQoLDA0ODxAREhMUFRYXGBka"
         },
         "xaxis": "x",
         "y": [
          0.18475544452667236,
          0.04970276355743408,
          0.024477243423461914,
          0.02005302906036377,
          0.015561163425445557,
          0.012347161769866943,
          0.008586406707763672,
          0.007943391799926758,
          0.006298542022705078,
          0.0056923627853393555,
          0.003961026668548584,
          0.0029969215393066406,
          0.002333700656890869,
          0.0020083189010620117,
          0.002133011817932129,
          0.0024961233139038086,
          0.0027211904525756836,
          0.003510713577270508,
          0.004202783107757568,
          0.0054552555084228516,
          0.006395101547241211,
          0.007451891899108887,
          0.008877933025360107,
          0.009864389896392822,
          0.011842787265777588,
          0.015541791915893555,
          0.02108389139175415
         ],
         "yaxis": "y",
         "type": "scattergl"
        },
        {
         "hovertemplate": "variable=peaceful-scared<br>Layer=%{x}<br>Cosine Distance=%{y}<extra></extra>",
         "legendgroup": "peaceful-scared",
         "line": {
          "color": "#EF553B",
          "dash": "solid"
         },
         "marker": {
          "symbol": "circle"
         },
         "mode": "lines",
         "name": "peaceful-scared",
         "showlegend": true,
         "x": {
          "dtype": "i1",
          "bdata": "AAECAwQFBgcICQoLDA0ODxAREhMUFRYXGBka"
         },
         "xaxis": "x",
         "y": [
          0.10308873653411865,
          0.029823780059814453,
          0.01477360725402832,
          0.012443602085113525,
          0.007914185523986816,
          0.0059621334075927734,
          0.003932356834411621,
          0.003559589385986328,
          0.002650022506713867,
          0.00237429141998291,
          0.0016053318977355957,
          0.0011074542999267578,
          7.655620574951172E-4,
          6.332993507385254E-4,
          6.827116012573242E-4,
          9.507536888122559E-4,
          0.0010374784469604492,
          0.0015742182731628418,
          0.002041935920715332,
          0.002547919750213623,
          0.003239274024963379,
          0.003560304641723633,
          0.004308640956878662,
          0.004645287990570068,
          0.0050778985023498535,
          0.006156444549560547,
          0.008663713932037354
         ],
         "yaxis": "y",
         "type": "scattergl"
        },
        {
         "hovertemplate": "variable=peaceful-depressed<br>Layer=%{x}<br>Cosine Distance=%{y}<extra></extra>",
         "legendgroup": "peaceful-depressed",
         "line": {
          "color": "#00cc96",
          "dash": "solid"
         },
         "marker": {
          "symbol": "circle"
         },
         "mode": "lines",
         "name": "peaceful-depressed",
         "showlegend": true,
         "x": {
          "dtype": "i1",
          "bdata": "AAECAwQFBgcICQoLDA0ODxAREhMUFRYXGBka"
         },
         "xaxis": "x",
         "y": [
          0.19513988494873047,
          0.05282241106033325,
          0.028004109859466553,
          0.02512449026107788,
          0.01799774169921875,
          0.013606250286102295,
          0.009731054306030273,
          0.009240210056304932,
          0.007104098796844482,
          0.006951570510864258,
          0.004973769187927246,
          0.0037424564361572266,
          0.002942204475402832,
          0.002478301525115967,
          0.0026558637619018555,
          0.0032520294189453125,
          0.0031312108039855957,
          0.0038587450981140137,
          0.004979610443115234,
          0.00596386194229126,
          0.007050633430480957,
          0.008549392223358154,
          0.00996255874633789,
          0.011124253273010254,
          0.013691127300262451,
          0.019259631633758545,
          0.031003236770629883
         ],
         "yaxis": "y",
         "type": "scattergl"
        },
        {
         "hovertemplate": "variable=peaceful-lonely<br>Layer=%{x}<br>Cosine Distance=%{y}<extra></extra>",
         "legendgroup": "peaceful-lonely",
         "line": {
          "color": "#ab63fa",
          "dash": "solid"
         },
         "marker": {
          "symbol": "circle"
         },
         "mode": "lines",
         "name": "peaceful-lonely",
         "showlegend": true,
         "x": {
          "dtype": "i1",
          "bdata": "AAECAwQFBgcICQoLDA0ODxAREhMUFRYXGBka"
         },
         "xaxis": "x",
         "y": [
          0.1077808141708374,
          0.03121274709701538,
          0.01563549041748047,
          0.01191025972366333,
          0.007338166236877441,
          0.0053629279136657715,
          0.003488600254058838,
          0.0031134486198425293,
          0.0022739171981811523,
          0.002009749412536621,
          0.0013339519500732422,
          9.210109710693359E-4,
          6.312131881713867E-4,
          5.175471305847168E-4,
          5.481839179992676E-4,
          7.660388946533203E-4,
          7.77900218963623E-4,
          0.0011464357376098633,
          0.0014960765838623047,
          0.001977980136871338,
          0.002470672130584717,
          0.002843618392944336,
          0.003231644630432129,
          0.0034792423248291016,
          0.003909170627593994,
          0.004764676094055176,
          0.006775021553039551
         ],
         "yaxis": "y",
         "type": "scattergl"
        },
        {
         "hovertemplate": "variable=peaceful-bitter<br>Layer=%{x}<br>Cosine Distance=%{y}<extra></extra>",
         "legendgroup": "peaceful-bitter",
         "line": {
          "color": "#FFA15A",
          "dash": "solid"
         },
         "marker": {
          "symbol": "circle"
         },
         "mode": "lines",
         "name": "peaceful-bitter",
         "showlegend": true,
         "x": {
          "dtype": "i1",
          "bdata": "AAECAwQFBgcICQoLDA0ODxAREhMUFRYXGBka"
         },
         "xaxis": "x",
         "y": [
          0.11031132936477661,
          0.03256577253341675,
          0.015960633754730225,
          0.013629496097564697,
          0.008543133735656738,
          0.006268620491027832,
          0.0042209625244140625,
          0.0038234591484069824,
          0.002733469009399414,
          0.0024265050888061523,
          0.001605987548828125,
          0.001119375228881836,
          7.745027542114258E-4,
          6.353259086608887E-4,
          6.745457649230957E-4,
          9.006261825561523E-4,
          9.850859642028809E-4,
          0.0015461444854736328,
          0.0019131898880004883,
          0.0025679469108581543,
          0.0031766891479492188,
          0.0038820505142211914,
          0.004428088665008545,
          0.004811584949493408,
          0.005457937717437744,
          0.006530404090881348,
          0.010230004787445068
         ],
         "yaxis": "y",
         "type": "scattergl"
        },
        {
         "hovertemplate": "variable=peaceful-jealous<br>Layer=%{x}<br>Cosine Distance=%{y}<extra></extra>",
         "legendgroup": "peaceful-jealous",
         "line": {
          "color": "#19d3f3",
          "dash": "solid"
         },
         "marker": {
          "symbol": "circle"
         },
         "mode": "lines",
         "name": "peaceful-jealous",
         "showlegend": true,
         "x": {
          "dtype": "i1",
          "bdata": "AAECAwQFBgcICQoLDA0ODxAREhMUFRYXGBka"
         },
         "xaxis": "x",
         "y": [
          0.19760721921920776,
          0.05170100927352905,
          0.029361248016357422,
          0.027087390422821045,
          0.018323898315429688,
          0.014455735683441162,
          0.010390877723693848,
          0.009188652038574219,
          0.007990598678588867,
          0.007219552993774414,
          0.00515902042388916,
          0.004124343395233154,
          0.0032303333282470703,
          0.0027344822883605957,
          0.0028710365295410156,
          0.003495931625366211,
          0.0031281709671020508,
          0.0038306713104248047,
          0.004513680934906006,
          0.006271004676818848,
          0.007100999355316162,
          0.008574724197387695,
          0.010019838809967041,
          0.01113736629486084,
          0.01366966962814331,
          0.021284818649291992,
          0.041322946548461914
         ],
         "yaxis": "y",
         "type": "scattergl"
        },
        {
         "hovertemplate": "variable=peaceful-angry<br>Layer=%{x}<br>Cosine Distance=%{y}<extra></extra>",
         "legendgroup": "peaceful-angry",
         "line": {
          "color": "#FF6692",
          "dash": "solid"
         },
         "marker": {
          "symbol": "circle"
         },
         "mode": "lines",
         "name": "peaceful-angry",
         "showlegend": true,
         "x": {
          "dtype": "i1",
          "bdata": "AAECAwQFBgcICQoLDA0ODxAREhMUFRYXGBka"
         },
         "xaxis": "x",
         "y": [
          0.10087037086486816,
          0.02854984998703003,
          0.013648927211761475,
          0.011769890785217285,
          0.007228970527648926,
          0.005575299263000488,
          0.0037246346473693848,
          0.0033492445945739746,
          0.0025250911712646484,
          0.0022448301315307617,
          0.0015102624893188477,
          0.0010582804679870605,
          7.147789001464844E-4,
          5.90205192565918E-4,
          6.327629089355469E-4,
          8.721351623535156E-4,
          9.181499481201172E-4,
          0.0013118386268615723,
          0.0016612410545349121,
          0.0023326873779296875,
          0.002853214740753174,
          0.0033986568450927734,
          0.003940701484680176,
          0.004316508769989014,
          0.004991590976715088,
          0.006085574626922607,
          0.008749842643737793
         ],
         "yaxis": "y",
         "type": "scattergl"
        },
        {
         "hovertemplate": "variable=peaceful-guilty<br>Layer=%{x}<br>Cosine Distance=%{y}<extra></extra>",
         "legendgroup": "peaceful-guilty",
         "line": {
          "color": "#B6E880",
          "dash": "solid"
         },
         "marker": {
          "symbol": "circle"
         },
         "mode": "lines",
         "name": "peaceful-guilty",
         "showlegend": true,
         "x": {
          "dtype": "i1",
          "bdata": "AAECAwQFBgcICQoLDA0ODxAREhMUFRYXGBka"
         },
         "xaxis": "x",
         "y": [
          0.1133584976196289,
          0.03321141004562378,
          0.01595306396484375,
          0.013600826263427734,
          0.0087432861328125,
          0.006543159484863281,
          0.004229307174682617,
          0.0038868188858032227,
          0.002742767333984375,
          0.0024008750915527344,
          0.0016079545021057129,
          0.0011140704154968262,
          7.675886154174805E-4,
          6.309151649475098E-4,
          6.691813468933105E-4,
          9.670257568359375E-4,
          0.0010654926300048828,
          0.001531839370727539,
          0.002155125141143799,
          0.0027627944946289062,
          0.003606736660003662,
          0.004056334495544434,
          0.004960238933563232,
          0.0055983662605285645,
          0.006453812122344971,
          0.00821995735168457,
          0.010828852653503418
         ],
         "yaxis": "y",
         "type": "scattergl"
        },
        {
         "hovertemplate": "variable=peaceful-passionate<br>Layer=%{x}<br>Cosine Distance=%{y}<extra></extra>",
         "legendgroup": "peaceful-passionate",
         "line": {
          "color": "#FF97FF",
          "dash": "solid"
         },
         "marker": {
          "symbol": "circle"
         },
         "mode": "lines",
         "name": "peaceful-passionate",
         "showlegend": true,
         "x": {
          "dtype": "i1",
          "bdata": "AAECAwQFBgcICQoLDA0ODxAREhMUFRYXGBka"
         },
         "xaxis": "x",
         "y": [
          0.1835407018661499,
          0.0458642840385437,
          0.023752808570861816,
          0.02389991283416748,
          0.01727890968322754,
          0.013128399848937988,
          0.00923311710357666,
          0.008870720863342285,
          0.0071558356285095215,
          0.006470441818237305,
          0.004487454891204834,
          0.0034754276275634766,
          0.0027092695236206055,
          0.0023230314254760742,
          0.0024775266647338867,
          0.002955198287963867,
          0.0029745101928710938,
          0.0036760568618774414,
          0.004205524921417236,
          0.005585074424743652,
          0.006625652313232422,
          0.008019685745239258,
          0.009671926498413086,
          0.010897994041442871,
          0.013161063194274902,
          0.018995940685272217,
          0.02863597869873047
         ],
         "yaxis": "y",
         "type": "scattergl"
        },
        {
         "hovertemplate": "variable=peaceful-brave<br>Layer=%{x}<br>Cosine Distance=%{y}<extra></extra>",
         "legendgroup": "peaceful-brave",
         "line": {
          "color": "#FECB52",
          "dash": "solid"
         },
         "marker": {
          "symbol": "circle"
         },
         "mode": "lines",
         "name": "peaceful-brave",
         "showlegend": true,
         "x": {
          "dtype": "i1",
          "bdata": "AAECAwQFBgcICQoLDA0ODxAREhMUFRYXGBka"
         },
         "xaxis": "x",
         "y": [
          0.10886341333389282,
          0.03202378749847412,
          0.015437424182891846,
          0.013595640659332275,
          0.00906670093536377,
          0.00668025016784668,
          0.004600048065185547,
          0.0044449567794799805,
          0.003353118896484375,
          0.002971351146697998,
          0.001972198486328125,
          0.0013488531112670898,
          9.092092514038086E-4,
          7.420778274536133E-4,
          7.846355438232422E-4,
          0.001050412654876709,
          0.0010683536529541016,
          0.0014857053756713867,
          0.0020533204078674316,
          0.00252687931060791,
          0.002966165542602539,
          0.0034790635108947754,
          0.004142880439758301,
          0.004584550857543945,
          0.005461335182189941,
          0.006888210773468018,
          0.011971473693847656
         ],
         "yaxis": "y",
         "type": "scattergl"
        },
        {
         "hovertemplate": "variable=peaceful-confident<br>Layer=%{x}<br>Cosine Distance=%{y}<extra></extra>",
         "legendgroup": "peaceful-confident",
         "line": {
          "color": "#636efa",
          "dash": "solid"
         },
         "marker": {
          "symbol": "circle"
         },
         "mode": "lines",
         "name": "peaceful-confident",
         "showlegend": true,
         "x": {
          "dtype": "i1",
          "bdata": "AAECAwQFBgcICQoLDA0ODxAREhMUFRYXGBka"
         },
         "xaxis": "x",
         "y": [
          0.10888510942459106,
          0.03039836883544922,
          0.014771342277526855,
          0.012852013111114502,
          0.0080336332321167,
          0.00579458475112915,
          0.003744781017303467,
          0.0035548806190490723,
          0.002646327018737793,
          0.002263963222503662,
          0.0015403032302856445,
          0.0010552406311035156,
          7.312893867492676E-4,
          6.077289581298828E-4,
          6.466507911682129E-4,
          8.490085601806641E-4,
          8.856654167175293E-4,
          0.0012478828430175781,
          0.001666247844696045,
          0.0020093321800231934,
          0.0025441646575927734,
          0.002732515335083008,
          0.003202080726623535,
          0.003567636013031006,
          0.004061281681060791,
          0.005139172077178955,
          0.00863349437713623
         ],
         "yaxis": "y",
         "type": "scattergl"
        },
        {
         "hovertemplate": "variable=calm-content<br>Layer=%{x}<br>Cosine Distance=%{y}<extra></extra>",
         "legendgroup": "calm-content",
         "line": {
          "color": "#EF553B",
          "dash": "solid"
         },
         "marker": {
          "symbol": "circle"
         },
         "mode": "lines",
         "name": "calm-content",
         "showlegend": true,
         "x": {
          "dtype": "i1",
          "bdata": "AAECAwQFBgcICQoLDA0ODxAREhMUFRYXGBka"
         },
         "xaxis": "x",
         "y": [
          0.13606971502304077,
          0.03441035747528076,
          0.016878247261047363,
          0.014253377914428711,
          0.00945138931274414,
          0.006481170654296875,
          0.004436612129211426,
          0.003969430923461914,
          0.0029825568199157715,
          0.0026601552963256836,
          0.0018007755279541016,
          0.0012794733047485352,
          9.203553199768066E-4,
          7.750988006591797E-4,
          8.493661880493164E-4,
          0.0011672377586364746,
          0.0011416077613830566,
          0.0014391541481018066,
          0.0022965669631958008,
          0.003416299819946289,
          0.004282951354980469,
          0.0050040483474731445,
          0.005978226661682129,
          0.006896615028381348,
          0.008009374141693115,
          0.010456442832946777,
          0.016928911209106445
         ],
         "yaxis": "y",
         "type": "scattergl"
        },
        {
         "hovertemplate": "variable=calm-relaxed<br>Layer=%{x}<br>Cosine Distance=%{y}<extra></extra>",
         "legendgroup": "calm-relaxed",
         "line": {
          "color": "#00cc96",
          "dash": "solid"
         },
         "marker": {
          "symbol": "circle"
         },
         "mode": "lines",
         "name": "calm-relaxed",
         "showlegend": true,
         "x": {
          "dtype": "i1",
          "bdata": "AAECAwQFBgcICQoLDA0ODxAREhMUFRYXGBka"
         },
         "xaxis": "x",
         "y": [
          0.08815383911132812,
          0.02690976858139038,
          0.01310276985168457,
          0.011466503143310547,
          0.007778644561767578,
          0.005336284637451172,
          0.0037436485290527344,
          0.003241419792175293,
          0.0023064613342285156,
          0.001983046531677246,
          0.0013120770454406738,
          9.08195972442627E-4,
          6.251335144042969E-4,
          5.192756652832031E-4,
          5.480051040649414E-4,
          7.195472717285156E-4,
          7.361173629760742E-4,
          0.0010816454887390137,
          0.001467287540435791,
          0.0018640756607055664,
          0.002429366111755371,
          0.002617478370666504,
          0.002936244010925293,
          0.0031546950340270996,
          0.0036163926124572754,
          0.004675865173339844,
          0.007787764072418213
         ],
         "yaxis": "y",
         "type": "scattergl"
        },
        {
         "hovertemplate": "variable=calm-sad<br>Layer=%{x}<br>Cosine Distance=%{y}<extra></extra>",
         "legendgroup": "calm-sad",
         "line": {
          "color": "#ab63fa",
          "dash": "solid"
         },
         "marker": {
          "symbol": "circle"
         },
         "mode": "lines",
         "name": "calm-sad",
         "showlegend": true,
         "x": {
          "dtype": "i1",
          "bdata": "AAECAwQFBgcICQoLDA0ODxAREhMUFRYXGBka"
         },
         "xaxis": "x",
         "y": [
          0.11626273393630981,
          0.031744182109832764,
          0.01474684476852417,
          0.012452363967895508,
          0.00803917646408081,
          0.005245864391326904,
          0.003465712070465088,
          0.0030832886695861816,
          0.002207040786743164,
          0.0019299983978271484,
          0.0012694597244262695,
          9.050369262695312E-4,
          6.320476531982422E-4,
          5.223751068115234E-4,
          5.598068237304688E-4,
          7.529258728027344E-4,
          7.860660552978516E-4,
          0.0011152029037475586,
          0.00171583890914917,
          0.002836287021636963,
          0.0038200020790100098,
          0.004368484020233154,
          0.005038797855377197,
          0.0055391788482666016,
          0.0063190460205078125,
          0.008085131645202637,
          0.01445990800857544
         ],
         "yaxis": "y",
         "type": "scattergl"
        },
        {
         "hovertemplate": "variable=calm-anxious<br>Layer=%{x}<br>Cosine Distance=%{y}<extra></extra>",
         "legendgroup": "calm-anxious",
         "line": {
          "color": "#FFA15A",
          "dash": "solid"
         },
         "marker": {
          "symbol": "circle"
         },
         "mode": "lines",
         "name": "calm-anxious",
         "showlegend": true,
         "x": {
          "dtype": "i1",
          "bdata": "AAECAwQFBgcICQoLDA0ODxAREhMUFRYXGBka"
         },
         "xaxis": "x",
         "y": [
          0.17401158809661865,
          0.039857566356658936,
          0.021574020385742188,
          0.01829516887664795,
          0.01324087381362915,
          0.009592413902282715,
          0.006918132305145264,
          0.00621485710144043,
          0.005398392677307129,
          0.004946470260620117,
          0.003492593765258789,
          0.00276869535446167,
          0.0022446513175964355,
          0.0019453167915344238,
          0.0021033287048339844,
          0.0026445984840393066,
          0.0026322603225708008,
          0.0032578706741333008,
          0.0038622021675109863,
          0.005385935306549072,
          0.006280481815338135,
          0.007473766803741455,
          0.009483873844146729,
          0.01084810495376587,
          0.013143599033355713,
          0.01851499080657959,
          0.02457660436630249
         ],
         "yaxis": "y",
         "type": "scattergl"
        },
        {
         "hovertemplate": "variable=calm-fearful<br>Layer=%{x}<br>Cosine Distance=%{y}<extra></extra>",
         "legendgroup": "calm-fearful",
         "line": {
          "color": "#19d3f3",
          "dash": "solid"
         },
         "marker": {
          "symbol": "circle"
         },
         "mode": "lines",
         "name": "calm-fearful",
         "showlegend": true,
         "x": {
          "dtype": "i1",
          "bdata": "AAECAwQFBgcICQoLDA0ODxAREhMUFRYXGBka"
         },
         "xaxis": "x",
         "y": [
          0.17525923252105713,
          0.05054682493209839,
          0.02496492862701416,
          0.021638035774230957,
          0.017253398895263672,
          0.012906968593597412,
          0.009027957916259766,
          0.00831151008605957,
          0.0065171122550964355,
          0.005942106246948242,
          0.004106879234313965,
          0.0031491518020629883,
          0.0024520158767700195,
          0.0021190643310546875,
          0.002255082130432129,
          0.0026487112045288086,
          0.0028276443481445312,
          0.003607630729675293,
          0.0042997002601623535,
          0.0060111284255981445,
          0.0072293877601623535,
          0.008125841617584229,
          0.009519875049591064,
          0.010555803775787354,
          0.012651920318603516,
          0.017224550247192383,
          0.021718144416809082
         ],
         "yaxis": "y",
         "type": "scattergl"
        },
        {
         "hovertemplate": "variable=calm-scared<br>Layer=%{x}<br>Cosine Distance=%{y}<extra></extra>",
         "legendgroup": "calm-scared",
         "line": {
          "color": "#FF6692",
          "dash": "solid"
         },
         "marker": {
          "symbol": "circle"
         },
         "mode": "lines",
         "name": "calm-scared",
         "showlegend": true,
         "x": {
          "dtype": "i1",
          "bdata": "AAECAwQFBgcICQoLDA0ODxAREhMUFRYXGBka"
         },
         "xaxis": "x",
         "y": [
          0.10909336805343628,
          0.02939683198928833,
          0.014421463012695312,
          0.012326836585998535,
          0.008223950862884521,
          0.005644798278808594,
          0.003731071949005127,
          0.0033407211303710938,
          0.0023976564407348633,
          0.0021510720252990723,
          0.0014012455940246582,
          9.79304313659668E-4,
          6.721019744873047E-4,
          5.546808242797852E-4,
          5.890130996704102E-4,
          8.088350296020508E-4,
          8.576512336730957E-4,
          0.0012468695640563965,
          0.0016480088233947754,
          0.0023990869522094727,
          0.0033805370330810547,
          0.003559887409210205,
          0.004143834114074707,
          0.004397273063659668,
          0.0047509074211120605,
          0.006035566329956055,
          0.009277939796447754
         ],
         "yaxis": "y",
         "type": "scattergl"
        },
        {
         "hovertemplate": "variable=calm-depressed<br>Layer=%{x}<br>Cosine Distance=%{y}<extra></extra>",
         "legendgroup": "calm-depressed",
         "line": {
          "color": "#B6E880",
          "dash": "solid"
         },
         "marker": {
          "symbol": "circle"
         },
         "mode": "lines",
         "name": "calm-depressed",
         "showlegend": true,
         "x": {
          "dtype": "i1",
          "bdata": "AAECAwQFBgcICQoLDA0ODxAREhMUFRYXGBka"
         },
         "xaxis": "x",
         "y": [
          0.1834414005279541,
          0.05284547805786133,
          0.027728676795959473,
          0.02445220947265625,
          0.01785266399383545,
          0.01278012990951538,
          0.009226202964782715,
          0.00881338119506836,
          0.006696581840515137,
          0.006590545177459717,
          0.004637360572814941,
          0.0035791397094726562,
          0.0028343796730041504,
          0.0024016499519348145,
          0.002554774284362793,
          0.0030992627143859863,
          0.0029512643814086914,
          0.003596007823944092,
          0.0046651363372802734,
          0.005939841270446777,
          0.007178962230682373,
          0.0084761381149292,
          0.00971764326095581,
          0.010945498943328857,
          0.013569176197052002,
          0.01898658275604248,
          0.026202857494354248
         ],
         "yaxis": "y",
         "type": "scattergl"
        },
        {
         "hovertemplate": "variable=calm-lonely<br>Layer=%{x}<br>Cosine Distance=%{y}<extra></extra>",
         "legendgroup": "calm-lonely",
         "line": {
          "color": "#FF97FF",
          "dash": "solid"
         },
         "marker": {
          "symbol": "circle"
         },
         "mode": "lines",
         "name": "calm-lonely",
         "showlegend": true,
         "x": {
          "dtype": "i1",
          "bdata": "AAECAwQFBgcICQoLDA0ODxAREhMUFRYXGBka"
         },
         "xaxis": "x",
         "y": [
          0.11164939403533936,
          0.03201401233673096,
          0.015753746032714844,
          0.01281881332397461,
          0.008469104766845703,
          0.005799770355224609,
          0.0038353800773620605,
          0.0033608675003051758,
          0.002479732036590576,
          0.0022355318069458008,
          0.0014772415161132812,
          0.0010362863540649414,
          7.156729698181152E-4,
          5.921125411987305E-4,
          6.415247917175293E-4,
          8.702278137207031E-4,
          8.642673492431641E-4,
          0.0011855363845825195,
          0.0015473365783691406,
          0.0023682713508605957,
          0.003123641014099121,
          0.003450155258178711,
          0.0038764476776123047,
          0.0041727423667907715,
          0.004676938056945801,
          0.005785048007965088,
          0.009213089942932129
         ],
         "yaxis": "y",
         "type": "scattergl"
        },
        {
         "hovertemplate": "variable=calm-bitter<br>Layer=%{x}<br>Cosine Distance=%{y}<extra></extra>",
         "legendgroup": "calm-bitter",
         "line": {
          "color": "#FECB52",
          "dash": "solid"
         },
         "marker": {
          "symbol": "circle"
         },
         "mode": "lines",
         "name": "calm-bitter",
         "showlegend": true,
         "x": {
          "dtype": "i1",
          "bdata": "AAECAwQFBgcICQoLDA0ODxAREhMUFRYXGBka"
         },
         "xaxis": "x",
         "y": [
          0.11220812797546387,
          0.031956493854522705,
          0.0153464674949646,
          0.014116287231445312,
          0.009524166584014893,
          0.006271243095397949,
          0.004238247871398926,
          0.003837287425994873,
          0.0027551651000976562,
          0.0024353861808776855,
          0.0015890002250671387,
          0.0011252164840698242,
          7.948875427246094E-4,
          6.607770919799805E-4,
          7.016658782958984E-4,
          9.250044822692871E-4,
          9.813904762268066E-4,
          0.001432955265045166,
          0.0018048882484436035,
          0.002784550189971924,
          0.0035932064056396484,
          0.004181504249572754,
          0.004751026630401611,
          0.005125284194946289,
          0.005731105804443359,
          0.0069762468338012695,
          0.011477172374725342
         ],
         "yaxis": "y",
         "type": "scattergl"
        },
        {
         "hovertemplate": "variable=calm-jealous<br>Layer=%{x}<br>Cosine Distance=%{y}<extra></extra>",
         "legendgroup": "calm-jealous",
         "line": {
          "color": "#636efa",
          "dash": "solid"
         },
         "marker": {
          "symbol": "circle"
         },
         "mode": "lines",
         "name": "calm-jealous",
         "showlegend": true,
         "x": {
          "dtype": "i1",
          "bdata": "AAECAwQFBgcICQoLDA0ODxAREhMUFRYXGBka"
         },
         "xaxis": "x",
         "y": [
          0.18421465158462524,
          0.05091804265975952,
          0.029177486896514893,
          0.02737361192703247,
          0.019023597240447998,
          0.01378321647644043,
          0.009989917278289795,
          0.008794903755187988,
          0.007570385932922363,
          0.006895184516906738,
          0.0048583149909973145,
          0.003988683223724365,
          0.0031260251998901367,
          0.0026472806930541992,
          0.0027643442153930664,
          0.003330826759338379,
          0.0029468536376953125,
          0.003585338592529297,
          0.004283726215362549,
          0.006415009498596191,
          0.00744396448135376,
          0.008839845657348633,
          0.010292351245880127,
          0.011466145515441895,
          0.013883113861083984,
          0.021371901035308838,
          0.03719300031661987
         ],
         "yaxis": "y",
         "type": "scattergl"
        },
        {
         "hovertemplate": "variable=calm-angry<br>Layer=%{x}<br>Cosine Distance=%{y}<extra></extra>",
         "legendgroup": "calm-angry",
         "line": {
          "color": "#EF553B",
          "dash": "solid"
         },
         "marker": {
          "symbol": "circle"
         },
         "mode": "lines",
         "name": "calm-angry",
         "showlegend": true,
         "x": {
          "dtype": "i1",
          "bdata": "AAECAwQFBgcICQoLDA0ODxAREhMUFRYXGBka"
         },
         "xaxis": "x",
         "y": [
          0.09870254993438721,
          0.027538299560546875,
          0.01297086477279663,
          0.011430561542510986,
          0.007578134536743164,
          0.005338311195373535,
          0.00357973575592041,
          0.003154456615447998,
          0.0023683905601501465,
          0.002140820026397705,
          0.001440584659576416,
          0.0010192394256591797,
          6.992816925048828E-4,
          5.794763565063477E-4,
          6.227493286132812E-4,
          8.298754692077637E-4,
          8.74638557434082E-4,
          0.0011895298957824707,
          0.001558065414428711,
          0.002531290054321289,
          0.0033527016639709473,
          0.0037866830825805664,
          0.004378974437713623,
          0.004797399044036865,
          0.0054931640625,
          0.0070313215255737305,
          0.01089400053024292
         ],
         "yaxis": "y",
         "type": "scattergl"
        },
        {
         "hovertemplate": "variable=calm-guilty<br>Layer=%{x}<br>Cosine Distance=%{y}<extra></extra>",
         "legendgroup": "calm-guilty",
         "line": {
          "color": "#00cc96",
          "dash": "solid"
         },
         "marker": {
          "symbol": "circle"
         },
         "mode": "lines",
         "name": "calm-guilty",
         "showlegend": true,
         "x": {
          "dtype": "i1",
          "bdata": "AAECAwQFBgcICQoLDA0ODxAREhMUFRYXGBka"
         },
         "xaxis": "x",
         "y": [
          0.12052595615386963,
          0.03357630968093872,
          0.015835344791412354,
          0.013970732688903809,
          0.009574830532073975,
          0.006610393524169922,
          0.0043444037437438965,
          0.0039017796516418457,
          0.002754688262939453,
          0.0024175047874450684,
          0.001559138298034668,
          0.001101851463317871,
          7.649660110473633E-4,
          6.342530250549316E-4,
          6.723403930664062E-4,
          9.270906448364258E-4,
          0.0010211467742919922,
          0.0013371706008911133,
          0.0019800662994384766,
          0.0029671788215637207,
          0.004143774509429932,
          0.004397451877593994,
          0.0051784515380859375,
          0.005820572376251221,
          0.006547510623931885,
          0.008348643779754639,
          0.01222372055053711
         ],
         "yaxis": "y",
         "type": "scattergl"
        },
        {
         "hovertemplate": "variable=calm-passionate<br>Layer=%{x}<br>Cosine Distance=%{y}<extra></extra>",
         "legendgroup": "calm-passionate",
         "line": {
          "color": "#ab63fa",
          "dash": "solid"
         },
         "marker": {
          "symbol": "circle"
         },
         "mode": "lines",
         "name": "calm-passionate",
         "showlegend": true,
         "x": {
          "dtype": "i1",
          "bdata": "AAECAwQFBgcICQoLDA0ODxAREhMUFRYXGBka"
         },
         "xaxis": "x",
         "y": [
          0.16616898775100708,
          0.043988585472106934,
          0.023131370544433594,
          0.024078011512756348,
          0.01806396245956421,
          0.013246357440948486,
          0.009544849395751953,
          0.009201645851135254,
          0.00729823112487793,
          0.006699204444885254,
          0.004655241966247559,
          0.003624558448791504,
          0.002821803092956543,
          0.002410888671875,
          0.002583622932434082,
          0.0030965209007263184,
          0.003048419952392578,
          0.0036839842796325684,
          0.004427731037139893,
          0.006215691566467285,
          0.007458090782165527,
          0.008715331554412842,
          0.010436296463012695,
          0.011836230754852295,
          0.014204204082489014,
          0.02099508047103882,
          0.02775520086288452
         ],
         "yaxis": "y",
         "type": "scattergl"
        },
        {
         "hovertemplate": "variable=calm-brave<br>Layer=%{x}<br>Cosine Distance=%{y}<extra></extra>",
         "legendgroup": "calm-brave",
         "line": {
          "color": "#FFA15A",
          "dash": "solid"
         },
         "marker": {
          "symbol": "circle"
         },
         "mode": "lines",
         "name": "calm-brave",
         "showlegend": true,
         "x": {
          "dtype": "i1",
          "bdata": "AAECAwQFBgcICQoLDA0ODxAREhMUFRYXGBka"
         },
         "xaxis": "x",
         "y": [
          0.10585194826126099,
          0.03029346466064453,
          0.014632999897003174,
          0.013015151023864746,
          0.009058177471160889,
          0.006319642066955566,
          0.0042588114738464355,
          0.00411379337310791,
          0.0031381845474243164,
          0.0027871131896972656,
          0.0018635988235473633,
          0.0012739300727844238,
          8.704662322998047E-4,
          7.079839706420898E-4,
          7.410645484924316E-4,
          9.778738021850586E-4,
          9.923577308654785E-4,
          0.0013085603713989258,
          0.0018181204795837402,
          0.0024556517601013184,
          0.0031795501708984375,
          0.0035294294357299805,
          0.0040967464447021484,
          0.004502594470977783,
          0.005253434181213379,
          0.006747126579284668,
          0.011104881763458252
         ],
         "yaxis": "y",
         "type": "scattergl"
        },
        {
         "hovertemplate": "variable=calm-confident<br>Layer=%{x}<br>Cosine Distance=%{y}<extra></extra>",
         "legendgroup": "calm-confident",
         "line": {
          "color": "#19d3f3",
          "dash": "solid"
         },
         "marker": {
          "symbol": "circle"
         },
         "mode": "lines",
         "name": "calm-confident",
         "showlegend": true,
         "x": {
          "dtype": "i1",
          "bdata": "AAECAwQFBgcICQoLDA0ODxAREhMUFRYXGBka"
         },
         "xaxis": "x",
         "y": [
          0.10334897041320801,
          0.028549134731292725,
          0.0137709379196167,
          0.012186884880065918,
          0.008306324481964111,
          0.005449235439300537,
          0.003600597381591797,
          0.003396749496459961,
          0.002443969249725342,
          0.0021192431449890137,
          0.0014031529426574707,
          9.864568710327148E-4,
          6.822943687438965E-4,
          5.651712417602539E-4,
          5.939602851867676E-4,
          7.724165916442871E-4,
          7.773637771606445E-4,
          0.00107496976852417,
          0.001500844955444336,
          0.00210648775100708,
          0.0028227567672729492,
          0.002956569194793701,
          0.0032855868339538574,
          0.0034873485565185547,
          0.003882110118865967,
          0.0050504207611083984,
          0.00827866792678833
         ],
         "yaxis": "y",
         "type": "scattergl"
        },
        {
         "hovertemplate": "variable=content-relaxed<br>Layer=%{x}<br>Cosine Distance=%{y}<extra></extra>",
         "legendgroup": "content-relaxed",
         "line": {
          "color": "#FF6692",
          "dash": "solid"
         },
         "marker": {
          "symbol": "circle"
         },
         "mode": "lines",
         "name": "content-relaxed",
         "showlegend": true,
         "x": {
          "dtype": "i1",
          "bdata": "AAECAwQFBgcICQoLDA0ODxAREhMUFRYXGBka"
         },
         "xaxis": "x",
         "y": [
          0.13993996381759644,
          0.03513568639755249,
          0.01748412847518921,
          0.015650629997253418,
          0.01058661937713623,
          0.007913947105407715,
          0.005487203598022461,
          0.00481104850769043,
          0.0035248994827270508,
          0.003151834011077881,
          0.0021021366119384766,
          0.001459956169128418,
          0.0010755062103271484,
          8.966922760009766E-4,
          9.757280349731445E-4,
          0.0013451576232910156,
          0.0013529062271118164,
          0.0018057823181152344,
          0.0025699734687805176,
          0.0033405423164367676,
          0.003913223743438721,
          0.0045244693756103516,
          0.005404174327850342,
          0.006066441535949707,
          0.007397711277008057,
          0.009276211261749268,
          0.014196157455444336
         ],
         "yaxis": "y",
         "type": "scattergl"
        },
        {
         "hovertemplate": "variable=content-sad<br>Layer=%{x}<br>Cosine Distance=%{y}<extra></extra>",
         "legendgroup": "content-sad",
         "line": {
          "color": "#B6E880",
          "dash": "solid"
         },
         "marker": {
          "symbol": "circle"
         },
         "mode": "lines",
         "name": "content-sad",
         "showlegend": true,
         "x": {
          "dtype": "i1",
          "bdata": "AAECAwQFBgcICQoLDA0ODxAREhMUFRYXGBka"
         },
         "xaxis": "x",
         "y": [
          0.132127046585083,
          0.03635519742965698,
          0.01731574535369873,
          0.014724373817443848,
          0.00945824384689331,
          0.0068312883377075195,
          0.004520893096923828,
          0.004040122032165527,
          0.0028614401817321777,
          0.002585887908935547,
          0.0016965866088867188,
          0.0011835694313049316,
          8.370876312255859E-4,
          6.966590881347656E-4,
          7.535219192504883E-4,
          0.0010589361190795898,
          9.884834289550781E-4,
          0.00138169527053833,
          0.002396106719970703,
          0.003615140914916992,
          0.004469513893127441,
          0.005612194538116455,
          0.006755173206329346,
          0.00783991813659668,
          0.009455502033233643,
          0.012545406818389893,
          0.02484506368637085
         ],
         "yaxis": "y",
         "type": "scattergl"
        },
        {
         "hovertemplate": "variable=content-anxious<br>Layer=%{x}<br>Cosine Distance=%{y}<extra></extra>",
         "legendgroup": "content-anxious",
         "line": {
          "color": "#FF97FF",
          "dash": "solid"
         },
         "marker": {
          "symbol": "circle"
         },
         "mode": "lines",
         "name": "content-anxious",
         "showlegend": true,
         "x": {
          "dtype": "i1",
          "bdata": "AAECAwQFBgcICQoLDA0ODxAREhMUFRYXGBka"
         },
         "xaxis": "x",
         "y": [
          0.1762561798095703,
          0.046374380588531494,
          0.02518928050994873,
          0.021394848823547363,
          0.015255749225616455,
          0.011567354202270508,
          0.008436083793640137,
          0.007534027099609375,
          0.006049990653991699,
          0.005419492721557617,
          0.0038222074508666992,
          0.002967536449432373,
          0.0024069547653198242,
          0.0020552873611450195,
          0.0021979212760925293,
          0.0028210878372192383,
          0.0025717616081237793,
          0.0033588409423828125,
          0.004765868186950684,
          0.006716012954711914,
          0.007694244384765625,
          0.009718060493469238,
          0.01247107982635498,
          0.014804303646087646,
          0.01848071813583374,
          0.026305735111236572,
          0.036262571811676025
         ],
         "yaxis": "y",
         "type": "scattergl"
        },
        {
         "hovertemplate": "variable=content-fearful<br>Layer=%{x}<br>Cosine Distance=%{y}<extra></extra>",
         "legendgroup": "content-fearful",
         "line": {
          "color": "#FECB52",
          "dash": "solid"
         },
         "marker": {
          "symbol": "circle"
         },
         "mode": "lines",
         "name": "content-fearful",
         "showlegend": true,
         "x": {
          "dtype": "i1",
          "bdata": "AAECAwQFBgcICQoLDA0ODxAREhMUFRYXGBka"
         },
         "xaxis": "x",
         "y": [
          0.19283103942871094,
          0.056857943534851074,
          0.029084980487823486,
          0.024982690811157227,
          0.019272804260253906,
          0.015006780624389648,
          0.010677814483642578,
          0.009920001029968262,
          0.007626891136169434,
          0.006978869438171387,
          0.004902958869934082,
          0.0037060976028442383,
          0.0029273629188537598,
          0.0025061368942260742,
          0.002705693244934082,
          0.003354012966156006,
          0.0034058690071105957,
          0.004362583160400391,
          0.005709409713745117,
          0.007876455783843994,
          0.008896291255950928,
          0.010765373706817627,
          0.01300591230392456,
          0.015051066875457764,
          0.019148409366607666,
          0.02534306049346924,
          0.03114604949951172
         ],
         "yaxis": "y",
         "type": "scattergl"
        },
        {
         "hovertemplate": "variable=content-scared<br>Layer=%{x}<br>Cosine Distance=%{y}<extra></extra>",
         "legendgroup": "content-scared",
         "line": {
          "color": "#636efa",
          "dash": "solid"
         },
         "marker": {
          "symbol": "circle"
         },
         "mode": "lines",
         "name": "content-scared",
         "showlegend": true,
         "x": {
          "dtype": "i1",
          "bdata": "AAECAwQFBgcICQoLDA0ODxAREhMUFRYXGBka"
         },
         "xaxis": "x",
         "y": [
          0.1556118130683899,
          0.03516733646392822,
          0.01824033260345459,
          0.015620768070220947,
          0.010192334651947021,
          0.007531702518463135,
          0.004948139190673828,
          0.0044245123863220215,
          0.0032821297645568848,
          0.003007352352142334,
          0.0019888877868652344,
          0.001385807991027832,
          9.989738464355469E-4,
          8.331537246704102E-4,
          9.233951568603516E-4,
          0.0012809038162231445,
          0.0012912154197692871,
          0.0017375946044921875,
          0.0026358962059020996,
          0.0035263895988464355,
          0.004233360290527344,
          0.004990041255950928,
          0.005889236927032471,
          0.006705939769744873,
          0.00805962085723877,
          0.010182857513427734,
          0.01646322011947632
         ],
         "yaxis": "y",
         "type": "scattergl"
        },
        {
         "hovertemplate": "variable=content-depressed<br>Layer=%{x}<br>Cosine Distance=%{y}<extra></extra>",
         "legendgroup": "content-depressed",
         "line": {
          "color": "#EF553B",
          "dash": "solid"
         },
         "marker": {
          "symbol": "circle"
         },
         "mode": "lines",
         "name": "content-depressed",
         "showlegend": true,
         "x": {
          "dtype": "i1",
          "bdata": "AAECAwQFBgcICQoLDA0ODxAREhMUFRYXGBka"
         },
         "xaxis": "x",
         "y": [
          0.19556355476379395,
          0.0564112663269043,
          0.030502498149871826,
          0.026374101638793945,
          0.019018590450286865,
          0.01425713300704956,
          0.010324478149414062,
          0.009666979312896729,
          0.0070983171463012695,
          0.006789505481719971,
          0.004783987998962402,
          0.0036939382553100586,
          0.0030660629272460938,
          0.0025998353958129883,
          0.0027538537979125977,
          0.003425776958465576,
          0.0031430721282958984,
          0.003830552101135254,
          0.005530357360839844,
          0.0070272088050842285,
          0.008157908916473389,
          0.010271906852722168,
          0.012211203575134277,
          0.014294683933258057,
          0.018169045448303223,
          0.02484297752380371,
          0.032806396484375
         ],
         "yaxis": "y",
         "type": "scattergl"
        },
        {
         "hovertemplate": "variable=content-lonely<br>Layer=%{x}<br>Cosine Distance=%{y}<extra></extra>",
         "legendgroup": "content-lonely",
         "line": {
          "color": "#00cc96",
          "dash": "solid"
         },
         "marker": {
          "symbol": "circle"
         },
         "mode": "lines",
         "name": "content-lonely",
         "showlegend": true,
         "x": {
          "dtype": "i1",
          "bdata": "AAECAwQFBgcICQoLDA0ODxAREhMUFRYXGBka"
         },
         "xaxis": "x",
         "y": [
          0.14939665794372559,
          0.037555575370788574,
          0.01939183473587036,
          0.015899062156677246,
          0.010365545749664307,
          0.007638335227966309,
          0.005139768123626709,
          0.0045320987701416016,
          0.0035848617553710938,
          0.0033271312713623047,
          0.002337217330932617,
          0.001649618148803711,
          0.0011979341506958008,
          0.0010098814964294434,
          0.0011287927627563477,
          0.0015584230422973633,
          0.001510918140411377,
          0.001873612403869629,
          0.0026389360427856445,
          0.0035938024520874023,
          0.0043367743492126465,
          0.005155622959136963,
          0.006053626537322998,
          0.007080256938934326,
          0.008283615112304688,
          0.010120749473571777,
          0.017004847526550293
         ],
         "yaxis": "y",
         "type": "scattergl"
        },
        {
         "hovertemplate": "variable=content-bitter<br>Layer=%{x}<br>Cosine Distance=%{y}<extra></extra>",
         "legendgroup": "content-bitter",
         "line": {
          "color": "#ab63fa",
          "dash": "solid"
         },
         "marker": {
          "symbol": "circle"
         },
         "mode": "lines",
         "name": "content-bitter",
         "showlegend": true,
         "x": {
          "dtype": "i1",
          "bdata": "AAECAwQFBgcICQoLDA0ODxAREhMUFRYXGBka"
         },
         "xaxis": "x",
         "y": [
          0.15336745977401733,
          0.03715246915817261,
          0.01869887113571167,
          0.015992164611816406,
          0.010805487632751465,
          0.007736146450042725,
          0.00528264045715332,
          0.004656672477722168,
          0.0034804940223693848,
          0.0031380653381347656,
          0.0021582841873168945,
          0.0015442967414855957,
          0.0011753439903259277,
          0.0010042190551757812,
          0.0011059045791625977,
          0.0015298128128051758,
          0.0015558600425720215,
          0.002000153064727783,
          0.002667546272277832,
          0.0037957429885864258,
          0.004461169242858887,
          0.005683600902557373,
          0.006731867790222168,
          0.007637321949005127,
          0.00906980037689209,
          0.01143026351928711,
          0.021587133407592773
         ],
         "yaxis": "y",
         "type": "scattergl"
        },
        {
         "hovertemplate": "variable=content-jealous<br>Layer=%{x}<br>Cosine Distance=%{y}<extra></extra>",
         "legendgroup": "content-jealous",
         "line": {
          "color": "#FFA15A",
          "dash": "solid"
         },
         "marker": {
          "symbol": "circle"
         },
         "mode": "lines",
         "name": "content-jealous",
         "showlegend": true,
         "x": {
          "dtype": "i1",
          "bdata": "AAECAwQFBgcICQoLDA0ODxAREhMUFRYXGBka"
         },
         "xaxis": "x",
         "y": [
          0.18401551246643066,
          0.05265498161315918,
          0.030862390995025635,
          0.028982698917388916,
          0.02032381296157837,
          0.015169501304626465,
          0.011310040950775146,
          0.009886741638183594,
          0.008106231689453125,
          0.007276654243469238,
          0.0052443742752075195,
          0.004230082035064697,
          0.0033986568450927734,
          0.002896249294281006,
          0.0029942989349365234,
          0.0036720633506774902,
          0.0030603408813476562,
          0.003870069980621338,
          0.00533980131149292,
          0.0076351165771484375,
          0.00877523422241211,
          0.010912418365478516,
          0.013240218162536621,
          0.0151519775390625,
          0.018989861011505127,
          0.028720736503601074,
          0.05127745866775513
         ],
         "yaxis": "y",
         "type": "scattergl"
        },
        {
         "hovertemplate": "variable=content-angry<br>Layer=%{x}<br>Cosine Distance=%{y}<extra></extra>",
         "legendgroup": "content-angry",
         "line": {
          "color": "#19d3f3",
          "dash": "solid"
         },
         "marker": {
          "symbol": "circle"
         },
         "mode": "lines",
         "name": "content-angry",
         "showlegend": true,
         "x": {
          "dtype": "i1",
          "bdata": "AAECAwQFBgcICQoLDA0ODxAREhMUFRYXGBka"
         },
         "xaxis": "x",
         "y": [
          0.13429075479507446,
          0.03396964073181152,
          0.01685255765914917,
          0.014758944511413574,
          0.009441912174224854,
          0.006983935832977295,
          0.00481569766998291,
          0.004298567771911621,
          0.0035098791122436523,
          0.003220081329345703,
          0.0023337602615356445,
          0.0016864538192749023,
          0.0011997222900390625,
          0.0010074377059936523,
          0.0011175274848937988,
          0.0015233159065246582,
          0.0015270113945007324,
          0.0018411874771118164,
          0.002687692642211914,
          0.0039016008377075195,
          0.004531204700469971,
          0.005517840385437012,
          0.006426513195037842,
          0.007439076900482178,
          0.008689939975738525,
          0.011135399341583252,
          0.018231689929962158
         ],
         "yaxis": "y",
         "type": "scattergl"
        },
        {
         "hovertemplate": "variable=content-guilty<br>Layer=%{x}<br>Cosine Distance=%{y}<extra></extra>",
         "legendgroup": "content-guilty",
         "line": {
          "color": "#FF6692",
          "dash": "solid"
         },
         "marker": {
          "symbol": "circle"
         },
         "mode": "lines",
         "name": "content-guilty",
         "showlegend": true,
         "x": {
          "dtype": "i1",
          "bdata": "AAECAwQFBgcICQoLDA0ODxAREhMUFRYXGBka"
         },
         "xaxis": "x",
         "y": [
          0.16466540098190308,
          0.03786158561706543,
          0.01868724822998047,
          0.01541823148727417,
          0.010310590267181396,
          0.007604479789733887,
          0.0050389766693115234,
          0.004485487937927246,
          0.00324094295501709,
          0.002886474132537842,
          0.0019279718399047852,
          0.0013751387596130371,
          0.0010204315185546875,
          8.611679077148438E-4,
          9.552836418151855E-4,
          0.001322627067565918,
          0.0013622045516967773,
          0.0016677379608154297,
          0.002701401710510254,
          0.003775298595428467,
          0.004770219326019287,
          0.005664706230163574,
          0.00678706169128418,
          0.007798433303833008,
          0.009168803691864014,
          0.011406779289245605,
          0.018369734287261963
         ],
         "yaxis": "y",
         "type": "scattergl"
        },
        {
         "hovertemplate": "variable=content-passionate<br>Layer=%{x}<br>Cosine Distance=%{y}<extra></extra>",
         "legendgroup": "content-passionate",
         "line": {
          "color": "#B6E880",
          "dash": "solid"
         },
         "marker": {
          "symbol": "circle"
         },
         "mode": "lines",
         "name": "content-passionate",
         "showlegend": true,
         "x": {
          "dtype": "i1",
          "bdata": "AAECAwQFBgcICQoLDA0ODxAREhMUFRYXGBka"
         },
         "xaxis": "x",
         "y": [
          0.17822480201721191,
          0.048906803131103516,
          0.026724278926849365,
          0.027303874492645264,
          0.020456433296203613,
          0.015384554862976074,
          0.01116490364074707,
          0.01044696569442749,
          0.008176684379577637,
          0.0073816776275634766,
          0.0053102970123291016,
          0.004132270812988281,
          0.0032579898834228516,
          0.002789020538330078,
          0.00298154354095459,
          0.0037533044815063477,
          0.0035666227340698242,
          0.004272103309631348,
          0.005610167980194092,
          0.007964730262756348,
          0.009153187274932861,
          0.011320114135742188,
          0.013667106628417969,
          0.01600438356399536,
          0.020022988319396973,
          0.02879244089126587,
          0.037944674491882324
         ],
         "yaxis": "y",
         "type": "scattergl"
        },
        {
         "hovertemplate": "variable=content-brave<br>Layer=%{x}<br>Cosine Distance=%{y}<extra></extra>",
         "legendgroup": "content-brave",
         "line": {
          "color": "#FF97FF",
          "dash": "solid"
         },
         "marker": {
          "symbol": "circle"
         },
         "mode": "lines",
         "name": "content-brave",
         "showlegend": true,
         "x": {
          "dtype": "i1",
          "bdata": "AAECAwQFBgcICQoLDA0ODxAREhMUFRYXGBka"
         },
         "xaxis": "x",
         "y": [
          0.14528346061706543,
          0.03641432523727417,
          0.018149375915527344,
          0.01586848497390747,
          0.010792911052703857,
          0.00810152292251587,
          0.0057263970375061035,
          0.005345702171325684,
          0.004271268844604492,
          0.003908872604370117,
          0.0027100443840026855,
          0.0018927454948425293,
          0.0013736486434936523,
          0.0011522173881530762,
          0.0012557506561279297,
          0.0016605257987976074,
          0.0016661286354064941,
          0.0019632577896118164,
          0.0028334856033325195,
          0.003666996955871582,
          0.004189670085906982,
          0.005292952060699463,
          0.00641101598739624,
          0.007252097129821777,
          0.008614718914031982,
          0.01064389944076538,
          0.017864227294921875
         ],
         "yaxis": "y",
         "type": "scattergl"
        },
        {
         "hovertemplate": "variable=content-confident<br>Layer=%{x}<br>Cosine Distance=%{y}<extra></extra>",
         "legendgroup": "content-confident",
         "line": {
          "color": "#FECB52",
          "dash": "solid"
         },
         "marker": {
          "symbol": "circle"
         },
         "mode": "lines",
         "name": "content-confident",
         "showlegend": true,
         "x": {
          "dtype": "i1",
          "bdata": "AAECAwQFBgcICQoLDA0ODxAREhMUFRYXGBka"
         },
         "xaxis": "x",
         "y": [
          0.13455283641815186,
          0.03276419639587402,
          0.01621723175048828,
          0.014048099517822266,
          0.009315550327301025,
          0.0066031813621521,
          0.0043544769287109375,
          0.0039920806884765625,
          0.0028916597366333008,
          0.0026193857192993164,
          0.001692056655883789,
          0.001172780990600586,
          8.370876312255859E-4,
          6.954669952392578E-4,
          7.637739181518555E-4,
          0.0010688304901123047,
          0.0010554194450378418,
          0.0013993382453918457,
          0.0021355748176574707,
          0.003067612648010254,
          0.0037459135055541992,
          0.004390895366668701,
          0.005186855792999268,
          0.005921483039855957,
          0.0071291327476501465,
          0.009186267852783203,
          0.014829635620117188
         ],
         "yaxis": "y",
         "type": "scattergl"
        },
        {
         "hovertemplate": "variable=relaxed-sad<br>Layer=%{x}<br>Cosine Distance=%{y}<extra></extra>",
         "legendgroup": "relaxed-sad",
         "line": {
          "color": "#636efa",
          "dash": "solid"
         },
         "marker": {
          "symbol": "circle"
         },
         "mode": "lines",
         "name": "relaxed-sad",
         "showlegend": true,
         "x": {
          "dtype": "i1",
          "bdata": "AAECAwQFBgcICQoLDA0ODxAREhMUFRYXGBka"
         },
         "xaxis": "x",
         "y": [
          0.12132513523101807,
          0.034626007080078125,
          0.01680147647857666,
          0.014526784420013428,
          0.00973200798034668,
          0.006944537162780762,
          0.004735767841339111,
          0.004158377647399902,
          0.0029964447021484375,
          0.0026059746742248535,
          0.001723945140838623,
          0.001194000244140625,
          8.429884910583496E-4,
          6.992220878601074E-4,
          7.527470588684082E-4,
          0.0010111331939697266,
          0.0010495185852050781,
          0.0015250444412231445,
          0.002159416675567627,
          0.0028760433197021484,
          0.003424227237701416,
          0.003973066806793213,
          0.004584908485412598,
          0.004986763000488281,
          0.005853712558746338,
          0.007589280605316162,
          0.015619099140167236
         ],
         "yaxis": "y",
         "type": "scattergl"
        },
        {
         "hovertemplate": "variable=relaxed-anxious<br>Layer=%{x}<br>Cosine Distance=%{y}<extra></extra>",
         "legendgroup": "relaxed-anxious",
         "line": {
          "color": "#EF553B",
          "dash": "solid"
         },
         "marker": {
          "symbol": "circle"
         },
         "mode": "lines",
         "name": "relaxed-anxious",
         "showlegend": true,
         "x": {
          "dtype": "i1",
          "bdata": "AAECAwQFBgcICQoLDA0ODxAREhMUFRYXGBka"
         },
         "xaxis": "x",
         "y": [
          0.18164515495300293,
          0.041009724140167236,
          0.021971940994262695,
          0.019191324710845947,
          0.013922154903411865,
          0.010766267776489258,
          0.00797569751739502,
          0.007127940654754639,
          0.006145358085632324,
          0.005509018898010254,
          0.0039365291595458984,
          0.0029636621475219727,
          0.002396821975708008,
          0.0020659565925598145,
          0.0022308826446533203,
          0.0028353333473205566,
          0.002817511558532715,
          0.0034880638122558594,
          0.004051089286804199,
          0.004997193813323975,
          0.0054923295974731445,
          0.006662905216217041,
          0.008549153804779053,
          0.0099373459815979,
          0.012315332889556885,
          0.01725304126739502,
          0.02419602870941162
         ],
         "yaxis": "y",
         "type": "scattergl"
        },
        {
         "hovertemplate": "variable=relaxed-fearful<br>Layer=%{x}<br>Cosine Distance=%{y}<extra></extra>",
         "legendgroup": "relaxed-fearful",
         "line": {
          "color": "#00cc96",
          "dash": "solid"
         },
         "marker": {
          "symbol": "circle"
         },
         "mode": "lines",
         "name": "relaxed-fearful",
         "showlegend": true,
         "x": {
          "dtype": "i1",
          "bdata": "AAECAwQFBgcICQoLDA0ODxAREhMUFRYXGBka"
         },
         "xaxis": "x",
         "y": [
          0.1819216012954712,
          0.05420023202896118,
          0.02653491497039795,
          0.02371203899383545,
          0.01846069097518921,
          0.014528751373291016,
          0.010349273681640625,
          0.009453177452087402,
          0.007468700408935547,
          0.00671231746673584,
          0.004716038703918457,
          0.0035118460655212402,
          0.0026840567588806152,
          0.0023076534271240234,
          0.0024805068969726562,
          0.0029535889625549316,
          0.0031633377075195312,
          0.00413203239440918,
          0.004889369010925293,
          0.006099224090576172,
          0.00685352087020874,
          0.008029043674468994,
          0.009385883808135986,
          0.010582447052001953,
          0.012929975986480713,
          0.016492366790771484,
          0.021266579627990723
         ],
         "yaxis": "y",
         "type": "scattergl"
        },
        {
         "hovertemplate": "variable=relaxed-scared<br>Layer=%{x}<br>Cosine Distance=%{y}<extra></extra>",
         "legendgroup": "relaxed-scared",
         "line": {
          "color": "#ab63fa",
          "dash": "solid"
         },
         "marker": {
          "symbol": "circle"
         },
         "mode": "lines",
         "name": "relaxed-scared",
         "showlegend": true,
         "x": {
          "dtype": "i1",
          "bdata": "AAECAwQFBgcICQoLDA0ODxAREhMUFRYXGBka"
         },
         "xaxis": "x",
         "y": [
          0.10982680320739746,
          0.03157186508178711,
          0.015549898147583008,
          0.013477206230163574,
          0.009213805198669434,
          0.006689846515655518,
          0.004631459712982178,
          0.004154324531555176,
          0.0030738115310668945,
          0.0027387142181396484,
          0.0018053054809570312,
          0.001232147216796875,
          8.399486541748047E-4,
          6.926655769348145E-4,
          7.423162460327148E-4,
          0.0010178089141845703,
          0.0011019110679626465,
          0.0015924572944641113,
          0.001963376998901367,
          0.0022672414779663086,
          0.0028010010719299316,
          0.0029743313789367676,
          0.0035405755043029785,
          0.003779172897338867,
          0.004254162311553955,
          0.004991888999938965,
          0.008312404155731201
         ],
         "yaxis": "y",
         "type": "scattergl"
        },
        {
         "hovertemplate": "variable=relaxed-depressed<br>Layer=%{x}<br>Cosine Distance=%{y}<extra></extra>",
         "legendgroup": "relaxed-depressed",
         "line": {
          "color": "#FFA15A",
          "dash": "solid"
         },
         "marker": {
          "symbol": "circle"
         },
         "mode": "lines",
         "name": "relaxed-depressed",
         "showlegend": true,
         "x": {
          "dtype": "i1",
          "bdata": "AAECAwQFBgcICQoLDA0ODxAREhMUFRYXGBka"
         },
         "xaxis": "x",
         "y": [
          0.18393778800964355,
          0.05254101753234863,
          0.027810335159301758,
          0.024138689041137695,
          0.01741182804107666,
          0.013190090656280518,
          0.00962972640991211,
          0.009236931800842285,
          0.006885051727294922,
          0.006697654724121094,
          0.004799485206604004,
          0.0035625100135803223,
          0.0028034448623657227,
          0.002355813980102539,
          0.0025099515914916992,
          0.003038763999938965,
          0.002896428108215332,
          0.003468334674835205,
          0.004571795463562012,
          0.005356848239898682,
          0.006197094917297363,
          0.0075078606605529785,
          0.008602321147918701,
          0.009841501712799072,
          0.012453973293304443,
          0.017592251300811768,
          0.025784015655517578
         ],
         "yaxis": "y",
         "type": "scattergl"
        },
        {
         "hovertemplate": "variable=relaxed-lonely<br>Layer=%{x}<br>Cosine Distance=%{y}<extra></extra>",
         "legendgroup": "relaxed-lonely",
         "line": {
          "color": "#19d3f3",
          "dash": "solid"
         },
         "marker": {
          "symbol": "circle"
         },
         "mode": "lines",
         "name": "relaxed-lonely",
         "showlegend": true,
         "x": {
          "dtype": "i1",
          "bdata": "AAECAwQFBgcICQoLDA0ODxAREhMUFRYXGBka"
         },
         "xaxis": "x",
         "y": [
          0.10782039165496826,
          0.032311439514160156,
          0.016124248504638672,
          0.013230681419372559,
          0.008769571781158447,
          0.006410717964172363,
          0.004363000392913818,
          0.003772258758544922,
          0.0027823448181152344,
          0.0024791955947875977,
          0.0016486644744873047,
          0.0011146068572998047,
          7.516741752624512E-4,
          6.080269813537598E-4,
          6.540417671203613E-4,
          8.907914161682129E-4,
          9.002685546875E-4,
          0.0013547539710998535,
          0.001732468605041504,
          0.0021311044692993164,
          0.0024671554565429688,
          0.002750992774963379,
          0.0031104087829589844,
          0.00344693660736084,
          0.003955066204071045,
          0.0046967267990112305,
          0.008155763149261475
         ],
         "yaxis": "y",
         "type": "scattergl"
        },
        {
         "hovertemplate": "variable=relaxed-bitter<br>Layer=%{x}<br>Cosine Distance=%{y}<extra></extra>",
         "legendgroup": "relaxed-bitter",
         "line": {
          "color": "#FF6692",
          "dash": "solid"
         },
         "marker": {
          "symbol": "circle"
         },
         "mode": "lines",
         "name": "relaxed-bitter",
         "showlegend": true,
         "x": {
          "dtype": "i1",
          "bdata": "AAECAwQFBgcICQoLDA0ODxAREhMUFRYXGBka"
         },
         "xaxis": "x",
         "y": [
          0.11389219760894775,
          0.03421187400817871,
          0.016584575176239014,
          0.015193402767181396,
          0.010201096534729004,
          0.007390439510345459,
          0.00523221492767334,
          0.00458216667175293,
          0.0033284425735473633,
          0.002915799617767334,
          0.0019388198852539062,
          0.0013428926467895508,
          9.213685989379883E-4,
          7.603168487548828E-4,
          8.077025413513184E-4,
          0.0010834932327270508,
          0.0011494159698486328,
          0.0017806291580200195,
          0.002169013023376465,
          0.0027781128883361816,
          0.0032375454902648926,
          0.003861844539642334,
          0.004296481609344482,
          0.004604935646057129,
          0.005369007587432861,
          0.006160855293273926,
          0.012091875076293945
         ],
         "yaxis": "y",
         "type": "scattergl"
        },
        {
         "hovertemplate": "variable=relaxed-jealous<br>Layer=%{x}<br>Cosine Distance=%{y}<extra></extra>",
         "legendgroup": "relaxed-jealous",
         "line": {
          "color": "#B6E880",
          "dash": "solid"
         },
         "marker": {
          "symbol": "circle"
         },
         "mode": "lines",
         "name": "relaxed-jealous",
         "showlegend": true,
         "x": {
          "dtype": "i1",
          "bdata": "AAECAwQFBgcICQoLDA0ODxAREhMUFRYXGBka"
         },
         "xaxis": "x",
         "y": [
          0.181684672832489,
          0.05067110061645508,
          0.029461324214935303,
          0.027769923210144043,
          0.019444167613983154,
          0.014665782451629639,
          0.010805666446685791,
          0.009459495544433594,
          0.008161008358001709,
          0.0073996782302856445,
          0.005337715148925781,
          0.0041977763175964355,
          0.0032747387886047363,
          0.0027718544006347656,
          0.0029183626174926758,
          0.003580927848815918,
          0.0031679272651672363,
          0.003928840160369873,
          0.0046918392181396484,
          0.006304740905761719,
          0.006983637809753418,
          0.008270204067230225,
          0.00969165563583374,
          0.010815262794494629,
          0.013405859470367432,
          0.020396769046783447,
          0.03784477710723877
         ],
         "yaxis": "y",
         "type": "scattergl"
        },
        {
         "hovertemplate": "variable=relaxed-angry<br>Layer=%{x}<br>Cosine Distance=%{y}<extra></extra>",
         "legendgroup": "relaxed-angry",
         "line": {
          "color": "#FF97FF",
          "dash": "solid"
         },
         "marker": {
          "symbol": "circle"
         },
         "mode": "lines",
         "name": "relaxed-angry",
         "showlegend": true,
         "x": {
          "dtype": "i1",
          "bdata": "AAECAwQFBgcICQoLDA0ODxAREhMUFRYXGBka"
         },
         "xaxis": "x",
         "y": [
          0.1043848991394043,
          0.03082275390625,
          0.014776170253753662,
          0.012955546379089355,
          0.008725762367248535,
          0.006383776664733887,
          0.004479765892028809,
          0.0039337873458862305,
          0.0029984712600708008,
          0.002652466297149658,
          0.0018197298049926758,
          0.0012491941452026367,
          8.40306282043457E-4,
          6.898641586303711E-4,
          7.408857345581055E-4,
          9.981393814086914E-4,
          0.0010516047477722168,
          0.001492142677307129,
          0.0019023418426513672,
          0.0025035738945007324,
          0.0029084086418151855,
          0.003299713134765625,
          0.003769814968109131,
          0.004224836826324463,
          0.00487905740737915,
          0.005895853042602539,
          0.010380387306213379
         ],
         "yaxis": "y",
         "type": "scattergl"
        },
        {
         "hovertemplate": "variable=relaxed-guilty<br>Layer=%{x}<br>Cosine Distance=%{y}<extra></extra>",
         "legendgroup": "relaxed-guilty",
         "line": {
          "color": "#FECB52",
          "dash": "solid"
         },
         "marker": {
          "symbol": "circle"
         },
         "mode": "lines",
         "name": "relaxed-guilty",
         "showlegend": true,
         "x": {
          "dtype": "i1",
          "bdata": "AAECAwQFBgcICQoLDA0ODxAREhMUFRYXGBka"
         },
         "xaxis": "x",
         "y": [
          0.11635631322860718,
          0.03452777862548828,
          0.01665431261062622,
          0.015167534351348877,
          0.010447263717651367,
          0.007741987705230713,
          0.005345582962036133,
          0.0047945380210876465,
          0.003363966941833496,
          0.0029320716857910156,
          0.0019251108169555664,
          0.001322627067565918,
          9.149312973022461E-4,
          7.542967796325684E-4,
          8.001923561096191E-4,
          0.0011292099952697754,
          0.001208662986755371,
          0.001712501049041748,
          0.002307415008544922,
          0.002817988395690918,
          0.0035947561264038086,
          0.0040070414543151855,
          0.0047460198402404785,
          0.005212068557739258,
          0.006009459495544434,
          0.00705564022064209,
          0.010806798934936523
         ],
         "yaxis": "y",
         "type": "scattergl"
        },
        {
         "hovertemplate": "variable=relaxed-passionate<br>Layer=%{x}<br>Cosine Distance=%{y}<extra></extra>",
         "legendgroup": "relaxed-passionate",
         "line": {
          "color": "#636efa",
          "dash": "solid"
         },
         "marker": {
          "symbol": "circle"
         },
         "mode": "lines",
         "name": "relaxed-passionate",
         "showlegend": true,
         "x": {
          "dtype": "i1",
          "bdata": "AAECAwQFBgcICQoLDA0ODxAREhMUFRYXGBka"
         },
         "xaxis": "x",
         "y": [
          0.1706928014755249,
          0.04649794101715088,
          0.0244562029838562,
          0.025839269161224365,
          0.01942545175552368,
          0.014659643173217773,
          0.010664105415344238,
          0.010151147842407227,
          0.008148193359375,
          0.00733494758605957,
          0.005206942558288574,
          0.003932774066925049,
          0.003009617328643799,
          0.0025690197944641113,
          0.0027490854263305664,
          0.0033339262008666992,
          0.0032788515090942383,
          0.00405430793762207,
          0.004786849021911621,
          0.006117880344390869,
          0.007093846797943115,
          0.008423149585723877,
          0.009813964366912842,
          0.01125401258468628,
          0.013836503028869629,
          0.01948416233062744,
          0.026018381118774414
         ],
         "yaxis": "y",
         "type": "scattergl"
        },
        {
         "hovertemplate": "variable=relaxed-brave<br>Layer=%{x}<br>Cosine Distance=%{y}<extra></extra>",
         "legendgroup": "relaxed-brave",
         "line": {
          "color": "#EF553B",
          "dash": "solid"
         },
         "marker": {
          "symbol": "circle"
         },
         "mode": "lines",
         "name": "relaxed-brave",
         "showlegend": true,
         "x": {
          "dtype": "i1",
          "bdata": "AAECAwQFBgcICQoLDA0ODxAREhMUFRYXGBka"
         },
         "xaxis": "x",
         "y": [
          0.10944914817810059,
          0.03257328271865845,
          0.016078174114227295,
          0.014528155326843262,
          0.010196864604949951,
          0.00751340389251709,
          0.005353748798370361,
          0.004927933216094971,
          0.0037189722061157227,
          0.0033031105995178223,
          0.002180933952331543,
          0.0014889836311340332,
          0.0010100603103637695,
          8.23974609375E-4,
          8.686184883117676E-4,
          0.0011720657348632812,
          0.001219332218170166,
          0.0016853809356689453,
          0.002282559871673584,
          0.002622842788696289,
          0.0029201507568359375,
          0.003377258777618408,
          0.003892838954925537,
          0.00427401065826416,
          0.005156397819519043,
          0.006208360195159912,
          0.010396122932434082
         ],
         "yaxis": "y",
         "type": "scattergl"
        },
        {
         "hovertemplate": "variable=relaxed-confident<br>Layer=%{x}<br>Cosine Distance=%{y}<extra></extra>",
         "legendgroup": "relaxed-confident",
         "line": {
          "color": "#00cc96",
          "dash": "solid"
         },
         "marker": {
          "symbol": "circle"
         },
         "mode": "lines",
         "name": "relaxed-confident",
         "showlegend": true,
         "x": {
          "dtype": "i1",
          "bdata": "AAECAwQFBgcICQoLDA0ODxAREhMUFRYXGBka"
         },
         "xaxis": "x",
         "y": [
          0.09696424007415771,
          0.026873767375946045,
          0.012787580490112305,
          0.011627793312072754,
          0.007999241352081299,
          0.0056365132331848145,
          0.003793954849243164,
          0.003414750099182129,
          0.0025142431259155273,
          0.00216066837310791,
          0.0014128684997558594,
          9.793639183044434E-4,
          6.835460662841797E-4,
          5.640983581542969E-4,
          5.876421928405762E-4,
          7.845759391784668E-4,
          8.168220520019531E-4,
          0.0011706352233886719,
          0.0015047192573547363,
          0.0017133355140686035,
          0.002032637596130371,
          0.0020960569381713867,
          0.002369821071624756,
          0.0025208592414855957,
          0.002843618392944336,
          0.0032921433448791504,
          0.005383729934692383
         ],
         "yaxis": "y",
         "type": "scattergl"
        },
        {
         "hovertemplate": "variable=sad-anxious<br>Layer=%{x}<br>Cosine Distance=%{y}<extra></extra>",
         "legendgroup": "sad-anxious",
         "line": {
          "color": "#ab63fa",
          "dash": "solid"
         },
         "marker": {
          "symbol": "circle"
         },
         "mode": "lines",
         "name": "sad-anxious",
         "showlegend": true,
         "x": {
          "dtype": "i1",
          "bdata": "AAECAwQFBgcICQoLDA0ODxAREhMUFRYXGBka"
         },
         "xaxis": "x",
         "y": [
          0.1709423065185547,
          0.04347151517868042,
          0.022498667240142822,
          0.018598735332489014,
          0.012863218784332275,
          0.009632110595703125,
          0.007091164588928223,
          0.006083488464355469,
          0.0050618648529052734,
          0.004739046096801758,
          0.0033195018768310547,
          0.0025969743728637695,
          0.002144932746887207,
          0.0018489360809326172,
          0.0019876956939697266,
          0.002512812614440918,
          0.002462625503540039,
          0.003124535083770752,
          0.0041217803955078125,
          0.005561530590057373,
          0.006219267845153809,
          0.007579326629638672,
          0.009525120258331299,
          0.011003077030181885,
          0.013171911239624023,
          0.01873070001602173,
          0.026508450508117676
         ],
         "yaxis": "y",
         "type": "scattergl"
        },
        {
         "hovertemplate": "variable=sad-fearful<br>Layer=%{x}<br>Cosine Distance=%{y}<extra></extra>",
         "legendgroup": "sad-fearful",
         "line": {
          "color": "#FFA15A",
          "dash": "solid"
         },
         "marker": {
          "symbol": "circle"
         },
         "mode": "lines",
         "name": "sad-fearful",
         "showlegend": true,
         "x": {
          "dtype": "i1",
          "bdata": "AAECAwQFBgcICQoLDA0ODxAREhMUFRYXGBka"
         },
         "xaxis": "x",
         "y": [
          0.17648589611053467,
          0.05125236511230469,
          0.024956703186035156,
          0.021557271480560303,
          0.01609104871749878,
          0.01220405101776123,
          0.008757948875427246,
          0.007977008819580078,
          0.006105780601501465,
          0.005612730979919434,
          0.003875553607940674,
          0.0029906034469604492,
          0.00238877534866333,
          0.00205838680267334,
          0.002215564250946045,
          0.0026169419288635254,
          0.0027769804000854492,
          0.0036682486534118652,
          0.004578828811645508,
          0.006064057350158691,
          0.007046043872833252,
          0.008431494235992432,
          0.009815335273742676,
          0.011114656925201416,
          0.013739466667175293,
          0.019182026386260986,
          0.028579533100128174
         ],
         "yaxis": "y",
         "type": "scattergl"
        },
        {
         "hovertemplate": "variable=sad-scared<br>Layer=%{x}<br>Cosine Distance=%{y}<extra></extra>",
         "legendgroup": "sad-scared",
         "line": {
          "color": "#19d3f3",
          "dash": "solid"
         },
         "marker": {
          "symbol": "circle"
         },
         "mode": "lines",
         "name": "sad-scared",
         "showlegend": true,
         "x": {
          "dtype": "i1",
          "bdata": "AAECAwQFBgcICQoLDA0ODxAREhMUFRYXGBka"
         },
         "xaxis": "x",
         "y": [
          0.11368650197982788,
          0.02965068817138672,
          0.014088749885559082,
          0.011420905590057373,
          0.0071830153465271,
          0.004979491233825684,
          0.0031207799911499023,
          0.0027837753295898438,
          0.0020082592964172363,
          0.0018141865730285645,
          0.0011723041534423828,
          8.3160400390625E-4,
          5.834102630615234E-4,
          4.8220157623291016E-4,
          5.227923393249512E-4,
          6.89387321472168E-4,
          7.346272468566895E-4,
          0.0010989904403686523,
          0.0016713738441467285,
          0.0024406909942626953,
          0.003130793571472168,
          0.0036231279373168945,
          0.004227876663208008,
          0.004433691501617432,
          0.00500410795211792,
          0.006397068500518799,
          0.011978685855865479
         ],
         "yaxis": "y",
         "type": "scattergl"
        },
        {
         "hovertemplate": "variable=sad-depressed<br>Layer=%{x}<br>Cosine Distance=%{y}<extra></extra>",
         "legendgroup": "sad-depressed",
         "line": {
          "color": "#FF6692",
          "dash": "solid"
         },
         "marker": {
          "symbol": "circle"
         },
         "mode": "lines",
         "name": "sad-depressed",
         "showlegend": true,
         "x": {
          "dtype": "i1",
          "bdata": "AAECAwQFBgcICQoLDA0ODxAREhMUFRYXGBka"
         },
         "xaxis": "x",
         "y": [
          0.1710662841796875,
          0.05087858438491821,
          0.0269201397895813,
          0.023290276527404785,
          0.016693830490112305,
          0.012127518653869629,
          0.00868678092956543,
          0.00789731740951538,
          0.005855202674865723,
          0.005945563316345215,
          0.004164516925811768,
          0.0032418370246887207,
          0.002688884735107422,
          0.0022681355476379395,
          0.002408266067504883,
          0.002929091453552246,
          0.0027906298637390137,
          0.0034072399139404297,
          0.004644155502319336,
          0.005905866622924805,
          0.006902098655700684,
          0.00859522819519043,
          0.010208666324615479,
          0.011667311191558838,
          0.014369666576385498,
          0.020764648914337158,
          0.028915584087371826
         ],
         "yaxis": "y",
         "type": "scattergl"
        },
        {
         "hovertemplate": "variable=sad-lonely<br>Layer=%{x}<br>Cosine Distance=%{y}<extra></extra>",
         "legendgroup": "sad-lonely",
         "line": {
          "color": "#B6E880",
          "dash": "solid"
         },
         "marker": {
          "symbol": "circle"
         },
         "mode": "lines",
         "name": "sad-lonely",
         "showlegend": true,
         "x": {
          "dtype": "i1",
          "bdata": "AAECAwQFBgcICQoLDA0ODxAREhMUFRYXGBka"
         },
         "xaxis": "x",
         "y": [
          0.11263686418533325,
          0.03047168254852295,
          0.014657974243164062,
          0.011793315410614014,
          0.007418990135192871,
          0.0053702592849731445,
          0.003531038761138916,
          0.0030114054679870605,
          0.0022350549697875977,
          0.0020335912704467773,
          0.0013744831085205078,
          9.92894172668457E-4,
          7.02977180480957E-4,
          5.905628204345703E-4,
          6.477832794189453E-4,
          8.614063262939453E-4,
          8.521080017089844E-4,
          0.0012214183807373047,
          0.0017175078392028809,
          0.0023766756057739258,
          0.0029245615005493164,
          0.0035322904586791992,
          0.003977954387664795,
          0.004500865936279297,
          0.00508880615234375,
          0.006800293922424316,
          0.013011276721954346
         ],
         "yaxis": "y",
         "type": "scattergl"
        },
        {
         "hovertemplate": "variable=sad-bitter<br>Layer=%{x}<br>Cosine Distance=%{y}<extra></extra>",
         "legendgroup": "sad-bitter",
         "line": {
          "color": "#FF97FF",
          "dash": "solid"
         },
         "marker": {
          "symbol": "circle"
         },
         "mode": "lines",
         "name": "sad-bitter",
         "showlegend": true,
         "x": {
          "dtype": "i1",
          "bdata": "AAECAwQFBgcICQoLDA0ODxAREhMUFRYXGBka"
         },
         "xaxis": "x",
         "y": [
          0.12151157855987549,
          0.03266620635986328,
          0.01539546251296997,
          0.013744831085205078,
          0.00879371166229248,
          0.0060569047927856445,
          0.004112839698791504,
          0.0035322904586791992,
          0.002538919448852539,
          0.0022238492965698242,
          0.0014799833297729492,
          0.0010896921157836914,
          8.019804954528809E-4,
          6.77645206451416E-4,
          7.205605506896973E-4,
          9.533166885375977E-4,
          0.0010010600090026855,
          0.001429915428161621,
          0.0019432902336120605,
          0.002470850944519043,
          0.0030766725540161133,
          0.00388491153717041,
          0.0045220255851745605,
          0.005024611949920654,
          0.005725681781768799,
          0.007254421710968018,
          0.011836528778076172
         ],
         "yaxis": "y",
         "type": "scattergl"
        },
        {
         "hovertemplate": "variable=sad-jealous<br>Layer=%{x}<br>Cosine Distance=%{y}<extra></extra>",
         "legendgroup": "sad-jealous",
         "line": {
          "color": "#FECB52",
          "dash": "solid"
         },
         "marker": {
          "symbol": "circle"
         },
         "mode": "lines",
         "name": "sad-jealous",
         "showlegend": true,
         "x": {
          "dtype": "i1",
          "bdata": "AAECAwQFBgcICQoLDA0ODxAREhMUFRYXGBka"
         },
         "xaxis": "x",
         "y": [
          0.17700481414794922,
          0.05175888538360596,
          0.028859496116638184,
          0.026549935340881348,
          0.018106579780578613,
          0.013189911842346191,
          0.009475767612457275,
          0.008006453514099121,
          0.006671249866485596,
          0.006127595901489258,
          0.004317045211791992,
          0.0035941600799560547,
          0.002913534641265869,
          0.002467036247253418,
          0.002540886402130127,
          0.003055572509765625,
          0.002636432647705078,
          0.0033549070358276367,
          0.004234254360198975,
          0.006336092948913574,
          0.007153928279876709,
          0.008601546287536621,
          0.00998908281326294,
          0.011136531829833984,
          0.013414263725280762,
          0.020322680473327637,
          0.03272587060928345
         ],
         "yaxis": "y",
         "type": "scattergl"
        },
        {
         "hovertemplate": "variable=sad-angry<br>Layer=%{x}<br>Cosine Distance=%{y}<extra></extra>",
         "legendgroup": "sad-angry",
         "line": {
          "color": "#636efa",
          "dash": "solid"
         },
         "marker": {
          "symbol": "circle"
         },
         "mode": "lines",
         "name": "sad-angry",
         "showlegend": true,
         "x": {
          "dtype": "i1",
          "bdata": "AAECAwQFBgcICQoLDA0ODxAREhMUFRYXGBka"
         },
         "xaxis": "x",
         "y": [
          0.10365128517150879,
          0.02792191505432129,
          0.012866973876953125,
          0.011014819145202637,
          0.006794154644012451,
          0.004953920841217041,
          0.003337681293487549,
          0.0029238462448120117,
          0.002264738082885742,
          0.002025008201599121,
          0.0014053583145141602,
          0.0010557174682617188,
          7.303953170776367E-4,
          6.109476089477539E-4,
          6.576180458068848E-4,
          8.568763732910156E-4,
          8.905529975891113E-4,
          0.0011663436889648438,
          0.0017068982124328613,
          0.002436816692352295,
          0.0029784440994262695,
          0.0036526918411254883,
          0.004294991493225098,
          0.004932105541229248,
          0.005662202835083008,
          0.007509171962738037,
          0.013377904891967773
         ],
         "yaxis": "y",
         "type": "scattergl"
        },
        {
         "hovertemplate": "variable=sad-guilty<br>Layer=%{x}<br>Cosine Distance=%{y}<extra></extra>",
         "legendgroup": "sad-guilty",
         "line": {
          "color": "#EF553B",
          "dash": "solid"
         },
         "marker": {
          "symbol": "circle"
         },
         "mode": "lines",
         "name": "sad-guilty",
         "showlegend": true,
         "x": {
          "dtype": "i1",
          "bdata": "AAECAwQFBgcICQoLDA0ODxAREhMUFRYXGBka"
         },
         "xaxis": "x",
         "y": [
          0.1312485933303833,
          0.034886717796325684,
          0.01630842685699463,
          0.013900279998779297,
          0.008948266506195068,
          0.0062947869300842285,
          0.004097342491149902,
          0.003575563430786133,
          0.002533555030822754,
          0.0022284388542175293,
          0.0014476776123046875,
          0.0010398030281066895,
          7.423758506774902E-4,
          6.211400032043457E-4,
          6.732344627380371E-4,
          9.226799011230469E-4,
          9.889602661132812E-4,
          0.0013573169708251953,
          0.0021334290504455566,
          0.003011941909790039,
          0.00411456823348999,
          0.004816949367523193,
          0.005670726299285889,
          0.0063648223876953125,
          0.007309675216674805,
          0.009699106216430664,
          0.017468810081481934
         ],
         "yaxis": "y",
         "type": "scattergl"
        },
        {
         "hovertemplate": "variable=sad-passionate<br>Layer=%{x}<br>Cosine Distance=%{y}<extra></extra>",
         "legendgroup": "sad-passionate",
         "line": {
          "color": "#00cc96",
          "dash": "solid"
         },
         "marker": {
          "symbol": "circle"
         },
         "mode": "lines",
         "name": "sad-passionate",
         "showlegend": true,
         "x": {
          "dtype": "i1",
          "bdata": "AAECAwQFBgcICQoLDA0ODxAREhMUFRYXGBka"
         },
         "xaxis": "x",
         "y": [
          0.17226529121398926,
          0.048597753047943115,
          0.025789499282836914,
          0.02548515796661377,
          0.018410861492156982,
          0.013727068901062012,
          0.009973645210266113,
          0.0094527006149292,
          0.007268130779266357,
          0.0067234039306640625,
          0.00471341609954834,
          0.0036960244178771973,
          0.002917051315307617,
          0.0024840831756591797,
          0.00268477201461792,
          0.0032861828804016113,
          0.0032021403312683105,
          0.003920912742614746,
          0.004897058010101318,
          0.006785869598388672,
          0.007861077785491943,
          0.0096701979637146,
          0.011561393737792969,
          0.013007700443267822,
          0.01595282554626465,
          0.02391982078552246,
          0.035404860973358154
         ],
         "yaxis": "y",
         "type": "scattergl"
        },
        {
         "hovertemplate": "variable=sad-brave<br>Layer=%{x}<br>Cosine Distance=%{y}<extra></extra>",
         "legendgroup": "sad-brave",
         "line": {
          "color": "#ab63fa",
          "dash": "solid"
         },
         "marker": {
          "symbol": "circle"
         },
         "mode": "lines",
         "name": "sad-brave",
         "showlegend": true,
         "x": {
          "dtype": "i1",
          "bdata": "AAECAwQFBgcICQoLDA0ODxAREhMUFRYXGBka"
         },
         "xaxis": "x",
         "y": [
          0.12045669555664062,
          0.032878220081329346,
          0.015317201614379883,
          0.013688921928405762,
          0.0090675950050354,
          0.006699681282043457,
          0.004589080810546875,
          0.004326939582824707,
          0.0033918023109436035,
          0.0029855966567993164,
          0.0020140409469604492,
          0.0014015436172485352,
          9.819269180297852E-4,
          8.093118667602539E-4,
          8.602142333984375E-4,
          0.0011219978332519531,
          0.0011478066444396973,
          0.001473546028137207,
          0.002162456512451172,
          0.0030025839805603027,
          0.003549337387084961,
          0.004390418529510498,
          0.005081236362457275,
          0.005656599998474121,
          0.006554961204528809,
          0.008416235446929932,
          0.01680934429168701
         ],
         "yaxis": "y",
         "type": "scattergl"
        },
        {
         "hovertemplate": "variable=sad-confident<br>Layer=%{x}<br>Cosine Distance=%{y}<extra></extra>",
         "legendgroup": "sad-confident",
         "line": {
          "color": "#FFA15A",
          "dash": "solid"
         },
         "marker": {
          "symbol": "circle"
         },
         "mode": "lines",
         "name": "sad-confident",
         "showlegend": true,
         "x": {
          "dtype": "i1",
          "bdata": "AAECAwQFBgcICQoLDA0ODxAREhMUFRYXGBka"
         },
         "xaxis": "x",
         "y": [
          0.12095373868942261,
          0.034084439277648926,
          0.01615118980407715,
          0.014080286026000977,
          0.009169518947601318,
          0.006444334983825684,
          0.004185318946838379,
          0.003870844841003418,
          0.002769768238067627,
          0.0024022459983825684,
          0.0015681982040405273,
          0.001092076301574707,
          7.560253143310547E-4,
          6.262063980102539E-4,
          6.744861602783203E-4,
          9.052753448486328E-4,
          9.05454158782959E-4,
          0.0012900829315185547,
          0.0019399523735046387,
          0.002658247947692871,
          0.0033063888549804688,
          0.0038561224937438965,
          0.004304051399230957,
          0.004666626453399658,
          0.005337715148925781,
          0.00668489933013916,
          0.012366890907287598
         ],
         "yaxis": "y",
         "type": "scattergl"
        },
        {
         "hovertemplate": "variable=anxious-fearful<br>Layer=%{x}<br>Cosine Distance=%{y}<extra></extra>",
         "legendgroup": "anxious-fearful",
         "line": {
          "color": "#19d3f3",
          "dash": "solid"
         },
         "marker": {
          "symbol": "circle"
         },
         "mode": "lines",
         "name": "anxious-fearful",
         "showlegend": true,
         "x": {
          "dtype": "i1",
          "bdata": "AAECAwQFBgcICQoLDA0ODxAREhMUFRYXGBka"
         },
         "xaxis": "x",
         "y": [
          0.19756680727005005,
          0.05417710542678833,
          0.026339292526245117,
          0.022116124629974365,
          0.015990912914276123,
          0.012011051177978516,
          0.007936596870422363,
          0.007016658782958984,
          0.005170583724975586,
          0.004759073257446289,
          0.0031638741493225098,
          0.0023416876792907715,
          0.0016911029815673828,
          0.0014330148696899414,
          0.0015603303909301758,
          0.0020521879196166992,
          0.0021561384201049805,
          0.002751648426055908,
          0.0035538673400878906,
          0.0051048994064331055,
          0.005832016468048096,
          0.007037341594696045,
          0.00923091173171997,
          0.010180056095123291,
          0.012163400650024414,
          0.015729963779449463,
          0.027460932731628418
         ],
         "yaxis": "y",
         "type": "scattergl"
        },
        {
         "hovertemplate": "variable=anxious-scared<br>Layer=%{x}<br>Cosine Distance=%{y}<extra></extra>",
         "legendgroup": "anxious-scared",
         "line": {
          "color": "#FF6692",
          "dash": "solid"
         },
         "marker": {
          "symbol": "circle"
         },
         "mode": "lines",
         "name": "anxious-scared",
         "showlegend": true,
         "x": {
          "dtype": "i1",
          "bdata": "AAECAwQFBgcICQoLDA0ODxAREhMUFRYXGBka"
         },
         "xaxis": "x",
         "y": [
          0.18168461322784424,
          0.03878450393676758,
          0.021106600761413574,
          0.017780423164367676,
          0.012419700622558594,
          0.009400665760040283,
          0.00696033239364624,
          0.005862414836883545,
          0.0049443840980529785,
          0.004629731178283691,
          0.0032825469970703125,
          0.0025892257690429688,
          0.002136826515197754,
          0.0018622279167175293,
          0.002028822898864746,
          0.002576589584350586,
          0.0025234222412109375,
          0.0031766891479492188,
          0.0038439035415649414,
          0.0050171613693237305,
          0.005739092826843262,
          0.006988227367401123,
          0.009075284004211426,
          0.010445177555084229,
          0.012608647346496582,
          0.01785212755203247,
          0.025346577167510986
         ],
         "yaxis": "y",
         "type": "scattergl"
        },
        {
         "hovertemplate": "variable=anxious-depressed<br>Layer=%{x}<br>Cosine Distance=%{y}<extra></extra>",
         "legendgroup": "anxious-depressed",
         "line": {
          "color": "#B6E880",
          "dash": "solid"
         },
         "marker": {
          "symbol": "circle"
         },
         "mode": "lines",
         "name": "anxious-depressed",
         "showlegend": true,
         "x": {
          "dtype": "i1",
          "bdata": "AAECAwQFBgcICQoLDA0ODxAREhMUFRYXGBka"
         },
         "xaxis": "x",
         "y": [
          0.2121252417564392,
          0.057162463665008545,
          0.029870986938476562,
          0.026486992835998535,
          0.01873236894607544,
          0.013097882270812988,
          0.009544909000396729,
          0.008229732513427734,
          0.006140708923339844,
          0.005622386932373047,
          0.003686070442199707,
          0.002777099609375,
          0.002024054527282715,
          0.001723647117614746,
          0.0017988085746765137,
          0.002308070659637451,
          0.0022029876708984375,
          0.0027837157249450684,
          0.004108428955078125,
          0.005530238151550293,
          0.006344616413116455,
          0.007737278938293457,
          0.010008513927459717,
          0.011040806770324707,
          0.013036489486694336,
          0.017518460750579834,
          0.02964639663696289
         ],
         "yaxis": "y",
         "type": "scattergl"
        },
        {
         "hovertemplate": "variable=anxious-lonely<br>Layer=%{x}<br>Cosine Distance=%{y}<extra></extra>",
         "legendgroup": "anxious-lonely",
         "line": {
          "color": "#FF97FF",
          "dash": "solid"
         },
         "marker": {
          "symbol": "circle"
         },
         "mode": "lines",
         "name": "anxious-lonely",
         "showlegend": true,
         "x": {
          "dtype": "i1",
          "bdata": "AAECAwQFBgcICQoLDA0ODxAREhMUFRYXGBka"
         },
         "xaxis": "x",
         "y": [
          0.18178963661193848,
          0.04195624589920044,
          0.02278459072113037,
          0.018247127532958984,
          0.012708067893981934,
          0.009778022766113281,
          0.007178544998168945,
          0.006147027015686035,
          0.005438268184661865,
          0.005036711692810059,
          0.003606081008911133,
          0.002836942672729492,
          0.0023110508918762207,
          0.0020096302032470703,
          0.002164602279663086,
          0.0027695298194885254,
          0.0028351545333862305,
          0.0033403635025024414,
          0.0037658214569091797,
          0.004960060119628906,
          0.005587339401245117,
          0.0067375898361206055,
          0.008651912212371826,
          0.009893298149108887,
          0.012298226356506348,
          0.01747065782546997,
          0.025407910346984863
         ],
         "yaxis": "y",
         "type": "scattergl"
        },
        {
         "hovertemplate": "variable=anxious-bitter<br>Layer=%{x}<br>Cosine Distance=%{y}<extra></extra>",
         "legendgroup": "anxious-bitter",
         "line": {
          "color": "#FECB52",
          "dash": "solid"
         },
         "marker": {
          "symbol": "circle"
         },
         "mode": "lines",
         "name": "anxious-bitter",
         "showlegend": true,
         "x": {
          "dtype": "i1",
          "bdata": "AAECAwQFBgcICQoLDA0ODxAREhMUFRYXGBka"
         },
         "xaxis": "x",
         "y": [
          0.19239109754562378,
          0.042748868465423584,
          0.022629082202911377,
          0.01922398805618286,
          0.013377249240875244,
          0.010302603244781494,
          0.007494449615478516,
          0.00671076774597168,
          0.005734384059906006,
          0.005204975605010986,
          0.0037211179733276367,
          0.0029036402702331543,
          0.002398371696472168,
          0.002100229263305664,
          0.0022764205932617188,
          0.0029239654541015625,
          0.003062605857849121,
          0.0037423372268676758,
          0.004219949245452881,
          0.005753457546234131,
          0.006285548210144043,
          0.007477164268493652,
          0.009440124034881592,
          0.01068812608718872,
          0.013181328773498535,
          0.018373608589172363,
          0.02884310483932495
         ],
         "yaxis": "y",
         "type": "scattergl"
        },
        {
         "hovertemplate": "variable=anxious-jealous<br>Layer=%{x}<br>Cosine Distance=%{y}<extra></extra>",
         "legendgroup": "anxious-jealous",
         "line": {
          "color": "#636efa",
          "dash": "solid"
         },
         "marker": {
          "symbol": "circle"
         },
         "mode": "lines",
         "name": "anxious-jealous",
         "showlegend": true,
         "x": {
          "dtype": "i1",
          "bdata": "AAECAwQFBgcICQoLDA0ODxAREhMUFRYXGBka"
         },
         "xaxis": "x",
         "y": [
          0.2027587890625,
          0.05173557996749878,
          0.02793222665786743,
          0.026418328285217285,
          0.01654815673828125,
          0.012592315673828125,
          0.009042441844940186,
          0.007466912269592285,
          0.006083846092224121,
          0.005321621894836426,
          0.003498554229736328,
          0.0027906298637390137,
          0.002011895179748535,
          0.0017200708389282227,
          0.0017688274383544922,
          0.0021842122077941895,
          0.0018412470817565918,
          0.0024193525314331055,
          0.00306856632232666,
          0.0056588053703308105,
          0.0061759352684021,
          0.007494866847991943,
          0.010164856910705566,
          0.011436045169830322,
          0.013968706130981445,
          0.020286977291107178,
          0.0380253791809082
         ],
         "yaxis": "y",
         "type": "scattergl"
        },
        {
         "hovertemplate": "variable=anxious-angry<br>Layer=%{x}<br>Cosine Distance=%{y}<extra></extra>",
         "legendgroup": "anxious-angry",
         "line": {
          "color": "#EF553B",
          "dash": "solid"
         },
         "marker": {
          "symbol": "circle"
         },
         "mode": "lines",
         "name": "anxious-angry",
         "showlegend": true,
         "x": {
          "dtype": "i1",
          "bdata": "AAECAwQFBgcICQoLDA0ODxAREhMUFRYXGBka"
         },
         "xaxis": "x",
         "y": [
          0.16425132751464844,
          0.03729349374771118,
          0.01974046230316162,
          0.01563549041748047,
          0.011039137840270996,
          0.008635997772216797,
          0.006240546703338623,
          0.00566256046295166,
          0.005251765251159668,
          0.004796624183654785,
          0.0034832358360290527,
          0.0028427839279174805,
          0.002275824546813965,
          0.0019652843475341797,
          0.0021201372146606445,
          0.002664327621459961,
          0.002656698226928711,
          0.002996683120727539,
          0.0035473108291625977,
          0.004753828048706055,
          0.005253016948699951,
          0.006411314010620117,
          0.008317708969116211,
          0.00960397720336914,
          0.011974930763244629,
          0.0173189640045166,
          0.025988638401031494
         ],
         "yaxis": "y",
         "type": "scattergl"
        },
        {
         "hovertemplate": "variable=anxious-guilty<br>Layer=%{x}<br>Cosine Distance=%{y}<extra></extra>",
         "legendgroup": "anxious-guilty",
         "line": {
          "color": "#00cc96",
          "dash": "solid"
         },
         "marker": {
          "symbol": "circle"
         },
         "mode": "lines",
         "name": "anxious-guilty",
         "showlegend": true,
         "x": {
          "dtype": "i1",
          "bdata": "AAECAwQFBgcICQoLDA0ODxAREhMUFRYXGBka"
         },
         "xaxis": "x",
         "y": [
          0.20016902685165405,
          0.04424554109573364,
          0.023392319679260254,
          0.02035677433013916,
          0.01450645923614502,
          0.011433422565460205,
          0.008273661136627197,
          0.007225990295410156,
          0.006146252155303955,
          0.005556702613830566,
          0.0038614869117736816,
          0.0030270814895629883,
          0.0024628043174743652,
          0.0021457672119140625,
          0.002320528030395508,
          0.0029796361923217773,
          0.0030704140663146973,
          0.00371628999710083,
          0.0044220685958862305,
          0.005923151969909668,
          0.00701063871383667,
          0.008421182632446289,
          0.010713040828704834,
          0.01236647367477417,
          0.015192270278930664,
          0.021248221397399902,
          0.02988535165786743
         ],
         "yaxis": "y",
         "type": "scattergl"
        },
        {
         "hovertemplate": "variable=anxious-passionate<br>Layer=%{x}<br>Cosine Distance=%{y}<extra></extra>",
         "legendgroup": "anxious-passionate",
         "line": {
          "color": "#ab63fa",
          "dash": "solid"
         },
         "marker": {
          "symbol": "circle"
         },
         "mode": "lines",
         "name": "anxious-passionate",
         "showlegend": true,
         "x": {
          "dtype": "i1",
          "bdata": "AAECAwQFBgcICQoLDA0ODxAREhMUFRYXGBka"
         },
         "xaxis": "x",
         "y": [
          0.20800399780273438,
          0.05193603038787842,
          0.026441454887390137,
          0.02556765079498291,
          0.017724215984344482,
          0.01353442668914795,
          0.009390711784362793,
          0.00897526741027832,
          0.0068628787994384766,
          0.006253957748413086,
          0.004209995269775391,
          0.0032258033752441406,
          0.0022947192192077637,
          0.0019406676292419434,
          0.0020658373832702637,
          0.002710282802581787,
          0.0026183128356933594,
          0.003121316432952881,
          0.004035651683807373,
          0.006027579307556152,
          0.006780087947845459,
          0.008191168308258057,
          0.010846495628356934,
          0.012154102325439453,
          0.014119923114776611,
          0.018346309661865234,
          0.02979433536529541
         ],
         "yaxis": "y",
         "type": "scattergl"
        },
        {
         "hovertemplate": "variable=anxious-brave<br>Layer=%{x}<br>Cosine Distance=%{y}<extra></extra>",
         "legendgroup": "anxious-brave",
         "line": {
          "color": "#FFA15A",
          "dash": "solid"
         },
         "marker": {
          "symbol": "circle"
         },
         "mode": "lines",
         "name": "anxious-brave",
         "showlegend": true,
         "x": {
          "dtype": "i1",
          "bdata": "AAECAwQFBgcICQoLDA0ODxAREhMUFRYXGBka"
         },
         "xaxis": "x",
         "y": [
          0.18199259042739868,
          0.044336557388305664,
          0.023637771606445312,
          0.020686089992523193,
          0.014857590198516846,
          0.011561751365661621,
          0.008262038230895996,
          0.007900238037109375,
          0.007186770439147949,
          0.00649869441986084,
          0.0046939849853515625,
          0.003509998321533203,
          0.0027840733528137207,
          0.002395927906036377,
          0.002579212188720703,
          0.0032699108123779297,
          0.0033286213874816895,
          0.0038863420486450195,
          0.004705905914306641,
          0.005822658538818359,
          0.006352424621582031,
          0.0075626373291015625,
          0.00960606336593628,
          0.010858118534088135,
          0.01376640796661377,
          0.01911097764968872,
          0.02651900053024292
         ],
         "yaxis": "y",
         "type": "scattergl"
        },
        {
         "hovertemplate": "variable=anxious-confident<br>Layer=%{x}<br>Cosine Distance=%{y}<extra></extra>",
         "legendgroup": "anxious-confident",
         "line": {
          "color": "#19d3f3",
          "dash": "solid"
         },
         "marker": {
          "symbol": "circle"
         },
         "mode": "lines",
         "name": "anxious-confident",
         "showlegend": true,
         "x": {
          "dtype": "i1",
          "bdata": "AAECAwQFBgcICQoLDA0ODxAREhMUFRYXGBka"
         },
         "xaxis": "x",
         "y": [
          0.17093288898468018,
          0.037897348403930664,
          0.020112991333007812,
          0.017228245735168457,
          0.01182788610458374,
          0.009259700775146484,
          0.006717085838317871,
          0.006248414516448975,
          0.005306124687194824,
          0.004885554313659668,
          0.0034393668174743652,
          0.0026273727416992188,
          0.0021451711654663086,
          0.0018575787544250488,
          0.002024412155151367,
          0.002543032169342041,
          0.002492964267730713,
          0.0030100345611572266,
          0.0035930871963500977,
          0.004610598087310791,
          0.0053667426109313965,
          0.006399929523468018,
          0.008279144763946533,
          0.009573578834533691,
          0.011825203895568848,
          0.016978681087493896,
          0.023044109344482422
         ],
         "yaxis": "y",
         "type": "scattergl"
        },
        {
         "hovertemplate": "variable=fearful-scared<br>Layer=%{x}<br>Cosine Distance=%{y}<extra></extra>",
         "legendgroup": "fearful-scared",
         "line": {
          "color": "#FF6692",
          "dash": "solid"
         },
         "marker": {
          "symbol": "circle"
         },
         "mode": "lines",
         "name": "fearful-scared",
         "showlegend": true,
         "x": {
          "dtype": "i1",
          "bdata": "AAECAwQFBgcICQoLDA0ODxAREhMUFRYXGBka"
         },
         "xaxis": "x",
         "y": [
          0.15444540977478027,
          0.04096192121505737,
          0.02063310146331787,
          0.016582369804382324,
          0.0129280686378479,
          0.009137988090515137,
          0.006565451622009277,
          0.00576019287109375,
          0.0043686628341674805,
          0.003994286060333252,
          0.0028361082077026367,
          0.0022559762001037598,
          0.0018445253372192383,
          0.0016227364540100098,
          0.0017851591110229492,
          0.0020760297775268555,
          0.0020924806594848633,
          0.0027614831924438477,
          0.003330230712890625,
          0.004208564758300781,
          0.004621267318725586,
          0.005708754062652588,
          0.007014214992523193,
          0.008050620555877686,
          0.01003950834274292,
          0.013907849788665771,
          0.016270458698272705
         ],
         "yaxis": "y",
         "type": "scattergl"
        },
        {
         "hovertemplate": "variable=fearful-depressed<br>Layer=%{x}<br>Cosine Distance=%{y}<extra></extra>",
         "legendgroup": "fearful-depressed",
         "line": {
          "color": "#B6E880",
          "dash": "solid"
         },
         "marker": {
          "symbol": "circle"
         },
         "mode": "lines",
         "name": "fearful-depressed",
         "showlegend": true,
         "x": {
          "dtype": "i1",
          "bdata": "AAECAwQFBgcICQoLDA0ODxAREhMUFRYXGBka"
         },
         "xaxis": "x",
         "y": [
          0.22590279579162598,
          0.06798350811004639,
          0.03401726484298706,
          0.031213104724884033,
          0.02320230007171631,
          0.017624974250793457,
          0.012095510959625244,
          0.011012673377990723,
          0.008139610290527344,
          0.007597088813781738,
          0.005084574222564697,
          0.003751993179321289,
          0.0026403069496154785,
          0.0022267699241638184,
          0.002354264259338379,
          0.0028967857360839844,
          0.0030137300491333008,
          0.003856658935546875,
          0.005160689353942871,
          0.006818056106567383,
          0.00794839859008789,
          0.009558022022247314,
          0.010877370834350586,
          0.011631369590759277,
          0.014078795909881592,
          0.01866471767425537,
          0.03588336706161499
         ],
         "yaxis": "y",
         "type": "scattergl"
        },
        {
         "hovertemplate": "variable=fearful-lonely<br>Layer=%{x}<br>Cosine Distance=%{y}<extra></extra>",
         "legendgroup": "fearful-lonely",
         "line": {
          "color": "#FF97FF",
          "dash": "solid"
         },
         "marker": {
          "symbol": "circle"
         },
         "mode": "lines",
         "name": "fearful-lonely",
         "showlegend": true,
         "x": {
          "dtype": "i1",
          "bdata": "AAECAwQFBgcICQoLDA0ODxAREhMUFRYXGBka"
         },
         "xaxis": "x",
         "y": [
          0.18245351314544678,
          0.05168873071670532,
          0.025824308395385742,
          0.02164936065673828,
          0.016414165496826172,
          0.013002514839172363,
          0.009220123291015625,
          0.00833582878112793,
          0.006591200828552246,
          0.005995690822601318,
          0.004123687744140625,
          0.0031851530075073242,
          0.002490222454071045,
          0.002158820629119873,
          0.0022829771041870117,
          0.0027168989181518555,
          0.002917051315307617,
          0.003728210926055908,
          0.0043225884437561035,
          0.005642890930175781,
          0.0065146684646606445,
          0.007663249969482422,
          0.008935868740081787,
          0.009947061538696289,
          0.012369275093078613,
          0.0163424015045166,
          0.019980788230895996
         ],
         "yaxis": "y",
         "type": "scattergl"
        },
        {
         "hovertemplate": "variable=fearful-bitter<br>Layer=%{x}<br>Cosine Distance=%{y}<extra></extra>",
         "legendgroup": "fearful-bitter",
         "line": {
          "color": "#FECB52",
          "dash": "solid"
         },
         "marker": {
          "symbol": "circle"
         },
         "mode": "lines",
         "name": "fearful-bitter",
         "showlegend": true,
         "x": {
          "dtype": "i1",
          "bdata": "AAECAwQFBgcICQoLDA0ODxAREhMUFRYXGBka"
         },
         "xaxis": "x",
         "y": [
          0.18630719184875488,
          0.05221301317214966,
          0.02556067705154419,
          0.021884620189666748,
          0.016238272190093994,
          0.012318849563598633,
          0.008750498294830322,
          0.008047342300415039,
          0.006315886974334717,
          0.005611896514892578,
          0.003887653350830078,
          0.0029628872871398926,
          0.002333521842956543,
          0.0020337700843811035,
          0.002156555652618408,
          0.002569437026977539,
          0.0028570890426635742,
          0.003758847713470459,
          0.004276394844055176,
          0.005781054496765137,
          0.0066606998443603516,
          0.007776141166687012,
          0.00908041000366211,
          0.01014411449432373,
          0.012452125549316406,
          0.01668250560760498,
          0.02525341510772705
         ],
         "yaxis": "y",
         "type": "scattergl"
        },
        {
         "hovertemplate": "variable=fearful-jealous<br>Layer=%{x}<br>Cosine Distance=%{y}<extra></extra>",
         "legendgroup": "fearful-jealous",
         "line": {
          "color": "#636efa",
          "dash": "solid"
         },
         "marker": {
          "symbol": "circle"
         },
         "mode": "lines",
         "name": "fearful-jealous",
         "showlegend": true,
         "x": {
          "dtype": "i1",
          "bdata": "AAECAwQFBgcICQoLDA0ODxAREhMUFRYXGBka"
         },
         "xaxis": "x",
         "y": [
          0.22892463207244873,
          0.06775206327438354,
          0.03452247381210327,
          0.03153806924819946,
          0.02232569456100464,
          0.017339110374450684,
          0.011341512203216553,
          0.009807348251342773,
          0.007913589477539062,
          0.007019102573394775,
          0.004606842994689941,
          0.0035322904586791992,
          0.002522587776184082,
          0.002142667770385742,
          0.0022503137588500977,
          0.0027396678924560547,
          0.002544999122619629,
          0.003274679183959961,
          0.0040035247802734375,
          0.0066863298416137695,
          0.007451832294464111,
          0.008827626705169678,
          0.010503411293029785,
          0.011346638202667236,
          0.013881683349609375,
          0.020449399948120117,
          0.043414950370788574
         ],
         "yaxis": "y",
         "type": "scattergl"
        },
        {
         "hovertemplate": "variable=fearful-angry<br>Layer=%{x}<br>Cosine Distance=%{y}<extra></extra>",
         "legendgroup": "fearful-angry",
         "line": {
          "color": "#EF553B",
          "dash": "solid"
         },
         "marker": {
          "symbol": "circle"
         },
         "mode": "lines",
         "name": "fearful-angry",
         "showlegend": true,
         "x": {
          "dtype": "i1",
          "bdata": "AAECAwQFBgcICQoLDA0ODxAREhMUFRYXGBka"
         },
         "xaxis": "x",
         "y": [
          0.17078620195388794,
          0.04747509956359863,
          0.023004531860351562,
          0.01912522315979004,
          0.014527976512908936,
          0.011416852474212646,
          0.008065760135650635,
          0.007396817207336426,
          0.0059386491775512695,
          0.0053102970123291016,
          0.0036950111389160156,
          0.002926349639892578,
          0.0022913217544555664,
          0.001985311508178711,
          0.0021007657051086426,
          0.002483665943145752,
          0.002678513526916504,
          0.003378927707672119,
          0.004019498825073242,
          0.005452156066894531,
          0.006295204162597656,
          0.007406055927276611,
          0.008792698383331299,
          0.00989830493927002,
          0.012482821941375732,
          0.016690075397491455,
          0.020982444286346436
         ],
         "yaxis": "y",
         "type": "scattergl"
        },
        {
         "hovertemplate": "variable=fearful-guilty<br>Layer=%{x}<br>Cosine Distance=%{y}<extra></extra>",
         "legendgroup": "fearful-guilty",
         "line": {
          "color": "#00cc96",
          "dash": "solid"
         },
         "marker": {
          "symbol": "circle"
         },
         "mode": "lines",
         "name": "fearful-guilty",
         "showlegend": true,
         "x": {
          "dtype": "i1",
          "bdata": "AAECAwQFBgcICQoLDA0ODxAREhMUFRYXGBka"
         },
         "xaxis": "x",
         "y": [
          0.19413083791732788,
          0.05381429195404053,
          0.026344597339630127,
          0.02245616912841797,
          0.016970276832580566,
          0.013141512870788574,
          0.009126067161560059,
          0.008309483528137207,
          0.0064414143562316895,
          0.005754709243774414,
          0.0039283037185668945,
          0.0030330419540405273,
          0.0023866891860961914,
          0.0020787715911865234,
          0.0022257566452026367,
          0.0026534199714660645,
          0.002905428409576416,
          0.0037673115730285645,
          0.004511475563049316,
          0.006149888038635254,
          0.007494211196899414,
          0.008635222911834717,
          0.01014244556427002,
          0.011324405670166016,
          0.013763129711151123,
          0.018172383308410645,
          0.020466089248657227
         ],
         "yaxis": "y",
         "type": "scattergl"
        },
        {
         "hovertemplate": "variable=fearful-passionate<br>Layer=%{x}<br>Cosine Distance=%{y}<extra></extra>",
         "legendgroup": "fearful-passionate",
         "line": {
          "color": "#ab63fa",
          "dash": "solid"
         },
         "marker": {
          "symbol": "circle"
         },
         "mode": "lines",
         "name": "fearful-passionate",
         "showlegend": true,
         "x": {
          "dtype": "i1",
          "bdata": "AAECAwQFBgcICQoLDA0ODxAREhMUFRYXGBka"
         },
         "xaxis": "x",
         "y": [
          0.2116185426712036,
          0.05716031789779663,
          0.02681255340576172,
          0.02739119529724121,
          0.02014702558517456,
          0.01603478193283081,
          0.010519146919250488,
          0.010469675064086914,
          0.007852375507354736,
          0.007174372673034668,
          0.004790067672729492,
          0.0035511255264282227,
          0.00247955322265625,
          0.002077758312225342,
          0.002180635929107666,
          0.0027159452438354492,
          0.0028821229934692383,
          0.0035662055015563965,
          0.004425466060638428,
          0.006618380546569824,
          0.007816433906555176,
          0.008845806121826172,
          0.01053231954574585,
          0.011491954326629639,
          0.012744367122650146,
          0.015420675277709961,
          0.028049945831298828
         ],
         "yaxis": "y",
         "type": "scattergl"
        },
        {
         "hovertemplate": "variable=fearful-brave<br>Layer=%{x}<br>Cosine Distance=%{y}<extra></extra>",
         "legendgroup": "fearful-brave",
         "line": {
          "color": "#FFA15A",
          "dash": "solid"
         },
         "marker": {
          "symbol": "circle"
         },
         "mode": "lines",
         "name": "fearful-brave",
         "showlegend": true,
         "x": {
          "dtype": "i1",
          "bdata": "AAECAwQFBgcICQoLDA0ODxAREhMUFRYXGBka"
         },
         "xaxis": "x",
         "y": [
          0.18126285076141357,
          0.052917540073394775,
          0.02586883306503296,
          0.02113926410675049,
          0.01632225513458252,
          0.012784242630004883,
          0.008834481239318848,
          0.008485198020935059,
          0.006989717483520508,
          0.006399750709533691,
          0.004484891891479492,
          0.0033660531044006348,
          0.002574741840362549,
          0.0022115707397460938,
          0.00233304500579834,
          0.0027856826782226562,
          0.0029790401458740234,
          0.00367891788482666,
          0.004422008991241455,
          0.005821406841278076,
          0.006588757038116455,
          0.007568240165710449,
          0.00893622636795044,
          0.010020196437835693,
          0.012754559516906738,
          0.01726633310317993,
          0.022462308406829834
         ],
         "yaxis": "y",
         "type": "scattergl"
        },
        {
         "hovertemplate": "variable=fearful-confident<br>Layer=%{x}<br>Cosine Distance=%{y}<extra></extra>",
         "legendgroup": "fearful-confident",
         "line": {
          "color": "#19d3f3",
          "dash": "solid"
         },
         "marker": {
          "symbol": "circle"
         },
         "mode": "lines",
         "name": "fearful-confident",
         "showlegend": true,
         "x": {
          "dtype": "i1",
          "bdata": "AAECAwQFBgcICQoLDA0ODxAREhMUFRYXGBka"
         },
         "xaxis": "x",
         "y": [
          0.169927716255188,
          0.048982858657836914,
          0.023748934268951416,
          0.020417392253875732,
          0.015438556671142578,
          0.01217496395111084,
          0.008458077907562256,
          0.007938921451568604,
          0.006207704544067383,
          0.005615949630737305,
          0.003933429718017578,
          0.002978205680847168,
          0.0023299455642700195,
          0.0020164847373962402,
          0.0021747350692749023,
          0.002520620822906494,
          0.0026731491088867188,
          0.0033142566680908203,
          0.003926277160644531,
          0.005141496658325195,
          0.00600510835647583,
          0.0068923234939575195,
          0.008132576942443848,
          0.009262144565582275,
          0.0114516019821167,
          0.015475928783416748,
          0.020420730113983154
         ],
         "yaxis": "y",
         "type": "scattergl"
        },
        {
         "hovertemplate": "variable=scared-depressed<br>Layer=%{x}<br>Cosine Distance=%{y}<extra></extra>",
         "legendgroup": "scared-depressed",
         "line": {
          "color": "#FF6692",
          "dash": "solid"
         },
         "marker": {
          "symbol": "circle"
         },
         "mode": "lines",
         "name": "scared-depressed",
         "showlegend": true,
         "x": {
          "dtype": "i1",
          "bdata": "AAECAwQFBgcICQoLDA0ODxAREhMUFRYXGBka"
         },
         "xaxis": "x",
         "y": [
          0.18787825107574463,
          0.052022337913513184,
          0.028371572494506836,
          0.024693727493286133,
          0.017254948616027832,
          0.012782156467437744,
          0.009165704250335693,
          0.008577585220336914,
          0.006506681442260742,
          0.006444096565246582,
          0.004478812217712402,
          0.0034365057945251465,
          0.002760946750640869,
          0.0023453831672668457,
          0.00251615047454834,
          0.0030673742294311523,
          0.0029697418212890625,
          0.003598809242248535,
          0.0046234130859375,
          0.005611419677734375,
          0.006741642951965332,
          0.008279383182525635,
          0.009890496730804443,
          0.011166274547576904,
          0.013765573501586914,
          0.019215881824493408,
          0.026531517505645752
         ],
         "yaxis": "y",
         "type": "scattergl"
        },
        {
         "hovertemplate": "variable=scared-lonely<br>Layer=%{x}<br>Cosine Distance=%{y}<extra></extra>",
         "legendgroup": "scared-lonely",
         "line": {
          "color": "#B6E880",
          "dash": "solid"
         },
         "marker": {
          "symbol": "circle"
         },
         "mode": "lines",
         "name": "scared-lonely",
         "showlegend": true,
         "x": {
          "dtype": "i1",
          "bdata": "AAECAwQFBgcICQoLDA0ODxAREhMUFRYXGBka"
         },
         "xaxis": "x",
         "y": [
          0.10460042953491211,
          0.02974987030029297,
          0.015172719955444336,
          0.01258397102355957,
          0.008255839347839355,
          0.005971431732177734,
          0.003964066505432129,
          0.0034238696098327637,
          0.0026354193687438965,
          0.0024092793464660645,
          0.0015935897827148438,
          0.001127004623413086,
          7.805824279785156E-4,
          6.47425651550293E-4,
          6.976723670959473E-4,
          9.634494781494141E-4,
          9.801387786865234E-4,
          0.0014282464981079102,
          0.0017585158348083496,
          0.002320408821105957,
          0.0029940009117126465,
          0.0033668875694274902,
          0.003991067409515381,
          0.004246890544891357,
          0.004660546779632568,
          0.00549846887588501,
          0.008028864860534668
         ],
         "yaxis": "y",
         "type": "scattergl"
        },
        {
         "hovertemplate": "variable=scared-bitter<br>Layer=%{x}<br>Cosine Distance=%{y}<extra></extra>",
         "legendgroup": "scared-bitter",
         "line": {
          "color": "#FF97FF",
          "dash": "solid"
         },
         "marker": {
          "symbol": "circle"
         },
         "mode": "lines",
         "name": "scared-bitter",
         "showlegend": true,
         "x": {
          "dtype": "i1",
          "bdata": "AAECAwQFBgcICQoLDA0ODxAREhMUFRYXGBka"
         },
         "xaxis": "x",
         "y": [
          0.1124529242515564,
          0.0318450927734375,
          0.015500545501708984,
          0.013470649719238281,
          0.008974432945251465,
          0.006459295749664307,
          0.004377126693725586,
          0.0038238167762756348,
          0.0028172731399536133,
          0.0024881362915039062,
          0.0016162395477294922,
          0.0011518001556396484,
          8.117556571960449E-4,
          6.806254386901855E-4,
          7.332563400268555E-4,
          0.0010141730308532715,
          0.0011121630668640137,
          0.00160902738571167,
          0.0019946694374084473,
          0.0027419328689575195,
          0.0034492015838623047,
          0.004106879234313965,
          0.0049214959144592285,
          0.005173802375793457,
          0.005713939666748047,
          0.006592929363250732,
          0.010851562023162842
         ],
         "yaxis": "y",
         "type": "scattergl"
        },
        {
         "hovertemplate": "variable=scared-jealous<br>Layer=%{x}<br>Cosine Distance=%{y}<extra></extra>",
         "legendgroup": "scared-jealous",
         "line": {
          "color": "#FECB52",
          "dash": "solid"
         },
         "marker": {
          "symbol": "circle"
         },
         "mode": "lines",
         "name": "scared-jealous",
         "showlegend": true,
         "x": {
          "dtype": "i1",
          "bdata": "AAECAwQFBgcICQoLDA0ODxAREhMUFRYXGBka"
         },
         "xaxis": "x",
         "y": [
          0.18119025230407715,
          0.04766768217086792,
          0.027603447437286377,
          0.024685382843017578,
          0.016744494438171387,
          0.012563943862915039,
          0.0090864896774292,
          0.007704734802246094,
          0.006712079048156738,
          0.0061321258544921875,
          0.004292905330657959,
          0.0035544633865356445,
          0.002860426902770996,
          0.0024470090866088867,
          0.002576112747192383,
          0.003100275993347168,
          0.0027070045471191406,
          0.00340878963470459,
          0.004033267498016357,
          0.0059430599212646484,
          0.006622016429901123,
          0.007857739925384521,
          0.009404540061950684,
          0.010353505611419678,
          0.012594640254974365,
          0.019645392894744873,
          0.03650617599487305
         ],
         "yaxis": "y",
         "type": "scattergl"
        },
        {
         "hovertemplate": "variable=scared-angry<br>Layer=%{x}<br>Cosine Distance=%{y}<extra></extra>",
         "legendgroup": "scared-angry",
         "line": {
          "color": "#636efa",
          "dash": "solid"
         },
         "marker": {
          "symbol": "circle"
         },
         "mode": "lines",
         "name": "scared-angry",
         "showlegend": true,
         "x": {
          "dtype": "i1",
          "bdata": "AAECAwQFBgcICQoLDA0ODxAREhMUFRYXGBka"
         },
         "xaxis": "x",
         "y": [
          0.08991032838821411,
          0.024864614009857178,
          0.011914074420928955,
          0.010239720344543457,
          0.00638425350189209,
          0.0047994256019592285,
          0.0031548738479614258,
          0.0027690529823303223,
          0.002223491668701172,
          0.001976490020751953,
          0.0013508796691894531,
          9.765028953552246E-4,
          6.624460220336914E-4,
          5.476474761962891E-4,
          5.915164947509766E-4,
          8.106231689453125E-4,
          8.524656295776367E-4,
          0.0011983513832092285,
          0.001538693904876709,
          0.002246260643005371,
          0.0027535557746887207,
          0.0031355619430541992,
          0.0038174986839294434,
          0.004117369651794434,
          0.0046236515045166016,
          0.005474209785461426,
          0.00779646635055542
         ],
         "yaxis": "y",
         "type": "scattergl"
        },
        {
         "hovertemplate": "variable=scared-guilty<br>Layer=%{x}<br>Cosine Distance=%{y}<extra></extra>",
         "legendgroup": "scared-guilty",
         "line": {
          "color": "#EF553B",
          "dash": "solid"
         },
         "marker": {
          "symbol": "circle"
         },
         "mode": "lines",
         "name": "scared-guilty",
         "showlegend": true,
         "x": {
          "dtype": "i1",
          "bdata": "AAECAwQFBgcICQoLDA0ODxAREhMUFRYXGBka"
         },
         "xaxis": "x",
         "y": [
          0.10917747020721436,
          0.031293272972106934,
          0.01525050401687622,
          0.013080179691314697,
          0.008522272109985352,
          0.006262660026550293,
          0.004063606262207031,
          0.003553152084350586,
          0.002523660659790039,
          0.002231001853942871,
          0.0014249086380004883,
          0.0010044574737548828,
          7.01606273651123E-4,
          5.830526351928711E-4,
          6.238222122192383E-4,
          8.679628372192383E-4,
          9.595751762390137E-4,
          0.001368880271911621,
          0.001851201057434082,
          0.0025821924209594727,
          0.00354081392288208,
          0.0039048194885253906,
          0.004507124423980713,
          0.0047869086265563965,
          0.005321204662322998,
          0.0066089630126953125,
          0.00972825288772583
         ],
         "yaxis": "y",
         "type": "scattergl"
        },
        {
         "hovertemplate": "variable=scared-passionate<br>Layer=%{x}<br>Cosine Distance=%{y}<extra></extra>",
         "legendgroup": "scared-passionate",
         "line": {
          "color": "#00cc96",
          "dash": "solid"
         },
         "marker": {
          "symbol": "circle"
         },
         "mode": "lines",
         "name": "scared-passionate",
         "showlegend": true,
         "x": {
          "dtype": "i1",
          "bdata": "AAECAwQFBgcICQoLDA0ODxAREhMUFRYXGBka"
         },
         "xaxis": "x",
         "y": [
          0.1783319115638733,
          0.04530191421508789,
          0.02462369203567505,
          0.024666428565979004,
          0.018184006214141846,
          0.013664722442626953,
          0.009862780570983887,
          0.009372472763061523,
          0.007388472557067871,
          0.006844520568847656,
          0.004745781421661377,
          0.00370711088180542,
          0.002884209156036377,
          0.0024704337120056152,
          0.0026805996894836426,
          0.0032924413681030273,
          0.0032538771629333496,
          0.003986358642578125,
          0.00480496883392334,
          0.006627917289733887,
          0.00772857666015625,
          0.009336650371551514,
          0.011350035667419434,
          0.01267242431640625,
          0.01515871286392212,
          0.021946847438812256,
          0.030829429626464844
         ],
         "yaxis": "y",
         "type": "scattergl"
        },
        {
         "hovertemplate": "variable=scared-brave<br>Layer=%{x}<br>Cosine Distance=%{y}<extra></extra>",
         "legendgroup": "scared-brave",
         "line": {
          "color": "#ab63fa",
          "dash": "solid"
         },
         "marker": {
          "symbol": "circle"
         },
         "mode": "lines",
         "name": "scared-brave",
         "showlegend": true,
         "x": {
          "dtype": "i1",
          "bdata": "AAECAwQFBgcICQoLDA0ODxAREhMUFRYXGBka"
         },
         "xaxis": "x",
         "y": [
          0.10077250003814697,
          0.028296470642089844,
          0.014000535011291504,
          0.012294948101043701,
          0.008418679237365723,
          0.006252169609069824,
          0.004242360591888428,
          0.004033088684082031,
          0.0031346678733825684,
          0.0028961896896362305,
          0.0019000768661499023,
          0.0013153553009033203,
          8.894801139831543E-4,
          7.241368293762207E-4,
          7.742643356323242E-4,
          0.0010608434677124023,
          0.0010834336280822754,
          0.001428842544555664,
          0.0019470453262329102,
          0.0024484992027282715,
          0.0029653310775756836,
          0.003497183322906494,
          0.004279196262359619,
          0.004551351070404053,
          0.005164206027984619,
          0.006550192832946777,
          0.011402010917663574
         ],
         "yaxis": "y",
         "type": "scattergl"
        },
        {
         "hovertemplate": "variable=scared-confident<br>Layer=%{x}<br>Cosine Distance=%{y}<extra></extra>",
         "legendgroup": "scared-confident",
         "line": {
          "color": "#FFA15A",
          "dash": "solid"
         },
         "marker": {
          "symbol": "circle"
         },
         "mode": "lines",
         "name": "scared-confident",
         "showlegend": true,
         "x": {
          "dtype": "i1",
          "bdata": "AAECAwQFBgcICQoLDA0ODxAREhMUFRYXGBka"
         },
         "xaxis": "x",
         "y": [
          0.10461854934692383,
          0.02866995334625244,
          0.014098405838012695,
          0.01237720251083374,
          0.008081555366516113,
          0.005717456340789795,
          0.003749072551727295,
          0.003445267677307129,
          0.0024846792221069336,
          0.002197742462158203,
          0.0014314651489257812,
          0.0010025501251220703,
          6.873607635498047E-4,
          5.657672882080078E-4,
          6.011724472045898E-4,
          8.015632629394531E-4,
          8.372068405151367E-4,
          0.0012097954750061035,
          0.0015603899955749512,
          0.0019675493240356445,
          0.002597630023956299,
          0.002794325351715088,
          0.003186464309692383,
          0.003324568271636963,
          0.0036066174507141113,
          0.004388213157653809,
          0.007529795169830322
         ],
         "yaxis": "y",
         "type": "scattergl"
        },
        {
         "hovertemplate": "variable=depressed-lonely<br>Layer=%{x}<br>Cosine Distance=%{y}<extra></extra>",
         "legendgroup": "depressed-lonely",
         "line": {
          "color": "#19d3f3",
          "dash": "solid"
         },
         "marker": {
          "symbol": "circle"
         },
         "mode": "lines",
         "name": "depressed-lonely",
         "showlegend": true,
         "x": {
          "dtype": "i1",
          "bdata": "AAECAwQFBgcICQoLDA0ODxAREhMUFRYXGBka"
         },
         "xaxis": "x",
         "y": [
          0.18281018733978271,
          0.054051995277404785,
          0.02965235710144043,
          0.02467888593673706,
          0.017743945121765137,
          0.01297086477279663,
          0.009229481220245361,
          0.008404850959777832,
          0.006459951400756836,
          0.006403326988220215,
          0.004565596580505371,
          0.003527820110321045,
          0.002807021141052246,
          0.002375781536102295,
          0.002536475658416748,
          0.0030715465545654297,
          0.002971053123474121,
          0.003554403781890869,
          0.004523575305938721,
          0.005495190620422363,
          0.006468474864959717,
          0.008085966110229492,
          0.009231626987457275,
          0.010353624820709229,
          0.013091683387756348,
          0.01857435703277588,
          0.02767777442932129
         ],
         "yaxis": "y",
         "type": "scattergl"
        },
        {
         "hovertemplate": "variable=depressed-bitter<br>Layer=%{x}<br>Cosine Distance=%{y}<extra></extra>",
         "legendgroup": "depressed-bitter",
         "line": {
          "color": "#FF6692",
          "dash": "solid"
         },
         "marker": {
          "symbol": "circle"
         },
         "mode": "lines",
         "name": "depressed-bitter",
         "showlegend": true,
         "x": {
          "dtype": "i1",
          "bdata": "AAECAwQFBgcICQoLDA0ODxAREhMUFRYXGBka"
         },
         "xaxis": "x",
         "y": [
          0.19697487354278564,
          0.05598640441894531,
          0.02948319911956787,
          0.0264737606048584,
          0.018829941749572754,
          0.013912022113800049,
          0.009944558143615723,
          0.009346723556518555,
          0.006933450698852539,
          0.00679469108581543,
          0.004806160926818848,
          0.003672301769256592,
          0.0029174089431762695,
          0.0024794340133666992,
          0.0026505589485168457,
          0.0032506585121154785,
          0.0032140016555786133,
          0.0039466023445129395,
          0.005014896392822266,
          0.0062313079833984375,
          0.007113456726074219,
          0.008728563785552979,
          0.009959220886230469,
          0.01110309362411499,
          0.014027774333953857,
          0.019645988941192627,
          0.030371427536010742
         ],
         "yaxis": "y",
         "type": "scattergl"
        },
        {
         "hovertemplate": "variable=depressed-jealous<br>Layer=%{x}<br>Cosine Distance=%{y}<extra></extra>",
         "legendgroup": "depressed-jealous",
         "line": {
          "color": "#B6E880",
          "dash": "solid"
         },
         "marker": {
          "symbol": "circle"
         },
         "mode": "lines",
         "name": "depressed-jealous",
         "showlegend": true,
         "x": {
          "dtype": "i1",
          "bdata": "AAECAwQFBgcICQoLDA0ODxAREhMUFRYXGBka"
         },
         "xaxis": "x",
         "y": [
          0.22496771812438965,
          0.06743335723876953,
          0.03753739595413208,
          0.034551143646240234,
          0.023300647735595703,
          0.017776131629943848,
          0.012157738208770752,
          0.010371565818786621,
          0.007996797561645508,
          0.007139086723327637,
          0.004794299602508545,
          0.0037363767623901367,
          0.0026977062225341797,
          0.002327561378479004,
          0.0023365020751953125,
          0.0028489232063293457,
          0.0024663209915161133,
          0.0031619668006896973,
          0.004500389099121094,
          0.006660878658294678,
          0.007646381855010986,
          0.009371519088745117,
          0.01104038953781128,
          0.012105584144592285,
          0.015147864818572998,
          0.023335754871368408,
          0.04537224769592285
         ],
         "yaxis": "y",
         "type": "scattergl"
        },
        {
         "hovertemplate": "variable=depressed-angry<br>Layer=%{x}<br>Cosine Distance=%{y}<extra></extra>",
         "legendgroup": "depressed-angry",
         "line": {
          "color": "#FF97FF",
          "dash": "solid"
         },
         "marker": {
          "symbol": "circle"
         },
         "mode": "lines",
         "name": "depressed-angry",
         "showlegend": true,
         "x": {
          "dtype": "i1",
          "bdata": "AAECAwQFBgcICQoLDA0ODxAREhMUFRYXGBka"
         },
         "xaxis": "x",
         "y": [
          0.17479705810546875,
          0.05044132471084595,
          0.026624441146850586,
          0.0234832763671875,
          0.017081856727600098,
          0.012585580348968506,
          0.009151577949523926,
          0.00865018367767334,
          0.006724357604980469,
          0.006573677062988281,
          0.004662692546844482,
          0.0036602020263671875,
          0.002870321273803711,
          0.0024150609970092773,
          0.0025756359100341797,
          0.003115236759185791,
          0.0030320286750793457,
          0.0035454630851745605,
          0.004635512828826904,
          0.005826056003570557,
          0.006704092025756836,
          0.008225977420806885,
          0.009460687637329102,
          0.010731160640716553,
          0.013523340225219727,
          0.01894468069076538,
          0.02843022346496582
         ],
         "yaxis": "y",
         "type": "scattergl"
        },
        {
         "hovertemplate": "variable=depressed-guilty<br>Layer=%{x}<br>Cosine Distance=%{y}<extra></extra>",
         "legendgroup": "depressed-guilty",
         "line": {
          "color": "#FECB52",
          "dash": "solid"
         },
         "marker": {
          "symbol": "circle"
         },
         "mode": "lines",
         "name": "depressed-guilty",
         "showlegend": true,
         "x": {
          "dtype": "i1",
          "bdata": "AAECAwQFBgcICQoLDA0ODxAREhMUFRYXGBka"
         },
         "xaxis": "x",
         "y": [
          0.20161670446395874,
          0.05512112379074097,
          0.029126524925231934,
          0.02536088228225708,
          0.018458545207977295,
          0.013805389404296875,
          0.009812355041503906,
          0.009228229522705078,
          0.007009387016296387,
          0.006829440593719482,
          0.004777431488037109,
          0.003675520420074463,
          0.0029200315475463867,
          0.002480745315551758,
          0.00265425443649292,
          0.0032702088356018066,
          0.003244936466217041,
          0.003923535346984863,
          0.0051988959312438965,
          0.006433844566345215,
          0.007785022258758545,
          0.009363651275634766,
          0.0111541748046875,
          0.013072490692138672,
          0.016284704208374023,
          0.023002684116363525,
          0.03212934732437134
         ],
         "yaxis": "y",
         "type": "scattergl"
        },
        {
         "hovertemplate": "variable=depressed-passionate<br>Layer=%{x}<br>Cosine Distance=%{y}<extra></extra>",
         "legendgroup": "depressed-passionate",
         "line": {
          "color": "#636efa",
          "dash": "solid"
         },
         "marker": {
          "symbol": "circle"
         },
         "mode": "lines",
         "name": "depressed-passionate",
         "showlegend": true,
         "x": {
          "dtype": "i1",
          "bdata": "AAECAwQFBgcICQoLDA0ODxAREhMUFRYXGBka"
         },
         "xaxis": "x",
         "y": [
          0.22459197044372559,
          0.06257510185241699,
          0.0327763557434082,
          0.03202521800994873,
          0.023082196712493896,
          0.018307089805603027,
          0.012899637222290039,
          0.012322187423706055,
          0.008904218673706055,
          0.00843137502670288,
          0.005692005157470703,
          0.004277646541595459,
          0.0030008554458618164,
          0.002537548542022705,
          0.00267636775970459,
          0.003397643566131592,
          0.0032120943069458008,
          0.0037903785705566406,
          0.005258619785308838,
          0.007146358489990234,
          0.008458197116851807,
          0.010290145874023438,
          0.011931240558624268,
          0.013234913349151611,
          0.01567673683166504,
          0.020940780639648438,
          0.03830075263977051
         ],
         "yaxis": "y",
         "type": "scattergl"
        },
        {
         "hovertemplate": "variable=depressed-brave<br>Layer=%{x}<br>Cosine Distance=%{y}<extra></extra>",
         "legendgroup": "depressed-brave",
         "line": {
          "color": "#EF553B",
          "dash": "solid"
         },
         "marker": {
          "symbol": "circle"
         },
         "mode": "lines",
         "name": "depressed-brave",
         "showlegend": true,
         "x": {
          "dtype": "i1",
          "bdata": "AAECAwQFBgcICQoLDA0ODxAREhMUFRYXGBka"
         },
         "xaxis": "x",
         "y": [
          0.18961578607559204,
          0.05516427755355835,
          0.029600560665130615,
          0.02759408950805664,
          0.019971370697021484,
          0.014700651168823242,
          0.010567724704742432,
          0.010515213012695312,
          0.008334577083587646,
          0.008142352104187012,
          0.005771994590759277,
          0.004264116287231445,
          0.0032857656478881836,
          0.002749919891357422,
          0.0029144287109375,
          0.0035562515258789062,
          0.003485739231109619,
          0.004110813140869141,
          0.005290210247039795,
          0.006277859210968018,
          0.007210671901702881,
          0.008799910545349121,
          0.010132789611816406,
          0.011329591274261475,
          0.014481663703918457,
          0.020277798175811768,
          0.03067910671234131
         ],
         "yaxis": "y",
         "type": "scattergl"
        },
        {
         "hovertemplate": "variable=depressed-confident<br>Layer=%{x}<br>Cosine Distance=%{y}<extra></extra>",
         "legendgroup": "depressed-confident",
         "line": {
          "color": "#00cc96",
          "dash": "solid"
         },
         "marker": {
          "symbol": "circle"
         },
         "mode": "lines",
         "name": "depressed-confident",
         "showlegend": true,
         "x": {
          "dtype": "i1",
          "bdata": "AAECAwQFBgcICQoLDA0ODxAREhMUFRYXGBka"
         },
         "xaxis": "x",
         "y": [
          0.18265974521636963,
          0.05146217346191406,
          0.02728193998336792,
          0.02417534589767456,
          0.0170212984085083,
          0.013065099716186523,
          0.009235739707946777,
          0.009082674980163574,
          0.006715059280395508,
          0.006707668304443359,
          0.004668593406677246,
          0.0035254955291748047,
          0.002805352210998535,
          0.00235903263092041,
          0.0025441646575927734,
          0.0030683279037475586,
          0.002914249897003174,
          0.003452479839324951,
          0.004532754421234131,
          0.0054357051849365234,
          0.006376504898071289,
          0.007696866989135742,
          0.008983850479125977,
          0.010146558284759521,
          0.01256638765335083,
          0.017907798290252686,
          0.025523006916046143
         ],
         "yaxis": "y",
         "type": "scattergl"
        },
        {
         "hovertemplate": "variable=lonely-bitter<br>Layer=%{x}<br>Cosine Distance=%{y}<extra></extra>",
         "legendgroup": "lonely-bitter",
         "line": {
          "color": "#ab63fa",
          "dash": "solid"
         },
         "marker": {
          "symbol": "circle"
         },
         "mode": "lines",
         "name": "lonely-bitter",
         "showlegend": true,
         "x": {
          "dtype": "i1",
          "bdata": "AAECAwQFBgcICQoLDA0ODxAREhMUFRYXGBka"
         },
         "xaxis": "x",
         "y": [
          0.11136168241500854,
          0.03297591209411621,
          0.016072094440460205,
          0.013251304626464844,
          0.00850069522857666,
          0.00603330135345459,
          0.004080235958099365,
          0.0035306215286254883,
          0.002565622329711914,
          0.002294778823852539,
          0.001488804817199707,
          0.0010480284690856934,
          7.259249687194824E-4,
          5.975961685180664E-4,
          6.251335144042969E-4,
          8.251070976257324E-4,
          8.378028869628906E-4,
          0.0013022422790527344,
          0.0015366673469543457,
          0.0022277235984802246,
          0.0027504563331604004,
          0.0034353137016296387,
          0.003796815872192383,
          0.004211843013763428,
          0.0047190189361572266,
          0.005580425262451172,
          0.00942373275756836
         ],
         "yaxis": "y",
         "type": "scattergl"
        },
        {
         "hovertemplate": "variable=lonely-jealous<br>Layer=%{x}<br>Cosine Distance=%{y}<extra></extra>",
         "legendgroup": "lonely-jealous",
         "line": {
          "color": "#FFA15A",
          "dash": "solid"
         },
         "marker": {
          "symbol": "circle"
         },
         "mode": "lines",
         "name": "lonely-jealous",
         "showlegend": true,
         "x": {
          "dtype": "i1",
          "bdata": "AAECAwQFBgcICQoLDA0ODxAREhMUFRYXGBka"
         },
         "xaxis": "x",
         "y": [
          0.1852055788040161,
          0.04983872175216675,
          0.02939891815185547,
          0.026183009147644043,
          0.017904162406921387,
          0.0131300687789917,
          0.009337425231933594,
          0.0078810453414917,
          0.00688779354095459,
          0.006364941596984863,
          0.004501938819885254,
          0.003724992275238037,
          0.0029834508895874023,
          0.0025339722633361816,
          0.0026396512985229492,
          0.0031976699829101562,
          0.002846240997314453,
          0.0034029483795166016,
          0.0038840174674987793,
          0.005721032619476318,
          0.006519734859466553,
          0.007818222045898438,
          0.009239912033081055,
          0.010264337062835693,
          0.012768030166625977,
          0.020097315311431885,
          0.03759753704071045
         ],
         "yaxis": "y",
         "type": "scattergl"
        },
        {
         "hovertemplate": "variable=lonely-angry<br>Layer=%{x}<br>Cosine Distance=%{y}<extra></extra>",
         "legendgroup": "lonely-angry",
         "line": {
          "color": "#19d3f3",
          "dash": "solid"
         },
         "marker": {
          "symbol": "circle"
         },
         "mode": "lines",
         "name": "lonely-angry",
         "showlegend": true,
         "x": {
          "dtype": "i1",
          "bdata": "AAECAwQFBgcICQoLDA0ODxAREhMUFRYXGBka"
         },
         "xaxis": "x",
         "y": [
          0.09552031755447388,
          0.026886045932769775,
          0.013083100318908691,
          0.010571837425231934,
          0.006485342979431152,
          0.004860103130340576,
          0.0032001137733459473,
          0.0027331113815307617,
          0.0021178126335144043,
          0.0019094347953796387,
          0.0012159347534179688,
          8.65638256072998E-4,
          5.896091461181641E-4,
          4.84466552734375E-4,
          5.019903182983398E-4,
          6.808042526245117E-4,
          6.948113441467285E-4,
          9.857416152954102E-4,
          0.0012111663818359375,
          0.0018358826637268066,
          0.0022072792053222656,
          0.0026844143867492676,
          0.0029944777488708496,
          0.003255784511566162,
          0.0036118030548095703,
          0.004231274127960205,
          0.005829453468322754
         ],
         "yaxis": "y",
         "type": "scattergl"
        },
        {
         "hovertemplate": "variable=lonely-guilty<br>Layer=%{x}<br>Cosine Distance=%{y}<extra></extra>",
         "legendgroup": "lonely-guilty",
         "line": {
          "color": "#FF6692",
          "dash": "solid"
         },
         "marker": {
          "symbol": "circle"
         },
         "mode": "lines",
         "name": "lonely-guilty",
         "showlegend": true,
         "x": {
          "dtype": "i1",
          "bdata": "AAECAwQFBgcICQoLDA0ODxAREhMUFRYXGBka"
         },
         "xaxis": "x",
         "y": [
          0.11549633741378784,
          0.03374963998794556,
          0.01640564203262329,
          0.013201117515563965,
          0.008579432964324951,
          0.00643235445022583,
          0.0041474103927612305,
          0.003595590591430664,
          0.002554655075073242,
          0.0022901296615600586,
          0.0014911293983459473,
          0.0010409355163574219,
          7.14421272277832E-4,
          5.888938903808594E-4,
          6.213188171386719E-4,
          9.070634841918945E-4,
          9.189844131469727E-4,
          0.0012494921684265137,
          0.001680910587310791,
          0.0024063587188720703,
          0.003276526927947998,
          0.003722071647644043,
          0.004358112812042236,
          0.004789471626281738,
          0.005472302436828613,
          0.00680696964263916,
          0.009333372116088867
         ],
         "yaxis": "y",
         "type": "scattergl"
        },
        {
         "hovertemplate": "variable=lonely-passionate<br>Layer=%{x}<br>Cosine Distance=%{y}<extra></extra>",
         "legendgroup": "lonely-passionate",
         "line": {
          "color": "#B6E880",
          "dash": "solid"
         },
         "marker": {
          "symbol": "circle"
         },
         "mode": "lines",
         "name": "lonely-passionate",
         "showlegend": true,
         "x": {
          "dtype": "i1",
          "bdata": "AAECAwQFBgcICQoLDA0ODxAREhMUFRYXGBka"
         },
         "xaxis": "x",
         "y": [
          0.17742455005645752,
          0.04606395959854126,
          0.02552276849746704,
          0.024940013885498047,
          0.018335998058319092,
          0.01378941535949707,
          0.00984889268875122,
          0.009300708770751953,
          0.0074340105056762695,
          0.006870269775390625,
          0.004725217819213867,
          0.0036962032318115234,
          0.0028759241104125977,
          0.002470552921295166,
          0.002641022205352783,
          0.0031903982162475586,
          0.003177344799041748,
          0.0038183927536010742,
          0.004418790340423584,
          0.006042540073394775,
          0.007104396820068359,
          0.008629858493804932,
          0.010134398937225342,
          0.01144629716873169,
          0.014108121395111084,
          0.02053016424179077,
          0.028619706630706787
         ],
         "yaxis": "y",
         "type": "scattergl"
        },
        {
         "hovertemplate": "variable=lonely-brave<br>Layer=%{x}<br>Cosine Distance=%{y}<extra></extra>",
         "legendgroup": "lonely-brave",
         "line": {
          "color": "#FF97FF",
          "dash": "solid"
         },
         "marker": {
          "symbol": "circle"
         },
         "mode": "lines",
         "name": "lonely-brave",
         "showlegend": true,
         "x": {
          "dtype": "i1",
          "bdata": "AAECAwQFBgcICQoLDA0ODxAREhMUFRYXGBka"
         },
         "xaxis": "x",
         "y": [
          0.10602402687072754,
          0.03086751699447632,
          0.015199065208435059,
          0.013217031955718994,
          0.008956849575042725,
          0.006843745708465576,
          0.0046509504318237305,
          0.004293978214263916,
          0.0033405423164367676,
          0.0030137300491333008,
          0.0019407868385314941,
          0.0013253092765808105,
          8.965730667114258E-4,
          7.255077362060547E-4,
          7.538795471191406E-4,
          0.0010053515434265137,
          9.662508964538574E-4,
          0.0013363957405090332,
          0.0017951130867004395,
          0.002301156520843506,
          0.002625584602355957,
          0.003136873245239258,
          0.003528892993927002,
          0.00382155179977417,
          0.004447579383850098,
          0.005401432514190674,
          0.009182214736938477
         ],
         "yaxis": "y",
         "type": "scattergl"
        },
        {
         "hovertemplate": "variable=lonely-confident<br>Layer=%{x}<br>Cosine Distance=%{y}<extra></extra>",
         "legendgroup": "lonely-confident",
         "line": {
          "color": "#FECB52",
          "dash": "solid"
         },
         "marker": {
          "symbol": "circle"
         },
         "mode": "lines",
         "name": "lonely-confident",
         "showlegend": true,
         "x": {
          "dtype": "i1",
          "bdata": "AAECAwQFBgcICQoLDA0ODxAREhMUFRYXGBka"
         },
         "xaxis": "x",
         "y": [
          0.11232900619506836,
          0.03086090087890625,
          0.015487194061279297,
          0.013534963130950928,
          0.008995771408081055,
          0.0064046382904052734,
          0.004141688346862793,
          0.003724336624145508,
          0.00285261869430542,
          0.0025578737258911133,
          0.001721024513244629,
          0.001193404197692871,
          8.178353309631348E-4,
          6.761550903320312E-4,
          7.213354110717773E-4,
          9.64820384979248E-4,
          9.570121765136719E-4,
          0.0013021230697631836,
          0.0016379356384277344,
          0.0021476149559020996,
          0.002722501754760742,
          0.0030646324157714844,
          0.003385782241821289,
          0.003658115863800049,
          0.004162728786468506,
          0.0052658915519714355,
          0.009332776069641113
         ],
         "yaxis": "y",
         "type": "scattergl"
        },
        {
         "hovertemplate": "variable=bitter-jealous<br>Layer=%{x}<br>Cosine Distance=%{y}<extra></extra>",
         "legendgroup": "bitter-jealous",
         "line": {
          "color": "#636efa",
          "dash": "solid"
         },
         "marker": {
          "symbol": "circle"
         },
         "mode": "lines",
         "name": "bitter-jealous",
         "showlegend": true,
         "x": {
          "dtype": "i1",
          "bdata": "AAECAwQFBgcICQoLDA0ODxAREhMUFRYXGBka"
         },
         "xaxis": "x",
         "y": [
          0.18807590007781982,
          0.05062228441238403,
          0.02875906229019165,
          0.0269240140914917,
          0.018552839756011963,
          0.013652026653289795,
          0.009920179843902588,
          0.008485853672027588,
          0.007212996482849121,
          0.006600737571716309,
          0.004729211330413818,
          0.0038675665855407715,
          0.003096163272857666,
          0.002642035484313965,
          0.0027500391006469727,
          0.0033769607543945312,
          0.0031211376190185547,
          0.0038626790046691895,
          0.004349172115325928,
          0.006467878818511963,
          0.00716090202331543,
          0.008710920810699463,
          0.010018765926361084,
          0.011088430881500244,
          0.01351940631866455,
          0.020578086376190186,
          0.037101030349731445
         ],
         "yaxis": "y",
         "type": "scattergl"
        },
        {
         "hovertemplate": "variable=bitter-angry<br>Layer=%{x}<br>Cosine Distance=%{y}<extra></extra>",
         "legendgroup": "bitter-angry",
         "line": {
          "color": "#EF553B",
          "dash": "solid"
         },
         "marker": {
          "symbol": "circle"
         },
         "mode": "lines",
         "name": "bitter-angry",
         "showlegend": true,
         "x": {
          "dtype": "i1",
          "bdata": "AAECAwQFBgcICQoLDA0ODxAREhMUFRYXGBka"
         },
         "xaxis": "x",
         "y": [
          0.09485757350921631,
          0.026727139949798584,
          0.012408733367919922,
          0.011385142803192139,
          0.0070708394050598145,
          0.0048563480377197266,
          0.0033386945724487305,
          0.0029138922691345215,
          0.002213716506958008,
          0.0019803643226623535,
          0.0013105273246765137,
          9.177327156066895E-4,
          6.284713745117188E-4,
          5.162954330444336E-4,
          5.374550819396973E-4,
          7.334351539611816E-4,
          7.755160331726074E-4,
          0.00116044282913208,
          0.0014615058898925781,
          0.002183198928833008,
          0.0026447176933288574,
          0.00340348482131958,
          0.0037807822227478027,
          0.004117906093597412,
          0.004795968532562256,
          0.005823791027069092,
          0.00940316915512085
         ],
         "yaxis": "y",
         "type": "scattergl"
        },
        {
         "hovertemplate": "variable=bitter-guilty<br>Layer=%{x}<br>Cosine Distance=%{y}<extra></extra>",
         "legendgroup": "bitter-guilty",
         "line": {
          "color": "#00cc96",
          "dash": "solid"
         },
         "marker": {
          "symbol": "circle"
         },
         "mode": "lines",
         "name": "bitter-guilty",
         "showlegend": true,
         "x": {
          "dtype": "i1",
          "bdata": "AAECAwQFBgcICQoLDA0ODxAREhMUFRYXGBka"
         },
         "xaxis": "x",
         "y": [
          0.1172565221786499,
          0.034200072288513184,
          0.01624929904937744,
          0.014001429080963135,
          0.00914841890335083,
          0.006418287754058838,
          0.004231572151184082,
          0.003740549087524414,
          0.0026023387908935547,
          0.002254009246826172,
          0.0014470815658569336,
          0.001019120216369629,
          7.135272026062012E-4,
          5.92648983001709E-4,
          6.248354911804199E-4,
          8.729696273803711E-4,
          9.659528732299805E-4,
          0.0014047622680664062,
          0.0018867254257202148,
          0.002803802490234375,
          0.0037679076194763184,
          0.004708290100097656,
          0.005414783954620361,
          0.005888760089874268,
          0.006788492202758789,
          0.008306026458740234,
          0.013272762298583984
         ],
         "yaxis": "y",
         "type": "scattergl"
        },
        {
         "hovertemplate": "variable=bitter-passionate<br>Layer=%{x}<br>Cosine Distance=%{y}<extra></extra>",
         "legendgroup": "bitter-passionate",
         "line": {
          "color": "#ab63fa",
          "dash": "solid"
         },
         "marker": {
          "symbol": "circle"
         },
         "mode": "lines",
         "name": "bitter-passionate",
         "showlegend": true,
         "x": {
          "dtype": "i1",
          "bdata": "AAECAwQFBgcICQoLDA0ODxAREhMUFRYXGBka"
         },
         "xaxis": "x",
         "y": [
          0.17784547805786133,
          0.04562056064605713,
          0.02386927604675293,
          0.02451258897781372,
          0.017593026161193848,
          0.013045966625213623,
          0.00941091775894165,
          0.00898134708404541,
          0.007108092308044434,
          0.006466031074523926,
          0.0045130252838134766,
          0.0034800171852111816,
          0.0027273893356323242,
          0.00235903263092041,
          0.002541482448577881,
          0.0031043291091918945,
          0.003111720085144043,
          0.0038695335388183594,
          0.004335165023803711,
          0.006371796131134033,
          0.0074637532234191895,
          0.009025871753692627,
          0.010491132736206055,
          0.011704683303833008,
          0.014377117156982422,
          0.020523786544799805,
          0.03127521276473999
         ],
         "yaxis": "y",
         "type": "scattergl"
        },
        {
         "hovertemplate": "variable=bitter-brave<br>Layer=%{x}<br>Cosine Distance=%{y}<extra></extra>",
         "legendgroup": "bitter-brave",
         "line": {
          "color": "#FFA15A",
          "dash": "solid"
         },
         "marker": {
          "symbol": "circle"
         },
         "mode": "lines",
         "name": "bitter-brave",
         "showlegend": true,
         "x": {
          "dtype": "i1",
          "bdata": "AAECAwQFBgcICQoLDA0ODxAREhMUFRYXGBka"
         },
         "xaxis": "x",
         "y": [
          0.11144602298736572,
          0.032066524028778076,
          0.015178203582763672,
          0.013827681541442871,
          0.009404897689819336,
          0.006709456443786621,
          0.0045989155769348145,
          0.0044179558753967285,
          0.0033519864082336426,
          0.0029877424240112305,
          0.0019355416297912598,
          0.0013229846954345703,
          8.884668350219727E-4,
          7.200241088867188E-4,
          7.447004318237305E-4,
          9.762048721313477E-4,
          0.0010142326354980469,
          0.0014023184776306152,
          0.0019106864929199219,
          0.002689659595489502,
          0.0031424760818481445,
          0.003905773162841797,
          0.00443655252456665,
          0.0049675703048706055,
          0.005894780158996582,
          0.0073316097259521484,
          0.013477444648742676
         ],
         "yaxis": "y",
         "type": "scattergl"
        },
        {
         "hovertemplate": "variable=bitter-confident<br>Layer=%{x}<br>Cosine Distance=%{y}<extra></extra>",
         "legendgroup": "bitter-confident",
         "line": {
          "color": "#19d3f3",
          "dash": "solid"
         },
         "marker": {
          "symbol": "circle"
         },
         "mode": "lines",
         "name": "bitter-confident",
         "showlegend": true,
         "x": {
          "dtype": "i1",
          "bdata": "AAECAwQFBgcICQoLDA0ODxAREhMUFRYXGBka"
         },
         "xaxis": "x",
         "y": [
          0.11661875247955322,
          0.03238320350646973,
          0.015491306781768799,
          0.014088988304138184,
          0.009349942207336426,
          0.006582856178283691,
          0.004414975643157959,
          0.004043221473693848,
          0.0029317736625671387,
          0.0025724172592163086,
          0.0017213821411132812,
          0.0012139081954956055,
          8.592605590820312E-4,
          7.172822952270508E-4,
          7.60197639465332E-4,
          9.899139404296875E-4,
          0.0010554194450378418,
          0.001529395580291748,
          0.0018529891967773438,
          0.002651214599609375,
          0.003239452838897705,
          0.003871917724609375,
          0.004311740398406982,
          0.004552245140075684,
          0.005177140235900879,
          0.00595700740814209,
          0.010765612125396729
         ],
         "yaxis": "y",
         "type": "scattergl"
        },
        {
         "hovertemplate": "variable=jealous-angry<br>Layer=%{x}<br>Cosine Distance=%{y}<extra></extra>",
         "legendgroup": "jealous-angry",
         "line": {
          "color": "#FF6692",
          "dash": "solid"
         },
         "marker": {
          "symbol": "circle"
         },
         "mode": "lines",
         "name": "jealous-angry",
         "showlegend": true,
         "x": {
          "dtype": "i1",
          "bdata": "AAECAwQFBgcICQoLDA0ODxAREhMUFRYXGBka"
         },
         "xaxis": "x",
         "y": [
          0.168532133102417,
          0.046559810638427734,
          0.0261879563331604,
          0.02376425266265869,
          0.01616084575653076,
          0.011951863765716553,
          0.008693039417266846,
          0.007382810115814209,
          0.006666302680969238,
          0.006024837493896484,
          0.004313051700592041,
          0.003647446632385254,
          0.0029053092002868652,
          0.0024471282958984375,
          0.0025466084480285645,
          0.003085494041442871,
          0.0027489662170410156,
          0.0032695531845092773,
          0.0038163065910339355,
          0.0056955814361572266,
          0.006308257579803467,
          0.007603764533996582,
          0.009005069732666016,
          0.01007455587387085,
          0.01248633861541748,
          0.019900143146514893,
          0.036728084087371826
         ],
         "yaxis": "y",
         "type": "scattergl"
        },
        {
         "hovertemplate": "variable=jealous-guilty<br>Layer=%{x}<br>Cosine Distance=%{y}<extra></extra>",
         "legendgroup": "jealous-guilty",
         "line": {
          "color": "#B6E880",
          "dash": "solid"
         },
         "marker": {
          "symbol": "circle"
         },
         "mode": "lines",
         "name": "jealous-guilty",
         "showlegend": true,
         "x": {
          "dtype": "i1",
          "bdata": "AAECAwQFBgcICQoLDA0ODxAREhMUFRYXGBka"
         },
         "xaxis": "x",
         "y": [
          0.1925681233406067,
          0.05069160461425781,
          0.028973698616027832,
          0.02652716636657715,
          0.01801478862762451,
          0.013550996780395508,
          0.009592533111572266,
          0.008176803588867188,
          0.007076263427734375,
          0.006399750709533691,
          0.004503786563873291,
          0.003719806671142578,
          0.0029817819595336914,
          0.002553403377532959,
          0.0026913881301879883,
          0.0032508373260498047,
          0.0029641389846801758,
          0.0036202073097229004,
          0.0043621063232421875,
          0.006397366523742676,
          0.007544994354248047,
          0.008970022201538086,
          0.01052546501159668,
          0.011895477771759033,
          0.0147247314453125,
          0.021937191486358643,
          0.038643598556518555
         ],
         "yaxis": "y",
         "type": "scattergl"
        },
        {
         "hovertemplate": "variable=jealous-passionate<br>Layer=%{x}<br>Cosine Distance=%{y}<extra></extra>",
         "legendgroup": "jealous-passionate",
         "line": {
          "color": "#FF97FF",
          "dash": "solid"
         },
         "marker": {
          "symbol": "circle"
         },
         "mode": "lines",
         "name": "jealous-passionate",
         "showlegend": true,
         "x": {
          "dtype": "i1",
          "bdata": "AAECAwQFBgcICQoLDA0ODxAREhMUFRYXGBka"
         },
         "xaxis": "x",
         "y": [
          0.20413732528686523,
          0.05664706230163574,
          0.03183138370513916,
          0.033908307552337646,
          0.023181259632110596,
          0.017833948135375977,
          0.012407481670379639,
          0.01132190227508545,
          0.009015083312988281,
          0.008096694946289062,
          0.0054056644439697266,
          0.004295229911804199,
          0.0030487775802612305,
          0.00254213809967041,
          0.0026723146438598633,
          0.0033410191535949707,
          0.002917349338531494,
          0.003680408000946045,
          0.004504680633544922,
          0.007295787334442139,
          0.008414149284362793,
          0.010573923587799072,
          0.012630105018615723,
          0.01388639211654663,
          0.01611006259918213,
          0.02227771282196045,
          0.03977763652801514
         ],
         "yaxis": "y",
         "type": "scattergl"
        },
        {
         "hovertemplate": "variable=jealous-brave<br>Layer=%{x}<br>Cosine Distance=%{y}<extra></extra>",
         "legendgroup": "jealous-brave",
         "line": {
          "color": "#FECB52",
          "dash": "solid"
         },
         "marker": {
          "symbol": "circle"
         },
         "mode": "lines",
         "name": "jealous-brave",
         "showlegend": true,
         "x": {
          "dtype": "i1",
          "bdata": "AAECAwQFBgcICQoLDA0ODxAREhMUFRYXGBka"
         },
         "xaxis": "x",
         "y": [
          0.1813868284225464,
          0.05033373832702637,
          0.0292665958404541,
          0.027706503868103027,
          0.019463539123535156,
          0.014680266380310059,
          0.0103684663772583,
          0.00944453477859497,
          0.008647918701171875,
          0.0078029632568359375,
          0.005576610565185547,
          0.004371523857116699,
          0.003407001495361328,
          0.0028439760208129883,
          0.002955317497253418,
          0.0035949349403381348,
          0.003279387950897217,
          0.0038738250732421875,
          0.004681706428527832,
          0.006407618522644043,
          0.007074236869812012,
          0.00842893123626709,
          0.00990140438079834,
          0.011022388935089111,
          0.013555824756622314,
          0.019943952560424805,
          0.033739686012268066
         ],
         "yaxis": "y",
         "type": "scattergl"
        },
        {
         "hovertemplate": "variable=jealous-confident<br>Layer=%{x}<br>Cosine Distance=%{y}<extra></extra>",
         "legendgroup": "jealous-confident",
         "line": {
          "color": "#636efa",
          "dash": "solid"
         },
         "marker": {
          "symbol": "circle"
         },
         "mode": "lines",
         "name": "jealous-confident",
         "showlegend": true,
         "x": {
          "dtype": "i1",
          "bdata": "AAECAwQFBgcICQoLDA0ODxAREhMUFRYXGBka"
         },
         "xaxis": "x",
         "y": [
          0.17691171169281006,
          0.048464417457580566,
          0.027927398681640625,
          0.026125311851501465,
          0.017213046550750732,
          0.01328587532043457,
          0.009533584117889404,
          0.008486270904541016,
          0.007171273231506348,
          0.006613969802856445,
          0.004694163799285889,
          0.0037810802459716797,
          0.002991974353790283,
          0.002531886100769043,
          0.0026697516441345215,
          0.0031766891479492188,
          0.0027526021003723145,
          0.0033648014068603516,
          0.003990113735198975,
          0.005687415599822998,
          0.00651097297668457,
          0.007713794708251953,
          0.009079992771148682,
          0.00998222827911377,
          0.012180805206298828,
          0.018597424030303955,
          0.032064855098724365
         ],
         "yaxis": "y",
         "type": "scattergl"
        },
        {
         "hovertemplate": "variable=angry-guilty<br>Layer=%{x}<br>Cosine Distance=%{y}<extra></extra>",
         "legendgroup": "angry-guilty",
         "line": {
          "color": "#EF553B",
          "dash": "solid"
         },
         "marker": {
          "symbol": "circle"
         },
         "mode": "lines",
         "name": "angry-guilty",
         "showlegend": true,
         "x": {
          "dtype": "i1",
          "bdata": "AAECAwQFBgcICQoLDA0ODxAREhMUFRYXGBka"
         },
         "xaxis": "x",
         "y": [
          0.10434848070144653,
          0.028929591178894043,
          0.013333678245544434,
          0.011883735656738281,
          0.007624626159667969,
          0.005679309368133545,
          0.0037249326705932617,
          0.0032738447189331055,
          0.0024039149284362793,
          0.0021355748176574707,
          0.0014233589172363281,
          9.92119312286377E-4,
          6.783604621887207E-4,
          5.594491958618164E-4,
          5.886554718017578E-4,
          8.251667022705078E-4,
          8.710622787475586E-4,
          0.00118941068649292,
          0.0016300678253173828,
          0.002483069896697998,
          0.003434419631958008,
          0.0040190815925598145,
          0.004707753658294678,
          0.005220472812652588,
          0.0059670209884643555,
          0.007708847522735596,
          0.010551691055297852
         ],
         "yaxis": "y",
         "type": "scattergl"
        },
        {
         "hovertemplate": "variable=angry-passionate<br>Layer=%{x}<br>Cosine Distance=%{y}<extra></extra>",
         "legendgroup": "angry-passionate",
         "line": {
          "color": "#00cc96",
          "dash": "solid"
         },
         "marker": {
          "symbol": "circle"
         },
         "mode": "lines",
         "name": "angry-passionate",
         "showlegend": true,
         "x": {
          "dtype": "i1",
          "bdata": "AAECAwQFBgcICQoLDA0ODxAREhMUFRYXGBka"
         },
         "xaxis": "x",
         "y": [
          0.15604650974273682,
          0.041705965995788574,
          0.02207326889038086,
          0.02254784107208252,
          0.016579508781433105,
          0.012483835220336914,
          0.009037137031555176,
          0.008534014225006104,
          0.0068482160568237305,
          0.006269395351409912,
          0.004374384880065918,
          0.003469109535217285,
          0.0027048587799072266,
          0.0023178458213806152,
          0.00248873233795166,
          0.0030698776245117188,
          0.0030516982078552246,
          0.0035821199417114258,
          0.004263162612915039,
          0.005928635597229004,
          0.006963670253753662,
          0.00861656665802002,
          0.010206818580627441,
          0.011534333229064941,
          0.014457404613494873,
          0.021063506603240967,
          0.030271291732788086
         ],
         "yaxis": "y",
         "type": "scattergl"
        },
        {
         "hovertemplate": "variable=angry-brave<br>Layer=%{x}<br>Cosine Distance=%{y}<extra></extra>",
         "legendgroup": "angry-brave",
         "line": {
          "color": "#ab63fa",
          "dash": "solid"
         },
         "marker": {
          "symbol": "circle"
         },
         "mode": "lines",
         "name": "angry-brave",
         "showlegend": true,
         "x": {
          "dtype": "i1",
          "bdata": "AAECAwQFBgcICQoLDA0ODxAREhMUFRYXGBka"
         },
         "xaxis": "x",
         "y": [
          0.09561532735824585,
          0.02770233154296875,
          0.012941479682922363,
          0.01166987419128418,
          0.007638096809387207,
          0.005825042724609375,
          0.003994107246398926,
          0.0038388967514038086,
          0.0030214786529541016,
          0.002689957618713379,
          0.0017647743225097656,
          0.0011760592460632324,
          7.860660552978516E-4,
          6.357431411743164E-4,
          6.64055347442627E-4,
          8.996129035949707E-4,
          9.070634841918945E-4,
          0.001214146614074707,
          0.0017864704132080078,
          0.0024349093437194824,
          0.002767205238342285,
          0.0033391714096069336,
          0.003892660140991211,
          0.00430607795715332,
          0.0049506425857543945,
          0.006294846534729004,
          0.010405123233795166
         ],
         "yaxis": "y",
         "type": "scattergl"
        },
        {
         "hovertemplate": "variable=angry-confident<br>Layer=%{x}<br>Cosine Distance=%{y}<extra></extra>",
         "legendgroup": "angry-confident",
         "line": {
          "color": "#FFA15A",
          "dash": "solid"
         },
         "marker": {
          "symbol": "circle"
         },
         "mode": "lines",
         "name": "angry-confident",
         "showlegend": true,
         "x": {
          "dtype": "i1",
          "bdata": "AAECAwQFBgcICQoLDA0ODxAREhMUFRYXGBka"
         },
         "xaxis": "x",
         "y": [
          0.0970686674118042,
          0.02779412269592285,
          0.013040006160736084,
          0.01184779405593872,
          0.007676839828491211,
          0.005606293678283691,
          0.0037382841110229492,
          0.0034350156784057617,
          0.0026586055755615234,
          0.002363860607147217,
          0.0016483068466186523,
          0.001172780990600586,
          7.873177528381348E-4,
          6.549954414367676E-4,
          6.987452507019043E-4,
          9.218454360961914E-4,
          9.504556655883789E-4,
          0.0012357831001281738,
          0.0016408562660217285,
          0.0022935867309570312,
          0.002862274646759033,
          0.003330826759338379,
          0.0036273598670959473,
          0.003963053226470947,
          0.004442036151885986,
          0.005833148956298828,
          0.010264396667480469
         ],
         "yaxis": "y",
         "type": "scattergl"
        },
        {
         "hovertemplate": "variable=guilty-passionate<br>Layer=%{x}<br>Cosine Distance=%{y}<extra></extra>",
         "legendgroup": "guilty-passionate",
         "line": {
          "color": "#19d3f3",
          "dash": "solid"
         },
         "marker": {
          "symbol": "circle"
         },
         "mode": "lines",
         "name": "guilty-passionate",
         "showlegend": true,
         "x": {
          "dtype": "i1",
          "bdata": "AAECAwQFBgcICQoLDA0ODxAREhMUFRYXGBka"
         },
         "xaxis": "x",
         "y": [
          0.1880638599395752,
          0.047954559326171875,
          0.02548772096633911,
          0.025994062423706055,
          0.019010543823242188,
          0.014620542526245117,
          0.01039278507232666,
          0.00986415147781372,
          0.0077283382415771484,
          0.007033348083496094,
          0.004867434501647949,
          0.0037890076637268066,
          0.002940654754638672,
          0.002525627613067627,
          0.0027240514755249023,
          0.003329634666442871,
          0.0033325552940368652,
          0.0041141510009765625,
          0.0049027204513549805,
          0.006815552711486816,
          0.008265376091003418,
          0.009861946105957031,
          0.01195448637008667,
          0.01337820291519165,
          0.016471505165100098,
          0.02319401502609253,
          0.029909193515777588
         ],
         "yaxis": "y",
         "type": "scattergl"
        },
        {
         "hovertemplate": "variable=guilty-brave<br>Layer=%{x}<br>Cosine Distance=%{y}<extra></extra>",
         "legendgroup": "guilty-brave",
         "line": {
          "color": "#FF6692",
          "dash": "solid"
         },
         "marker": {
          "symbol": "circle"
         },
         "mode": "lines",
         "name": "guilty-brave",
         "showlegend": true,
         "x": {
          "dtype": "i1",
          "bdata": "AAECAwQFBgcICQoLDA0ODxAREhMUFRYXGBka"
         },
         "xaxis": "x",
         "y": [
          0.11639732122421265,
          0.033632516860961914,
          0.016199350357055664,
          0.014857172966003418,
          0.010233283042907715,
          0.007605493068695068,
          0.0051163434982299805,
          0.00484776496887207,
          0.0035681724548339844,
          0.0031633377075195312,
          0.002089858055114746,
          0.0014357566833496094,
          9.769201278686523E-4,
          7.938146591186523E-4,
          8.285045623779297E-4,
          0.0011556148529052734,
          0.0011885762214660645,
          0.001520395278930664,
          0.0022906064987182617,
          0.002978026866912842,
          0.0038266777992248535,
          0.004356026649475098,
          0.005261063575744629,
          0.005797445774078369,
          0.006643950939178467,
          0.008196055889129639,
          0.012902319431304932
         ],
         "yaxis": "y",
         "type": "scattergl"
        },
        {
         "hovertemplate": "variable=guilty-confident<br>Layer=%{x}<br>Cosine Distance=%{y}<extra></extra>",
         "legendgroup": "guilty-confident",
         "line": {
          "color": "#B6E880",
          "dash": "solid"
         },
         "marker": {
          "symbol": "circle"
         },
         "mode": "lines",
         "name": "guilty-confident",
         "showlegend": true,
         "x": {
          "dtype": "i1",
          "bdata": "AAECAwQFBgcICQoLDA0ODxAREhMUFRYXGBka"
         },
         "xaxis": "x",
         "y": [
          0.12029451131820679,
          0.03255307674407959,
          0.01545184850692749,
          0.013215422630310059,
          0.008748412132263184,
          0.006280064582824707,
          0.004042088985443115,
          0.003764927387237549,
          0.002619147300720215,
          0.002279520034790039,
          0.0014889240264892578,
          0.001051187515258789,
          7.294416427612305E-4,
          6.042122840881348E-4,
          6.446242332458496E-4,
          8.777379989624023E-4,
          9.298324584960938E-4,
          0.0012735724449157715,
          0.0017938017845153809,
          0.0024031400680541992,
          0.003380000591278076,
          0.0038284659385681152,
          0.0043852925300598145,
          0.0048215389251708984,
          0.005544483661651611,
          0.006780147552490234,
          0.010404765605926514
         ],
         "yaxis": "y",
         "type": "scattergl"
        },
        {
         "hovertemplate": "variable=passionate-brave<br>Layer=%{x}<br>Cosine Distance=%{y}<extra></extra>",
         "legendgroup": "passionate-brave",
         "line": {
          "color": "#FF97FF",
          "dash": "solid"
         },
         "marker": {
          "symbol": "circle"
         },
         "mode": "lines",
         "name": "passionate-brave",
         "showlegend": true,
         "x": {
          "dtype": "i1",
          "bdata": "AAECAwQFBgcICQoLDA0ODxAREhMUFRYXGBka"
         },
         "xaxis": "x",
         "y": [
          0.16876697540283203,
          0.04508596658706665,
          0.02439713478088379,
          0.02526378631591797,
          0.01891636848449707,
          0.01426076889038086,
          0.010146856307983398,
          0.010166764259338379,
          0.008404970169067383,
          0.007609248161315918,
          0.005338191986083984,
          0.00401836633682251,
          0.0031066536903381348,
          0.0026442408561706543,
          0.002802252769470215,
          0.0033773183822631836,
          0.0033215880393981934,
          0.003921926021575928,
          0.004751980304718018,
          0.006436288356781006,
          0.007235884666442871,
          0.008552491664886475,
          0.01016378402709961,
          0.011446714401245117,
          0.014284968376159668,
          0.020313501358032227,
          0.026628434658050537
         ],
         "yaxis": "y",
         "type": "scattergl"
        },
        {
         "hovertemplate": "variable=passionate-confident<br>Layer=%{x}<br>Cosine Distance=%{y}<extra></extra>",
         "legendgroup": "passionate-confident",
         "line": {
          "color": "#FECB52",
          "dash": "solid"
         },
         "marker": {
          "symbol": "circle"
         },
         "mode": "lines",
         "name": "passionate-confident",
         "showlegend": true,
         "x": {
          "dtype": "i1",
          "bdata": "AAECAwQFBgcICQoLDA0ODxAREhMUFRYXGBka"
         },
         "xaxis": "x",
         "y": [
          0.162267804145813,
          0.04114031791687012,
          0.021088480949401855,
          0.021469533443450928,
          0.015567183494567871,
          0.011826038360595703,
          0.008419275283813477,
          0.008290290832519531,
          0.00653684139251709,
          0.005946516990661621,
          0.004175543785095215,
          0.003249228000640869,
          0.0025679469108581543,
          0.002204418182373047,
          0.0023745298385620117,
          0.0028307437896728516,
          0.0027616024017333984,
          0.0032789111137390137,
          0.0038551688194274902,
          0.005230903625488281,
          0.00625985860824585,
          0.007359325885772705,
          0.00882500410079956,
          0.00992584228515625,
          0.012245357036590576,
          0.017808973789215088,
          0.022718071937561035
         ],
         "yaxis": "y",
         "type": "scattergl"
        },
        {
         "hovertemplate": "variable=brave-confident<br>Layer=%{x}<br>Cosine Distance=%{y}<extra></extra>",
         "legendgroup": "brave-confident",
         "line": {
          "color": "#636efa",
          "dash": "solid"
         },
         "marker": {
          "symbol": "circle"
         },
         "mode": "lines",
         "name": "brave-confident",
         "showlegend": true,
         "x": {
          "dtype": "i1",
          "bdata": "AAECAwQFBgcICQoLDA0ODxAREhMUFRYXGBka"
         },
         "xaxis": "x",
         "y": [
          0.10020971298217773,
          0.02806258201599121,
          0.014000177383422852,
          0.012868344783782959,
          0.008838772773742676,
          0.006273746490478516,
          0.004185914993286133,
          0.004127621650695801,
          0.0032135844230651855,
          0.0028531551361083984,
          0.0019137859344482422,
          0.001317441463470459,
          9.018182754516602E-4,
          7.441043853759766E-4,
          7.920265197753906E-4,
          0.001032710075378418,
          0.0010134577751159668,
          0.0012489557266235352,
          0.001775979995727539,
          0.0021903514862060547,
          0.0025888681411743164,
          0.0030125975608825684,
          0.0034471750259399414,
          0.003682255744934082,
          0.0043097734451293945,
          0.005502223968505859,
          0.00946497917175293
         ],
         "yaxis": "y",
         "type": "scattergl"
        }
       ],
       "layout": {
        "template": {
         "data": {
          "histogram2dcontour": [
           {
            "type": "histogram2dcontour",
            "colorbar": {
             "outlinewidth": 0,
             "ticks": ""
            },
            "colorscale": [
             [
              0.0,
              "#0d0887"
             ],
             [
              0.1111111111111111,
              "#46039f"
             ],
             [
              0.2222222222222222,
              "#7201a8"
             ],
             [
              0.3333333333333333,
              "#9c179e"
             ],
             [
              0.4444444444444444,
              "#bd3786"
             ],
             [
              0.5555555555555556,
              "#d8576b"
             ],
             [
              0.6666666666666666,
              "#ed7953"
             ],
             [
              0.7777777777777778,
              "#fb9f3a"
             ],
             [
              0.8888888888888888,
              "#fdca26"
             ],
             [
              1.0,
              "#f0f921"
             ]
            ]
           }
          ],
          "choropleth": [
           {
            "type": "choropleth",
            "colorbar": {
             "outlinewidth": 0,
             "ticks": ""
            }
           }
          ],
          "histogram2d": [
           {
            "type": "histogram2d",
            "colorbar": {
             "outlinewidth": 0,
             "ticks": ""
            },
            "colorscale": [
             [
              0.0,
              "#0d0887"
             ],
             [
              0.1111111111111111,
              "#46039f"
             ],
             [
              0.2222222222222222,
              "#7201a8"
             ],
             [
              0.3333333333333333,
              "#9c179e"
             ],
             [
              0.4444444444444444,
              "#bd3786"
             ],
             [
              0.5555555555555556,
              "#d8576b"
             ],
             [
              0.6666666666666666,
              "#ed7953"
             ],
             [
              0.7777777777777778,
              "#fb9f3a"
             ],
             [
              0.8888888888888888,
              "#fdca26"
             ],
             [
              1.0,
              "#f0f921"
             ]
            ]
           }
          ],
          "heatmap": [
           {
            "type": "heatmap",
            "colorbar": {
             "outlinewidth": 0,
             "ticks": ""
            },
            "colorscale": [
             [
              0.0,
              "#0d0887"
             ],
             [
              0.1111111111111111,
              "#46039f"
             ],
             [
              0.2222222222222222,
              "#7201a8"
             ],
             [
              0.3333333333333333,
              "#9c179e"
             ],
             [
              0.4444444444444444,
              "#bd3786"
             ],
             [
              0.5555555555555556,
              "#d8576b"
             ],
             [
              0.6666666666666666,
              "#ed7953"
             ],
             [
              0.7777777777777778,
              "#fb9f3a"
             ],
             [
              0.8888888888888888,
              "#fdca26"
             ],
             [
              1.0,
              "#f0f921"
             ]
            ]
           }
          ],
          "contourcarpet": [
           {
            "type": "contourcarpet",
            "colorbar": {
             "outlinewidth": 0,
             "ticks": ""
            }
           }
          ],
          "contour": [
           {
            "type": "contour",
            "colorbar": {
             "outlinewidth": 0,
             "ticks": ""
            },
            "colorscale": [
             [
              0.0,
              "#0d0887"
             ],
             [
              0.1111111111111111,
              "#46039f"
             ],
             [
              0.2222222222222222,
              "#7201a8"
             ],
             [
              0.3333333333333333,
              "#9c179e"
             ],
             [
              0.4444444444444444,
              "#bd3786"
             ],
             [
              0.5555555555555556,
              "#d8576b"
             ],
             [
              0.6666666666666666,
              "#ed7953"
             ],
             [
              0.7777777777777778,
              "#fb9f3a"
             ],
             [
              0.8888888888888888,
              "#fdca26"
             ],
             [
              1.0,
              "#f0f921"
             ]
            ]
           }
          ],
          "surface": [
           {
            "type": "surface",
            "colorbar": {
             "outlinewidth": 0,
             "ticks": ""
            },
            "colorscale": [
             [
              0.0,
              "#0d0887"
             ],
             [
              0.1111111111111111,
              "#46039f"
             ],
             [
              0.2222222222222222,
              "#7201a8"
             ],
             [
              0.3333333333333333,
              "#9c179e"
             ],
             [
              0.4444444444444444,
              "#bd3786"
             ],
             [
              0.5555555555555556,
              "#d8576b"
             ],
             [
              0.6666666666666666,
              "#ed7953"
             ],
             [
              0.7777777777777778,
              "#fb9f3a"
             ],
             [
              0.8888888888888888,
              "#fdca26"
             ],
             [
              1.0,
              "#f0f921"
             ]
            ]
           }
          ],
          "mesh3d": [
           {
            "type": "mesh3d",
            "colorbar": {
             "outlinewidth": 0,
             "ticks": ""
            }
           }
          ],
          "scatter": [
           {
            "marker": {
             "line": {
              "color": "#283442"
             }
            },
            "type": "scatter"
           }
          ],
          "parcoords": [
           {
            "type": "parcoords",
            "line": {
             "colorbar": {
              "outlinewidth": 0,
              "ticks": ""
             }
            }
           }
          ],
          "scatterpolargl": [
           {
            "type": "scatterpolargl",
            "marker": {
             "colorbar": {
              "outlinewidth": 0,
              "ticks": ""
             }
            }
           }
          ],
          "bar": [
           {
            "error_x": {
             "color": "#f2f5fa"
            },
            "error_y": {
             "color": "#f2f5fa"
            },
            "marker": {
             "line": {
              "color": "rgb(17,17,17)",
              "width": 0.5
             },
             "pattern": {
              "fillmode": "overlay",
              "size": 10,
              "solidity": 0.2
             }
            },
            "type": "bar"
           }
          ],
          "scattergeo": [
           {
            "type": "scattergeo",
            "marker": {
             "colorbar": {
              "outlinewidth": 0,
              "ticks": ""
             }
            }
           }
          ],
          "scatterpolar": [
           {
            "type": "scatterpolar",
            "marker": {
             "colorbar": {
              "outlinewidth": 0,
              "ticks": ""
             }
            }
           }
          ],
          "histogram": [
           {
            "marker": {
             "pattern": {
              "fillmode": "overlay",
              "size": 10,
              "solidity": 0.2
             }
            },
            "type": "histogram"
           }
          ],
          "scattergl": [
           {
            "marker": {
             "line": {
              "color": "#283442"
             }
            },
            "type": "scattergl"
           }
          ],
          "scatter3d": [
           {
            "type": "scatter3d",
            "line": {
             "colorbar": {
              "outlinewidth": 0,
              "ticks": ""
             }
            },
            "marker": {
             "colorbar": {
              "outlinewidth": 0,
              "ticks": ""
             }
            }
           }
          ],
          "scattermap": [
           {
            "type": "scattermap",
            "marker": {
             "colorbar": {
              "outlinewidth": 0,
              "ticks": ""
             }
            }
           }
          ],
          "scattermapbox": [
           {
            "type": "scattermapbox",
            "marker": {
             "colorbar": {
              "outlinewidth": 0,
              "ticks": ""
             }
            }
           }
          ],
          "scatterternary": [
           {
            "type": "scatterternary",
            "marker": {
             "colorbar": {
              "outlinewidth": 0,
              "ticks": ""
             }
            }
           }
          ],
          "scattercarpet": [
           {
            "type": "scattercarpet",
            "marker": {
             "colorbar": {
              "outlinewidth": 0,
              "ticks": ""
             }
            }
           }
          ],
          "carpet": [
           {
            "aaxis": {
             "endlinecolor": "#A2B1C6",
             "gridcolor": "#506784",
             "linecolor": "#506784",
             "minorgridcolor": "#506784",
             "startlinecolor": "#A2B1C6"
            },
            "baxis": {
             "endlinecolor": "#A2B1C6",
             "gridcolor": "#506784",
             "linecolor": "#506784",
             "minorgridcolor": "#506784",
             "startlinecolor": "#A2B1C6"
            },
            "type": "carpet"
           }
          ],
          "table": [
           {
            "cells": {
             "fill": {
              "color": "#506784"
             },
             "line": {
              "color": "rgb(17,17,17)"
             }
            },
            "header": {
             "fill": {
              "color": "#2a3f5f"
             },
             "line": {
              "color": "rgb(17,17,17)"
             }
            },
            "type": "table"
           }
          ],
          "barpolar": [
           {
            "marker": {
             "line": {
              "color": "rgb(17,17,17)",
              "width": 0.5
             },
             "pattern": {
              "fillmode": "overlay",
              "size": 10,
              "solidity": 0.2
             }
            },
            "type": "barpolar"
           }
          ],
          "pie": [
           {
            "automargin": true,
            "type": "pie"
           }
          ]
         },
         "layout": {
          "autotypenumbers": "strict",
          "colorway": [
           "#636efa",
           "#EF553B",
           "#00cc96",
           "#ab63fa",
           "#FFA15A",
           "#19d3f3",
           "#FF6692",
           "#B6E880",
           "#FF97FF",
           "#FECB52"
          ],
          "font": {
           "color": "#f2f5fa"
          },
          "hovermode": "closest",
          "hoverlabel": {
           "align": "left"
          },
          "paper_bgcolor": "rgb(17,17,17)",
          "plot_bgcolor": "rgb(17,17,17)",
          "polar": {
           "bgcolor": "rgb(17,17,17)",
           "angularaxis": {
            "gridcolor": "#506784",
            "linecolor": "#506784",
            "ticks": ""
           },
           "radialaxis": {
            "gridcolor": "#506784",
            "linecolor": "#506784",
            "ticks": ""
           }
          },
          "ternary": {
           "bgcolor": "rgb(17,17,17)",
           "aaxis": {
            "gridcolor": "#506784",
            "linecolor": "#506784",
            "ticks": ""
           },
           "baxis": {
            "gridcolor": "#506784",
            "linecolor": "#506784",
            "ticks": ""
           },
           "caxis": {
            "gridcolor": "#506784",
            "linecolor": "#506784",
            "ticks": ""
           }
          },
          "coloraxis": {
           "colorbar": {
            "outlinewidth": 0,
            "ticks": ""
           }
          },
          "colorscale": {
           "sequential": [
            [
             0.0,
             "#0d0887"
            ],
            [
             0.1111111111111111,
             "#46039f"
            ],
            [
             0.2222222222222222,
             "#7201a8"
            ],
            [
             0.3333333333333333,
             "#9c179e"
            ],
            [
             0.4444444444444444,
             "#bd3786"
            ],
            [
             0.5555555555555556,
             "#d8576b"
            ],
            [
             0.6666666666666666,
             "#ed7953"
            ],
            [
             0.7777777777777778,
             "#fb9f3a"
            ],
            [
             0.8888888888888888,
             "#fdca26"
            ],
            [
             1.0,
             "#f0f921"
            ]
           ],
           "sequentialminus": [
            [
             0.0,
             "#0d0887"
            ],
            [
             0.1111111111111111,
             "#46039f"
            ],
            [
             0.2222222222222222,
             "#7201a8"
            ],
            [
             0.3333333333333333,
             "#9c179e"
            ],
            [
             0.4444444444444444,
             "#bd3786"
            ],
            [
             0.5555555555555556,
             "#d8576b"
            ],
            [
             0.6666666666666666,
             "#ed7953"
            ],
            [
             0.7777777777777778,
             "#fb9f3a"
            ],
            [
             0.8888888888888888,
             "#fdca26"
            ],
            [
             1.0,
             "#f0f921"
            ]
           ],
           "diverging": [
            [
             0,
             "#8e0152"
            ],
            [
             0.1,
             "#c51b7d"
            ],
            [
             0.2,
             "#de77ae"
            ],
            [
             0.3,
             "#f1b6da"
            ],
            [
             0.4,
             "#fde0ef"
            ],
            [
             0.5,
             "#f7f7f7"
            ],
            [
             0.6,
             "#e6f5d0"
            ],
            [
             0.7,
             "#b8e186"
            ],
            [
             0.8,
             "#7fbc41"
            ],
            [
             0.9,
             "#4d9221"
            ],
            [
             1,
             "#276419"
            ]
           ]
          },
          "xaxis": {
           "gridcolor": "#283442",
           "linecolor": "#506784",
           "ticks": "",
           "title": {
            "standoff": 15
           },
           "zerolinecolor": "#283442",
           "automargin": true,
           "zerolinewidth": 2
          },
          "yaxis": {
           "gridcolor": "#283442",
           "linecolor": "#506784",
           "ticks": "",
           "title": {
            "standoff": 15
           },
           "zerolinecolor": "#283442",
           "automargin": true,
           "zerolinewidth": 2
          },
          "scene": {
           "xaxis": {
            "backgroundcolor": "rgb(17,17,17)",
            "gridcolor": "#506784",
            "linecolor": "#506784",
            "showbackground": true,
            "ticks": "",
            "zerolinecolor": "#C8D4E3",
            "gridwidth": 2
           },
           "yaxis": {
            "backgroundcolor": "rgb(17,17,17)",
            "gridcolor": "#506784",
            "linecolor": "#506784",
            "showbackground": true,
            "ticks": "",
            "zerolinecolor": "#C8D4E3",
            "gridwidth": 2
           },
           "zaxis": {
            "backgroundcolor": "rgb(17,17,17)",
            "gridcolor": "#506784",
            "linecolor": "#506784",
            "showbackground": true,
            "ticks": "",
            "zerolinecolor": "#C8D4E3",
            "gridwidth": 2
           }
          },
          "shapedefaults": {
           "line": {
            "color": "#f2f5fa"
           }
          },
          "annotationdefaults": {
           "arrowcolor": "#f2f5fa",
           "arrowhead": 0,
           "arrowwidth": 1
          },
          "geo": {
           "bgcolor": "rgb(17,17,17)",
           "landcolor": "rgb(17,17,17)",
           "subunitcolor": "#506784",
           "showland": true,
           "showlakes": true,
           "lakecolor": "rgb(17,17,17)"
          },
          "title": {
           "x": 0.05
          },
          "updatemenudefaults": {
           "bgcolor": "#506784",
           "borderwidth": 0
          },
          "sliderdefaults": {
           "bgcolor": "#C8D4E3",
           "borderwidth": 1,
           "bordercolor": "rgb(17,17,17)",
           "tickwidth": 0
          },
          "mapbox": {
           "style": "dark"
          }
         }
        },
        "xaxis": {
         "anchor": "y",
         "domain": [
          0.0,
          1.0
         ],
         "title": {
          "text": "Layer"
         }
        },
        "yaxis": {
         "anchor": "x",
         "domain": [
          0.0,
          1.0
         ],
         "title": {
          "text": "Cosine Distance"
         }
        },
        "legend": {
         "title": {
          "text": "variable"
         },
         "tracegroupgap": 0
        },
        "title": {
         "text": "Cosine Distance Between Emotions"
        }
       },
       "config": {
        "plotlyServerURL": "https://plot.ly"
       }
      }
     },
     "metadata": {},
     "output_type": "display_data"
    }
   ],
   "execution_count": 67
  },
  {
   "metadata": {
    "ExecuteTime": {
     "end_time": "2025-08-25T04:43:15.575662Z",
     "start_time": "2025-08-25T04:43:14.635330Z"
    }
   },
   "cell_type": "code",
   "source": [
    "def euc(emb1, emb2):\n",
    "    return cdist(emb1.unsqueeze(0), emb2.unsqueeze(0)).item()\n",
    "\n",
    "euc_df = DataFrame(index=layers, columns=emo_combos.keys())\n",
    "\n",
    "for k, v in emo_combos.items():\n",
    "    for l in layers:\n",
    "        euc_df[k][l] = euc(emb_sums[l][v[0]], emb_sums[l][v[1]])\n",
    "\n",
    "euc_fig = px.line(cos_df, title=\"Euclidean Distance Between Emotions\", labels={\"index\": \"Layer\", \"value\": \"Euclidean Distance\"})\n",
    "euc_fig.show()"
   ],
   "id": "c8c82fd71418de7b",
   "outputs": [
    {
     "data": {
      "application/vnd.plotly.v1+json": {
       "data": [
        {
         "hovertemplate": "variable=happy-elated<br>Layer=%{x}<br>Euclidean Distance=%{y}<extra></extra>",
         "legendgroup": "happy-elated",
         "line": {
          "color": "#636efa",
          "dash": "solid"
         },
         "marker": {
          "symbol": "circle"
         },
         "mode": "lines",
         "name": "happy-elated",
         "showlegend": true,
         "x": {
          "dtype": "i1",
          "bdata": "AAECAwQFBgcICQoLDA0ODxAREhMUFRYXGBka"
         },
         "xaxis": "x",
         "y": [
          0.20340144634246826,
          0.04253262281417847,
          0.0242154598236084,
          0.021676242351531982,
          0.01627051830291748,
          0.011370301246643066,
          0.008504986763000488,
          0.007083535194396973,
          0.0053141117095947266,
          0.004990875720977783,
          0.0036310553550720215,
          0.00269395112991333,
          0.0021243691444396973,
          0.001783609390258789,
          0.0019341707229614258,
          0.002423882484436035,
          0.0022539496421813965,
          0.0032181739807128906,
          0.004274606704711914,
          0.0057413578033447266,
          0.007239341735839844,
          0.009457647800445557,
          0.011402606964111328,
          0.013043105602264404,
          0.015830397605895996,
          0.023188769817352295,
          0.03883546590805054
         ],
         "yaxis": "y",
         "type": "scattergl"
        },
        {
         "hovertemplate": "variable=happy-peaceful<br>Layer=%{x}<br>Euclidean Distance=%{y}<extra></extra>",
         "legendgroup": "happy-peaceful",
         "line": {
          "color": "#EF553B",
          "dash": "solid"
         },
         "marker": {
          "symbol": "circle"
         },
         "mode": "lines",
         "name": "happy-peaceful",
         "showlegend": true,
         "x": {
          "dtype": "i1",
          "bdata": "AAECAwQFBgcICQoLDA0ODxAREhMUFRYXGBka"
         },
         "xaxis": "x",
         "y": [
          0.1178329586982727,
          0.030886709690093994,
          0.014923036098480225,
          0.01171863079071045,
          0.00744318962097168,
          0.005260169506072998,
          0.0034128427505493164,
          0.0030133724212646484,
          0.0022755861282348633,
          0.002068936824798584,
          0.001451253890991211,
          9.906291961669922E-4,
          7.305145263671875E-4,
          6.108283996582031E-4,
          6.570219993591309E-4,
          9.440779685974121E-4,
          9.642839431762695E-4,
          0.0014151930809020996,
          0.001963376998901367,
          0.00257951021194458,
          0.003293752670288086,
          0.004119515419006348,
          0.004938483238220215,
          0.005397617816925049,
          0.0062406063079833984,
          0.007391035556793213,
          0.010338246822357178
         ],
         "yaxis": "y",
         "type": "scattergl"
        },
        {
         "hovertemplate": "variable=happy-calm<br>Layer=%{x}<br>Euclidean Distance=%{y}<extra></extra>",
         "legendgroup": "happy-calm",
         "line": {
          "color": "#00cc96",
          "dash": "solid"
         },
         "marker": {
          "symbol": "circle"
         },
         "mode": "lines",
         "name": "happy-calm",
         "showlegend": true,
         "x": {
          "dtype": "i1",
          "bdata": "AAECAwQFBgcICQoLDA0ODxAREhMUFRYXGBka"
         },
         "xaxis": "x",
         "y": [
          0.11361771821975708,
          0.03165954351425171,
          0.015004515647888184,
          0.012739181518554688,
          0.00843203067779541,
          0.005497992038726807,
          0.0036521553993225098,
          0.0031450986862182617,
          0.0023537278175354004,
          0.0021203160285949707,
          0.0014306306838989258,
          0.0010232329368591309,
          7.405281066894531E-4,
          6.155967712402344E-4,
          6.569623947143555E-4,
          9.062290191650391E-4,
          8.88824462890625E-4,
          0.0012974739074707031,
          0.0019073486328125,
          0.002790689468383789,
          0.003868579864501953,
          0.004701793193817139,
          0.005646824836730957,
          0.006182253360748291,
          0.007138192653656006,
          0.008525252342224121,
          0.01231229305267334
         ],
         "yaxis": "y",
         "type": "scattergl"
        },
        {
         "hovertemplate": "variable=happy-content<br>Layer=%{x}<br>Euclidean Distance=%{y}<extra></extra>",
         "legendgroup": "happy-content",
         "line": {
          "color": "#ab63fa",
          "dash": "solid"
         },
         "marker": {
          "symbol": "circle"
         },
         "mode": "lines",
         "name": "happy-content",
         "showlegend": true,
         "x": {
          "dtype": "i1",
          "bdata": "AAECAwQFBgcICQoLDA0ODxAREhMUFRYXGBka"
         },
         "xaxis": "x",
         "y": [
          0.12255430221557617,
          0.03440159559249878,
          0.016706466674804688,
          0.014110743999481201,
          0.009247124195098877,
          0.006584107875823975,
          0.0043221116065979,
          0.0038014650344848633,
          0.0027616024017333984,
          0.002556025981903076,
          0.0016970634460449219,
          0.0011712312698364258,
          8.120536804199219E-4,
          6.672143936157227E-4,
          7.109642028808594E-4,
          9.970664978027344E-4,
          8.894205093383789E-4,
          0.001354217529296875,
          0.0023584365844726562,
          0.003339409828186035,
          0.004238486289978027,
          0.0056383609771728516,
          0.006952226161956787,
          0.008185744285583496,
          0.00987774133682251,
          0.012488126754760742,
          0.020867526531219482
         ],
         "yaxis": "y",
         "type": "scattergl"
        },
        {
         "hovertemplate": "variable=happy-relaxed<br>Layer=%{x}<br>Euclidean Distance=%{y}<extra></extra>",
         "legendgroup": "happy-relaxed",
         "line": {
          "color": "#FFA15A",
          "dash": "solid"
         },
         "marker": {
          "symbol": "circle"
         },
         "mode": "lines",
         "name": "happy-relaxed",
         "showlegend": true,
         "x": {
          "dtype": "i1",
          "bdata": "AAECAwQFBgcICQoLDA0ODxAREhMUFRYXGBka"
         },
         "xaxis": "x",
         "y": [
          0.1090083122253418,
          0.032242774963378906,
          0.01580601930618286,
          0.013664186000823975,
          0.009309351444244385,
          0.0068787336349487305,
          0.004700422286987305,
          0.00397038459777832,
          0.0029914379119873047,
          0.002660989761352539,
          0.00177079439163208,
          0.0012305974960327148,
          8.971691131591797E-4,
          7.475614547729492E-4,
          7.981657981872559E-4,
          0.001114189624786377,
          0.0011031627655029297,
          0.001652538776397705,
          0.002293229103088379,
          0.0028030872344970703,
          0.003521561622619629,
          0.004296243190765381,
          0.005052804946899414,
          0.005445301532745361,
          0.006308197975158691,
          0.0073702335357666016,
          0.01184093952178955
         ],
         "yaxis": "y",
         "type": "scattergl"
        },
        {
         "hovertemplate": "variable=happy-sad<br>Layer=%{x}<br>Euclidean Distance=%{y}<extra></extra>",
         "legendgroup": "happy-sad",
         "line": {
          "color": "#19d3f3",
          "dash": "solid"
         },
         "marker": {
          "symbol": "circle"
         },
         "mode": "lines",
         "name": "happy-sad",
         "showlegend": true,
         "x": {
          "dtype": "i1",
          "bdata": "AAECAwQFBgcICQoLDA0ODxAREhMUFRYXGBka"
         },
         "xaxis": "x",
         "y": [
          0.10585123300552368,
          0.029694974422454834,
          0.013536155223846436,
          0.011153221130371094,
          0.006842076778411865,
          0.0045945048332214355,
          0.0029402971267700195,
          0.0025511980056762695,
          0.0018794536590576172,
          0.0017508268356323242,
          0.0011519193649291992,
          8.04901123046875E-4,
          5.646944046020508E-4,
          4.6378374099731445E-4,
          5.017518997192383E-4,
          7.145404815673828E-4,
          6.706118583679199E-4,
          9.035468101501465E-4,
          0.001590430736541748,
          0.0025644898414611816,
          0.003352522850036621,
          0.004515290260314941,
          0.005354046821594238,
          0.005842387676239014,
          0.006953716278076172,
          0.008977532386779785,
          0.01506584882736206
         ],
         "yaxis": "y",
         "type": "scattergl"
        },
        {
         "hovertemplate": "variable=happy-anxious<br>Layer=%{x}<br>Euclidean Distance=%{y}<extra></extra>",
         "legendgroup": "happy-anxious",
         "line": {
          "color": "#FF6692",
          "dash": "solid"
         },
         "marker": {
          "symbol": "circle"
         },
         "mode": "lines",
         "name": "happy-anxious",
         "showlegend": true,
         "x": {
          "dtype": "i1",
          "bdata": "AAECAwQFBgcICQoLDA0ODxAREhMUFRYXGBka"
         },
         "xaxis": "x",
         "y": [
          0.16494476795196533,
          0.04162818193435669,
          0.021985411643981934,
          0.01814854145050049,
          0.013006508350372314,
          0.009974360466003418,
          0.007291555404663086,
          0.006196379661560059,
          0.0053005218505859375,
          0.005039632320404053,
          0.0036128759384155273,
          0.002775907516479492,
          0.0022467374801635742,
          0.00191575288772583,
          0.0020526647567749023,
          0.002604067325592041,
          0.002434968948364258,
          0.0032842159271240234,
          0.00432819128036499,
          0.005722403526306152,
          0.006720423698425293,
          0.008710145950317383,
          0.011129498481750488,
          0.012536108493804932,
          0.015244364738464355,
          0.021397411823272705,
          0.02928406000137329
         ],
         "yaxis": "y",
         "type": "scattergl"
        },
        {
         "hovertemplate": "variable=happy-fearful<br>Layer=%{x}<br>Euclidean Distance=%{y}<extra></extra>",
         "legendgroup": "happy-fearful",
         "line": {
          "color": "#B6E880",
          "dash": "solid"
         },
         "marker": {
          "symbol": "circle"
         },
         "mode": "lines",
         "name": "happy-fearful",
         "showlegend": true,
         "x": {
          "dtype": "i1",
          "bdata": "AAECAwQFBgcICQoLDA0ODxAREhMUFRYXGBka"
         },
         "xaxis": "x",
         "y": [
          0.17357492446899414,
          0.05115175247192383,
          0.025274157524108887,
          0.0221024751663208,
          0.017346084117889404,
          0.013599753379821777,
          0.009565770626068115,
          0.008721590042114258,
          0.006835818290710449,
          0.006428360939025879,
          0.0045354366302490234,
          0.0034202933311462402,
          0.0027007460594177246,
          0.002300858497619629,
          0.0024840235710144043,
          0.0030381083488464355,
          0.0031003952026367188,
          0.004204452037811279,
          0.005254209041595459,
          0.006965994834899902,
          0.008304357528686523,
          0.010236859321594238,
          0.01229238510131836,
          0.013267755508422852,
          0.01625901460647583,
          0.021216988563537598,
          0.026357650756835938
         ],
         "yaxis": "y",
         "type": "scattergl"
        },
        {
         "hovertemplate": "variable=happy-scared<br>Layer=%{x}<br>Euclidean Distance=%{y}<extra></extra>",
         "legendgroup": "happy-scared",
         "line": {
          "color": "#FF97FF",
          "dash": "solid"
         },
         "marker": {
          "symbol": "circle"
         },
         "mode": "lines",
         "name": "happy-scared",
         "showlegend": true,
         "x": {
          "dtype": "i1",
          "bdata": "AAECAwQFBgcICQoLDA0ODxAREhMUFRYXGBka"
         },
         "xaxis": "x",
         "y": [
          0.11202847957611084,
          0.029825210571289062,
          0.014611124992370605,
          0.01219099760055542,
          0.00809568166732788,
          0.005920886993408203,
          0.0037521719932556152,
          0.0033000707626342773,
          0.0024591684341430664,
          0.0022806525230407715,
          0.0015069246292114258,
          0.0010592937469482422,
          7.583498954772949E-4,
          6.225109100341797E-4,
          6.71684741973877E-4,
          9.462237358093262E-4,
          9.278655052185059E-4,
          0.0014535784721374512,
          0.0020712614059448242,
          0.002699732780456543,
          0.003621995449066162,
          0.004533827304840088,
          0.0054585933685302734,
          0.005827546119689941,
          0.006681621074676514,
          0.007754623889923096,
          0.011749684810638428
         ],
         "yaxis": "y",
         "type": "scattergl"
        },
        {
         "hovertemplate": "variable=happy-depressed<br>Layer=%{x}<br>Euclidean Distance=%{y}<extra></extra>",
         "legendgroup": "happy-depressed",
         "line": {
          "color": "#FECB52",
          "dash": "solid"
         },
         "marker": {
          "symbol": "circle"
         },
         "mode": "lines",
         "name": "happy-depressed",
         "showlegend": true,
         "x": {
          "dtype": "i1",
          "bdata": "AAECAwQFBgcICQoLDA0ODxAREhMUFRYXGBka"
         },
         "xaxis": "x",
         "y": [
          0.17477625608444214,
          0.05313640832901001,
          0.02851259708404541,
          0.0250929594039917,
          0.018083035945892334,
          0.013295769691467285,
          0.009436309337615967,
          0.008838117122650146,
          0.006638646125793457,
          0.006738901138305664,
          0.004781126976013184,
          0.0036216378211975098,
          0.002960801124572754,
          0.0024868249893188477,
          0.0026586055755615234,
          0.0033301115036010742,
          0.0030716657638549805,
          0.003809213638305664,
          0.00522160530090332,
          0.006393730640411377,
          0.007771432399749756,
          0.010218143463134766,
          0.012180507183074951,
          0.013559818267822266,
          0.016562700271606445,
          0.0233762264251709,
          0.032052695751190186
         ],
         "yaxis": "y",
         "type": "scattergl"
        },
        {
         "hovertemplate": "variable=happy-lonely<br>Layer=%{x}<br>Euclidean Distance=%{y}<extra></extra>",
         "legendgroup": "happy-lonely",
         "line": {
          "color": "#636efa",
          "dash": "solid"
         },
         "marker": {
          "symbol": "circle"
         },
         "mode": "lines",
         "name": "happy-lonely",
         "showlegend": true,
         "x": {
          "dtype": "i1",
          "bdata": "AAECAwQFBgcICQoLDA0ODxAREhMUFRYXGBka"
         },
         "xaxis": "x",
         "y": [
          0.11269497871398926,
          0.031357645988464355,
          0.015286684036254883,
          0.011785566806793213,
          0.007498741149902344,
          0.005527377128601074,
          0.0035390853881835938,
          0.003031313419342041,
          0.0023550987243652344,
          0.002204298973083496,
          0.0015251636505126953,
          0.0010677576065063477,
          7.775425910949707E-4,
          6.501674652099609E-4,
          7.06017017364502E-4,
          0.0010281801223754883,
          0.0010048151016235352,
          0.0014144182205200195,
          0.0018851161003112793,
          0.0025601983070373535,
          0.003306746482849121,
          0.004342496395111084,
          0.005035579204559326,
          0.005378127098083496,
          0.006197512149810791,
          0.007200062274932861,
          0.01028674840927124
         ],
         "yaxis": "y",
         "type": "scattergl"
        },
        {
         "hovertemplate": "variable=happy-bitter<br>Layer=%{x}<br>Euclidean Distance=%{y}<extra></extra>",
         "legendgroup": "happy-bitter",
         "line": {
          "color": "#EF553B",
          "dash": "solid"
         },
         "marker": {
          "symbol": "circle"
         },
         "mode": "lines",
         "name": "happy-bitter",
         "showlegend": true,
         "x": {
          "dtype": "i1",
          "bdata": "AAECAwQFBgcICQoLDA0ODxAREhMUFRYXGBka"
         },
         "xaxis": "x",
         "y": [
          0.11969470977783203,
          0.033035874366760254,
          0.01567089557647705,
          0.013558745384216309,
          0.008828401565551758,
          0.006240665912628174,
          0.004178881645202637,
          0.0036050081253051758,
          0.002654552459716797,
          0.0024259090423583984,
          0.0016524791717529297,
          0.0011808276176452637,
          8.949637413024902E-4,
          7.531642913818359E-4,
          8.10086727142334E-4,
          0.001157224178314209,
          0.001200854778289795,
          0.0017262697219848633,
          0.0022085905075073242,
          0.0031401515007019043,
          0.003966152667999268,
          0.005305171012878418,
          0.006272375583648682,
          0.006545066833496094,
          0.007559657096862793,
          0.008892059326171875,
          0.013289391994476318
         ],
         "yaxis": "y",
         "type": "scattergl"
        },
        {
         "hovertemplate": "variable=happy-jealous<br>Layer=%{x}<br>Euclidean Distance=%{y}<extra></extra>",
         "legendgroup": "happy-jealous",
         "line": {
          "color": "#00cc96",
          "dash": "solid"
         },
         "marker": {
          "symbol": "circle"
         },
         "mode": "lines",
         "name": "happy-jealous",
         "showlegend": true,
         "x": {
          "dtype": "i1",
          "bdata": "AAECAwQFBgcICQoLDA0ODxAREhMUFRYXGBka"
         },
         "xaxis": "x",
         "y": [
          0.17353510856628418,
          0.05060899257659912,
          0.028518378734588623,
          0.026665210723876953,
          0.018669962882995605,
          0.01406252384185791,
          0.010133564472198486,
          0.008421599864959717,
          0.007212281227111816,
          0.006713211536407471,
          0.004780292510986328,
          0.0038949251174926758,
          0.0031136274337768555,
          0.0026145577430725098,
          0.002721548080444336,
          0.0032775402069091797,
          0.0027700066566467285,
          0.0037131309509277344,
          0.004777729511260986,
          0.0067757368087768555,
          0.00801306962966919,
          0.010264873504638672,
          0.012030839920043945,
          0.013002216815948486,
          0.01607722043991089,
          0.02353811264038086,
          0.03984427452087402
         ],
         "yaxis": "y",
         "type": "scattergl"
        },
        {
         "hovertemplate": "variable=happy-angry<br>Layer=%{x}<br>Euclidean Distance=%{y}<extra></extra>",
         "legendgroup": "happy-angry",
         "line": {
          "color": "#ab63fa",
          "dash": "solid"
         },
         "marker": {
          "symbol": "circle"
         },
         "mode": "lines",
         "name": "happy-angry",
         "showlegend": true,
         "x": {
          "dtype": "i1",
          "bdata": "AAECAwQFBgcICQoLDA0ODxAREhMUFRYXGBka"
         },
         "xaxis": "x",
         "y": [
          0.08984792232513428,
          0.025596797466278076,
          0.01183319091796875,
          0.009923815727233887,
          0.006366312503814697,
          0.004849731922149658,
          0.0031971335411071777,
          0.0028368234634399414,
          0.0022986531257629395,
          0.0021355152130126953,
          0.0015017986297607422,
          0.0010989904403686523,
          7.860064506530762E-4,
          6.593465805053711E-4,
          7.091760635375977E-4,
          0.0010042786598205566,
          0.0010045170783996582,
          0.0013259649276733398,
          0.0017960071563720703,
          0.002577483654022217,
          0.0032178759574890137,
          0.004206955432891846,
          0.005034923553466797,
          0.005453646183013916,
          0.006408572196960449,
          0.007656276226043701,
          0.010493993759155273
         ],
         "yaxis": "y",
         "type": "scattergl"
        },
        {
         "hovertemplate": "variable=happy-guilty<br>Layer=%{x}<br>Euclidean Distance=%{y}<extra></extra>",
         "legendgroup": "happy-guilty",
         "line": {
          "color": "#FFA15A",
          "dash": "solid"
         },
         "marker": {
          "symbol": "circle"
         },
         "mode": "lines",
         "name": "happy-guilty",
         "showlegend": true,
         "x": {
          "dtype": "i1",
          "bdata": "AAECAwQFBgcICQoLDA0ODxAREhMUFRYXGBka"
         },
         "xaxis": "x",
         "y": [
          0.12520438432693481,
          0.03420531749725342,
          0.016180992126464844,
          0.013457179069519043,
          0.008960902690887451,
          0.006513237953186035,
          0.004162967205047607,
          0.0036350488662719727,
          0.002596259117126465,
          0.0023726224899291992,
          0.0015685558319091797,
          0.0011103153228759766,
          8.101463317871094E-4,
          6.740689277648926E-4,
          7.271766662597656E-4,
          0.0010509490966796875,
          0.0010709762573242188,
          0.0015053153038024902,
          0.002298593521118164,
          0.003154933452606201,
          0.004330813884735107,
          0.005356967449188232,
          0.006436944007873535,
          0.007148385047912598,
          0.00841820240020752,
          0.010079443454742432,
          0.014491081237792969
         ],
         "yaxis": "y",
         "type": "scattergl"
        },
        {
         "hovertemplate": "variable=happy-passionate<br>Layer=%{x}<br>Euclidean Distance=%{y}<extra></extra>",
         "legendgroup": "happy-passionate",
         "line": {
          "color": "#19d3f3",
          "dash": "solid"
         },
         "marker": {
          "symbol": "circle"
         },
         "mode": "lines",
         "name": "happy-passionate",
         "showlegend": true,
         "x": {
          "dtype": "i1",
          "bdata": "AAECAwQFBgcICQoLDA0ODxAREhMUFRYXGBka"
         },
         "xaxis": "x",
         "y": [
          0.16553175449371338,
          0.047585368156433105,
          0.024843335151672363,
          0.025217056274414062,
          0.01869577169418335,
          0.014038920402526855,
          0.010077238082885742,
          0.009373903274536133,
          0.007350921630859375,
          0.006865799427032471,
          0.004899144172668457,
          0.003796994686126709,
          0.0029965639114379883,
          0.002550363540649414,
          0.0027347207069396973,
          0.0034252405166625977,
          0.003306567668914795,
          0.004160642623901367,
          0.0051901936531066895,
          0.00701218843460083,
          0.008495688438415527,
          0.010855555534362793,
          0.013144075870513916,
          0.01446235179901123,
          0.017661631107330322,
          0.025114893913269043,
          0.03340667486190796
         ],
         "yaxis": "y",
         "type": "scattergl"
        },
        {
         "hovertemplate": "variable=happy-brave<br>Layer=%{x}<br>Euclidean Distance=%{y}<extra></extra>",
         "legendgroup": "happy-brave",
         "line": {
          "color": "#FF6692",
          "dash": "solid"
         },
         "marker": {
          "symbol": "circle"
         },
         "mode": "lines",
         "name": "happy-brave",
         "showlegend": true,
         "x": {
          "dtype": "i1",
          "bdata": "AAECAwQFBgcICQoLDA0ODxAREhMUFRYXGBka"
         },
         "xaxis": "x",
         "y": [
          0.11207056045532227,
          0.03175848722457886,
          0.01491403579711914,
          0.012995243072509766,
          0.008655667304992676,
          0.006568253040313721,
          0.004476070404052734,
          0.004114687442779541,
          0.003331422805786133,
          0.002966165542602539,
          0.0019878149032592773,
          0.0013920068740844727,
          0.0010071992874145508,
          8.399486541748047E-4,
          9.025335311889648E-4,
          0.0012587308883666992,
          0.0012892484664916992,
          0.0016643404960632324,
          0.0023381710052490234,
          0.002892017364501953,
          0.0036104321479797363,
          0.0047855377197265625,
          0.005717813968658447,
          0.006217777729034424,
          0.007297813892364502,
          0.00879049301147461,
          0.01378864049911499
         ],
         "yaxis": "y",
         "type": "scattergl"
        },
        {
         "hovertemplate": "variable=happy-confident<br>Layer=%{x}<br>Euclidean Distance=%{y}<extra></extra>",
         "legendgroup": "happy-confident",
         "line": {
          "color": "#B6E880",
          "dash": "solid"
         },
         "marker": {
          "symbol": "circle"
         },
         "mode": "lines",
         "name": "happy-confident",
         "showlegend": true,
         "x": {
          "dtype": "i1",
          "bdata": "AAECAwQFBgcICQoLDA0ODxAREhMUFRYXGBka"
         },
         "xaxis": "x",
         "y": [
          0.10499435663223267,
          0.030147433280944824,
          0.014837682247161865,
          0.012984097003936768,
          0.008805394172668457,
          0.006174445152282715,
          0.003969907760620117,
          0.0035538673400878906,
          0.0026214122772216797,
          0.0023772716522216797,
          0.0015620589256286621,
          0.0010914802551269531,
          7.646083831787109E-4,
          6.316304206848145E-4,
          6.755590438842773E-4,
          9.553432464599609E-4,
          9.243488311767578E-4,
          0.0013877153396606445,
          0.0020574331283569336,
          0.0026404857635498047,
          0.0034972429275512695,
          0.004392743110656738,
          0.005131721496582031,
          0.005566954612731934,
          0.006544709205627441,
          0.007943332195281982,
          0.012888312339782715
         ],
         "yaxis": "y",
         "type": "scattergl"
        },
        {
         "hovertemplate": "variable=elated-peaceful<br>Layer=%{x}<br>Euclidean Distance=%{y}<extra></extra>",
         "legendgroup": "elated-peaceful",
         "line": {
          "color": "#FF97FF",
          "dash": "solid"
         },
         "marker": {
          "symbol": "circle"
         },
         "mode": "lines",
         "name": "elated-peaceful",
         "showlegend": true,
         "x": {
          "dtype": "i1",
          "bdata": "AAECAwQFBgcICQoLDA0ODxAREhMUFRYXGBka"
         },
         "xaxis": "x",
         "y": [
          0.2533036470413208,
          0.042817115783691406,
          0.02539241313934326,
          0.022316455841064453,
          0.016386210918426514,
          0.011850714683532715,
          0.008720755577087402,
          0.007681846618652344,
          0.006041288375854492,
          0.005458712577819824,
          0.0040171146392822266,
          0.002931952476501465,
          0.002238154411315918,
          0.0018889307975769043,
          0.002061307430267334,
          0.00252455472946167,
          0.0024954676628112793,
          0.003405749797821045,
          0.004243612289428711,
          0.005513370037078857,
          0.006697893142700195,
          0.008057653903961182,
          0.009409010410308838,
          0.0111197829246521,
          0.013629317283630371,
          0.02031409740447998,
          0.035831570625305176
         ],
         "yaxis": "y",
         "type": "scattergl"
        },
        {
         "hovertemplate": "variable=elated-calm<br>Layer=%{x}<br>Euclidean Distance=%{y}<extra></extra>",
         "legendgroup": "elated-calm",
         "line": {
          "color": "#FECB52",
          "dash": "solid"
         },
         "marker": {
          "symbol": "circle"
         },
         "mode": "lines",
         "name": "elated-calm",
         "showlegend": true,
         "x": {
          "dtype": "i1",
          "bdata": "AAECAwQFBgcICQoLDA0ODxAREhMUFRYXGBka"
         },
         "xaxis": "x",
         "y": [
          0.22427964210510254,
          0.041136860847473145,
          0.024701952934265137,
          0.022149860858917236,
          0.016874194145202637,
          0.011154532432556152,
          0.00826561450958252,
          0.007428526878356934,
          0.005729556083679199,
          0.005209922790527344,
          0.0037398934364318848,
          0.00280839204788208,
          0.0021523237228393555,
          0.0018255114555358887,
          0.0019759535789489746,
          0.0024344921112060547,
          0.0023691654205322266,
          0.003123164176940918,
          0.003982901573181152,
          0.0054891109466552734,
          0.007077574729919434,
          0.00834500789642334,
          0.009739935398101807,
          0.011462688446044922,
          0.013823330402374268,
          0.02059870958328247,
          0.03432708978652954
         ],
         "yaxis": "y",
         "type": "scattergl"
        },
        {
         "hovertemplate": "variable=elated-content<br>Layer=%{x}<br>Euclidean Distance=%{y}<extra></extra>",
         "legendgroup": "elated-content",
         "line": {
          "color": "#636efa",
          "dash": "solid"
         },
         "marker": {
          "symbol": "circle"
         },
         "mode": "lines",
         "name": "elated-content",
         "showlegend": true,
         "x": {
          "dtype": "i1",
          "bdata": "AAECAwQFBgcICQoLDA0ODxAREhMUFRYXGBka"
         },
         "xaxis": "x",
         "y": [
          0.1867598295211792,
          0.042699992656707764,
          0.025656700134277344,
          0.02161264419555664,
          0.01635420322418213,
          0.011440515518188477,
          0.008614063262939453,
          0.007379651069641113,
          0.005438446998596191,
          0.004987597465515137,
          0.0035549402236938477,
          0.002695918083190918,
          0.0021709203720092773,
          0.0018203258514404297,
          0.001963376998901367,
          0.002485513687133789,
          0.0022777318954467773,
          0.003010392189025879,
          0.004237651824951172,
          0.006158649921417236,
          0.007481694221496582,
          0.009562671184539795,
          0.011543631553649902,
          0.014075160026550293,
          0.01748579740524292,
          0.02565711736679077,
          0.040768206119537354
         ],
         "yaxis": "y",
         "type": "scattergl"
        },
        {
         "hovertemplate": "variable=elated-relaxed<br>Layer=%{x}<br>Euclidean Distance=%{y}<extra></extra>",
         "legendgroup": "elated-relaxed",
         "line": {
          "color": "#EF553B",
          "dash": "solid"
         },
         "marker": {
          "symbol": "circle"
         },
         "mode": "lines",
         "name": "elated-relaxed",
         "showlegend": true,
         "x": {
          "dtype": "i1",
          "bdata": "AAECAwQFBgcICQoLDA0ODxAREhMUFRYXGBka"
         },
         "xaxis": "x",
         "y": [
          0.22818106412887573,
          0.04050123691558838,
          0.024125099182128906,
          0.020697593688964844,
          0.015639007091522217,
          0.010732054710388184,
          0.007890164852142334,
          0.006891608238220215,
          0.005410194396972656,
          0.0048749446868896484,
          0.00360715389251709,
          0.0026336312294006348,
          0.0020182132720947266,
          0.001700282096862793,
          0.0018362998962402344,
          0.0022479891777038574,
          0.0022019147872924805,
          0.002897977828979492,
          0.003573000431060791,
          0.0045490264892578125,
          0.0055678486824035645,
          0.006805360317230225,
          0.008065104484558105,
          0.009693741798400879,
          0.012167930603027344,
          0.01823490858078003,
          0.030102789402008057
         ],
         "yaxis": "y",
         "type": "scattergl"
        },
        {
         "hovertemplate": "variable=elated-sad<br>Layer=%{x}<br>Euclidean Distance=%{y}<extra></extra>",
         "legendgroup": "elated-sad",
         "line": {
          "color": "#00cc96",
          "dash": "solid"
         },
         "marker": {
          "symbol": "circle"
         },
         "mode": "lines",
         "name": "elated-sad",
         "showlegend": true,
         "x": {
          "dtype": "i1",
          "bdata": "AAECAwQFBgcICQoLDA0ODxAREhMUFRYXGBka"
         },
         "xaxis": "x",
         "y": [
          0.20034974813461304,
          0.04293680191040039,
          0.024408459663391113,
          0.02194303274154663,
          0.01613032817840576,
          0.011094093322753906,
          0.0083085298538208,
          0.0070765018463134766,
          0.00517350435256958,
          0.004790604114532471,
          0.0033642053604125977,
          0.0025283098220825195,
          0.0020069479942321777,
          0.0016961097717285156,
          0.001829981803894043,
          0.002276897430419922,
          0.0021743178367614746,
          0.0030071139335632324,
          0.003940701484680176,
          0.005506336688995361,
          0.006688356399536133,
          0.008424222469329834,
          0.009873270988464355,
          0.011969983577728271,
          0.014430105686187744,
          0.021792352199554443,
          0.037425994873046875
         ],
         "yaxis": "y",
         "type": "scattergl"
        },
        {
         "hovertemplate": "variable=elated-anxious<br>Layer=%{x}<br>Euclidean Distance=%{y}<extra></extra>",
         "legendgroup": "elated-anxious",
         "line": {
          "color": "#ab63fa",
          "dash": "solid"
         },
         "marker": {
          "symbol": "circle"
         },
         "mode": "lines",
         "name": "elated-anxious",
         "showlegend": true,
         "x": {
          "dtype": "i1",
          "bdata": "AAECAwQFBgcICQoLDA0ODxAREhMUFRYXGBka"
         },
         "xaxis": "x",
         "y": [
          0.193293035030365,
          0.043341994285583496,
          0.024604499340057373,
          0.02303338050842285,
          0.016379833221435547,
          0.011006295680999756,
          0.007860541343688965,
          0.0072975754737854,
          0.00525134801864624,
          0.004942178726196289,
          0.003245711326599121,
          0.002449214458465576,
          0.001794278621673584,
          0.0015786290168762207,
          0.0016848444938659668,
          0.0021169185638427734,
          0.0019363164901733398,
          0.002709686756134033,
          0.003408372402191162,
          0.00507122278213501,
          0.00609278678894043,
          0.007301807403564453,
          0.009933888912200928,
          0.011680781841278076,
          0.014317452907562256,
          0.021416306495666504,
          0.036486148834228516
         ],
         "yaxis": "y",
         "type": "scattergl"
        },
        {
         "hovertemplate": "variable=elated-fearful<br>Layer=%{x}<br>Euclidean Distance=%{y}<extra></extra>",
         "legendgroup": "elated-fearful",
         "line": {
          "color": "#FFA15A",
          "dash": "solid"
         },
         "marker": {
          "symbol": "circle"
         },
         "mode": "lines",
         "name": "elated-fearful",
         "showlegend": true,
         "x": {
          "dtype": "i1",
          "bdata": "AAECAwQFBgcICQoLDA0ODxAREhMUFRYXGBka"
         },
         "xaxis": "x",
         "y": [
          0.25192713737487793,
          0.059249043464660645,
          0.031186580657958984,
          0.029485464096069336,
          0.02294921875,
          0.01642376184463501,
          0.011230230331420898,
          0.01065075397491455,
          0.007775723934173584,
          0.006949901580810547,
          0.004665017127990723,
          0.003399491310119629,
          0.002387404441833496,
          0.002039015293121338,
          0.002224445343017578,
          0.002700626850128174,
          0.002768099308013916,
          0.003925919532775879,
          0.004851639270782471,
          0.006888329982757568,
          0.008392691612243652,
          0.009782671928405762,
          0.01155000925064087,
          0.0129508376121521,
          0.015707731246948242,
          0.022067129611968994,
          0.04052722454071045
         ],
         "yaxis": "y",
         "type": "scattergl"
        },
        {
         "hovertemplate": "variable=elated-scared<br>Layer=%{x}<br>Euclidean Distance=%{y}<extra></extra>",
         "legendgroup": "elated-scared",
         "line": {
          "color": "#19d3f3",
          "dash": "solid"
         },
         "marker": {
          "symbol": "circle"
         },
         "mode": "lines",
         "name": "elated-scared",
         "showlegend": true,
         "x": {
          "dtype": "i1",
          "bdata": "AAECAwQFBgcICQoLDA0ODxAREhMUFRYXGBka"
         },
         "xaxis": "x",
         "y": [
          0.24137812852859497,
          0.04002267122268677,
          0.02452683448791504,
          0.022109806537628174,
          0.01569265127182007,
          0.011124253273010254,
          0.00826573371887207,
          0.007151782512664795,
          0.005494117736816406,
          0.00501406192779541,
          0.0035269856452941895,
          0.002650141716003418,
          0.0020592212677001953,
          0.0017533302307128906,
          0.0019462108612060547,
          0.002420186996459961,
          0.002359449863433838,
          0.0031661391258239746,
          0.003960907459259033,
          0.005212306976318359,
          0.006605803966522217,
          0.00817948579788208,
          0.009788811206817627,
          0.01176905632019043,
          0.01412653923034668,
          0.02056884765625,
          0.03498131036758423
         ],
         "yaxis": "y",
         "type": "scattergl"
        },
        {
         "hovertemplate": "variable=elated-depressed<br>Layer=%{x}<br>Euclidean Distance=%{y}<extra></extra>",
         "legendgroup": "elated-depressed",
         "line": {
          "color": "#FF6692",
          "dash": "solid"
         },
         "marker": {
          "symbol": "circle"
         },
         "mode": "lines",
         "name": "elated-depressed",
         "showlegend": true,
         "x": {
          "dtype": "i1",
          "bdata": "AAECAwQFBgcICQoLDA0ODxAREhMUFRYXGBka"
         },
         "xaxis": "x",
         "y": [
          0.23644518852233887,
          0.05510866641998291,
          0.031500399112701416,
          0.028137624263763428,
          0.020123839378356934,
          0.01440119743347168,
          0.01076573133468628,
          0.009650230407714844,
          0.006524920463562012,
          0.006298184394836426,
          0.004091918468475342,
          0.0030728578567504883,
          0.002238035202026367,
          0.001929938793182373,
          0.0020043253898620605,
          0.0023889541625976562,
          0.002164125442504883,
          0.002841949462890625,
          0.004227697849273682,
          0.005811631679534912,
          0.00721132755279541,
          0.008574128150939941,
          0.010353684425354004,
          0.011738479137420654,
          0.014405608177185059,
          0.022503018379211426,
          0.04195535182952881
         ],
         "yaxis": "y",
         "type": "scattergl"
        },
        {
         "hovertemplate": "variable=elated-lonely<br>Layer=%{x}<br>Euclidean Distance=%{y}<extra></extra>",
         "legendgroup": "elated-lonely",
         "line": {
          "color": "#B6E880",
          "dash": "solid"
         },
         "marker": {
          "symbol": "circle"
         },
         "mode": "lines",
         "name": "elated-lonely",
         "showlegend": true,
         "x": {
          "dtype": "i1",
          "bdata": "AAECAwQFBgcICQoLDA0ODxAREhMUFRYXGBka"
         },
         "xaxis": "x",
         "y": [
          0.23531025648117065,
          0.042200565338134766,
          0.025677919387817383,
          0.02104640007019043,
          0.015845775604248047,
          0.011240601539611816,
          0.008396267890930176,
          0.00716853141784668,
          0.005639433860778809,
          0.005254209041595459,
          0.0037904977798461914,
          0.002829909324645996,
          0.0021532773971557617,
          0.001814723014831543,
          0.0019835829734802246,
          0.0024756193161010742,
          0.0024521350860595703,
          0.003179788589477539,
          0.003922879695892334,
          0.005370736122131348,
          0.0064771175384521484,
          0.00789034366607666,
          0.009166955947875977,
          0.011048972606658936,
          0.01381009817123413,
          0.020743966102600098,
          0.03576391935348511
         ],
         "yaxis": "y",
         "type": "scattergl"
        },
        {
         "hovertemplate": "variable=elated-bitter<br>Layer=%{x}<br>Euclidean Distance=%{y}<extra></extra>",
         "legendgroup": "elated-bitter",
         "line": {
          "color": "#FF97FF",
          "dash": "solid"
         },
         "marker": {
          "symbol": "circle"
         },
         "mode": "lines",
         "name": "elated-bitter",
         "showlegend": true,
         "x": {
          "dtype": "i1",
          "bdata": "AAECAwQFBgcICQoLDA0ODxAREhMUFRYXGBka"
         },
         "xaxis": "x",
         "y": [
          0.2490464448928833,
          0.043803274631500244,
          0.02593839168548584,
          0.023273169994354248,
          0.01775902509689331,
          0.012175321578979492,
          0.008860349655151367,
          0.007645010948181152,
          0.005898594856262207,
          0.005362868309020996,
          0.003867030143737793,
          0.0028668642044067383,
          0.0022145509719848633,
          0.0018917322158813477,
          0.0020512938499450684,
          0.0025764107704162598,
          0.002646505832672119,
          0.0036527514457702637,
          0.004326760768890381,
          0.005934417247772217,
          0.007097303867340088,
          0.008553624153137207,
          0.00973522663116455,
          0.011493563652038574,
          0.014160215854644775,
          0.02023416757583618,
          0.036574363708496094
         ],
         "yaxis": "y",
         "type": "scattergl"
        },
        {
         "hovertemplate": "variable=elated-jealous<br>Layer=%{x}<br>Euclidean Distance=%{y}<extra></extra>",
         "legendgroup": "elated-jealous",
         "line": {
          "color": "#FECB52",
          "dash": "solid"
         },
         "marker": {
          "symbol": "circle"
         },
         "mode": "lines",
         "name": "elated-jealous",
         "showlegend": true,
         "x": {
          "dtype": "i1",
          "bdata": "AAECAwQFBgcICQoLDA0ODxAREhMUFRYXGBka"
         },
         "xaxis": "x",
         "y": [
          0.2244279384613037,
          0.050275206565856934,
          0.029226481914520264,
          0.028013110160827637,
          0.018790841102600098,
          0.013944506645202637,
          0.01019364595413208,
          0.008922398090362549,
          0.006927430629730225,
          0.006296277046203613,
          0.004249691963195801,
          0.0034301280975341797,
          0.002555251121520996,
          0.002213001251220703,
          0.0023033618927001953,
          0.002780735492706299,
          0.0023236870765686035,
          0.00321882963180542,
          0.004060089588165283,
          0.006524503231048584,
          0.007899165153503418,
          0.00952136516571045,
          0.011287331581115723,
          0.013001739978790283,
          0.015735507011413574,
          0.02390599250793457,
          0.04640680551528931
         ],
         "yaxis": "y",
         "type": "scattergl"
        },
        {
         "hovertemplate": "variable=elated-angry<br>Layer=%{x}<br>Euclidean Distance=%{y}<extra></extra>",
         "legendgroup": "elated-angry",
         "line": {
          "color": "#636efa",
          "dash": "solid"
         },
         "marker": {
          "symbol": "circle"
         },
         "mode": "lines",
         "name": "elated-angry",
         "showlegend": true,
         "x": {
          "dtype": "i1",
          "bdata": "AAECAwQFBgcICQoLDA0ODxAREhMUFRYXGBka"
         },
         "xaxis": "x",
         "y": [
          0.21419841051101685,
          0.03938525915145874,
          0.02308952808380127,
          0.020485222339630127,
          0.015291094779968262,
          0.010736465454101562,
          0.00803375244140625,
          0.006987094879150391,
          0.005675256252288818,
          0.0051457881927490234,
          0.0037766098976135254,
          0.002907872200012207,
          0.0021941065788269043,
          0.0018540620803833008,
          0.0020253658294677734,
          0.0025266408920288086,
          0.002484142780303955,
          0.0031884312629699707,
          0.004064679145812988,
          0.005531787872314453,
          0.0066176652908325195,
          0.008184492588043213,
          0.009584307670593262,
          0.011510729789733887,
          0.014344096183776855,
          0.021494567394256592,
          0.03768718242645264
         ],
         "yaxis": "y",
         "type": "scattergl"
        },
        {
         "hovertemplate": "variable=elated-guilty<br>Layer=%{x}<br>Euclidean Distance=%{y}<extra></extra>",
         "legendgroup": "elated-guilty",
         "line": {
          "color": "#EF553B",
          "dash": "solid"
         },
         "marker": {
          "symbol": "circle"
         },
         "mode": "lines",
         "name": "elated-guilty",
         "showlegend": true,
         "x": {
          "dtype": "i1",
          "bdata": "AAECAwQFBgcICQoLDA0ODxAREhMUFRYXGBka"
         },
         "xaxis": "x",
         "y": [
          0.2584969997406006,
          0.04436373710632324,
          0.026314377784729004,
          0.02373605966567993,
          0.017293155193328857,
          0.012887835502624512,
          0.009404242038726807,
          0.008188247680664062,
          0.006205916404724121,
          0.005627334117889404,
          0.003931164741516113,
          0.0029532313346862793,
          0.002278745174407959,
          0.0019404292106628418,
          0.0021190643310546875,
          0.0026770830154418945,
          0.002710998058319092,
          0.0035468339920043945,
          0.004554271697998047,
          0.006061375141143799,
          0.0076032280921936035,
          0.009395301342010498,
          0.011243343353271484,
          0.013403534889221191,
          0.016282618045806885,
          0.023012518882751465,
          0.03695249557495117
         ],
         "yaxis": "y",
         "type": "scattergl"
        },
        {
         "hovertemplate": "variable=elated-passionate<br>Layer=%{x}<br>Euclidean Distance=%{y}<extra></extra>",
         "legendgroup": "elated-passionate",
         "line": {
          "color": "#00cc96",
          "dash": "solid"
         },
         "marker": {
          "symbol": "circle"
         },
         "mode": "lines",
         "name": "elated-passionate",
         "showlegend": true,
         "x": {
          "dtype": "i1",
          "bdata": "AAECAwQFBgcICQoLDA0ODxAREhMUFRYXGBka"
         },
         "xaxis": "x",
         "y": [
          0.18807071447372437,
          0.04324084520339966,
          0.025875985622406006,
          0.03106212615966797,
          0.02373635768890381,
          0.017093658447265625,
          0.012196719646453857,
          0.011555731296539307,
          0.008564949035644531,
          0.007798314094543457,
          0.005309879779815674,
          0.004007220268249512,
          0.002813398838043213,
          0.0023880600929260254,
          0.0025739669799804688,
          0.003300309181213379,
          0.0030936002731323242,
          0.003966689109802246,
          0.005089998245239258,
          0.007401168346405029,
          0.008891642093658447,
          0.010672926902770996,
          0.013053715229034424,
          0.01489400863647461,
          0.01735818386077881,
          0.023936033248901367,
          0.03908485174179077
         ],
         "yaxis": "y",
         "type": "scattergl"
        },
        {
         "hovertemplate": "variable=elated-brave<br>Layer=%{x}<br>Euclidean Distance=%{y}<extra></extra>",
         "legendgroup": "elated-brave",
         "line": {
          "color": "#ab63fa",
          "dash": "solid"
         },
         "marker": {
          "symbol": "circle"
         },
         "mode": "lines",
         "name": "elated-brave",
         "showlegend": true,
         "x": {
          "dtype": "i1",
          "bdata": "AAECAwQFBgcICQoLDA0ODxAREhMUFRYXGBka"
         },
         "xaxis": "x",
         "y": [
          0.22514766454696655,
          0.04204452037811279,
          0.025111496448516846,
          0.022692322731018066,
          0.01754218339920044,
          0.012553095817565918,
          0.009283304214477539,
          0.008600234985351562,
          0.007049083709716797,
          0.006270051002502441,
          0.0045778751373291016,
          0.0033162832260131836,
          0.0024951696395874023,
          0.002094089984893799,
          0.0022677183151245117,
          0.0028306245803833008,
          0.0027974843978881836,
          0.0036202073097229004,
          0.004514217376708984,
          0.0058525800704956055,
          0.0069206953048706055,
          0.008453726768493652,
          0.009915530681610107,
          0.011771678924560547,
          0.014830291271209717,
          0.02166271209716797,
          0.036384761333465576
         ],
         "yaxis": "y",
         "type": "scattergl"
        },
        {
         "hovertemplate": "variable=elated-confident<br>Layer=%{x}<br>Euclidean Distance=%{y}<extra></extra>",
         "legendgroup": "elated-confident",
         "line": {
          "color": "#FFA15A",
          "dash": "solid"
         },
         "marker": {
          "symbol": "circle"
         },
         "mode": "lines",
         "name": "elated-confident",
         "showlegend": true,
         "x": {
          "dtype": "i1",
          "bdata": "AAECAwQFBgcICQoLDA0ODxAREhMUFRYXGBka"
         },
         "xaxis": "x",
         "y": [
          0.21960997581481934,
          0.04019719362258911,
          0.024003922939300537,
          0.022441387176513672,
          0.01552116870880127,
          0.011112809181213379,
          0.008054614067077637,
          0.007170975208282471,
          0.005452096462249756,
          0.004924416542053223,
          0.003522217273712158,
          0.002618074417114258,
          0.0020241737365722656,
          0.0017060637474060059,
          0.0018693208694458008,
          0.002279520034790039,
          0.0021864771842956543,
          0.0029048919677734375,
          0.0036342740058898926,
          0.004705309867858887,
          0.0059642791748046875,
          0.00718843936920166,
          0.008382439613342285,
          0.01012122631072998,
          0.012321531772613525,
          0.01804131269454956,
          0.028308212757110596
         ],
         "yaxis": "y",
         "type": "scattergl"
        },
        {
         "hovertemplate": "variable=peaceful-calm<br>Layer=%{x}<br>Euclidean Distance=%{y}<extra></extra>",
         "legendgroup": "peaceful-calm",
         "line": {
          "color": "#19d3f3",
          "dash": "solid"
         },
         "marker": {
          "symbol": "circle"
         },
         "mode": "lines",
         "name": "peaceful-calm",
         "showlegend": true,
         "x": {
          "dtype": "i1",
          "bdata": "AAECAwQFBgcICQoLDA0ODxAREhMUFRYXGBka"
         },
         "xaxis": "x",
         "y": [
          0.08571738004684448,
          0.02386951446533203,
          0.011693775653839111,
          0.010226428508758545,
          0.006413877010345459,
          0.0042427778244018555,
          0.0028649568557739258,
          0.0025205612182617188,
          0.001789689064025879,
          0.001603245735168457,
          0.0010724067687988281,
          7.630586624145508E-4,
          5.363225936889648E-4,
          4.457235336303711E-4,
          4.799962043762207E-4,
          6.28352165222168E-4,
          6.250739097595215E-4,
          8.732080459594727E-4,
          0.0012189745903015137,
          0.0017393827438354492,
          0.0020578503608703613,
          0.002300858497619629,
          0.0027168989181518555,
          0.0030205845832824707,
          0.003497898578643799,
          0.004690706729888916,
          0.007633864879608154
         ],
         "yaxis": "y",
         "type": "scattergl"
        },
        {
         "hovertemplate": "variable=peaceful-content<br>Layer=%{x}<br>Euclidean Distance=%{y}<extra></extra>",
         "legendgroup": "peaceful-content",
         "line": {
          "color": "#FF6692",
          "dash": "solid"
         },
         "marker": {
          "symbol": "circle"
         },
         "mode": "lines",
         "name": "peaceful-content",
         "showlegend": true,
         "x": {
          "dtype": "i1",
          "bdata": "AAECAwQFBgcICQoLDA0ODxAREhMUFRYXGBka"
         },
         "xaxis": "x",
         "y": [
          0.16091299057006836,
          0.03729832172393799,
          0.018895268440246582,
          0.015672743320465088,
          0.009889364242553711,
          0.007239341735839844,
          0.0049291253089904785,
          0.004459381103515625,
          0.0034079551696777344,
          0.0030641555786132812,
          0.0021733641624450684,
          0.001489877700805664,
          0.0011001825332641602,
          9.253025054931641E-4,
          0.0010195374488830566,
          0.0014151930809020996,
          0.0014460086822509766,
          0.001871943473815918,
          0.00273054838180542,
          0.0036312341690063477,
          0.004244208335876465,
          0.005012214183807373,
          0.006154119968414307,
          0.007186293601989746,
          0.008680522441864014,
          0.011247992515563965,
          0.017033159732818604
         ],
         "yaxis": "y",
         "type": "scattergl"
        },
        {
         "hovertemplate": "variable=peaceful-relaxed<br>Layer=%{x}<br>Euclidean Distance=%{y}<extra></extra>",
         "legendgroup": "peaceful-relaxed",
         "line": {
          "color": "#B6E880",
          "dash": "solid"
         },
         "marker": {
          "symbol": "circle"
         },
         "mode": "lines",
         "name": "peaceful-relaxed",
         "showlegend": true,
         "x": {
          "dtype": "i1",
          "bdata": "AAECAwQFBgcICQoLDA0ODxAREhMUFRYXGBka"
         },
         "xaxis": "x",
         "y": [
          0.09011983871459961,
          0.026906490325927734,
          0.013214588165283203,
          0.011069118976593018,
          0.007125675678253174,
          0.005064725875854492,
          0.0034691691398620605,
          0.003143131732940674,
          0.002270638942718506,
          0.0019561052322387695,
          0.0013077855110168457,
          8.834600448608398E-4,
          6.027817726135254E-4,
          4.92095947265625E-4,
          5.23984432220459E-4,
          7.05420970916748E-4,
          7.066130638122559E-4,
          0.001121222972869873,
          0.0014246702194213867,
          0.0016963481903076172,
          0.0019715428352355957,
          0.002128005027770996,
          0.0025297999382019043,
          0.002821207046508789,
          0.0032445192337036133,
          0.0038734078407287598,
          0.007006227970123291
         ],
         "yaxis": "y",
         "type": "scattergl"
        },
        {
         "hovertemplate": "variable=peaceful-sad<br>Layer=%{x}<br>Euclidean Distance=%{y}<extra></extra>",
         "legendgroup": "peaceful-sad",
         "line": {
          "color": "#FF97FF",
          "dash": "solid"
         },
         "marker": {
          "symbol": "circle"
         },
         "mode": "lines",
         "name": "peaceful-sad",
         "showlegend": true,
         "x": {
          "dtype": "i1",
          "bdata": "AAECAwQFBgcICQoLDA0ODxAREhMUFRYXGBka"
         },
         "xaxis": "x",
         "y": [
          0.13003480434417725,
          0.03375297784805298,
          0.016318023204803467,
          0.013244569301605225,
          0.00820314884185791,
          0.005879223346710205,
          0.003804624080657959,
          0.003440380096435547,
          0.002507328987121582,
          0.0022122859954833984,
          0.001522362232208252,
          0.0010597705841064453,
          7.549524307250977E-4,
          6.28352165222168E-4,
          6.87718391418457E-4,
          9.342432022094727E-4,
          9.717941284179688E-4,
          0.0014103055000305176,
          0.0020246505737304688,
          0.002817511558532715,
          0.0034897923469543457,
          0.004133641719818115,
          0.004821896553039551,
          0.005429208278656006,
          0.006372511386871338,
          0.008433699607849121,
          0.014639317989349365
         ],
         "yaxis": "y",
         "type": "scattergl"
        },
        {
         "hovertemplate": "variable=peaceful-anxious<br>Layer=%{x}<br>Euclidean Distance=%{y}<extra></extra>",
         "legendgroup": "peaceful-anxious",
         "line": {
          "color": "#FECB52",
          "dash": "solid"
         },
         "marker": {
          "symbol": "circle"
         },
         "mode": "lines",
         "name": "peaceful-anxious",
         "showlegend": true,
         "x": {
          "dtype": "i1",
          "bdata": "AAECAwQFBgcICQoLDA0ODxAREhMUFRYXGBka"
         },
         "xaxis": "x",
         "y": [
          0.19803118705749512,
          0.04319179058074951,
          0.022973954677581787,
          0.01964867115020752,
          0.013407707214355469,
          0.010656893253326416,
          0.0076482295989990234,
          0.006907284259796143,
          0.006042659282684326,
          0.005471587181091309,
          0.0039473772048950195,
          0.0030072927474975586,
          0.0024419426918029785,
          0.0021054744720458984,
          0.0022749900817871094,
          0.002888619899749756,
          0.0029396414756774902,
          0.003574848175048828,
          0.004191100597381592,
          0.0052520036697387695,
          0.005935728549957275,
          0.007091403007507324,
          0.009078562259674072,
          0.0102805495262146,
          0.012595295906066895,
          0.01791703701019287,
          0.02838832139968872
         ],
         "yaxis": "y",
         "type": "scattergl"
        },
        {
         "hovertemplate": "variable=peaceful-fearful<br>Layer=%{x}<br>Euclidean Distance=%{y}<extra></extra>",
         "legendgroup": "peaceful-fearful",
         "line": {
          "color": "#636efa",
          "dash": "solid"
         },
         "marker": {
          "symbol": "circle"
         },
         "mode": "lines",
         "name": "peaceful-fearful",
         "showlegend": true,
         "x": {
          "dtype": "i1",
          "bdata": "AAECAwQFBgcICQoLDA0ODxAREhMUFRYXGBka"
         },
         "xaxis": "x",
         "y": [
          0.18475544452667236,
          0.04970276355743408,
          0.024477243423461914,
          0.02005302906036377,
          0.015561163425445557,
          0.012347161769866943,
          0.008586406707763672,
          0.007943391799926758,
          0.006298542022705078,
          0.0056923627853393555,
          0.003961026668548584,
          0.0029969215393066406,
          0.002333700656890869,
          0.0020083189010620117,
          0.002133011817932129,
          0.0024961233139038086,
          0.0027211904525756836,
          0.003510713577270508,
          0.004202783107757568,
          0.0054552555084228516,
          0.006395101547241211,
          0.007451891899108887,
          0.008877933025360107,
          0.009864389896392822,
          0.011842787265777588,
          0.015541791915893555,
          0.02108389139175415
         ],
         "yaxis": "y",
         "type": "scattergl"
        },
        {
         "hovertemplate": "variable=peaceful-scared<br>Layer=%{x}<br>Euclidean Distance=%{y}<extra></extra>",
         "legendgroup": "peaceful-scared",
         "line": {
          "color": "#EF553B",
          "dash": "solid"
         },
         "marker": {
          "symbol": "circle"
         },
         "mode": "lines",
         "name": "peaceful-scared",
         "showlegend": true,
         "x": {
          "dtype": "i1",
          "bdata": "AAECAwQFBgcICQoLDA0ODxAREhMUFRYXGBka"
         },
         "xaxis": "x",
         "y": [
          0.10308873653411865,
          0.029823780059814453,
          0.01477360725402832,
          0.012443602085113525,
          0.007914185523986816,
          0.0059621334075927734,
          0.003932356834411621,
          0.003559589385986328,
          0.002650022506713867,
          0.00237429141998291,
          0.0016053318977355957,
          0.0011074542999267578,
          7.655620574951172E-4,
          6.332993507385254E-4,
          6.827116012573242E-4,
          9.507536888122559E-4,
          0.0010374784469604492,
          0.0015742182731628418,
          0.002041935920715332,
          0.002547919750213623,
          0.003239274024963379,
          0.003560304641723633,
          0.004308640956878662,
          0.004645287990570068,
          0.0050778985023498535,
          0.006156444549560547,
          0.008663713932037354
         ],
         "yaxis": "y",
         "type": "scattergl"
        },
        {
         "hovertemplate": "variable=peaceful-depressed<br>Layer=%{x}<br>Euclidean Distance=%{y}<extra></extra>",
         "legendgroup": "peaceful-depressed",
         "line": {
          "color": "#00cc96",
          "dash": "solid"
         },
         "marker": {
          "symbol": "circle"
         },
         "mode": "lines",
         "name": "peaceful-depressed",
         "showlegend": true,
         "x": {
          "dtype": "i1",
          "bdata": "AAECAwQFBgcICQoLDA0ODxAREhMUFRYXGBka"
         },
         "xaxis": "x",
         "y": [
          0.19513988494873047,
          0.05282241106033325,
          0.028004109859466553,
          0.02512449026107788,
          0.01799774169921875,
          0.013606250286102295,
          0.009731054306030273,
          0.009240210056304932,
          0.007104098796844482,
          0.006951570510864258,
          0.004973769187927246,
          0.0037424564361572266,
          0.002942204475402832,
          0.002478301525115967,
          0.0026558637619018555,
          0.0032520294189453125,
          0.0031312108039855957,
          0.0038587450981140137,
          0.004979610443115234,
          0.00596386194229126,
          0.007050633430480957,
          0.008549392223358154,
          0.00996255874633789,
          0.011124253273010254,
          0.013691127300262451,
          0.019259631633758545,
          0.031003236770629883
         ],
         "yaxis": "y",
         "type": "scattergl"
        },
        {
         "hovertemplate": "variable=peaceful-lonely<br>Layer=%{x}<br>Euclidean Distance=%{y}<extra></extra>",
         "legendgroup": "peaceful-lonely",
         "line": {
          "color": "#ab63fa",
          "dash": "solid"
         },
         "marker": {
          "symbol": "circle"
         },
         "mode": "lines",
         "name": "peaceful-lonely",
         "showlegend": true,
         "x": {
          "dtype": "i1",
          "bdata": "AAECAwQFBgcICQoLDA0ODxAREhMUFRYXGBka"
         },
         "xaxis": "x",
         "y": [
          0.1077808141708374,
          0.03121274709701538,
          0.01563549041748047,
          0.01191025972366333,
          0.007338166236877441,
          0.0053629279136657715,
          0.003488600254058838,
          0.0031134486198425293,
          0.0022739171981811523,
          0.002009749412536621,
          0.0013339519500732422,
          9.210109710693359E-4,
          6.312131881713867E-4,
          5.175471305847168E-4,
          5.481839179992676E-4,
          7.660388946533203E-4,
          7.77900218963623E-4,
          0.0011464357376098633,
          0.0014960765838623047,
          0.001977980136871338,
          0.002470672130584717,
          0.002843618392944336,
          0.003231644630432129,
          0.0034792423248291016,
          0.003909170627593994,
          0.004764676094055176,
          0.006775021553039551
         ],
         "yaxis": "y",
         "type": "scattergl"
        },
        {
         "hovertemplate": "variable=peaceful-bitter<br>Layer=%{x}<br>Euclidean Distance=%{y}<extra></extra>",
         "legendgroup": "peaceful-bitter",
         "line": {
          "color": "#FFA15A",
          "dash": "solid"
         },
         "marker": {
          "symbol": "circle"
         },
         "mode": "lines",
         "name": "peaceful-bitter",
         "showlegend": true,
         "x": {
          "dtype": "i1",
          "bdata": "AAECAwQFBgcICQoLDA0ODxAREhMUFRYXGBka"
         },
         "xaxis": "x",
         "y": [
          0.11031132936477661,
          0.03256577253341675,
          0.015960633754730225,
          0.013629496097564697,
          0.008543133735656738,
          0.006268620491027832,
          0.0042209625244140625,
          0.0038234591484069824,
          0.002733469009399414,
          0.0024265050888061523,
          0.001605987548828125,
          0.001119375228881836,
          7.745027542114258E-4,
          6.353259086608887E-4,
          6.745457649230957E-4,
          9.006261825561523E-4,
          9.850859642028809E-4,
          0.0015461444854736328,
          0.0019131898880004883,
          0.0025679469108581543,
          0.0031766891479492188,
          0.0038820505142211914,
          0.004428088665008545,
          0.004811584949493408,
          0.005457937717437744,
          0.006530404090881348,
          0.010230004787445068
         ],
         "yaxis": "y",
         "type": "scattergl"
        },
        {
         "hovertemplate": "variable=peaceful-jealous<br>Layer=%{x}<br>Euclidean Distance=%{y}<extra></extra>",
         "legendgroup": "peaceful-jealous",
         "line": {
          "color": "#19d3f3",
          "dash": "solid"
         },
         "marker": {
          "symbol": "circle"
         },
         "mode": "lines",
         "name": "peaceful-jealous",
         "showlegend": true,
         "x": {
          "dtype": "i1",
          "bdata": "AAECAwQFBgcICQoLDA0ODxAREhMUFRYXGBka"
         },
         "xaxis": "x",
         "y": [
          0.19760721921920776,
          0.05170100927352905,
          0.029361248016357422,
          0.027087390422821045,
          0.018323898315429688,
          0.014455735683441162,
          0.010390877723693848,
          0.009188652038574219,
          0.007990598678588867,
          0.007219552993774414,
          0.00515902042388916,
          0.004124343395233154,
          0.0032303333282470703,
          0.0027344822883605957,
          0.0028710365295410156,
          0.003495931625366211,
          0.0031281709671020508,
          0.0038306713104248047,
          0.004513680934906006,
          0.006271004676818848,
          0.007100999355316162,
          0.008574724197387695,
          0.010019838809967041,
          0.01113736629486084,
          0.01366966962814331,
          0.021284818649291992,
          0.041322946548461914
         ],
         "yaxis": "y",
         "type": "scattergl"
        },
        {
         "hovertemplate": "variable=peaceful-angry<br>Layer=%{x}<br>Euclidean Distance=%{y}<extra></extra>",
         "legendgroup": "peaceful-angry",
         "line": {
          "color": "#FF6692",
          "dash": "solid"
         },
         "marker": {
          "symbol": "circle"
         },
         "mode": "lines",
         "name": "peaceful-angry",
         "showlegend": true,
         "x": {
          "dtype": "i1",
          "bdata": "AAECAwQFBgcICQoLDA0ODxAREhMUFRYXGBka"
         },
         "xaxis": "x",
         "y": [
          0.10087037086486816,
          0.02854984998703003,
          0.013648927211761475,
          0.011769890785217285,
          0.007228970527648926,
          0.005575299263000488,
          0.0037246346473693848,
          0.0033492445945739746,
          0.0025250911712646484,
          0.0022448301315307617,
          0.0015102624893188477,
          0.0010582804679870605,
          7.147789001464844E-4,
          5.90205192565918E-4,
          6.327629089355469E-4,
          8.721351623535156E-4,
          9.181499481201172E-4,
          0.0013118386268615723,
          0.0016612410545349121,
          0.0023326873779296875,
          0.002853214740753174,
          0.0033986568450927734,
          0.003940701484680176,
          0.004316508769989014,
          0.004991590976715088,
          0.006085574626922607,
          0.008749842643737793
         ],
         "yaxis": "y",
         "type": "scattergl"
        },
        {
         "hovertemplate": "variable=peaceful-guilty<br>Layer=%{x}<br>Euclidean Distance=%{y}<extra></extra>",
         "legendgroup": "peaceful-guilty",
         "line": {
          "color": "#B6E880",
          "dash": "solid"
         },
         "marker": {
          "symbol": "circle"
         },
         "mode": "lines",
         "name": "peaceful-guilty",
         "showlegend": true,
         "x": {
          "dtype": "i1",
          "bdata": "AAECAwQFBgcICQoLDA0ODxAREhMUFRYXGBka"
         },
         "xaxis": "x",
         "y": [
          0.1133584976196289,
          0.03321141004562378,
          0.01595306396484375,
          0.013600826263427734,
          0.0087432861328125,
          0.006543159484863281,
          0.004229307174682617,
          0.0038868188858032227,
          0.002742767333984375,
          0.0024008750915527344,
          0.0016079545021057129,
          0.0011140704154968262,
          7.675886154174805E-4,
          6.309151649475098E-4,
          6.691813468933105E-4,
          9.670257568359375E-4,
          0.0010654926300048828,
          0.001531839370727539,
          0.002155125141143799,
          0.0027627944946289062,
          0.003606736660003662,
          0.004056334495544434,
          0.004960238933563232,
          0.0055983662605285645,
          0.006453812122344971,
          0.00821995735168457,
          0.010828852653503418
         ],
         "yaxis": "y",
         "type": "scattergl"
        },
        {
         "hovertemplate": "variable=peaceful-passionate<br>Layer=%{x}<br>Euclidean Distance=%{y}<extra></extra>",
         "legendgroup": "peaceful-passionate",
         "line": {
          "color": "#FF97FF",
          "dash": "solid"
         },
         "marker": {
          "symbol": "circle"
         },
         "mode": "lines",
         "name": "peaceful-passionate",
         "showlegend": true,
         "x": {
          "dtype": "i1",
          "bdata": "AAECAwQFBgcICQoLDA0ODxAREhMUFRYXGBka"
         },
         "xaxis": "x",
         "y": [
          0.1835407018661499,
          0.0458642840385437,
          0.023752808570861816,
          0.02389991283416748,
          0.01727890968322754,
          0.013128399848937988,
          0.00923311710357666,
          0.008870720863342285,
          0.0071558356285095215,
          0.006470441818237305,
          0.004487454891204834,
          0.0034754276275634766,
          0.0027092695236206055,
          0.0023230314254760742,
          0.0024775266647338867,
          0.002955198287963867,
          0.0029745101928710938,
          0.0036760568618774414,
          0.004205524921417236,
          0.005585074424743652,
          0.006625652313232422,
          0.008019685745239258,
          0.009671926498413086,
          0.010897994041442871,
          0.013161063194274902,
          0.018995940685272217,
          0.02863597869873047
         ],
         "yaxis": "y",
         "type": "scattergl"
        },
        {
         "hovertemplate": "variable=peaceful-brave<br>Layer=%{x}<br>Euclidean Distance=%{y}<extra></extra>",
         "legendgroup": "peaceful-brave",
         "line": {
          "color": "#FECB52",
          "dash": "solid"
         },
         "marker": {
          "symbol": "circle"
         },
         "mode": "lines",
         "name": "peaceful-brave",
         "showlegend": true,
         "x": {
          "dtype": "i1",
          "bdata": "AAECAwQFBgcICQoLDA0ODxAREhMUFRYXGBka"
         },
         "xaxis": "x",
         "y": [
          0.10886341333389282,
          0.03202378749847412,
          0.015437424182891846,
          0.013595640659332275,
          0.00906670093536377,
          0.00668025016784668,
          0.004600048065185547,
          0.0044449567794799805,
          0.003353118896484375,
          0.002971351146697998,
          0.001972198486328125,
          0.0013488531112670898,
          9.092092514038086E-4,
          7.420778274536133E-4,
          7.846355438232422E-4,
          0.001050412654876709,
          0.0010683536529541016,
          0.0014857053756713867,
          0.0020533204078674316,
          0.00252687931060791,
          0.002966165542602539,
          0.0034790635108947754,
          0.004142880439758301,
          0.004584550857543945,
          0.005461335182189941,
          0.006888210773468018,
          0.011971473693847656
         ],
         "yaxis": "y",
         "type": "scattergl"
        },
        {
         "hovertemplate": "variable=peaceful-confident<br>Layer=%{x}<br>Euclidean Distance=%{y}<extra></extra>",
         "legendgroup": "peaceful-confident",
         "line": {
          "color": "#636efa",
          "dash": "solid"
         },
         "marker": {
          "symbol": "circle"
         },
         "mode": "lines",
         "name": "peaceful-confident",
         "showlegend": true,
         "x": {
          "dtype": "i1",
          "bdata": "AAECAwQFBgcICQoLDA0ODxAREhMUFRYXGBka"
         },
         "xaxis": "x",
         "y": [
          0.10888510942459106,
          0.03039836883544922,
          0.014771342277526855,
          0.012852013111114502,
          0.0080336332321167,
          0.00579458475112915,
          0.003744781017303467,
          0.0035548806190490723,
          0.002646327018737793,
          0.002263963222503662,
          0.0015403032302856445,
          0.0010552406311035156,
          7.312893867492676E-4,
          6.077289581298828E-4,
          6.466507911682129E-4,
          8.490085601806641E-4,
          8.856654167175293E-4,
          0.0012478828430175781,
          0.001666247844696045,
          0.0020093321800231934,
          0.0025441646575927734,
          0.002732515335083008,
          0.003202080726623535,
          0.003567636013031006,
          0.004061281681060791,
          0.005139172077178955,
          0.00863349437713623
         ],
         "yaxis": "y",
         "type": "scattergl"
        },
        {
         "hovertemplate": "variable=calm-content<br>Layer=%{x}<br>Euclidean Distance=%{y}<extra></extra>",
         "legendgroup": "calm-content",
         "line": {
          "color": "#EF553B",
          "dash": "solid"
         },
         "marker": {
          "symbol": "circle"
         },
         "mode": "lines",
         "name": "calm-content",
         "showlegend": true,
         "x": {
          "dtype": "i1",
          "bdata": "AAECAwQFBgcICQoLDA0ODxAREhMUFRYXGBka"
         },
         "xaxis": "x",
         "y": [
          0.13606971502304077,
          0.03441035747528076,
          0.016878247261047363,
          0.014253377914428711,
          0.00945138931274414,
          0.006481170654296875,
          0.004436612129211426,
          0.003969430923461914,
          0.0029825568199157715,
          0.0026601552963256836,
          0.0018007755279541016,
          0.0012794733047485352,
          9.203553199768066E-4,
          7.750988006591797E-4,
          8.493661880493164E-4,
          0.0011672377586364746,
          0.0011416077613830566,
          0.0014391541481018066,
          0.0022965669631958008,
          0.003416299819946289,
          0.004282951354980469,
          0.0050040483474731445,
          0.005978226661682129,
          0.006896615028381348,
          0.008009374141693115,
          0.010456442832946777,
          0.016928911209106445
         ],
         "yaxis": "y",
         "type": "scattergl"
        },
        {
         "hovertemplate": "variable=calm-relaxed<br>Layer=%{x}<br>Euclidean Distance=%{y}<extra></extra>",
         "legendgroup": "calm-relaxed",
         "line": {
          "color": "#00cc96",
          "dash": "solid"
         },
         "marker": {
          "symbol": "circle"
         },
         "mode": "lines",
         "name": "calm-relaxed",
         "showlegend": true,
         "x": {
          "dtype": "i1",
          "bdata": "AAECAwQFBgcICQoLDA0ODxAREhMUFRYXGBka"
         },
         "xaxis": "x",
         "y": [
          0.08815383911132812,
          0.02690976858139038,
          0.01310276985168457,
          0.011466503143310547,
          0.007778644561767578,
          0.005336284637451172,
          0.0037436485290527344,
          0.003241419792175293,
          0.0023064613342285156,
          0.001983046531677246,
          0.0013120770454406738,
          9.08195972442627E-4,
          6.251335144042969E-4,
          5.192756652832031E-4,
          5.480051040649414E-4,
          7.195472717285156E-4,
          7.361173629760742E-4,
          0.0010816454887390137,
          0.001467287540435791,
          0.0018640756607055664,
          0.002429366111755371,
          0.002617478370666504,
          0.002936244010925293,
          0.0031546950340270996,
          0.0036163926124572754,
          0.004675865173339844,
          0.007787764072418213
         ],
         "yaxis": "y",
         "type": "scattergl"
        },
        {
         "hovertemplate": "variable=calm-sad<br>Layer=%{x}<br>Euclidean Distance=%{y}<extra></extra>",
         "legendgroup": "calm-sad",
         "line": {
          "color": "#ab63fa",
          "dash": "solid"
         },
         "marker": {
          "symbol": "circle"
         },
         "mode": "lines",
         "name": "calm-sad",
         "showlegend": true,
         "x": {
          "dtype": "i1",
          "bdata": "AAECAwQFBgcICQoLDA0ODxAREhMUFRYXGBka"
         },
         "xaxis": "x",
         "y": [
          0.11626273393630981,
          0.031744182109832764,
          0.01474684476852417,
          0.012452363967895508,
          0.00803917646408081,
          0.005245864391326904,
          0.003465712070465088,
          0.0030832886695861816,
          0.002207040786743164,
          0.0019299983978271484,
          0.0012694597244262695,
          9.050369262695312E-4,
          6.320476531982422E-4,
          5.223751068115234E-4,
          5.598068237304688E-4,
          7.529258728027344E-4,
          7.860660552978516E-4,
          0.0011152029037475586,
          0.00171583890914917,
          0.002836287021636963,
          0.0038200020790100098,
          0.004368484020233154,
          0.005038797855377197,
          0.0055391788482666016,
          0.0063190460205078125,
          0.008085131645202637,
          0.01445990800857544
         ],
         "yaxis": "y",
         "type": "scattergl"
        },
        {
         "hovertemplate": "variable=calm-anxious<br>Layer=%{x}<br>Euclidean Distance=%{y}<extra></extra>",
         "legendgroup": "calm-anxious",
         "line": {
          "color": "#FFA15A",
          "dash": "solid"
         },
         "marker": {
          "symbol": "circle"
         },
         "mode": "lines",
         "name": "calm-anxious",
         "showlegend": true,
         "x": {
          "dtype": "i1",
          "bdata": "AAECAwQFBgcICQoLDA0ODxAREhMUFRYXGBka"
         },
         "xaxis": "x",
         "y": [
          0.17401158809661865,
          0.039857566356658936,
          0.021574020385742188,
          0.01829516887664795,
          0.01324087381362915,
          0.009592413902282715,
          0.006918132305145264,
          0.00621485710144043,
          0.005398392677307129,
          0.004946470260620117,
          0.003492593765258789,
          0.00276869535446167,
          0.0022446513175964355,
          0.0019453167915344238,
          0.0021033287048339844,
          0.0026445984840393066,
          0.0026322603225708008,
          0.0032578706741333008,
          0.0038622021675109863,
          0.005385935306549072,
          0.006280481815338135,
          0.007473766803741455,
          0.009483873844146729,
          0.01084810495376587,
          0.013143599033355713,
          0.01851499080657959,
          0.02457660436630249
         ],
         "yaxis": "y",
         "type": "scattergl"
        },
        {
         "hovertemplate": "variable=calm-fearful<br>Layer=%{x}<br>Euclidean Distance=%{y}<extra></extra>",
         "legendgroup": "calm-fearful",
         "line": {
          "color": "#19d3f3",
          "dash": "solid"
         },
         "marker": {
          "symbol": "circle"
         },
         "mode": "lines",
         "name": "calm-fearful",
         "showlegend": true,
         "x": {
          "dtype": "i1",
          "bdata": "AAECAwQFBgcICQoLDA0ODxAREhMUFRYXGBka"
         },
         "xaxis": "x",
         "y": [
          0.17525923252105713,
          0.05054682493209839,
          0.02496492862701416,
          0.021638035774230957,
          0.017253398895263672,
          0.012906968593597412,
          0.009027957916259766,
          0.00831151008605957,
          0.0065171122550964355,
          0.005942106246948242,
          0.004106879234313965,
          0.0031491518020629883,
          0.0024520158767700195,
          0.0021190643310546875,
          0.002255082130432129,
          0.0026487112045288086,
          0.0028276443481445312,
          0.003607630729675293,
          0.0042997002601623535,
          0.0060111284255981445,
          0.0072293877601623535,
          0.008125841617584229,
          0.009519875049591064,
          0.010555803775787354,
          0.012651920318603516,
          0.017224550247192383,
          0.021718144416809082
         ],
         "yaxis": "y",
         "type": "scattergl"
        },
        {
         "hovertemplate": "variable=calm-scared<br>Layer=%{x}<br>Euclidean Distance=%{y}<extra></extra>",
         "legendgroup": "calm-scared",
         "line": {
          "color": "#FF6692",
          "dash": "solid"
         },
         "marker": {
          "symbol": "circle"
         },
         "mode": "lines",
         "name": "calm-scared",
         "showlegend": true,
         "x": {
          "dtype": "i1",
          "bdata": "AAECAwQFBgcICQoLDA0ODxAREhMUFRYXGBka"
         },
         "xaxis": "x",
         "y": [
          0.10909336805343628,
          0.02939683198928833,
          0.014421463012695312,
          0.012326836585998535,
          0.008223950862884521,
          0.005644798278808594,
          0.003731071949005127,
          0.0033407211303710938,
          0.0023976564407348633,
          0.0021510720252990723,
          0.0014012455940246582,
          9.79304313659668E-4,
          6.721019744873047E-4,
          5.546808242797852E-4,
          5.890130996704102E-4,
          8.088350296020508E-4,
          8.576512336730957E-4,
          0.0012468695640563965,
          0.0016480088233947754,
          0.0023990869522094727,
          0.0033805370330810547,
          0.003559887409210205,
          0.004143834114074707,
          0.004397273063659668,
          0.0047509074211120605,
          0.006035566329956055,
          0.009277939796447754
         ],
         "yaxis": "y",
         "type": "scattergl"
        },
        {
         "hovertemplate": "variable=calm-depressed<br>Layer=%{x}<br>Euclidean Distance=%{y}<extra></extra>",
         "legendgroup": "calm-depressed",
         "line": {
          "color": "#B6E880",
          "dash": "solid"
         },
         "marker": {
          "symbol": "circle"
         },
         "mode": "lines",
         "name": "calm-depressed",
         "showlegend": true,
         "x": {
          "dtype": "i1",
          "bdata": "AAECAwQFBgcICQoLDA0ODxAREhMUFRYXGBka"
         },
         "xaxis": "x",
         "y": [
          0.1834414005279541,
          0.05284547805786133,
          0.027728676795959473,
          0.02445220947265625,
          0.01785266399383545,
          0.01278012990951538,
          0.009226202964782715,
          0.00881338119506836,
          0.006696581840515137,
          0.006590545177459717,
          0.004637360572814941,
          0.0035791397094726562,
          0.0028343796730041504,
          0.0024016499519348145,
          0.002554774284362793,
          0.0030992627143859863,
          0.0029512643814086914,
          0.003596007823944092,
          0.0046651363372802734,
          0.005939841270446777,
          0.007178962230682373,
          0.0084761381149292,
          0.00971764326095581,
          0.010945498943328857,
          0.013569176197052002,
          0.01898658275604248,
          0.026202857494354248
         ],
         "yaxis": "y",
         "type": "scattergl"
        },
        {
         "hovertemplate": "variable=calm-lonely<br>Layer=%{x}<br>Euclidean Distance=%{y}<extra></extra>",
         "legendgroup": "calm-lonely",
         "line": {
          "color": "#FF97FF",
          "dash": "solid"
         },
         "marker": {
          "symbol": "circle"
         },
         "mode": "lines",
         "name": "calm-lonely",
         "showlegend": true,
         "x": {
          "dtype": "i1",
          "bdata": "AAECAwQFBgcICQoLDA0ODxAREhMUFRYXGBka"
         },
         "xaxis": "x",
         "y": [
          0.11164939403533936,
          0.03201401233673096,
          0.015753746032714844,
          0.01281881332397461,
          0.008469104766845703,
          0.005799770355224609,
          0.0038353800773620605,
          0.0033608675003051758,
          0.002479732036590576,
          0.0022355318069458008,
          0.0014772415161132812,
          0.0010362863540649414,
          7.156729698181152E-4,
          5.921125411987305E-4,
          6.415247917175293E-4,
          8.702278137207031E-4,
          8.642673492431641E-4,
          0.0011855363845825195,
          0.0015473365783691406,
          0.0023682713508605957,
          0.003123641014099121,
          0.003450155258178711,
          0.0038764476776123047,
          0.0041727423667907715,
          0.004676938056945801,
          0.005785048007965088,
          0.009213089942932129
         ],
         "yaxis": "y",
         "type": "scattergl"
        },
        {
         "hovertemplate": "variable=calm-bitter<br>Layer=%{x}<br>Euclidean Distance=%{y}<extra></extra>",
         "legendgroup": "calm-bitter",
         "line": {
          "color": "#FECB52",
          "dash": "solid"
         },
         "marker": {
          "symbol": "circle"
         },
         "mode": "lines",
         "name": "calm-bitter",
         "showlegend": true,
         "x": {
          "dtype": "i1",
          "bdata": "AAECAwQFBgcICQoLDA0ODxAREhMUFRYXGBka"
         },
         "xaxis": "x",
         "y": [
          0.11220812797546387,
          0.031956493854522705,
          0.0153464674949646,
          0.014116287231445312,
          0.009524166584014893,
          0.006271243095397949,
          0.004238247871398926,
          0.003837287425994873,
          0.0027551651000976562,
          0.0024353861808776855,
          0.0015890002250671387,
          0.0011252164840698242,
          7.948875427246094E-4,
          6.607770919799805E-4,
          7.016658782958984E-4,
          9.250044822692871E-4,
          9.813904762268066E-4,
          0.001432955265045166,
          0.0018048882484436035,
          0.002784550189971924,
          0.0035932064056396484,
          0.004181504249572754,
          0.004751026630401611,
          0.005125284194946289,
          0.005731105804443359,
          0.0069762468338012695,
          0.011477172374725342
         ],
         "yaxis": "y",
         "type": "scattergl"
        },
        {
         "hovertemplate": "variable=calm-jealous<br>Layer=%{x}<br>Euclidean Distance=%{y}<extra></extra>",
         "legendgroup": "calm-jealous",
         "line": {
          "color": "#636efa",
          "dash": "solid"
         },
         "marker": {
          "symbol": "circle"
         },
         "mode": "lines",
         "name": "calm-jealous",
         "showlegend": true,
         "x": {
          "dtype": "i1",
          "bdata": "AAECAwQFBgcICQoLDA0ODxAREhMUFRYXGBka"
         },
         "xaxis": "x",
         "y": [
          0.18421465158462524,
          0.05091804265975952,
          0.029177486896514893,
          0.02737361192703247,
          0.019023597240447998,
          0.01378321647644043,
          0.009989917278289795,
          0.008794903755187988,
          0.007570385932922363,
          0.006895184516906738,
          0.0048583149909973145,
          0.003988683223724365,
          0.0031260251998901367,
          0.0026472806930541992,
          0.0027643442153930664,
          0.003330826759338379,
          0.0029468536376953125,
          0.003585338592529297,
          0.004283726215362549,
          0.006415009498596191,
          0.00744396448135376,
          0.008839845657348633,
          0.010292351245880127,
          0.011466145515441895,
          0.013883113861083984,
          0.021371901035308838,
          0.03719300031661987
         ],
         "yaxis": "y",
         "type": "scattergl"
        },
        {
         "hovertemplate": "variable=calm-angry<br>Layer=%{x}<br>Euclidean Distance=%{y}<extra></extra>",
         "legendgroup": "calm-angry",
         "line": {
          "color": "#EF553B",
          "dash": "solid"
         },
         "marker": {
          "symbol": "circle"
         },
         "mode": "lines",
         "name": "calm-angry",
         "showlegend": true,
         "x": {
          "dtype": "i1",
          "bdata": "AAECAwQFBgcICQoLDA0ODxAREhMUFRYXGBka"
         },
         "xaxis": "x",
         "y": [
          0.09870254993438721,
          0.027538299560546875,
          0.01297086477279663,
          0.011430561542510986,
          0.007578134536743164,
          0.005338311195373535,
          0.00357973575592041,
          0.003154456615447998,
          0.0023683905601501465,
          0.002140820026397705,
          0.001440584659576416,
          0.0010192394256591797,
          6.992816925048828E-4,
          5.794763565063477E-4,
          6.227493286132812E-4,
          8.298754692077637E-4,
          8.74638557434082E-4,
          0.0011895298957824707,
          0.001558065414428711,
          0.002531290054321289,
          0.0033527016639709473,
          0.0037866830825805664,
          0.004378974437713623,
          0.004797399044036865,
          0.0054931640625,
          0.0070313215255737305,
          0.01089400053024292
         ],
         "yaxis": "y",
         "type": "scattergl"
        },
        {
         "hovertemplate": "variable=calm-guilty<br>Layer=%{x}<br>Euclidean Distance=%{y}<extra></extra>",
         "legendgroup": "calm-guilty",
         "line": {
          "color": "#00cc96",
          "dash": "solid"
         },
         "marker": {
          "symbol": "circle"
         },
         "mode": "lines",
         "name": "calm-guilty",
         "showlegend": true,
         "x": {
          "dtype": "i1",
          "bdata": "AAECAwQFBgcICQoLDA0ODxAREhMUFRYXGBka"
         },
         "xaxis": "x",
         "y": [
          0.12052595615386963,
          0.03357630968093872,
          0.015835344791412354,
          0.013970732688903809,
          0.009574830532073975,
          0.006610393524169922,
          0.0043444037437438965,
          0.0039017796516418457,
          0.002754688262939453,
          0.0024175047874450684,
          0.001559138298034668,
          0.001101851463317871,
          7.649660110473633E-4,
          6.342530250549316E-4,
          6.723403930664062E-4,
          9.270906448364258E-4,
          0.0010211467742919922,
          0.0013371706008911133,
          0.0019800662994384766,
          0.0029671788215637207,
          0.004143774509429932,
          0.004397451877593994,
          0.0051784515380859375,
          0.005820572376251221,
          0.006547510623931885,
          0.008348643779754639,
          0.01222372055053711
         ],
         "yaxis": "y",
         "type": "scattergl"
        },
        {
         "hovertemplate": "variable=calm-passionate<br>Layer=%{x}<br>Euclidean Distance=%{y}<extra></extra>",
         "legendgroup": "calm-passionate",
         "line": {
          "color": "#ab63fa",
          "dash": "solid"
         },
         "marker": {
          "symbol": "circle"
         },
         "mode": "lines",
         "name": "calm-passionate",
         "showlegend": true,
         "x": {
          "dtype": "i1",
          "bdata": "AAECAwQFBgcICQoLDA0ODxAREhMUFRYXGBka"
         },
         "xaxis": "x",
         "y": [
          0.16616898775100708,
          0.043988585472106934,
          0.023131370544433594,
          0.024078011512756348,
          0.01806396245956421,
          0.013246357440948486,
          0.009544849395751953,
          0.009201645851135254,
          0.00729823112487793,
          0.006699204444885254,
          0.004655241966247559,
          0.003624558448791504,
          0.002821803092956543,
          0.002410888671875,
          0.002583622932434082,
          0.0030965209007263184,
          0.003048419952392578,
          0.0036839842796325684,
          0.004427731037139893,
          0.006215691566467285,
          0.007458090782165527,
          0.008715331554412842,
          0.010436296463012695,
          0.011836230754852295,
          0.014204204082489014,
          0.02099508047103882,
          0.02775520086288452
         ],
         "yaxis": "y",
         "type": "scattergl"
        },
        {
         "hovertemplate": "variable=calm-brave<br>Layer=%{x}<br>Euclidean Distance=%{y}<extra></extra>",
         "legendgroup": "calm-brave",
         "line": {
          "color": "#FFA15A",
          "dash": "solid"
         },
         "marker": {
          "symbol": "circle"
         },
         "mode": "lines",
         "name": "calm-brave",
         "showlegend": true,
         "x": {
          "dtype": "i1",
          "bdata": "AAECAwQFBgcICQoLDA0ODxAREhMUFRYXGBka"
         },
         "xaxis": "x",
         "y": [
          0.10585194826126099,
          0.03029346466064453,
          0.014632999897003174,
          0.013015151023864746,
          0.009058177471160889,
          0.006319642066955566,
          0.0042588114738464355,
          0.00411379337310791,
          0.0031381845474243164,
          0.0027871131896972656,
          0.0018635988235473633,
          0.0012739300727844238,
          8.704662322998047E-4,
          7.079839706420898E-4,
          7.410645484924316E-4,
          9.778738021850586E-4,
          9.923577308654785E-4,
          0.0013085603713989258,
          0.0018181204795837402,
          0.0024556517601013184,
          0.0031795501708984375,
          0.0035294294357299805,
          0.0040967464447021484,
          0.004502594470977783,
          0.005253434181213379,
          0.006747126579284668,
          0.011104881763458252
         ],
         "yaxis": "y",
         "type": "scattergl"
        },
        {
         "hovertemplate": "variable=calm-confident<br>Layer=%{x}<br>Euclidean Distance=%{y}<extra></extra>",
         "legendgroup": "calm-confident",
         "line": {
          "color": "#19d3f3",
          "dash": "solid"
         },
         "marker": {
          "symbol": "circle"
         },
         "mode": "lines",
         "name": "calm-confident",
         "showlegend": true,
         "x": {
          "dtype": "i1",
          "bdata": "AAECAwQFBgcICQoLDA0ODxAREhMUFRYXGBka"
         },
         "xaxis": "x",
         "y": [
          0.10334897041320801,
          0.028549134731292725,
          0.0137709379196167,
          0.012186884880065918,
          0.008306324481964111,
          0.005449235439300537,
          0.003600597381591797,
          0.003396749496459961,
          0.002443969249725342,
          0.0021192431449890137,
          0.0014031529426574707,
          9.864568710327148E-4,
          6.822943687438965E-4,
          5.651712417602539E-4,
          5.939602851867676E-4,
          7.724165916442871E-4,
          7.773637771606445E-4,
          0.00107496976852417,
          0.001500844955444336,
          0.00210648775100708,
          0.0028227567672729492,
          0.002956569194793701,
          0.0032855868339538574,
          0.0034873485565185547,
          0.003882110118865967,
          0.0050504207611083984,
          0.00827866792678833
         ],
         "yaxis": "y",
         "type": "scattergl"
        },
        {
         "hovertemplate": "variable=content-relaxed<br>Layer=%{x}<br>Euclidean Distance=%{y}<extra></extra>",
         "legendgroup": "content-relaxed",
         "line": {
          "color": "#FF6692",
          "dash": "solid"
         },
         "marker": {
          "symbol": "circle"
         },
         "mode": "lines",
         "name": "content-relaxed",
         "showlegend": true,
         "x": {
          "dtype": "i1",
          "bdata": "AAECAwQFBgcICQoLDA0ODxAREhMUFRYXGBka"
         },
         "xaxis": "x",
         "y": [
          0.13993996381759644,
          0.03513568639755249,
          0.01748412847518921,
          0.015650629997253418,
          0.01058661937713623,
          0.007913947105407715,
          0.005487203598022461,
          0.00481104850769043,
          0.0035248994827270508,
          0.003151834011077881,
          0.0021021366119384766,
          0.001459956169128418,
          0.0010755062103271484,
          8.966922760009766E-4,
          9.757280349731445E-4,
          0.0013451576232910156,
          0.0013529062271118164,
          0.0018057823181152344,
          0.0025699734687805176,
          0.0033405423164367676,
          0.003913223743438721,
          0.0045244693756103516,
          0.005404174327850342,
          0.006066441535949707,
          0.007397711277008057,
          0.009276211261749268,
          0.014196157455444336
         ],
         "yaxis": "y",
         "type": "scattergl"
        },
        {
         "hovertemplate": "variable=content-sad<br>Layer=%{x}<br>Euclidean Distance=%{y}<extra></extra>",
         "legendgroup": "content-sad",
         "line": {
          "color": "#B6E880",
          "dash": "solid"
         },
         "marker": {
          "symbol": "circle"
         },
         "mode": "lines",
         "name": "content-sad",
         "showlegend": true,
         "x": {
          "dtype": "i1",
          "bdata": "AAECAwQFBgcICQoLDA0ODxAREhMUFRYXGBka"
         },
         "xaxis": "x",
         "y": [
          0.132127046585083,
          0.03635519742965698,
          0.01731574535369873,
          0.014724373817443848,
          0.00945824384689331,
          0.0068312883377075195,
          0.004520893096923828,
          0.004040122032165527,
          0.0028614401817321777,
          0.002585887908935547,
          0.0016965866088867188,
          0.0011835694313049316,
          8.370876312255859E-4,
          6.966590881347656E-4,
          7.535219192504883E-4,
          0.0010589361190795898,
          9.884834289550781E-4,
          0.00138169527053833,
          0.002396106719970703,
          0.003615140914916992,
          0.004469513893127441,
          0.005612194538116455,
          0.006755173206329346,
          0.00783991813659668,
          0.009455502033233643,
          0.012545406818389893,
          0.02484506368637085
         ],
         "yaxis": "y",
         "type": "scattergl"
        },
        {
         "hovertemplate": "variable=content-anxious<br>Layer=%{x}<br>Euclidean Distance=%{y}<extra></extra>",
         "legendgroup": "content-anxious",
         "line": {
          "color": "#FF97FF",
          "dash": "solid"
         },
         "marker": {
          "symbol": "circle"
         },
         "mode": "lines",
         "name": "content-anxious",
         "showlegend": true,
         "x": {
          "dtype": "i1",
          "bdata": "AAECAwQFBgcICQoLDA0ODxAREhMUFRYXGBka"
         },
         "xaxis": "x",
         "y": [
          0.1762561798095703,
          0.046374380588531494,
          0.02518928050994873,
          0.021394848823547363,
          0.015255749225616455,
          0.011567354202270508,
          0.008436083793640137,
          0.007534027099609375,
          0.006049990653991699,
          0.005419492721557617,
          0.0038222074508666992,
          0.002967536449432373,
          0.0024069547653198242,
          0.0020552873611450195,
          0.0021979212760925293,
          0.0028210878372192383,
          0.0025717616081237793,
          0.0033588409423828125,
          0.004765868186950684,
          0.006716012954711914,
          0.007694244384765625,
          0.009718060493469238,
          0.01247107982635498,
          0.014804303646087646,
          0.01848071813583374,
          0.026305735111236572,
          0.036262571811676025
         ],
         "yaxis": "y",
         "type": "scattergl"
        },
        {
         "hovertemplate": "variable=content-fearful<br>Layer=%{x}<br>Euclidean Distance=%{y}<extra></extra>",
         "legendgroup": "content-fearful",
         "line": {
          "color": "#FECB52",
          "dash": "solid"
         },
         "marker": {
          "symbol": "circle"
         },
         "mode": "lines",
         "name": "content-fearful",
         "showlegend": true,
         "x": {
          "dtype": "i1",
          "bdata": "AAECAwQFBgcICQoLDA0ODxAREhMUFRYXGBka"
         },
         "xaxis": "x",
         "y": [
          0.19283103942871094,
          0.056857943534851074,
          0.029084980487823486,
          0.024982690811157227,
          0.019272804260253906,
          0.015006780624389648,
          0.010677814483642578,
          0.009920001029968262,
          0.007626891136169434,
          0.006978869438171387,
          0.004902958869934082,
          0.0037060976028442383,
          0.0029273629188537598,
          0.0025061368942260742,
          0.002705693244934082,
          0.003354012966156006,
          0.0034058690071105957,
          0.004362583160400391,
          0.005709409713745117,
          0.007876455783843994,
          0.008896291255950928,
          0.010765373706817627,
          0.01300591230392456,
          0.015051066875457764,
          0.019148409366607666,
          0.02534306049346924,
          0.03114604949951172
         ],
         "yaxis": "y",
         "type": "scattergl"
        },
        {
         "hovertemplate": "variable=content-scared<br>Layer=%{x}<br>Euclidean Distance=%{y}<extra></extra>",
         "legendgroup": "content-scared",
         "line": {
          "color": "#636efa",
          "dash": "solid"
         },
         "marker": {
          "symbol": "circle"
         },
         "mode": "lines",
         "name": "content-scared",
         "showlegend": true,
         "x": {
          "dtype": "i1",
          "bdata": "AAECAwQFBgcICQoLDA0ODxAREhMUFRYXGBka"
         },
         "xaxis": "x",
         "y": [
          0.1556118130683899,
          0.03516733646392822,
          0.01824033260345459,
          0.015620768070220947,
          0.010192334651947021,
          0.007531702518463135,
          0.004948139190673828,
          0.0044245123863220215,
          0.0032821297645568848,
          0.003007352352142334,
          0.0019888877868652344,
          0.001385807991027832,
          9.989738464355469E-4,
          8.331537246704102E-4,
          9.233951568603516E-4,
          0.0012809038162231445,
          0.0012912154197692871,
          0.0017375946044921875,
          0.0026358962059020996,
          0.0035263895988464355,
          0.004233360290527344,
          0.004990041255950928,
          0.005889236927032471,
          0.006705939769744873,
          0.00805962085723877,
          0.010182857513427734,
          0.01646322011947632
         ],
         "yaxis": "y",
         "type": "scattergl"
        },
        {
         "hovertemplate": "variable=content-depressed<br>Layer=%{x}<br>Euclidean Distance=%{y}<extra></extra>",
         "legendgroup": "content-depressed",
         "line": {
          "color": "#EF553B",
          "dash": "solid"
         },
         "marker": {
          "symbol": "circle"
         },
         "mode": "lines",
         "name": "content-depressed",
         "showlegend": true,
         "x": {
          "dtype": "i1",
          "bdata": "AAECAwQFBgcICQoLDA0ODxAREhMUFRYXGBka"
         },
         "xaxis": "x",
         "y": [
          0.19556355476379395,
          0.0564112663269043,
          0.030502498149871826,
          0.026374101638793945,
          0.019018590450286865,
          0.01425713300704956,
          0.010324478149414062,
          0.009666979312896729,
          0.0070983171463012695,
          0.006789505481719971,
          0.004783987998962402,
          0.0036939382553100586,
          0.0030660629272460938,
          0.0025998353958129883,
          0.0027538537979125977,
          0.003425776958465576,
          0.0031430721282958984,
          0.003830552101135254,
          0.005530357360839844,
          0.0070272088050842285,
          0.008157908916473389,
          0.010271906852722168,
          0.012211203575134277,
          0.014294683933258057,
          0.018169045448303223,
          0.02484297752380371,
          0.032806396484375
         ],
         "yaxis": "y",
         "type": "scattergl"
        },
        {
         "hovertemplate": "variable=content-lonely<br>Layer=%{x}<br>Euclidean Distance=%{y}<extra></extra>",
         "legendgroup": "content-lonely",
         "line": {
          "color": "#00cc96",
          "dash": "solid"
         },
         "marker": {
          "symbol": "circle"
         },
         "mode": "lines",
         "name": "content-lonely",
         "showlegend": true,
         "x": {
          "dtype": "i1",
          "bdata": "AAECAwQFBgcICQoLDA0ODxAREhMUFRYXGBka"
         },
         "xaxis": "x",
         "y": [
          0.14939665794372559,
          0.037555575370788574,
          0.01939183473587036,
          0.015899062156677246,
          0.010365545749664307,
          0.007638335227966309,
          0.005139768123626709,
          0.0045320987701416016,
          0.0035848617553710938,
          0.0033271312713623047,
          0.002337217330932617,
          0.001649618148803711,
          0.0011979341506958008,
          0.0010098814964294434,
          0.0011287927627563477,
          0.0015584230422973633,
          0.001510918140411377,
          0.001873612403869629,
          0.0026389360427856445,
          0.0035938024520874023,
          0.0043367743492126465,
          0.005155622959136963,
          0.006053626537322998,
          0.007080256938934326,
          0.008283615112304688,
          0.010120749473571777,
          0.017004847526550293
         ],
         "yaxis": "y",
         "type": "scattergl"
        },
        {
         "hovertemplate": "variable=content-bitter<br>Layer=%{x}<br>Euclidean Distance=%{y}<extra></extra>",
         "legendgroup": "content-bitter",
         "line": {
          "color": "#ab63fa",
          "dash": "solid"
         },
         "marker": {
          "symbol": "circle"
         },
         "mode": "lines",
         "name": "content-bitter",
         "showlegend": true,
         "x": {
          "dtype": "i1",
          "bdata": "AAECAwQFBgcICQoLDA0ODxAREhMUFRYXGBka"
         },
         "xaxis": "x",
         "y": [
          0.15336745977401733,
          0.03715246915817261,
          0.01869887113571167,
          0.015992164611816406,
          0.010805487632751465,
          0.007736146450042725,
          0.00528264045715332,
          0.004656672477722168,
          0.0034804940223693848,
          0.0031380653381347656,
          0.0021582841873168945,
          0.0015442967414855957,
          0.0011753439903259277,
          0.0010042190551757812,
          0.0011059045791625977,
          0.0015298128128051758,
          0.0015558600425720215,
          0.002000153064727783,
          0.002667546272277832,
          0.0037957429885864258,
          0.004461169242858887,
          0.005683600902557373,
          0.006731867790222168,
          0.007637321949005127,
          0.00906980037689209,
          0.01143026351928711,
          0.021587133407592773
         ],
         "yaxis": "y",
         "type": "scattergl"
        },
        {
         "hovertemplate": "variable=content-jealous<br>Layer=%{x}<br>Euclidean Distance=%{y}<extra></extra>",
         "legendgroup": "content-jealous",
         "line": {
          "color": "#FFA15A",
          "dash": "solid"
         },
         "marker": {
          "symbol": "circle"
         },
         "mode": "lines",
         "name": "content-jealous",
         "showlegend": true,
         "x": {
          "dtype": "i1",
          "bdata": "AAECAwQFBgcICQoLDA0ODxAREhMUFRYXGBka"
         },
         "xaxis": "x",
         "y": [
          0.18401551246643066,
          0.05265498161315918,
          0.030862390995025635,
          0.028982698917388916,
          0.02032381296157837,
          0.015169501304626465,
          0.011310040950775146,
          0.009886741638183594,
          0.008106231689453125,
          0.007276654243469238,
          0.0052443742752075195,
          0.004230082035064697,
          0.0033986568450927734,
          0.002896249294281006,
          0.0029942989349365234,
          0.0036720633506774902,
          0.0030603408813476562,
          0.003870069980621338,
          0.00533980131149292,
          0.0076351165771484375,
          0.00877523422241211,
          0.010912418365478516,
          0.013240218162536621,
          0.0151519775390625,
          0.018989861011505127,
          0.028720736503601074,
          0.05127745866775513
         ],
         "yaxis": "y",
         "type": "scattergl"
        },
        {
         "hovertemplate": "variable=content-angry<br>Layer=%{x}<br>Euclidean Distance=%{y}<extra></extra>",
         "legendgroup": "content-angry",
         "line": {
          "color": "#19d3f3",
          "dash": "solid"
         },
         "marker": {
          "symbol": "circle"
         },
         "mode": "lines",
         "name": "content-angry",
         "showlegend": true,
         "x": {
          "dtype": "i1",
          "bdata": "AAECAwQFBgcICQoLDA0ODxAREhMUFRYXGBka"
         },
         "xaxis": "x",
         "y": [
          0.13429075479507446,
          0.03396964073181152,
          0.01685255765914917,
          0.014758944511413574,
          0.009441912174224854,
          0.006983935832977295,
          0.00481569766998291,
          0.004298567771911621,
          0.0035098791122436523,
          0.003220081329345703,
          0.0023337602615356445,
          0.0016864538192749023,
          0.0011997222900390625,
          0.0010074377059936523,
          0.0011175274848937988,
          0.0015233159065246582,
          0.0015270113945007324,
          0.0018411874771118164,
          0.002687692642211914,
          0.0039016008377075195,
          0.004531204700469971,
          0.005517840385437012,
          0.006426513195037842,
          0.007439076900482178,
          0.008689939975738525,
          0.011135399341583252,
          0.018231689929962158
         ],
         "yaxis": "y",
         "type": "scattergl"
        },
        {
         "hovertemplate": "variable=content-guilty<br>Layer=%{x}<br>Euclidean Distance=%{y}<extra></extra>",
         "legendgroup": "content-guilty",
         "line": {
          "color": "#FF6692",
          "dash": "solid"
         },
         "marker": {
          "symbol": "circle"
         },
         "mode": "lines",
         "name": "content-guilty",
         "showlegend": true,
         "x": {
          "dtype": "i1",
          "bdata": "AAECAwQFBgcICQoLDA0ODxAREhMUFRYXGBka"
         },
         "xaxis": "x",
         "y": [
          0.16466540098190308,
          0.03786158561706543,
          0.01868724822998047,
          0.01541823148727417,
          0.010310590267181396,
          0.007604479789733887,
          0.0050389766693115234,
          0.004485487937927246,
          0.00324094295501709,
          0.002886474132537842,
          0.0019279718399047852,
          0.0013751387596130371,
          0.0010204315185546875,
          8.611679077148438E-4,
          9.552836418151855E-4,
          0.001322627067565918,
          0.0013622045516967773,
          0.0016677379608154297,
          0.002701401710510254,
          0.003775298595428467,
          0.004770219326019287,
          0.005664706230163574,
          0.00678706169128418,
          0.007798433303833008,
          0.009168803691864014,
          0.011406779289245605,
          0.018369734287261963
         ],
         "yaxis": "y",
         "type": "scattergl"
        },
        {
         "hovertemplate": "variable=content-passionate<br>Layer=%{x}<br>Euclidean Distance=%{y}<extra></extra>",
         "legendgroup": "content-passionate",
         "line": {
          "color": "#B6E880",
          "dash": "solid"
         },
         "marker": {
          "symbol": "circle"
         },
         "mode": "lines",
         "name": "content-passionate",
         "showlegend": true,
         "x": {
          "dtype": "i1",
          "bdata": "AAECAwQFBgcICQoLDA0ODxAREhMUFRYXGBka"
         },
         "xaxis": "x",
         "y": [
          0.17822480201721191,
          0.048906803131103516,
          0.026724278926849365,
          0.027303874492645264,
          0.020456433296203613,
          0.015384554862976074,
          0.01116490364074707,
          0.01044696569442749,
          0.008176684379577637,
          0.0073816776275634766,
          0.0053102970123291016,
          0.004132270812988281,
          0.0032579898834228516,
          0.002789020538330078,
          0.00298154354095459,
          0.0037533044815063477,
          0.0035666227340698242,
          0.004272103309631348,
          0.005610167980194092,
          0.007964730262756348,
          0.009153187274932861,
          0.011320114135742188,
          0.013667106628417969,
          0.01600438356399536,
          0.020022988319396973,
          0.02879244089126587,
          0.037944674491882324
         ],
         "yaxis": "y",
         "type": "scattergl"
        },
        {
         "hovertemplate": "variable=content-brave<br>Layer=%{x}<br>Euclidean Distance=%{y}<extra></extra>",
         "legendgroup": "content-brave",
         "line": {
          "color": "#FF97FF",
          "dash": "solid"
         },
         "marker": {
          "symbol": "circle"
         },
         "mode": "lines",
         "name": "content-brave",
         "showlegend": true,
         "x": {
          "dtype": "i1",
          "bdata": "AAECAwQFBgcICQoLDA0ODxAREhMUFRYXGBka"
         },
         "xaxis": "x",
         "y": [
          0.14528346061706543,
          0.03641432523727417,
          0.018149375915527344,
          0.01586848497390747,
          0.010792911052703857,
          0.00810152292251587,
          0.0057263970375061035,
          0.005345702171325684,
          0.004271268844604492,
          0.003908872604370117,
          0.0027100443840026855,
          0.0018927454948425293,
          0.0013736486434936523,
          0.0011522173881530762,
          0.0012557506561279297,
          0.0016605257987976074,
          0.0016661286354064941,
          0.0019632577896118164,
          0.0028334856033325195,
          0.003666996955871582,
          0.004189670085906982,
          0.005292952060699463,
          0.00641101598739624,
          0.007252097129821777,
          0.008614718914031982,
          0.01064389944076538,
          0.017864227294921875
         ],
         "yaxis": "y",
         "type": "scattergl"
        },
        {
         "hovertemplate": "variable=content-confident<br>Layer=%{x}<br>Euclidean Distance=%{y}<extra></extra>",
         "legendgroup": "content-confident",
         "line": {
          "color": "#FECB52",
          "dash": "solid"
         },
         "marker": {
          "symbol": "circle"
         },
         "mode": "lines",
         "name": "content-confident",
         "showlegend": true,
         "x": {
          "dtype": "i1",
          "bdata": "AAECAwQFBgcICQoLDA0ODxAREhMUFRYXGBka"
         },
         "xaxis": "x",
         "y": [
          0.13455283641815186,
          0.03276419639587402,
          0.01621723175048828,
          0.014048099517822266,
          0.009315550327301025,
          0.0066031813621521,
          0.0043544769287109375,
          0.0039920806884765625,
          0.0028916597366333008,
          0.0026193857192993164,
          0.001692056655883789,
          0.001172780990600586,
          8.370876312255859E-4,
          6.954669952392578E-4,
          7.637739181518555E-4,
          0.0010688304901123047,
          0.0010554194450378418,
          0.0013993382453918457,
          0.0021355748176574707,
          0.003067612648010254,
          0.0037459135055541992,
          0.004390895366668701,
          0.005186855792999268,
          0.005921483039855957,
          0.0071291327476501465,
          0.009186267852783203,
          0.014829635620117188
         ],
         "yaxis": "y",
         "type": "scattergl"
        },
        {
         "hovertemplate": "variable=relaxed-sad<br>Layer=%{x}<br>Euclidean Distance=%{y}<extra></extra>",
         "legendgroup": "relaxed-sad",
         "line": {
          "color": "#636efa",
          "dash": "solid"
         },
         "marker": {
          "symbol": "circle"
         },
         "mode": "lines",
         "name": "relaxed-sad",
         "showlegend": true,
         "x": {
          "dtype": "i1",
          "bdata": "AAECAwQFBgcICQoLDA0ODxAREhMUFRYXGBka"
         },
         "xaxis": "x",
         "y": [
          0.12132513523101807,
          0.034626007080078125,
          0.01680147647857666,
          0.014526784420013428,
          0.00973200798034668,
          0.006944537162780762,
          0.004735767841339111,
          0.004158377647399902,
          0.0029964447021484375,
          0.0026059746742248535,
          0.001723945140838623,
          0.001194000244140625,
          8.429884910583496E-4,
          6.992220878601074E-4,
          7.527470588684082E-4,
          0.0010111331939697266,
          0.0010495185852050781,
          0.0015250444412231445,
          0.002159416675567627,
          0.0028760433197021484,
          0.003424227237701416,
          0.003973066806793213,
          0.004584908485412598,
          0.004986763000488281,
          0.005853712558746338,
          0.007589280605316162,
          0.015619099140167236
         ],
         "yaxis": "y",
         "type": "scattergl"
        },
        {
         "hovertemplate": "variable=relaxed-anxious<br>Layer=%{x}<br>Euclidean Distance=%{y}<extra></extra>",
         "legendgroup": "relaxed-anxious",
         "line": {
          "color": "#EF553B",
          "dash": "solid"
         },
         "marker": {
          "symbol": "circle"
         },
         "mode": "lines",
         "name": "relaxed-anxious",
         "showlegend": true,
         "x": {
          "dtype": "i1",
          "bdata": "AAECAwQFBgcICQoLDA0ODxAREhMUFRYXGBka"
         },
         "xaxis": "x",
         "y": [
          0.18164515495300293,
          0.041009724140167236,
          0.021971940994262695,
          0.019191324710845947,
          0.013922154903411865,
          0.010766267776489258,
          0.00797569751739502,
          0.007127940654754639,
          0.006145358085632324,
          0.005509018898010254,
          0.0039365291595458984,
          0.0029636621475219727,
          0.002396821975708008,
          0.0020659565925598145,
          0.0022308826446533203,
          0.0028353333473205566,
          0.002817511558532715,
          0.0034880638122558594,
          0.004051089286804199,
          0.004997193813323975,
          0.0054923295974731445,
          0.006662905216217041,
          0.008549153804779053,
          0.0099373459815979,
          0.012315332889556885,
          0.01725304126739502,
          0.02419602870941162
         ],
         "yaxis": "y",
         "type": "scattergl"
        },
        {
         "hovertemplate": "variable=relaxed-fearful<br>Layer=%{x}<br>Euclidean Distance=%{y}<extra></extra>",
         "legendgroup": "relaxed-fearful",
         "line": {
          "color": "#00cc96",
          "dash": "solid"
         },
         "marker": {
          "symbol": "circle"
         },
         "mode": "lines",
         "name": "relaxed-fearful",
         "showlegend": true,
         "x": {
          "dtype": "i1",
          "bdata": "AAECAwQFBgcICQoLDA0ODxAREhMUFRYXGBka"
         },
         "xaxis": "x",
         "y": [
          0.1819216012954712,
          0.05420023202896118,
          0.02653491497039795,
          0.02371203899383545,
          0.01846069097518921,
          0.014528751373291016,
          0.010349273681640625,
          0.009453177452087402,
          0.007468700408935547,
          0.00671231746673584,
          0.004716038703918457,
          0.0035118460655212402,
          0.0026840567588806152,
          0.0023076534271240234,
          0.0024805068969726562,
          0.0029535889625549316,
          0.0031633377075195312,
          0.00413203239440918,
          0.004889369010925293,
          0.006099224090576172,
          0.00685352087020874,
          0.008029043674468994,
          0.009385883808135986,
          0.010582447052001953,
          0.012929975986480713,
          0.016492366790771484,
          0.021266579627990723
         ],
         "yaxis": "y",
         "type": "scattergl"
        },
        {
         "hovertemplate": "variable=relaxed-scared<br>Layer=%{x}<br>Euclidean Distance=%{y}<extra></extra>",
         "legendgroup": "relaxed-scared",
         "line": {
          "color": "#ab63fa",
          "dash": "solid"
         },
         "marker": {
          "symbol": "circle"
         },
         "mode": "lines",
         "name": "relaxed-scared",
         "showlegend": true,
         "x": {
          "dtype": "i1",
          "bdata": "AAECAwQFBgcICQoLDA0ODxAREhMUFRYXGBka"
         },
         "xaxis": "x",
         "y": [
          0.10982680320739746,
          0.03157186508178711,
          0.015549898147583008,
          0.013477206230163574,
          0.009213805198669434,
          0.006689846515655518,
          0.004631459712982178,
          0.004154324531555176,
          0.0030738115310668945,
          0.0027387142181396484,
          0.0018053054809570312,
          0.001232147216796875,
          8.399486541748047E-4,
          6.926655769348145E-4,
          7.423162460327148E-4,
          0.0010178089141845703,
          0.0011019110679626465,
          0.0015924572944641113,
          0.001963376998901367,
          0.0022672414779663086,
          0.0028010010719299316,
          0.0029743313789367676,
          0.0035405755043029785,
          0.003779172897338867,
          0.004254162311553955,
          0.004991888999938965,
          0.008312404155731201
         ],
         "yaxis": "y",
         "type": "scattergl"
        },
        {
         "hovertemplate": "variable=relaxed-depressed<br>Layer=%{x}<br>Euclidean Distance=%{y}<extra></extra>",
         "legendgroup": "relaxed-depressed",
         "line": {
          "color": "#FFA15A",
          "dash": "solid"
         },
         "marker": {
          "symbol": "circle"
         },
         "mode": "lines",
         "name": "relaxed-depressed",
         "showlegend": true,
         "x": {
          "dtype": "i1",
          "bdata": "AAECAwQFBgcICQoLDA0ODxAREhMUFRYXGBka"
         },
         "xaxis": "x",
         "y": [
          0.18393778800964355,
          0.05254101753234863,
          0.027810335159301758,
          0.024138689041137695,
          0.01741182804107666,
          0.013190090656280518,
          0.00962972640991211,
          0.009236931800842285,
          0.006885051727294922,
          0.006697654724121094,
          0.004799485206604004,
          0.0035625100135803223,
          0.0028034448623657227,
          0.002355813980102539,
          0.0025099515914916992,
          0.003038763999938965,
          0.002896428108215332,
          0.003468334674835205,
          0.004571795463562012,
          0.005356848239898682,
          0.006197094917297363,
          0.0075078606605529785,
          0.008602321147918701,
          0.009841501712799072,
          0.012453973293304443,
          0.017592251300811768,
          0.025784015655517578
         ],
         "yaxis": "y",
         "type": "scattergl"
        },
        {
         "hovertemplate": "variable=relaxed-lonely<br>Layer=%{x}<br>Euclidean Distance=%{y}<extra></extra>",
         "legendgroup": "relaxed-lonely",
         "line": {
          "color": "#19d3f3",
          "dash": "solid"
         },
         "marker": {
          "symbol": "circle"
         },
         "mode": "lines",
         "name": "relaxed-lonely",
         "showlegend": true,
         "x": {
          "dtype": "i1",
          "bdata": "AAECAwQFBgcICQoLDA0ODxAREhMUFRYXGBka"
         },
         "xaxis": "x",
         "y": [
          0.10782039165496826,
          0.032311439514160156,
          0.016124248504638672,
          0.013230681419372559,
          0.008769571781158447,
          0.006410717964172363,
          0.004363000392913818,
          0.003772258758544922,
          0.0027823448181152344,
          0.0024791955947875977,
          0.0016486644744873047,
          0.0011146068572998047,
          7.516741752624512E-4,
          6.080269813537598E-4,
          6.540417671203613E-4,
          8.907914161682129E-4,
          9.002685546875E-4,
          0.0013547539710998535,
          0.001732468605041504,
          0.0021311044692993164,
          0.0024671554565429688,
          0.002750992774963379,
          0.0031104087829589844,
          0.00344693660736084,
          0.003955066204071045,
          0.0046967267990112305,
          0.008155763149261475
         ],
         "yaxis": "y",
         "type": "scattergl"
        },
        {
         "hovertemplate": "variable=relaxed-bitter<br>Layer=%{x}<br>Euclidean Distance=%{y}<extra></extra>",
         "legendgroup": "relaxed-bitter",
         "line": {
          "color": "#FF6692",
          "dash": "solid"
         },
         "marker": {
          "symbol": "circle"
         },
         "mode": "lines",
         "name": "relaxed-bitter",
         "showlegend": true,
         "x": {
          "dtype": "i1",
          "bdata": "AAECAwQFBgcICQoLDA0ODxAREhMUFRYXGBka"
         },
         "xaxis": "x",
         "y": [
          0.11389219760894775,
          0.03421187400817871,
          0.016584575176239014,
          0.015193402767181396,
          0.010201096534729004,
          0.007390439510345459,
          0.00523221492767334,
          0.00458216667175293,
          0.0033284425735473633,
          0.002915799617767334,
          0.0019388198852539062,
          0.0013428926467895508,
          9.213685989379883E-4,
          7.603168487548828E-4,
          8.077025413513184E-4,
          0.0010834932327270508,
          0.0011494159698486328,
          0.0017806291580200195,
          0.002169013023376465,
          0.0027781128883361816,
          0.0032375454902648926,
          0.003861844539642334,
          0.004296481609344482,
          0.004604935646057129,
          0.005369007587432861,
          0.006160855293273926,
          0.012091875076293945
         ],
         "yaxis": "y",
         "type": "scattergl"
        },
        {
         "hovertemplate": "variable=relaxed-jealous<br>Layer=%{x}<br>Euclidean Distance=%{y}<extra></extra>",
         "legendgroup": "relaxed-jealous",
         "line": {
          "color": "#B6E880",
          "dash": "solid"
         },
         "marker": {
          "symbol": "circle"
         },
         "mode": "lines",
         "name": "relaxed-jealous",
         "showlegend": true,
         "x": {
          "dtype": "i1",
          "bdata": "AAECAwQFBgcICQoLDA0ODxAREhMUFRYXGBka"
         },
         "xaxis": "x",
         "y": [
          0.181684672832489,
          0.05067110061645508,
          0.029461324214935303,
          0.027769923210144043,
          0.019444167613983154,
          0.014665782451629639,
          0.010805666446685791,
          0.009459495544433594,
          0.008161008358001709,
          0.0073996782302856445,
          0.005337715148925781,
          0.0041977763175964355,
          0.0032747387886047363,
          0.0027718544006347656,
          0.0029183626174926758,
          0.003580927848815918,
          0.0031679272651672363,
          0.003928840160369873,
          0.0046918392181396484,
          0.006304740905761719,
          0.006983637809753418,
          0.008270204067230225,
          0.00969165563583374,
          0.010815262794494629,
          0.013405859470367432,
          0.020396769046783447,
          0.03784477710723877
         ],
         "yaxis": "y",
         "type": "scattergl"
        },
        {
         "hovertemplate": "variable=relaxed-angry<br>Layer=%{x}<br>Euclidean Distance=%{y}<extra></extra>",
         "legendgroup": "relaxed-angry",
         "line": {
          "color": "#FF97FF",
          "dash": "solid"
         },
         "marker": {
          "symbol": "circle"
         },
         "mode": "lines",
         "name": "relaxed-angry",
         "showlegend": true,
         "x": {
          "dtype": "i1",
          "bdata": "AAECAwQFBgcICQoLDA0ODxAREhMUFRYXGBka"
         },
         "xaxis": "x",
         "y": [
          0.1043848991394043,
          0.03082275390625,
          0.014776170253753662,
          0.012955546379089355,
          0.008725762367248535,
          0.006383776664733887,
          0.004479765892028809,
          0.0039337873458862305,
          0.0029984712600708008,
          0.002652466297149658,
          0.0018197298049926758,
          0.0012491941452026367,
          8.40306282043457E-4,
          6.898641586303711E-4,
          7.408857345581055E-4,
          9.981393814086914E-4,
          0.0010516047477722168,
          0.001492142677307129,
          0.0019023418426513672,
          0.0025035738945007324,
          0.0029084086418151855,
          0.003299713134765625,
          0.003769814968109131,
          0.004224836826324463,
          0.00487905740737915,
          0.005895853042602539,
          0.010380387306213379
         ],
         "yaxis": "y",
         "type": "scattergl"
        },
        {
         "hovertemplate": "variable=relaxed-guilty<br>Layer=%{x}<br>Euclidean Distance=%{y}<extra></extra>",
         "legendgroup": "relaxed-guilty",
         "line": {
          "color": "#FECB52",
          "dash": "solid"
         },
         "marker": {
          "symbol": "circle"
         },
         "mode": "lines",
         "name": "relaxed-guilty",
         "showlegend": true,
         "x": {
          "dtype": "i1",
          "bdata": "AAECAwQFBgcICQoLDA0ODxAREhMUFRYXGBka"
         },
         "xaxis": "x",
         "y": [
          0.11635631322860718,
          0.03452777862548828,
          0.01665431261062622,
          0.015167534351348877,
          0.010447263717651367,
          0.007741987705230713,
          0.005345582962036133,
          0.0047945380210876465,
          0.003363966941833496,
          0.0029320716857910156,
          0.0019251108169555664,
          0.001322627067565918,
          9.149312973022461E-4,
          7.542967796325684E-4,
          8.001923561096191E-4,
          0.0011292099952697754,
          0.001208662986755371,
          0.001712501049041748,
          0.002307415008544922,
          0.002817988395690918,
          0.0035947561264038086,
          0.0040070414543151855,
          0.0047460198402404785,
          0.005212068557739258,
          0.006009459495544434,
          0.00705564022064209,
          0.010806798934936523
         ],
         "yaxis": "y",
         "type": "scattergl"
        },
        {
         "hovertemplate": "variable=relaxed-passionate<br>Layer=%{x}<br>Euclidean Distance=%{y}<extra></extra>",
         "legendgroup": "relaxed-passionate",
         "line": {
          "color": "#636efa",
          "dash": "solid"
         },
         "marker": {
          "symbol": "circle"
         },
         "mode": "lines",
         "name": "relaxed-passionate",
         "showlegend": true,
         "x": {
          "dtype": "i1",
          "bdata": "AAECAwQFBgcICQoLDA0ODxAREhMUFRYXGBka"
         },
         "xaxis": "x",
         "y": [
          0.1706928014755249,
          0.04649794101715088,
          0.0244562029838562,
          0.025839269161224365,
          0.01942545175552368,
          0.014659643173217773,
          0.010664105415344238,
          0.010151147842407227,
          0.008148193359375,
          0.00733494758605957,
          0.005206942558288574,
          0.003932774066925049,
          0.003009617328643799,
          0.0025690197944641113,
          0.0027490854263305664,
          0.0033339262008666992,
          0.0032788515090942383,
          0.00405430793762207,
          0.004786849021911621,
          0.006117880344390869,
          0.007093846797943115,
          0.008423149585723877,
          0.009813964366912842,
          0.01125401258468628,
          0.013836503028869629,
          0.01948416233062744,
          0.026018381118774414
         ],
         "yaxis": "y",
         "type": "scattergl"
        },
        {
         "hovertemplate": "variable=relaxed-brave<br>Layer=%{x}<br>Euclidean Distance=%{y}<extra></extra>",
         "legendgroup": "relaxed-brave",
         "line": {
          "color": "#EF553B",
          "dash": "solid"
         },
         "marker": {
          "symbol": "circle"
         },
         "mode": "lines",
         "name": "relaxed-brave",
         "showlegend": true,
         "x": {
          "dtype": "i1",
          "bdata": "AAECAwQFBgcICQoLDA0ODxAREhMUFRYXGBka"
         },
         "xaxis": "x",
         "y": [
          0.10944914817810059,
          0.03257328271865845,
          0.016078174114227295,
          0.014528155326843262,
          0.010196864604949951,
          0.00751340389251709,
          0.005353748798370361,
          0.004927933216094971,
          0.0037189722061157227,
          0.0033031105995178223,
          0.002180933952331543,
          0.0014889836311340332,
          0.0010100603103637695,
          8.23974609375E-4,
          8.686184883117676E-4,
          0.0011720657348632812,
          0.001219332218170166,
          0.0016853809356689453,
          0.002282559871673584,
          0.002622842788696289,
          0.0029201507568359375,
          0.003377258777618408,
          0.003892838954925537,
          0.00427401065826416,
          0.005156397819519043,
          0.006208360195159912,
          0.010396122932434082
         ],
         "yaxis": "y",
         "type": "scattergl"
        },
        {
         "hovertemplate": "variable=relaxed-confident<br>Layer=%{x}<br>Euclidean Distance=%{y}<extra></extra>",
         "legendgroup": "relaxed-confident",
         "line": {
          "color": "#00cc96",
          "dash": "solid"
         },
         "marker": {
          "symbol": "circle"
         },
         "mode": "lines",
         "name": "relaxed-confident",
         "showlegend": true,
         "x": {
          "dtype": "i1",
          "bdata": "AAECAwQFBgcICQoLDA0ODxAREhMUFRYXGBka"
         },
         "xaxis": "x",
         "y": [
          0.09696424007415771,
          0.026873767375946045,
          0.012787580490112305,
          0.011627793312072754,
          0.007999241352081299,
          0.0056365132331848145,
          0.003793954849243164,
          0.003414750099182129,
          0.0025142431259155273,
          0.00216066837310791,
          0.0014128684997558594,
          9.793639183044434E-4,
          6.835460662841797E-4,
          5.640983581542969E-4,
          5.876421928405762E-4,
          7.845759391784668E-4,
          8.168220520019531E-4,
          0.0011706352233886719,
          0.0015047192573547363,
          0.0017133355140686035,
          0.002032637596130371,
          0.0020960569381713867,
          0.002369821071624756,
          0.0025208592414855957,
          0.002843618392944336,
          0.0032921433448791504,
          0.005383729934692383
         ],
         "yaxis": "y",
         "type": "scattergl"
        },
        {
         "hovertemplate": "variable=sad-anxious<br>Layer=%{x}<br>Euclidean Distance=%{y}<extra></extra>",
         "legendgroup": "sad-anxious",
         "line": {
          "color": "#ab63fa",
          "dash": "solid"
         },
         "marker": {
          "symbol": "circle"
         },
         "mode": "lines",
         "name": "sad-anxious",
         "showlegend": true,
         "x": {
          "dtype": "i1",
          "bdata": "AAECAwQFBgcICQoLDA0ODxAREhMUFRYXGBka"
         },
         "xaxis": "x",
         "y": [
          0.1709423065185547,
          0.04347151517868042,
          0.022498667240142822,
          0.018598735332489014,
          0.012863218784332275,
          0.009632110595703125,
          0.007091164588928223,
          0.006083488464355469,
          0.0050618648529052734,
          0.004739046096801758,
          0.0033195018768310547,
          0.0025969743728637695,
          0.002144932746887207,
          0.0018489360809326172,
          0.0019876956939697266,
          0.002512812614440918,
          0.002462625503540039,
          0.003124535083770752,
          0.0041217803955078125,
          0.005561530590057373,
          0.006219267845153809,
          0.007579326629638672,
          0.009525120258331299,
          0.011003077030181885,
          0.013171911239624023,
          0.01873070001602173,
          0.026508450508117676
         ],
         "yaxis": "y",
         "type": "scattergl"
        },
        {
         "hovertemplate": "variable=sad-fearful<br>Layer=%{x}<br>Euclidean Distance=%{y}<extra></extra>",
         "legendgroup": "sad-fearful",
         "line": {
          "color": "#FFA15A",
          "dash": "solid"
         },
         "marker": {
          "symbol": "circle"
         },
         "mode": "lines",
         "name": "sad-fearful",
         "showlegend": true,
         "x": {
          "dtype": "i1",
          "bdata": "AAECAwQFBgcICQoLDA0ODxAREhMUFRYXGBka"
         },
         "xaxis": "x",
         "y": [
          0.17648589611053467,
          0.05125236511230469,
          0.024956703186035156,
          0.021557271480560303,
          0.01609104871749878,
          0.01220405101776123,
          0.008757948875427246,
          0.007977008819580078,
          0.006105780601501465,
          0.005612730979919434,
          0.003875553607940674,
          0.0029906034469604492,
          0.00238877534866333,
          0.00205838680267334,
          0.002215564250946045,
          0.0026169419288635254,
          0.0027769804000854492,
          0.0036682486534118652,
          0.004578828811645508,
          0.006064057350158691,
          0.007046043872833252,
          0.008431494235992432,
          0.009815335273742676,
          0.011114656925201416,
          0.013739466667175293,
          0.019182026386260986,
          0.028579533100128174
         ],
         "yaxis": "y",
         "type": "scattergl"
        },
        {
         "hovertemplate": "variable=sad-scared<br>Layer=%{x}<br>Euclidean Distance=%{y}<extra></extra>",
         "legendgroup": "sad-scared",
         "line": {
          "color": "#19d3f3",
          "dash": "solid"
         },
         "marker": {
          "symbol": "circle"
         },
         "mode": "lines",
         "name": "sad-scared",
         "showlegend": true,
         "x": {
          "dtype": "i1",
          "bdata": "AAECAwQFBgcICQoLDA0ODxAREhMUFRYXGBka"
         },
         "xaxis": "x",
         "y": [
          0.11368650197982788,
          0.02965068817138672,
          0.014088749885559082,
          0.011420905590057373,
          0.0071830153465271,
          0.004979491233825684,
          0.0031207799911499023,
          0.0027837753295898438,
          0.0020082592964172363,
          0.0018141865730285645,
          0.0011723041534423828,
          8.3160400390625E-4,
          5.834102630615234E-4,
          4.8220157623291016E-4,
          5.227923393249512E-4,
          6.89387321472168E-4,
          7.346272468566895E-4,
          0.0010989904403686523,
          0.0016713738441467285,
          0.0024406909942626953,
          0.003130793571472168,
          0.0036231279373168945,
          0.004227876663208008,
          0.004433691501617432,
          0.00500410795211792,
          0.006397068500518799,
          0.011978685855865479
         ],
         "yaxis": "y",
         "type": "scattergl"
        },
        {
         "hovertemplate": "variable=sad-depressed<br>Layer=%{x}<br>Euclidean Distance=%{y}<extra></extra>",
         "legendgroup": "sad-depressed",
         "line": {
          "color": "#FF6692",
          "dash": "solid"
         },
         "marker": {
          "symbol": "circle"
         },
         "mode": "lines",
         "name": "sad-depressed",
         "showlegend": true,
         "x": {
          "dtype": "i1",
          "bdata": "AAECAwQFBgcICQoLDA0ODxAREhMUFRYXGBka"
         },
         "xaxis": "x",
         "y": [
          0.1710662841796875,
          0.05087858438491821,
          0.0269201397895813,
          0.023290276527404785,
          0.016693830490112305,
          0.012127518653869629,
          0.00868678092956543,
          0.00789731740951538,
          0.005855202674865723,
          0.005945563316345215,
          0.004164516925811768,
          0.0032418370246887207,
          0.002688884735107422,
          0.0022681355476379395,
          0.002408266067504883,
          0.002929091453552246,
          0.0027906298637390137,
          0.0034072399139404297,
          0.004644155502319336,
          0.005905866622924805,
          0.006902098655700684,
          0.00859522819519043,
          0.010208666324615479,
          0.011667311191558838,
          0.014369666576385498,
          0.020764648914337158,
          0.028915584087371826
         ],
         "yaxis": "y",
         "type": "scattergl"
        },
        {
         "hovertemplate": "variable=sad-lonely<br>Layer=%{x}<br>Euclidean Distance=%{y}<extra></extra>",
         "legendgroup": "sad-lonely",
         "line": {
          "color": "#B6E880",
          "dash": "solid"
         },
         "marker": {
          "symbol": "circle"
         },
         "mode": "lines",
         "name": "sad-lonely",
         "showlegend": true,
         "x": {
          "dtype": "i1",
          "bdata": "AAECAwQFBgcICQoLDA0ODxAREhMUFRYXGBka"
         },
         "xaxis": "x",
         "y": [
          0.11263686418533325,
          0.03047168254852295,
          0.014657974243164062,
          0.011793315410614014,
          0.007418990135192871,
          0.0053702592849731445,
          0.003531038761138916,
          0.0030114054679870605,
          0.0022350549697875977,
          0.0020335912704467773,
          0.0013744831085205078,
          9.92894172668457E-4,
          7.02977180480957E-4,
          5.905628204345703E-4,
          6.477832794189453E-4,
          8.614063262939453E-4,
          8.521080017089844E-4,
          0.0012214183807373047,
          0.0017175078392028809,
          0.0023766756057739258,
          0.0029245615005493164,
          0.0035322904586791992,
          0.003977954387664795,
          0.004500865936279297,
          0.00508880615234375,
          0.006800293922424316,
          0.013011276721954346
         ],
         "yaxis": "y",
         "type": "scattergl"
        },
        {
         "hovertemplate": "variable=sad-bitter<br>Layer=%{x}<br>Euclidean Distance=%{y}<extra></extra>",
         "legendgroup": "sad-bitter",
         "line": {
          "color": "#FF97FF",
          "dash": "solid"
         },
         "marker": {
          "symbol": "circle"
         },
         "mode": "lines",
         "name": "sad-bitter",
         "showlegend": true,
         "x": {
          "dtype": "i1",
          "bdata": "AAECAwQFBgcICQoLDA0ODxAREhMUFRYXGBka"
         },
         "xaxis": "x",
         "y": [
          0.12151157855987549,
          0.03266620635986328,
          0.01539546251296997,
          0.013744831085205078,
          0.00879371166229248,
          0.0060569047927856445,
          0.004112839698791504,
          0.0035322904586791992,
          0.002538919448852539,
          0.0022238492965698242,
          0.0014799833297729492,
          0.0010896921157836914,
          8.019804954528809E-4,
          6.77645206451416E-4,
          7.205605506896973E-4,
          9.533166885375977E-4,
          0.0010010600090026855,
          0.001429915428161621,
          0.0019432902336120605,
          0.002470850944519043,
          0.0030766725540161133,
          0.00388491153717041,
          0.0045220255851745605,
          0.005024611949920654,
          0.005725681781768799,
          0.007254421710968018,
          0.011836528778076172
         ],
         "yaxis": "y",
         "type": "scattergl"
        },
        {
         "hovertemplate": "variable=sad-jealous<br>Layer=%{x}<br>Euclidean Distance=%{y}<extra></extra>",
         "legendgroup": "sad-jealous",
         "line": {
          "color": "#FECB52",
          "dash": "solid"
         },
         "marker": {
          "symbol": "circle"
         },
         "mode": "lines",
         "name": "sad-jealous",
         "showlegend": true,
         "x": {
          "dtype": "i1",
          "bdata": "AAECAwQFBgcICQoLDA0ODxAREhMUFRYXGBka"
         },
         "xaxis": "x",
         "y": [
          0.17700481414794922,
          0.05175888538360596,
          0.028859496116638184,
          0.026549935340881348,
          0.018106579780578613,
          0.013189911842346191,
          0.009475767612457275,
          0.008006453514099121,
          0.006671249866485596,
          0.006127595901489258,
          0.004317045211791992,
          0.0035941600799560547,
          0.002913534641265869,
          0.002467036247253418,
          0.002540886402130127,
          0.003055572509765625,
          0.002636432647705078,
          0.0033549070358276367,
          0.004234254360198975,
          0.006336092948913574,
          0.007153928279876709,
          0.008601546287536621,
          0.00998908281326294,
          0.011136531829833984,
          0.013414263725280762,
          0.020322680473327637,
          0.03272587060928345
         ],
         "yaxis": "y",
         "type": "scattergl"
        },
        {
         "hovertemplate": "variable=sad-angry<br>Layer=%{x}<br>Euclidean Distance=%{y}<extra></extra>",
         "legendgroup": "sad-angry",
         "line": {
          "color": "#636efa",
          "dash": "solid"
         },
         "marker": {
          "symbol": "circle"
         },
         "mode": "lines",
         "name": "sad-angry",
         "showlegend": true,
         "x": {
          "dtype": "i1",
          "bdata": "AAECAwQFBgcICQoLDA0ODxAREhMUFRYXGBka"
         },
         "xaxis": "x",
         "y": [
          0.10365128517150879,
          0.02792191505432129,
          0.012866973876953125,
          0.011014819145202637,
          0.006794154644012451,
          0.004953920841217041,
          0.003337681293487549,
          0.0029238462448120117,
          0.002264738082885742,
          0.002025008201599121,
          0.0014053583145141602,
          0.0010557174682617188,
          7.303953170776367E-4,
          6.109476089477539E-4,
          6.576180458068848E-4,
          8.568763732910156E-4,
          8.905529975891113E-4,
          0.0011663436889648438,
          0.0017068982124328613,
          0.002436816692352295,
          0.0029784440994262695,
          0.0036526918411254883,
          0.004294991493225098,
          0.004932105541229248,
          0.005662202835083008,
          0.007509171962738037,
          0.013377904891967773
         ],
         "yaxis": "y",
         "type": "scattergl"
        },
        {
         "hovertemplate": "variable=sad-guilty<br>Layer=%{x}<br>Euclidean Distance=%{y}<extra></extra>",
         "legendgroup": "sad-guilty",
         "line": {
          "color": "#EF553B",
          "dash": "solid"
         },
         "marker": {
          "symbol": "circle"
         },
         "mode": "lines",
         "name": "sad-guilty",
         "showlegend": true,
         "x": {
          "dtype": "i1",
          "bdata": "AAECAwQFBgcICQoLDA0ODxAREhMUFRYXGBka"
         },
         "xaxis": "x",
         "y": [
          0.1312485933303833,
          0.034886717796325684,
          0.01630842685699463,
          0.013900279998779297,
          0.008948266506195068,
          0.0062947869300842285,
          0.004097342491149902,
          0.003575563430786133,
          0.002533555030822754,
          0.0022284388542175293,
          0.0014476776123046875,
          0.0010398030281066895,
          7.423758506774902E-4,
          6.211400032043457E-4,
          6.732344627380371E-4,
          9.226799011230469E-4,
          9.889602661132812E-4,
          0.0013573169708251953,
          0.0021334290504455566,
          0.003011941909790039,
          0.00411456823348999,
          0.004816949367523193,
          0.005670726299285889,
          0.0063648223876953125,
          0.007309675216674805,
          0.009699106216430664,
          0.017468810081481934
         ],
         "yaxis": "y",
         "type": "scattergl"
        },
        {
         "hovertemplate": "variable=sad-passionate<br>Layer=%{x}<br>Euclidean Distance=%{y}<extra></extra>",
         "legendgroup": "sad-passionate",
         "line": {
          "color": "#00cc96",
          "dash": "solid"
         },
         "marker": {
          "symbol": "circle"
         },
         "mode": "lines",
         "name": "sad-passionate",
         "showlegend": true,
         "x": {
          "dtype": "i1",
          "bdata": "AAECAwQFBgcICQoLDA0ODxAREhMUFRYXGBka"
         },
         "xaxis": "x",
         "y": [
          0.17226529121398926,
          0.048597753047943115,
          0.025789499282836914,
          0.02548515796661377,
          0.018410861492156982,
          0.013727068901062012,
          0.009973645210266113,
          0.0094527006149292,
          0.007268130779266357,
          0.0067234039306640625,
          0.00471341609954834,
          0.0036960244178771973,
          0.002917051315307617,
          0.0024840831756591797,
          0.00268477201461792,
          0.0032861828804016113,
          0.0032021403312683105,
          0.003920912742614746,
          0.004897058010101318,
          0.006785869598388672,
          0.007861077785491943,
          0.0096701979637146,
          0.011561393737792969,
          0.013007700443267822,
          0.01595282554626465,
          0.02391982078552246,
          0.035404860973358154
         ],
         "yaxis": "y",
         "type": "scattergl"
        },
        {
         "hovertemplate": "variable=sad-brave<br>Layer=%{x}<br>Euclidean Distance=%{y}<extra></extra>",
         "legendgroup": "sad-brave",
         "line": {
          "color": "#ab63fa",
          "dash": "solid"
         },
         "marker": {
          "symbol": "circle"
         },
         "mode": "lines",
         "name": "sad-brave",
         "showlegend": true,
         "x": {
          "dtype": "i1",
          "bdata": "AAECAwQFBgcICQoLDA0ODxAREhMUFRYXGBka"
         },
         "xaxis": "x",
         "y": [
          0.12045669555664062,
          0.032878220081329346,
          0.015317201614379883,
          0.013688921928405762,
          0.0090675950050354,
          0.006699681282043457,
          0.004589080810546875,
          0.004326939582824707,
          0.0033918023109436035,
          0.0029855966567993164,
          0.0020140409469604492,
          0.0014015436172485352,
          9.819269180297852E-4,
          8.093118667602539E-4,
          8.602142333984375E-4,
          0.0011219978332519531,
          0.0011478066444396973,
          0.001473546028137207,
          0.002162456512451172,
          0.0030025839805603027,
          0.003549337387084961,
          0.004390418529510498,
          0.005081236362457275,
          0.005656599998474121,
          0.006554961204528809,
          0.008416235446929932,
          0.01680934429168701
         ],
         "yaxis": "y",
         "type": "scattergl"
        },
        {
         "hovertemplate": "variable=sad-confident<br>Layer=%{x}<br>Euclidean Distance=%{y}<extra></extra>",
         "legendgroup": "sad-confident",
         "line": {
          "color": "#FFA15A",
          "dash": "solid"
         },
         "marker": {
          "symbol": "circle"
         },
         "mode": "lines",
         "name": "sad-confident",
         "showlegend": true,
         "x": {
          "dtype": "i1",
          "bdata": "AAECAwQFBgcICQoLDA0ODxAREhMUFRYXGBka"
         },
         "xaxis": "x",
         "y": [
          0.12095373868942261,
          0.034084439277648926,
          0.01615118980407715,
          0.014080286026000977,
          0.009169518947601318,
          0.006444334983825684,
          0.004185318946838379,
          0.003870844841003418,
          0.002769768238067627,
          0.0024022459983825684,
          0.0015681982040405273,
          0.001092076301574707,
          7.560253143310547E-4,
          6.262063980102539E-4,
          6.744861602783203E-4,
          9.052753448486328E-4,
          9.05454158782959E-4,
          0.0012900829315185547,
          0.0019399523735046387,
          0.002658247947692871,
          0.0033063888549804688,
          0.0038561224937438965,
          0.004304051399230957,
          0.004666626453399658,
          0.005337715148925781,
          0.00668489933013916,
          0.012366890907287598
         ],
         "yaxis": "y",
         "type": "scattergl"
        },
        {
         "hovertemplate": "variable=anxious-fearful<br>Layer=%{x}<br>Euclidean Distance=%{y}<extra></extra>",
         "legendgroup": "anxious-fearful",
         "line": {
          "color": "#19d3f3",
          "dash": "solid"
         },
         "marker": {
          "symbol": "circle"
         },
         "mode": "lines",
         "name": "anxious-fearful",
         "showlegend": true,
         "x": {
          "dtype": "i1",
          "bdata": "AAECAwQFBgcICQoLDA0ODxAREhMUFRYXGBka"
         },
         "xaxis": "x",
         "y": [
          0.19756680727005005,
          0.05417710542678833,
          0.026339292526245117,
          0.022116124629974365,
          0.015990912914276123,
          0.012011051177978516,
          0.007936596870422363,
          0.007016658782958984,
          0.005170583724975586,
          0.004759073257446289,
          0.0031638741493225098,
          0.0023416876792907715,
          0.0016911029815673828,
          0.0014330148696899414,
          0.0015603303909301758,
          0.0020521879196166992,
          0.0021561384201049805,
          0.002751648426055908,
          0.0035538673400878906,
          0.0051048994064331055,
          0.005832016468048096,
          0.007037341594696045,
          0.00923091173171997,
          0.010180056095123291,
          0.012163400650024414,
          0.015729963779449463,
          0.027460932731628418
         ],
         "yaxis": "y",
         "type": "scattergl"
        },
        {
         "hovertemplate": "variable=anxious-scared<br>Layer=%{x}<br>Euclidean Distance=%{y}<extra></extra>",
         "legendgroup": "anxious-scared",
         "line": {
          "color": "#FF6692",
          "dash": "solid"
         },
         "marker": {
          "symbol": "circle"
         },
         "mode": "lines",
         "name": "anxious-scared",
         "showlegend": true,
         "x": {
          "dtype": "i1",
          "bdata": "AAECAwQFBgcICQoLDA0ODxAREhMUFRYXGBka"
         },
         "xaxis": "x",
         "y": [
          0.18168461322784424,
          0.03878450393676758,
          0.021106600761413574,
          0.017780423164367676,
          0.012419700622558594,
          0.009400665760040283,
          0.00696033239364624,
          0.005862414836883545,
          0.0049443840980529785,
          0.004629731178283691,
          0.0032825469970703125,
          0.0025892257690429688,
          0.002136826515197754,
          0.0018622279167175293,
          0.002028822898864746,
          0.002576589584350586,
          0.0025234222412109375,
          0.0031766891479492188,
          0.0038439035415649414,
          0.0050171613693237305,
          0.005739092826843262,
          0.006988227367401123,
          0.009075284004211426,
          0.010445177555084229,
          0.012608647346496582,
          0.01785212755203247,
          0.025346577167510986
         ],
         "yaxis": "y",
         "type": "scattergl"
        },
        {
         "hovertemplate": "variable=anxious-depressed<br>Layer=%{x}<br>Euclidean Distance=%{y}<extra></extra>",
         "legendgroup": "anxious-depressed",
         "line": {
          "color": "#B6E880",
          "dash": "solid"
         },
         "marker": {
          "symbol": "circle"
         },
         "mode": "lines",
         "name": "anxious-depressed",
         "showlegend": true,
         "x": {
          "dtype": "i1",
          "bdata": "AAECAwQFBgcICQoLDA0ODxAREhMUFRYXGBka"
         },
         "xaxis": "x",
         "y": [
          0.2121252417564392,
          0.057162463665008545,
          0.029870986938476562,
          0.026486992835998535,
          0.01873236894607544,
          0.013097882270812988,
          0.009544909000396729,
          0.008229732513427734,
          0.006140708923339844,
          0.005622386932373047,
          0.003686070442199707,
          0.002777099609375,
          0.002024054527282715,
          0.001723647117614746,
          0.0017988085746765137,
          0.002308070659637451,
          0.0022029876708984375,
          0.0027837157249450684,
          0.004108428955078125,
          0.005530238151550293,
          0.006344616413116455,
          0.007737278938293457,
          0.010008513927459717,
          0.011040806770324707,
          0.013036489486694336,
          0.017518460750579834,
          0.02964639663696289
         ],
         "yaxis": "y",
         "type": "scattergl"
        },
        {
         "hovertemplate": "variable=anxious-lonely<br>Layer=%{x}<br>Euclidean Distance=%{y}<extra></extra>",
         "legendgroup": "anxious-lonely",
         "line": {
          "color": "#FF97FF",
          "dash": "solid"
         },
         "marker": {
          "symbol": "circle"
         },
         "mode": "lines",
         "name": "anxious-lonely",
         "showlegend": true,
         "x": {
          "dtype": "i1",
          "bdata": "AAECAwQFBgcICQoLDA0ODxAREhMUFRYXGBka"
         },
         "xaxis": "x",
         "y": [
          0.18178963661193848,
          0.04195624589920044,
          0.02278459072113037,
          0.018247127532958984,
          0.012708067893981934,
          0.009778022766113281,
          0.007178544998168945,
          0.006147027015686035,
          0.005438268184661865,
          0.005036711692810059,
          0.003606081008911133,
          0.002836942672729492,
          0.0023110508918762207,
          0.0020096302032470703,
          0.002164602279663086,
          0.0027695298194885254,
          0.0028351545333862305,
          0.0033403635025024414,
          0.0037658214569091797,
          0.004960060119628906,
          0.005587339401245117,
          0.0067375898361206055,
          0.008651912212371826,
          0.009893298149108887,
          0.012298226356506348,
          0.01747065782546997,
          0.025407910346984863
         ],
         "yaxis": "y",
         "type": "scattergl"
        },
        {
         "hovertemplate": "variable=anxious-bitter<br>Layer=%{x}<br>Euclidean Distance=%{y}<extra></extra>",
         "legendgroup": "anxious-bitter",
         "line": {
          "color": "#FECB52",
          "dash": "solid"
         },
         "marker": {
          "symbol": "circle"
         },
         "mode": "lines",
         "name": "anxious-bitter",
         "showlegend": true,
         "x": {
          "dtype": "i1",
          "bdata": "AAECAwQFBgcICQoLDA0ODxAREhMUFRYXGBka"
         },
         "xaxis": "x",
         "y": [
          0.19239109754562378,
          0.042748868465423584,
          0.022629082202911377,
          0.01922398805618286,
          0.013377249240875244,
          0.010302603244781494,
          0.007494449615478516,
          0.00671076774597168,
          0.005734384059906006,
          0.005204975605010986,
          0.0037211179733276367,
          0.0029036402702331543,
          0.002398371696472168,
          0.002100229263305664,
          0.0022764205932617188,
          0.0029239654541015625,
          0.003062605857849121,
          0.0037423372268676758,
          0.004219949245452881,
          0.005753457546234131,
          0.006285548210144043,
          0.007477164268493652,
          0.009440124034881592,
          0.01068812608718872,
          0.013181328773498535,
          0.018373608589172363,
          0.02884310483932495
         ],
         "yaxis": "y",
         "type": "scattergl"
        },
        {
         "hovertemplate": "variable=anxious-jealous<br>Layer=%{x}<br>Euclidean Distance=%{y}<extra></extra>",
         "legendgroup": "anxious-jealous",
         "line": {
          "color": "#636efa",
          "dash": "solid"
         },
         "marker": {
          "symbol": "circle"
         },
         "mode": "lines",
         "name": "anxious-jealous",
         "showlegend": true,
         "x": {
          "dtype": "i1",
          "bdata": "AAECAwQFBgcICQoLDA0ODxAREhMUFRYXGBka"
         },
         "xaxis": "x",
         "y": [
          0.2027587890625,
          0.05173557996749878,
          0.02793222665786743,
          0.026418328285217285,
          0.01654815673828125,
          0.012592315673828125,
          0.009042441844940186,
          0.007466912269592285,
          0.006083846092224121,
          0.005321621894836426,
          0.003498554229736328,
          0.0027906298637390137,
          0.002011895179748535,
          0.0017200708389282227,
          0.0017688274383544922,
          0.0021842122077941895,
          0.0018412470817565918,
          0.0024193525314331055,
          0.00306856632232666,
          0.0056588053703308105,
          0.0061759352684021,
          0.007494866847991943,
          0.010164856910705566,
          0.011436045169830322,
          0.013968706130981445,
          0.020286977291107178,
          0.0380253791809082
         ],
         "yaxis": "y",
         "type": "scattergl"
        },
        {
         "hovertemplate": "variable=anxious-angry<br>Layer=%{x}<br>Euclidean Distance=%{y}<extra></extra>",
         "legendgroup": "anxious-angry",
         "line": {
          "color": "#EF553B",
          "dash": "solid"
         },
         "marker": {
          "symbol": "circle"
         },
         "mode": "lines",
         "name": "anxious-angry",
         "showlegend": true,
         "x": {
          "dtype": "i1",
          "bdata": "AAECAwQFBgcICQoLDA0ODxAREhMUFRYXGBka"
         },
         "xaxis": "x",
         "y": [
          0.16425132751464844,
          0.03729349374771118,
          0.01974046230316162,
          0.01563549041748047,
          0.011039137840270996,
          0.008635997772216797,
          0.006240546703338623,
          0.00566256046295166,
          0.005251765251159668,
          0.004796624183654785,
          0.0034832358360290527,
          0.0028427839279174805,
          0.002275824546813965,
          0.0019652843475341797,
          0.0021201372146606445,
          0.002664327621459961,
          0.002656698226928711,
          0.002996683120727539,
          0.0035473108291625977,
          0.004753828048706055,
          0.005253016948699951,
          0.006411314010620117,
          0.008317708969116211,
          0.00960397720336914,
          0.011974930763244629,
          0.0173189640045166,
          0.025988638401031494
         ],
         "yaxis": "y",
         "type": "scattergl"
        },
        {
         "hovertemplate": "variable=anxious-guilty<br>Layer=%{x}<br>Euclidean Distance=%{y}<extra></extra>",
         "legendgroup": "anxious-guilty",
         "line": {
          "color": "#00cc96",
          "dash": "solid"
         },
         "marker": {
          "symbol": "circle"
         },
         "mode": "lines",
         "name": "anxious-guilty",
         "showlegend": true,
         "x": {
          "dtype": "i1",
          "bdata": "AAECAwQFBgcICQoLDA0ODxAREhMUFRYXGBka"
         },
         "xaxis": "x",
         "y": [
          0.20016902685165405,
          0.04424554109573364,
          0.023392319679260254,
          0.02035677433013916,
          0.01450645923614502,
          0.011433422565460205,
          0.008273661136627197,
          0.007225990295410156,
          0.006146252155303955,
          0.005556702613830566,
          0.0038614869117736816,
          0.0030270814895629883,
          0.0024628043174743652,
          0.0021457672119140625,
          0.002320528030395508,
          0.0029796361923217773,
          0.0030704140663146973,
          0.00371628999710083,
          0.0044220685958862305,
          0.005923151969909668,
          0.00701063871383667,
          0.008421182632446289,
          0.010713040828704834,
          0.01236647367477417,
          0.015192270278930664,
          0.021248221397399902,
          0.02988535165786743
         ],
         "yaxis": "y",
         "type": "scattergl"
        },
        {
         "hovertemplate": "variable=anxious-passionate<br>Layer=%{x}<br>Euclidean Distance=%{y}<extra></extra>",
         "legendgroup": "anxious-passionate",
         "line": {
          "color": "#ab63fa",
          "dash": "solid"
         },
         "marker": {
          "symbol": "circle"
         },
         "mode": "lines",
         "name": "anxious-passionate",
         "showlegend": true,
         "x": {
          "dtype": "i1",
          "bdata": "AAECAwQFBgcICQoLDA0ODxAREhMUFRYXGBka"
         },
         "xaxis": "x",
         "y": [
          0.20800399780273438,
          0.05193603038787842,
          0.026441454887390137,
          0.02556765079498291,
          0.017724215984344482,
          0.01353442668914795,
          0.009390711784362793,
          0.00897526741027832,
          0.0068628787994384766,
          0.006253957748413086,
          0.004209995269775391,
          0.0032258033752441406,
          0.0022947192192077637,
          0.0019406676292419434,
          0.0020658373832702637,
          0.002710282802581787,
          0.0026183128356933594,
          0.003121316432952881,
          0.004035651683807373,
          0.006027579307556152,
          0.006780087947845459,
          0.008191168308258057,
          0.010846495628356934,
          0.012154102325439453,
          0.014119923114776611,
          0.018346309661865234,
          0.02979433536529541
         ],
         "yaxis": "y",
         "type": "scattergl"
        },
        {
         "hovertemplate": "variable=anxious-brave<br>Layer=%{x}<br>Euclidean Distance=%{y}<extra></extra>",
         "legendgroup": "anxious-brave",
         "line": {
          "color": "#FFA15A",
          "dash": "solid"
         },
         "marker": {
          "symbol": "circle"
         },
         "mode": "lines",
         "name": "anxious-brave",
         "showlegend": true,
         "x": {
          "dtype": "i1",
          "bdata": "AAECAwQFBgcICQoLDA0ODxAREhMUFRYXGBka"
         },
         "xaxis": "x",
         "y": [
          0.18199259042739868,
          0.044336557388305664,
          0.023637771606445312,
          0.020686089992523193,
          0.014857590198516846,
          0.011561751365661621,
          0.008262038230895996,
          0.007900238037109375,
          0.007186770439147949,
          0.00649869441986084,
          0.0046939849853515625,
          0.003509998321533203,
          0.0027840733528137207,
          0.002395927906036377,
          0.002579212188720703,
          0.0032699108123779297,
          0.0033286213874816895,
          0.0038863420486450195,
          0.004705905914306641,
          0.005822658538818359,
          0.006352424621582031,
          0.0075626373291015625,
          0.00960606336593628,
          0.010858118534088135,
          0.01376640796661377,
          0.01911097764968872,
          0.02651900053024292
         ],
         "yaxis": "y",
         "type": "scattergl"
        },
        {
         "hovertemplate": "variable=anxious-confident<br>Layer=%{x}<br>Euclidean Distance=%{y}<extra></extra>",
         "legendgroup": "anxious-confident",
         "line": {
          "color": "#19d3f3",
          "dash": "solid"
         },
         "marker": {
          "symbol": "circle"
         },
         "mode": "lines",
         "name": "anxious-confident",
         "showlegend": true,
         "x": {
          "dtype": "i1",
          "bdata": "AAECAwQFBgcICQoLDA0ODxAREhMUFRYXGBka"
         },
         "xaxis": "x",
         "y": [
          0.17093288898468018,
          0.037897348403930664,
          0.020112991333007812,
          0.017228245735168457,
          0.01182788610458374,
          0.009259700775146484,
          0.006717085838317871,
          0.006248414516448975,
          0.005306124687194824,
          0.004885554313659668,
          0.0034393668174743652,
          0.0026273727416992188,
          0.0021451711654663086,
          0.0018575787544250488,
          0.002024412155151367,
          0.002543032169342041,
          0.002492964267730713,
          0.0030100345611572266,
          0.0035930871963500977,
          0.004610598087310791,
          0.0053667426109313965,
          0.006399929523468018,
          0.008279144763946533,
          0.009573578834533691,
          0.011825203895568848,
          0.016978681087493896,
          0.023044109344482422
         ],
         "yaxis": "y",
         "type": "scattergl"
        },
        {
         "hovertemplate": "variable=fearful-scared<br>Layer=%{x}<br>Euclidean Distance=%{y}<extra></extra>",
         "legendgroup": "fearful-scared",
         "line": {
          "color": "#FF6692",
          "dash": "solid"
         },
         "marker": {
          "symbol": "circle"
         },
         "mode": "lines",
         "name": "fearful-scared",
         "showlegend": true,
         "x": {
          "dtype": "i1",
          "bdata": "AAECAwQFBgcICQoLDA0ODxAREhMUFRYXGBka"
         },
         "xaxis": "x",
         "y": [
          0.15444540977478027,
          0.04096192121505737,
          0.02063310146331787,
          0.016582369804382324,
          0.0129280686378479,
          0.009137988090515137,
          0.006565451622009277,
          0.00576019287109375,
          0.0043686628341674805,
          0.003994286060333252,
          0.0028361082077026367,
          0.0022559762001037598,
          0.0018445253372192383,
          0.0016227364540100098,
          0.0017851591110229492,
          0.0020760297775268555,
          0.0020924806594848633,
          0.0027614831924438477,
          0.003330230712890625,
          0.004208564758300781,
          0.004621267318725586,
          0.005708754062652588,
          0.007014214992523193,
          0.008050620555877686,
          0.01003950834274292,
          0.013907849788665771,
          0.016270458698272705
         ],
         "yaxis": "y",
         "type": "scattergl"
        },
        {
         "hovertemplate": "variable=fearful-depressed<br>Layer=%{x}<br>Euclidean Distance=%{y}<extra></extra>",
         "legendgroup": "fearful-depressed",
         "line": {
          "color": "#B6E880",
          "dash": "solid"
         },
         "marker": {
          "symbol": "circle"
         },
         "mode": "lines",
         "name": "fearful-depressed",
         "showlegend": true,
         "x": {
          "dtype": "i1",
          "bdata": "AAECAwQFBgcICQoLDA0ODxAREhMUFRYXGBka"
         },
         "xaxis": "x",
         "y": [
          0.22590279579162598,
          0.06798350811004639,
          0.03401726484298706,
          0.031213104724884033,
          0.02320230007171631,
          0.017624974250793457,
          0.012095510959625244,
          0.011012673377990723,
          0.008139610290527344,
          0.007597088813781738,
          0.005084574222564697,
          0.003751993179321289,
          0.0026403069496154785,
          0.0022267699241638184,
          0.002354264259338379,
          0.0028967857360839844,
          0.0030137300491333008,
          0.003856658935546875,
          0.005160689353942871,
          0.006818056106567383,
          0.00794839859008789,
          0.009558022022247314,
          0.010877370834350586,
          0.011631369590759277,
          0.014078795909881592,
          0.01866471767425537,
          0.03588336706161499
         ],
         "yaxis": "y",
         "type": "scattergl"
        },
        {
         "hovertemplate": "variable=fearful-lonely<br>Layer=%{x}<br>Euclidean Distance=%{y}<extra></extra>",
         "legendgroup": "fearful-lonely",
         "line": {
          "color": "#FF97FF",
          "dash": "solid"
         },
         "marker": {
          "symbol": "circle"
         },
         "mode": "lines",
         "name": "fearful-lonely",
         "showlegend": true,
         "x": {
          "dtype": "i1",
          "bdata": "AAECAwQFBgcICQoLDA0ODxAREhMUFRYXGBka"
         },
         "xaxis": "x",
         "y": [
          0.18245351314544678,
          0.05168873071670532,
          0.025824308395385742,
          0.02164936065673828,
          0.016414165496826172,
          0.013002514839172363,
          0.009220123291015625,
          0.00833582878112793,
          0.006591200828552246,
          0.005995690822601318,
          0.004123687744140625,
          0.0031851530075073242,
          0.002490222454071045,
          0.002158820629119873,
          0.0022829771041870117,
          0.0027168989181518555,
          0.002917051315307617,
          0.003728210926055908,
          0.0043225884437561035,
          0.005642890930175781,
          0.0065146684646606445,
          0.007663249969482422,
          0.008935868740081787,
          0.009947061538696289,
          0.012369275093078613,
          0.0163424015045166,
          0.019980788230895996
         ],
         "yaxis": "y",
         "type": "scattergl"
        },
        {
         "hovertemplate": "variable=fearful-bitter<br>Layer=%{x}<br>Euclidean Distance=%{y}<extra></extra>",
         "legendgroup": "fearful-bitter",
         "line": {
          "color": "#FECB52",
          "dash": "solid"
         },
         "marker": {
          "symbol": "circle"
         },
         "mode": "lines",
         "name": "fearful-bitter",
         "showlegend": true,
         "x": {
          "dtype": "i1",
          "bdata": "AAECAwQFBgcICQoLDA0ODxAREhMUFRYXGBka"
         },
         "xaxis": "x",
         "y": [
          0.18630719184875488,
          0.05221301317214966,
          0.02556067705154419,
          0.021884620189666748,
          0.016238272190093994,
          0.012318849563598633,
          0.008750498294830322,
          0.008047342300415039,
          0.006315886974334717,
          0.005611896514892578,
          0.003887653350830078,
          0.0029628872871398926,
          0.002333521842956543,
          0.0020337700843811035,
          0.002156555652618408,
          0.002569437026977539,
          0.0028570890426635742,
          0.003758847713470459,
          0.004276394844055176,
          0.005781054496765137,
          0.0066606998443603516,
          0.007776141166687012,
          0.00908041000366211,
          0.01014411449432373,
          0.012452125549316406,
          0.01668250560760498,
          0.02525341510772705
         ],
         "yaxis": "y",
         "type": "scattergl"
        },
        {
         "hovertemplate": "variable=fearful-jealous<br>Layer=%{x}<br>Euclidean Distance=%{y}<extra></extra>",
         "legendgroup": "fearful-jealous",
         "line": {
          "color": "#636efa",
          "dash": "solid"
         },
         "marker": {
          "symbol": "circle"
         },
         "mode": "lines",
         "name": "fearful-jealous",
         "showlegend": true,
         "x": {
          "dtype": "i1",
          "bdata": "AAECAwQFBgcICQoLDA0ODxAREhMUFRYXGBka"
         },
         "xaxis": "x",
         "y": [
          0.22892463207244873,
          0.06775206327438354,
          0.03452247381210327,
          0.03153806924819946,
          0.02232569456100464,
          0.017339110374450684,
          0.011341512203216553,
          0.009807348251342773,
          0.007913589477539062,
          0.007019102573394775,
          0.004606842994689941,
          0.0035322904586791992,
          0.002522587776184082,
          0.002142667770385742,
          0.0022503137588500977,
          0.0027396678924560547,
          0.002544999122619629,
          0.003274679183959961,
          0.0040035247802734375,
          0.0066863298416137695,
          0.007451832294464111,
          0.008827626705169678,
          0.010503411293029785,
          0.011346638202667236,
          0.013881683349609375,
          0.020449399948120117,
          0.043414950370788574
         ],
         "yaxis": "y",
         "type": "scattergl"
        },
        {
         "hovertemplate": "variable=fearful-angry<br>Layer=%{x}<br>Euclidean Distance=%{y}<extra></extra>",
         "legendgroup": "fearful-angry",
         "line": {
          "color": "#EF553B",
          "dash": "solid"
         },
         "marker": {
          "symbol": "circle"
         },
         "mode": "lines",
         "name": "fearful-angry",
         "showlegend": true,
         "x": {
          "dtype": "i1",
          "bdata": "AAECAwQFBgcICQoLDA0ODxAREhMUFRYXGBka"
         },
         "xaxis": "x",
         "y": [
          0.17078620195388794,
          0.04747509956359863,
          0.023004531860351562,
          0.01912522315979004,
          0.014527976512908936,
          0.011416852474212646,
          0.008065760135650635,
          0.007396817207336426,
          0.0059386491775512695,
          0.0053102970123291016,
          0.0036950111389160156,
          0.002926349639892578,
          0.0022913217544555664,
          0.001985311508178711,
          0.0021007657051086426,
          0.002483665943145752,
          0.002678513526916504,
          0.003378927707672119,
          0.004019498825073242,
          0.005452156066894531,
          0.006295204162597656,
          0.007406055927276611,
          0.008792698383331299,
          0.00989830493927002,
          0.012482821941375732,
          0.016690075397491455,
          0.020982444286346436
         ],
         "yaxis": "y",
         "type": "scattergl"
        },
        {
         "hovertemplate": "variable=fearful-guilty<br>Layer=%{x}<br>Euclidean Distance=%{y}<extra></extra>",
         "legendgroup": "fearful-guilty",
         "line": {
          "color": "#00cc96",
          "dash": "solid"
         },
         "marker": {
          "symbol": "circle"
         },
         "mode": "lines",
         "name": "fearful-guilty",
         "showlegend": true,
         "x": {
          "dtype": "i1",
          "bdata": "AAECAwQFBgcICQoLDA0ODxAREhMUFRYXGBka"
         },
         "xaxis": "x",
         "y": [
          0.19413083791732788,
          0.05381429195404053,
          0.026344597339630127,
          0.02245616912841797,
          0.016970276832580566,
          0.013141512870788574,
          0.009126067161560059,
          0.008309483528137207,
          0.0064414143562316895,
          0.005754709243774414,
          0.0039283037185668945,
          0.0030330419540405273,
          0.0023866891860961914,
          0.0020787715911865234,
          0.0022257566452026367,
          0.0026534199714660645,
          0.002905428409576416,
          0.0037673115730285645,
          0.004511475563049316,
          0.006149888038635254,
          0.007494211196899414,
          0.008635222911834717,
          0.01014244556427002,
          0.011324405670166016,
          0.013763129711151123,
          0.018172383308410645,
          0.020466089248657227
         ],
         "yaxis": "y",
         "type": "scattergl"
        },
        {
         "hovertemplate": "variable=fearful-passionate<br>Layer=%{x}<br>Euclidean Distance=%{y}<extra></extra>",
         "legendgroup": "fearful-passionate",
         "line": {
          "color": "#ab63fa",
          "dash": "solid"
         },
         "marker": {
          "symbol": "circle"
         },
         "mode": "lines",
         "name": "fearful-passionate",
         "showlegend": true,
         "x": {
          "dtype": "i1",
          "bdata": "AAECAwQFBgcICQoLDA0ODxAREhMUFRYXGBka"
         },
         "xaxis": "x",
         "y": [
          0.2116185426712036,
          0.05716031789779663,
          0.02681255340576172,
          0.02739119529724121,
          0.02014702558517456,
          0.01603478193283081,
          0.010519146919250488,
          0.010469675064086914,
          0.007852375507354736,
          0.007174372673034668,
          0.004790067672729492,
          0.0035511255264282227,
          0.00247955322265625,
          0.002077758312225342,
          0.002180635929107666,
          0.0027159452438354492,
          0.0028821229934692383,
          0.0035662055015563965,
          0.004425466060638428,
          0.006618380546569824,
          0.007816433906555176,
          0.008845806121826172,
          0.01053231954574585,
          0.011491954326629639,
          0.012744367122650146,
          0.015420675277709961,
          0.028049945831298828
         ],
         "yaxis": "y",
         "type": "scattergl"
        },
        {
         "hovertemplate": "variable=fearful-brave<br>Layer=%{x}<br>Euclidean Distance=%{y}<extra></extra>",
         "legendgroup": "fearful-brave",
         "line": {
          "color": "#FFA15A",
          "dash": "solid"
         },
         "marker": {
          "symbol": "circle"
         },
         "mode": "lines",
         "name": "fearful-brave",
         "showlegend": true,
         "x": {
          "dtype": "i1",
          "bdata": "AAECAwQFBgcICQoLDA0ODxAREhMUFRYXGBka"
         },
         "xaxis": "x",
         "y": [
          0.18126285076141357,
          0.052917540073394775,
          0.02586883306503296,
          0.02113926410675049,
          0.01632225513458252,
          0.012784242630004883,
          0.008834481239318848,
          0.008485198020935059,
          0.006989717483520508,
          0.006399750709533691,
          0.004484891891479492,
          0.0033660531044006348,
          0.002574741840362549,
          0.0022115707397460938,
          0.00233304500579834,
          0.0027856826782226562,
          0.0029790401458740234,
          0.00367891788482666,
          0.004422008991241455,
          0.005821406841278076,
          0.006588757038116455,
          0.007568240165710449,
          0.00893622636795044,
          0.010020196437835693,
          0.012754559516906738,
          0.01726633310317993,
          0.022462308406829834
         ],
         "yaxis": "y",
         "type": "scattergl"
        },
        {
         "hovertemplate": "variable=fearful-confident<br>Layer=%{x}<br>Euclidean Distance=%{y}<extra></extra>",
         "legendgroup": "fearful-confident",
         "line": {
          "color": "#19d3f3",
          "dash": "solid"
         },
         "marker": {
          "symbol": "circle"
         },
         "mode": "lines",
         "name": "fearful-confident",
         "showlegend": true,
         "x": {
          "dtype": "i1",
          "bdata": "AAECAwQFBgcICQoLDA0ODxAREhMUFRYXGBka"
         },
         "xaxis": "x",
         "y": [
          0.169927716255188,
          0.048982858657836914,
          0.023748934268951416,
          0.020417392253875732,
          0.015438556671142578,
          0.01217496395111084,
          0.008458077907562256,
          0.007938921451568604,
          0.006207704544067383,
          0.005615949630737305,
          0.003933429718017578,
          0.002978205680847168,
          0.0023299455642700195,
          0.0020164847373962402,
          0.0021747350692749023,
          0.002520620822906494,
          0.0026731491088867188,
          0.0033142566680908203,
          0.003926277160644531,
          0.005141496658325195,
          0.00600510835647583,
          0.0068923234939575195,
          0.008132576942443848,
          0.009262144565582275,
          0.0114516019821167,
          0.015475928783416748,
          0.020420730113983154
         ],
         "yaxis": "y",
         "type": "scattergl"
        },
        {
         "hovertemplate": "variable=scared-depressed<br>Layer=%{x}<br>Euclidean Distance=%{y}<extra></extra>",
         "legendgroup": "scared-depressed",
         "line": {
          "color": "#FF6692",
          "dash": "solid"
         },
         "marker": {
          "symbol": "circle"
         },
         "mode": "lines",
         "name": "scared-depressed",
         "showlegend": true,
         "x": {
          "dtype": "i1",
          "bdata": "AAECAwQFBgcICQoLDA0ODxAREhMUFRYXGBka"
         },
         "xaxis": "x",
         "y": [
          0.18787825107574463,
          0.052022337913513184,
          0.028371572494506836,
          0.024693727493286133,
          0.017254948616027832,
          0.012782156467437744,
          0.009165704250335693,
          0.008577585220336914,
          0.006506681442260742,
          0.006444096565246582,
          0.004478812217712402,
          0.0034365057945251465,
          0.002760946750640869,
          0.0023453831672668457,
          0.00251615047454834,
          0.0030673742294311523,
          0.0029697418212890625,
          0.003598809242248535,
          0.0046234130859375,
          0.005611419677734375,
          0.006741642951965332,
          0.008279383182525635,
          0.009890496730804443,
          0.011166274547576904,
          0.013765573501586914,
          0.019215881824493408,
          0.026531517505645752
         ],
         "yaxis": "y",
         "type": "scattergl"
        },
        {
         "hovertemplate": "variable=scared-lonely<br>Layer=%{x}<br>Euclidean Distance=%{y}<extra></extra>",
         "legendgroup": "scared-lonely",
         "line": {
          "color": "#B6E880",
          "dash": "solid"
         },
         "marker": {
          "symbol": "circle"
         },
         "mode": "lines",
         "name": "scared-lonely",
         "showlegend": true,
         "x": {
          "dtype": "i1",
          "bdata": "AAECAwQFBgcICQoLDA0ODxAREhMUFRYXGBka"
         },
         "xaxis": "x",
         "y": [
          0.10460042953491211,
          0.02974987030029297,
          0.015172719955444336,
          0.01258397102355957,
          0.008255839347839355,
          0.005971431732177734,
          0.003964066505432129,
          0.0034238696098327637,
          0.0026354193687438965,
          0.0024092793464660645,
          0.0015935897827148438,
          0.001127004623413086,
          7.805824279785156E-4,
          6.47425651550293E-4,
          6.976723670959473E-4,
          9.634494781494141E-4,
          9.801387786865234E-4,
          0.0014282464981079102,
          0.0017585158348083496,
          0.002320408821105957,
          0.0029940009117126465,
          0.0033668875694274902,
          0.003991067409515381,
          0.004246890544891357,
          0.004660546779632568,
          0.00549846887588501,
          0.008028864860534668
         ],
         "yaxis": "y",
         "type": "scattergl"
        },
        {
         "hovertemplate": "variable=scared-bitter<br>Layer=%{x}<br>Euclidean Distance=%{y}<extra></extra>",
         "legendgroup": "scared-bitter",
         "line": {
          "color": "#FF97FF",
          "dash": "solid"
         },
         "marker": {
          "symbol": "circle"
         },
         "mode": "lines",
         "name": "scared-bitter",
         "showlegend": true,
         "x": {
          "dtype": "i1",
          "bdata": "AAECAwQFBgcICQoLDA0ODxAREhMUFRYXGBka"
         },
         "xaxis": "x",
         "y": [
          0.1124529242515564,
          0.0318450927734375,
          0.015500545501708984,
          0.013470649719238281,
          0.008974432945251465,
          0.006459295749664307,
          0.004377126693725586,
          0.0038238167762756348,
          0.0028172731399536133,
          0.0024881362915039062,
          0.0016162395477294922,
          0.0011518001556396484,
          8.117556571960449E-4,
          6.806254386901855E-4,
          7.332563400268555E-4,
          0.0010141730308532715,
          0.0011121630668640137,
          0.00160902738571167,
          0.0019946694374084473,
          0.0027419328689575195,
          0.0034492015838623047,
          0.004106879234313965,
          0.0049214959144592285,
          0.005173802375793457,
          0.005713939666748047,
          0.006592929363250732,
          0.010851562023162842
         ],
         "yaxis": "y",
         "type": "scattergl"
        },
        {
         "hovertemplate": "variable=scared-jealous<br>Layer=%{x}<br>Euclidean Distance=%{y}<extra></extra>",
         "legendgroup": "scared-jealous",
         "line": {
          "color": "#FECB52",
          "dash": "solid"
         },
         "marker": {
          "symbol": "circle"
         },
         "mode": "lines",
         "name": "scared-jealous",
         "showlegend": true,
         "x": {
          "dtype": "i1",
          "bdata": "AAECAwQFBgcICQoLDA0ODxAREhMUFRYXGBka"
         },
         "xaxis": "x",
         "y": [
          0.18119025230407715,
          0.04766768217086792,
          0.027603447437286377,
          0.024685382843017578,
          0.016744494438171387,
          0.012563943862915039,
          0.0090864896774292,
          0.007704734802246094,
          0.006712079048156738,
          0.0061321258544921875,
          0.004292905330657959,
          0.0035544633865356445,
          0.002860426902770996,
          0.0024470090866088867,
          0.002576112747192383,
          0.003100275993347168,
          0.0027070045471191406,
          0.00340878963470459,
          0.004033267498016357,
          0.0059430599212646484,
          0.006622016429901123,
          0.007857739925384521,
          0.009404540061950684,
          0.010353505611419678,
          0.012594640254974365,
          0.019645392894744873,
          0.03650617599487305
         ],
         "yaxis": "y",
         "type": "scattergl"
        },
        {
         "hovertemplate": "variable=scared-angry<br>Layer=%{x}<br>Euclidean Distance=%{y}<extra></extra>",
         "legendgroup": "scared-angry",
         "line": {
          "color": "#636efa",
          "dash": "solid"
         },
         "marker": {
          "symbol": "circle"
         },
         "mode": "lines",
         "name": "scared-angry",
         "showlegend": true,
         "x": {
          "dtype": "i1",
          "bdata": "AAECAwQFBgcICQoLDA0ODxAREhMUFRYXGBka"
         },
         "xaxis": "x",
         "y": [
          0.08991032838821411,
          0.024864614009857178,
          0.011914074420928955,
          0.010239720344543457,
          0.00638425350189209,
          0.0047994256019592285,
          0.0031548738479614258,
          0.0027690529823303223,
          0.002223491668701172,
          0.001976490020751953,
          0.0013508796691894531,
          9.765028953552246E-4,
          6.624460220336914E-4,
          5.476474761962891E-4,
          5.915164947509766E-4,
          8.106231689453125E-4,
          8.524656295776367E-4,
          0.0011983513832092285,
          0.001538693904876709,
          0.002246260643005371,
          0.0027535557746887207,
          0.0031355619430541992,
          0.0038174986839294434,
          0.004117369651794434,
          0.0046236515045166016,
          0.005474209785461426,
          0.00779646635055542
         ],
         "yaxis": "y",
         "type": "scattergl"
        },
        {
         "hovertemplate": "variable=scared-guilty<br>Layer=%{x}<br>Euclidean Distance=%{y}<extra></extra>",
         "legendgroup": "scared-guilty",
         "line": {
          "color": "#EF553B",
          "dash": "solid"
         },
         "marker": {
          "symbol": "circle"
         },
         "mode": "lines",
         "name": "scared-guilty",
         "showlegend": true,
         "x": {
          "dtype": "i1",
          "bdata": "AAECAwQFBgcICQoLDA0ODxAREhMUFRYXGBka"
         },
         "xaxis": "x",
         "y": [
          0.10917747020721436,
          0.031293272972106934,
          0.01525050401687622,
          0.013080179691314697,
          0.008522272109985352,
          0.006262660026550293,
          0.004063606262207031,
          0.003553152084350586,
          0.002523660659790039,
          0.002231001853942871,
          0.0014249086380004883,
          0.0010044574737548828,
          7.01606273651123E-4,
          5.830526351928711E-4,
          6.238222122192383E-4,
          8.679628372192383E-4,
          9.595751762390137E-4,
          0.001368880271911621,
          0.001851201057434082,
          0.0025821924209594727,
          0.00354081392288208,
          0.0039048194885253906,
          0.004507124423980713,
          0.0047869086265563965,
          0.005321204662322998,
          0.0066089630126953125,
          0.00972825288772583
         ],
         "yaxis": "y",
         "type": "scattergl"
        },
        {
         "hovertemplate": "variable=scared-passionate<br>Layer=%{x}<br>Euclidean Distance=%{y}<extra></extra>",
         "legendgroup": "scared-passionate",
         "line": {
          "color": "#00cc96",
          "dash": "solid"
         },
         "marker": {
          "symbol": "circle"
         },
         "mode": "lines",
         "name": "scared-passionate",
         "showlegend": true,
         "x": {
          "dtype": "i1",
          "bdata": "AAECAwQFBgcICQoLDA0ODxAREhMUFRYXGBka"
         },
         "xaxis": "x",
         "y": [
          0.1783319115638733,
          0.04530191421508789,
          0.02462369203567505,
          0.024666428565979004,
          0.018184006214141846,
          0.013664722442626953,
          0.009862780570983887,
          0.009372472763061523,
          0.007388472557067871,
          0.006844520568847656,
          0.004745781421661377,
          0.00370711088180542,
          0.002884209156036377,
          0.0024704337120056152,
          0.0026805996894836426,
          0.0032924413681030273,
          0.0032538771629333496,
          0.003986358642578125,
          0.00480496883392334,
          0.006627917289733887,
          0.00772857666015625,
          0.009336650371551514,
          0.011350035667419434,
          0.01267242431640625,
          0.01515871286392212,
          0.021946847438812256,
          0.030829429626464844
         ],
         "yaxis": "y",
         "type": "scattergl"
        },
        {
         "hovertemplate": "variable=scared-brave<br>Layer=%{x}<br>Euclidean Distance=%{y}<extra></extra>",
         "legendgroup": "scared-brave",
         "line": {
          "color": "#ab63fa",
          "dash": "solid"
         },
         "marker": {
          "symbol": "circle"
         },
         "mode": "lines",
         "name": "scared-brave",
         "showlegend": true,
         "x": {
          "dtype": "i1",
          "bdata": "AAECAwQFBgcICQoLDA0ODxAREhMUFRYXGBka"
         },
         "xaxis": "x",
         "y": [
          0.10077250003814697,
          0.028296470642089844,
          0.014000535011291504,
          0.012294948101043701,
          0.008418679237365723,
          0.006252169609069824,
          0.004242360591888428,
          0.004033088684082031,
          0.0031346678733825684,
          0.0028961896896362305,
          0.0019000768661499023,
          0.0013153553009033203,
          8.894801139831543E-4,
          7.241368293762207E-4,
          7.742643356323242E-4,
          0.0010608434677124023,
          0.0010834336280822754,
          0.001428842544555664,
          0.0019470453262329102,
          0.0024484992027282715,
          0.0029653310775756836,
          0.003497183322906494,
          0.004279196262359619,
          0.004551351070404053,
          0.005164206027984619,
          0.006550192832946777,
          0.011402010917663574
         ],
         "yaxis": "y",
         "type": "scattergl"
        },
        {
         "hovertemplate": "variable=scared-confident<br>Layer=%{x}<br>Euclidean Distance=%{y}<extra></extra>",
         "legendgroup": "scared-confident",
         "line": {
          "color": "#FFA15A",
          "dash": "solid"
         },
         "marker": {
          "symbol": "circle"
         },
         "mode": "lines",
         "name": "scared-confident",
         "showlegend": true,
         "x": {
          "dtype": "i1",
          "bdata": "AAECAwQFBgcICQoLDA0ODxAREhMUFRYXGBka"
         },
         "xaxis": "x",
         "y": [
          0.10461854934692383,
          0.02866995334625244,
          0.014098405838012695,
          0.01237720251083374,
          0.008081555366516113,
          0.005717456340789795,
          0.003749072551727295,
          0.003445267677307129,
          0.0024846792221069336,
          0.002197742462158203,
          0.0014314651489257812,
          0.0010025501251220703,
          6.873607635498047E-4,
          5.657672882080078E-4,
          6.011724472045898E-4,
          8.015632629394531E-4,
          8.372068405151367E-4,
          0.0012097954750061035,
          0.0015603899955749512,
          0.0019675493240356445,
          0.002597630023956299,
          0.002794325351715088,
          0.003186464309692383,
          0.003324568271636963,
          0.0036066174507141113,
          0.004388213157653809,
          0.007529795169830322
         ],
         "yaxis": "y",
         "type": "scattergl"
        },
        {
         "hovertemplate": "variable=depressed-lonely<br>Layer=%{x}<br>Euclidean Distance=%{y}<extra></extra>",
         "legendgroup": "depressed-lonely",
         "line": {
          "color": "#19d3f3",
          "dash": "solid"
         },
         "marker": {
          "symbol": "circle"
         },
         "mode": "lines",
         "name": "depressed-lonely",
         "showlegend": true,
         "x": {
          "dtype": "i1",
          "bdata": "AAECAwQFBgcICQoLDA0ODxAREhMUFRYXGBka"
         },
         "xaxis": "x",
         "y": [
          0.18281018733978271,
          0.054051995277404785,
          0.02965235710144043,
          0.02467888593673706,
          0.017743945121765137,
          0.01297086477279663,
          0.009229481220245361,
          0.008404850959777832,
          0.006459951400756836,
          0.006403326988220215,
          0.004565596580505371,
          0.003527820110321045,
          0.002807021141052246,
          0.002375781536102295,
          0.002536475658416748,
          0.0030715465545654297,
          0.002971053123474121,
          0.003554403781890869,
          0.004523575305938721,
          0.005495190620422363,
          0.006468474864959717,
          0.008085966110229492,
          0.009231626987457275,
          0.010353624820709229,
          0.013091683387756348,
          0.01857435703277588,
          0.02767777442932129
         ],
         "yaxis": "y",
         "type": "scattergl"
        },
        {
         "hovertemplate": "variable=depressed-bitter<br>Layer=%{x}<br>Euclidean Distance=%{y}<extra></extra>",
         "legendgroup": "depressed-bitter",
         "line": {
          "color": "#FF6692",
          "dash": "solid"
         },
         "marker": {
          "symbol": "circle"
         },
         "mode": "lines",
         "name": "depressed-bitter",
         "showlegend": true,
         "x": {
          "dtype": "i1",
          "bdata": "AAECAwQFBgcICQoLDA0ODxAREhMUFRYXGBka"
         },
         "xaxis": "x",
         "y": [
          0.19697487354278564,
          0.05598640441894531,
          0.02948319911956787,
          0.0264737606048584,
          0.018829941749572754,
          0.013912022113800049,
          0.009944558143615723,
          0.009346723556518555,
          0.006933450698852539,
          0.00679469108581543,
          0.004806160926818848,
          0.003672301769256592,
          0.0029174089431762695,
          0.0024794340133666992,
          0.0026505589485168457,
          0.0032506585121154785,
          0.0032140016555786133,
          0.0039466023445129395,
          0.005014896392822266,
          0.0062313079833984375,
          0.007113456726074219,
          0.008728563785552979,
          0.009959220886230469,
          0.01110309362411499,
          0.014027774333953857,
          0.019645988941192627,
          0.030371427536010742
         ],
         "yaxis": "y",
         "type": "scattergl"
        },
        {
         "hovertemplate": "variable=depressed-jealous<br>Layer=%{x}<br>Euclidean Distance=%{y}<extra></extra>",
         "legendgroup": "depressed-jealous",
         "line": {
          "color": "#B6E880",
          "dash": "solid"
         },
         "marker": {
          "symbol": "circle"
         },
         "mode": "lines",
         "name": "depressed-jealous",
         "showlegend": true,
         "x": {
          "dtype": "i1",
          "bdata": "AAECAwQFBgcICQoLDA0ODxAREhMUFRYXGBka"
         },
         "xaxis": "x",
         "y": [
          0.22496771812438965,
          0.06743335723876953,
          0.03753739595413208,
          0.034551143646240234,
          0.023300647735595703,
          0.017776131629943848,
          0.012157738208770752,
          0.010371565818786621,
          0.007996797561645508,
          0.007139086723327637,
          0.004794299602508545,
          0.0037363767623901367,
          0.0026977062225341797,
          0.002327561378479004,
          0.0023365020751953125,
          0.0028489232063293457,
          0.0024663209915161133,
          0.0031619668006896973,
          0.004500389099121094,
          0.006660878658294678,
          0.007646381855010986,
          0.009371519088745117,
          0.01104038953781128,
          0.012105584144592285,
          0.015147864818572998,
          0.023335754871368408,
          0.04537224769592285
         ],
         "yaxis": "y",
         "type": "scattergl"
        },
        {
         "hovertemplate": "variable=depressed-angry<br>Layer=%{x}<br>Euclidean Distance=%{y}<extra></extra>",
         "legendgroup": "depressed-angry",
         "line": {
          "color": "#FF97FF",
          "dash": "solid"
         },
         "marker": {
          "symbol": "circle"
         },
         "mode": "lines",
         "name": "depressed-angry",
         "showlegend": true,
         "x": {
          "dtype": "i1",
          "bdata": "AAECAwQFBgcICQoLDA0ODxAREhMUFRYXGBka"
         },
         "xaxis": "x",
         "y": [
          0.17479705810546875,
          0.05044132471084595,
          0.026624441146850586,
          0.0234832763671875,
          0.017081856727600098,
          0.012585580348968506,
          0.009151577949523926,
          0.00865018367767334,
          0.006724357604980469,
          0.006573677062988281,
          0.004662692546844482,
          0.0036602020263671875,
          0.002870321273803711,
          0.0024150609970092773,
          0.0025756359100341797,
          0.003115236759185791,
          0.0030320286750793457,
          0.0035454630851745605,
          0.004635512828826904,
          0.005826056003570557,
          0.006704092025756836,
          0.008225977420806885,
          0.009460687637329102,
          0.010731160640716553,
          0.013523340225219727,
          0.01894468069076538,
          0.02843022346496582
         ],
         "yaxis": "y",
         "type": "scattergl"
        },
        {
         "hovertemplate": "variable=depressed-guilty<br>Layer=%{x}<br>Euclidean Distance=%{y}<extra></extra>",
         "legendgroup": "depressed-guilty",
         "line": {
          "color": "#FECB52",
          "dash": "solid"
         },
         "marker": {
          "symbol": "circle"
         },
         "mode": "lines",
         "name": "depressed-guilty",
         "showlegend": true,
         "x": {
          "dtype": "i1",
          "bdata": "AAECAwQFBgcICQoLDA0ODxAREhMUFRYXGBka"
         },
         "xaxis": "x",
         "y": [
          0.20161670446395874,
          0.05512112379074097,
          0.029126524925231934,
          0.02536088228225708,
          0.018458545207977295,
          0.013805389404296875,
          0.009812355041503906,
          0.009228229522705078,
          0.007009387016296387,
          0.006829440593719482,
          0.004777431488037109,
          0.003675520420074463,
          0.0029200315475463867,
          0.002480745315551758,
          0.00265425443649292,
          0.0032702088356018066,
          0.003244936466217041,
          0.003923535346984863,
          0.0051988959312438965,
          0.006433844566345215,
          0.007785022258758545,
          0.009363651275634766,
          0.0111541748046875,
          0.013072490692138672,
          0.016284704208374023,
          0.023002684116363525,
          0.03212934732437134
         ],
         "yaxis": "y",
         "type": "scattergl"
        },
        {
         "hovertemplate": "variable=depressed-passionate<br>Layer=%{x}<br>Euclidean Distance=%{y}<extra></extra>",
         "legendgroup": "depressed-passionate",
         "line": {
          "color": "#636efa",
          "dash": "solid"
         },
         "marker": {
          "symbol": "circle"
         },
         "mode": "lines",
         "name": "depressed-passionate",
         "showlegend": true,
         "x": {
          "dtype": "i1",
          "bdata": "AAECAwQFBgcICQoLDA0ODxAREhMUFRYXGBka"
         },
         "xaxis": "x",
         "y": [
          0.22459197044372559,
          0.06257510185241699,
          0.0327763557434082,
          0.03202521800994873,
          0.023082196712493896,
          0.018307089805603027,
          0.012899637222290039,
          0.012322187423706055,
          0.008904218673706055,
          0.00843137502670288,
          0.005692005157470703,
          0.004277646541595459,
          0.0030008554458618164,
          0.002537548542022705,
          0.00267636775970459,
          0.003397643566131592,
          0.0032120943069458008,
          0.0037903785705566406,
          0.005258619785308838,
          0.007146358489990234,
          0.008458197116851807,
          0.010290145874023438,
          0.011931240558624268,
          0.013234913349151611,
          0.01567673683166504,
          0.020940780639648438,
          0.03830075263977051
         ],
         "yaxis": "y",
         "type": "scattergl"
        },
        {
         "hovertemplate": "variable=depressed-brave<br>Layer=%{x}<br>Euclidean Distance=%{y}<extra></extra>",
         "legendgroup": "depressed-brave",
         "line": {
          "color": "#EF553B",
          "dash": "solid"
         },
         "marker": {
          "symbol": "circle"
         },
         "mode": "lines",
         "name": "depressed-brave",
         "showlegend": true,
         "x": {
          "dtype": "i1",
          "bdata": "AAECAwQFBgcICQoLDA0ODxAREhMUFRYXGBka"
         },
         "xaxis": "x",
         "y": [
          0.18961578607559204,
          0.05516427755355835,
          0.029600560665130615,
          0.02759408950805664,
          0.019971370697021484,
          0.014700651168823242,
          0.010567724704742432,
          0.010515213012695312,
          0.008334577083587646,
          0.008142352104187012,
          0.005771994590759277,
          0.004264116287231445,
          0.0032857656478881836,
          0.002749919891357422,
          0.0029144287109375,
          0.0035562515258789062,
          0.003485739231109619,
          0.004110813140869141,
          0.005290210247039795,
          0.006277859210968018,
          0.007210671901702881,
          0.008799910545349121,
          0.010132789611816406,
          0.011329591274261475,
          0.014481663703918457,
          0.020277798175811768,
          0.03067910671234131
         ],
         "yaxis": "y",
         "type": "scattergl"
        },
        {
         "hovertemplate": "variable=depressed-confident<br>Layer=%{x}<br>Euclidean Distance=%{y}<extra></extra>",
         "legendgroup": "depressed-confident",
         "line": {
          "color": "#00cc96",
          "dash": "solid"
         },
         "marker": {
          "symbol": "circle"
         },
         "mode": "lines",
         "name": "depressed-confident",
         "showlegend": true,
         "x": {
          "dtype": "i1",
          "bdata": "AAECAwQFBgcICQoLDA0ODxAREhMUFRYXGBka"
         },
         "xaxis": "x",
         "y": [
          0.18265974521636963,
          0.05146217346191406,
          0.02728193998336792,
          0.02417534589767456,
          0.0170212984085083,
          0.013065099716186523,
          0.009235739707946777,
          0.009082674980163574,
          0.006715059280395508,
          0.006707668304443359,
          0.004668593406677246,
          0.0035254955291748047,
          0.002805352210998535,
          0.00235903263092041,
          0.0025441646575927734,
          0.0030683279037475586,
          0.002914249897003174,
          0.003452479839324951,
          0.004532754421234131,
          0.0054357051849365234,
          0.006376504898071289,
          0.007696866989135742,
          0.008983850479125977,
          0.010146558284759521,
          0.01256638765335083,
          0.017907798290252686,
          0.025523006916046143
         ],
         "yaxis": "y",
         "type": "scattergl"
        },
        {
         "hovertemplate": "variable=lonely-bitter<br>Layer=%{x}<br>Euclidean Distance=%{y}<extra></extra>",
         "legendgroup": "lonely-bitter",
         "line": {
          "color": "#ab63fa",
          "dash": "solid"
         },
         "marker": {
          "symbol": "circle"
         },
         "mode": "lines",
         "name": "lonely-bitter",
         "showlegend": true,
         "x": {
          "dtype": "i1",
          "bdata": "AAECAwQFBgcICQoLDA0ODxAREhMUFRYXGBka"
         },
         "xaxis": "x",
         "y": [
          0.11136168241500854,
          0.03297591209411621,
          0.016072094440460205,
          0.013251304626464844,
          0.00850069522857666,
          0.00603330135345459,
          0.004080235958099365,
          0.0035306215286254883,
          0.002565622329711914,
          0.002294778823852539,
          0.001488804817199707,
          0.0010480284690856934,
          7.259249687194824E-4,
          5.975961685180664E-4,
          6.251335144042969E-4,
          8.251070976257324E-4,
          8.378028869628906E-4,
          0.0013022422790527344,
          0.0015366673469543457,
          0.0022277235984802246,
          0.0027504563331604004,
          0.0034353137016296387,
          0.003796815872192383,
          0.004211843013763428,
          0.0047190189361572266,
          0.005580425262451172,
          0.00942373275756836
         ],
         "yaxis": "y",
         "type": "scattergl"
        },
        {
         "hovertemplate": "variable=lonely-jealous<br>Layer=%{x}<br>Euclidean Distance=%{y}<extra></extra>",
         "legendgroup": "lonely-jealous",
         "line": {
          "color": "#FFA15A",
          "dash": "solid"
         },
         "marker": {
          "symbol": "circle"
         },
         "mode": "lines",
         "name": "lonely-jealous",
         "showlegend": true,
         "x": {
          "dtype": "i1",
          "bdata": "AAECAwQFBgcICQoLDA0ODxAREhMUFRYXGBka"
         },
         "xaxis": "x",
         "y": [
          0.1852055788040161,
          0.04983872175216675,
          0.02939891815185547,
          0.026183009147644043,
          0.017904162406921387,
          0.0131300687789917,
          0.009337425231933594,
          0.0078810453414917,
          0.00688779354095459,
          0.006364941596984863,
          0.004501938819885254,
          0.003724992275238037,
          0.0029834508895874023,
          0.0025339722633361816,
          0.0026396512985229492,
          0.0031976699829101562,
          0.002846240997314453,
          0.0034029483795166016,
          0.0038840174674987793,
          0.005721032619476318,
          0.006519734859466553,
          0.007818222045898438,
          0.009239912033081055,
          0.010264337062835693,
          0.012768030166625977,
          0.020097315311431885,
          0.03759753704071045
         ],
         "yaxis": "y",
         "type": "scattergl"
        },
        {
         "hovertemplate": "variable=lonely-angry<br>Layer=%{x}<br>Euclidean Distance=%{y}<extra></extra>",
         "legendgroup": "lonely-angry",
         "line": {
          "color": "#19d3f3",
          "dash": "solid"
         },
         "marker": {
          "symbol": "circle"
         },
         "mode": "lines",
         "name": "lonely-angry",
         "showlegend": true,
         "x": {
          "dtype": "i1",
          "bdata": "AAECAwQFBgcICQoLDA0ODxAREhMUFRYXGBka"
         },
         "xaxis": "x",
         "y": [
          0.09552031755447388,
          0.026886045932769775,
          0.013083100318908691,
          0.010571837425231934,
          0.006485342979431152,
          0.004860103130340576,
          0.0032001137733459473,
          0.0027331113815307617,
          0.0021178126335144043,
          0.0019094347953796387,
          0.0012159347534179688,
          8.65638256072998E-4,
          5.896091461181641E-4,
          4.84466552734375E-4,
          5.019903182983398E-4,
          6.808042526245117E-4,
          6.948113441467285E-4,
          9.857416152954102E-4,
          0.0012111663818359375,
          0.0018358826637268066,
          0.0022072792053222656,
          0.0026844143867492676,
          0.0029944777488708496,
          0.003255784511566162,
          0.0036118030548095703,
          0.004231274127960205,
          0.005829453468322754
         ],
         "yaxis": "y",
         "type": "scattergl"
        },
        {
         "hovertemplate": "variable=lonely-guilty<br>Layer=%{x}<br>Euclidean Distance=%{y}<extra></extra>",
         "legendgroup": "lonely-guilty",
         "line": {
          "color": "#FF6692",
          "dash": "solid"
         },
         "marker": {
          "symbol": "circle"
         },
         "mode": "lines",
         "name": "lonely-guilty",
         "showlegend": true,
         "x": {
          "dtype": "i1",
          "bdata": "AAECAwQFBgcICQoLDA0ODxAREhMUFRYXGBka"
         },
         "xaxis": "x",
         "y": [
          0.11549633741378784,
          0.03374963998794556,
          0.01640564203262329,
          0.013201117515563965,
          0.008579432964324951,
          0.00643235445022583,
          0.0041474103927612305,
          0.003595590591430664,
          0.002554655075073242,
          0.0022901296615600586,
          0.0014911293983459473,
          0.0010409355163574219,
          7.14421272277832E-4,
          5.888938903808594E-4,
          6.213188171386719E-4,
          9.070634841918945E-4,
          9.189844131469727E-4,
          0.0012494921684265137,
          0.001680910587310791,
          0.0024063587188720703,
          0.003276526927947998,
          0.003722071647644043,
          0.004358112812042236,
          0.004789471626281738,
          0.005472302436828613,
          0.00680696964263916,
          0.009333372116088867
         ],
         "yaxis": "y",
         "type": "scattergl"
        },
        {
         "hovertemplate": "variable=lonely-passionate<br>Layer=%{x}<br>Euclidean Distance=%{y}<extra></extra>",
         "legendgroup": "lonely-passionate",
         "line": {
          "color": "#B6E880",
          "dash": "solid"
         },
         "marker": {
          "symbol": "circle"
         },
         "mode": "lines",
         "name": "lonely-passionate",
         "showlegend": true,
         "x": {
          "dtype": "i1",
          "bdata": "AAECAwQFBgcICQoLDA0ODxAREhMUFRYXGBka"
         },
         "xaxis": "x",
         "y": [
          0.17742455005645752,
          0.04606395959854126,
          0.02552276849746704,
          0.024940013885498047,
          0.018335998058319092,
          0.01378941535949707,
          0.00984889268875122,
          0.009300708770751953,
          0.0074340105056762695,
          0.006870269775390625,
          0.004725217819213867,
          0.0036962032318115234,
          0.0028759241104125977,
          0.002470552921295166,
          0.002641022205352783,
          0.0031903982162475586,
          0.003177344799041748,
          0.0038183927536010742,
          0.004418790340423584,
          0.006042540073394775,
          0.007104396820068359,
          0.008629858493804932,
          0.010134398937225342,
          0.01144629716873169,
          0.014108121395111084,
          0.02053016424179077,
          0.028619706630706787
         ],
         "yaxis": "y",
         "type": "scattergl"
        },
        {
         "hovertemplate": "variable=lonely-brave<br>Layer=%{x}<br>Euclidean Distance=%{y}<extra></extra>",
         "legendgroup": "lonely-brave",
         "line": {
          "color": "#FF97FF",
          "dash": "solid"
         },
         "marker": {
          "symbol": "circle"
         },
         "mode": "lines",
         "name": "lonely-brave",
         "showlegend": true,
         "x": {
          "dtype": "i1",
          "bdata": "AAECAwQFBgcICQoLDA0ODxAREhMUFRYXGBka"
         },
         "xaxis": "x",
         "y": [
          0.10602402687072754,
          0.03086751699447632,
          0.015199065208435059,
          0.013217031955718994,
          0.008956849575042725,
          0.006843745708465576,
          0.0046509504318237305,
          0.004293978214263916,
          0.0033405423164367676,
          0.0030137300491333008,
          0.0019407868385314941,
          0.0013253092765808105,
          8.965730667114258E-4,
          7.255077362060547E-4,
          7.538795471191406E-4,
          0.0010053515434265137,
          9.662508964538574E-4,
          0.0013363957405090332,
          0.0017951130867004395,
          0.002301156520843506,
          0.002625584602355957,
          0.003136873245239258,
          0.003528892993927002,
          0.00382155179977417,
          0.004447579383850098,
          0.005401432514190674,
          0.009182214736938477
         ],
         "yaxis": "y",
         "type": "scattergl"
        },
        {
         "hovertemplate": "variable=lonely-confident<br>Layer=%{x}<br>Euclidean Distance=%{y}<extra></extra>",
         "legendgroup": "lonely-confident",
         "line": {
          "color": "#FECB52",
          "dash": "solid"
         },
         "marker": {
          "symbol": "circle"
         },
         "mode": "lines",
         "name": "lonely-confident",
         "showlegend": true,
         "x": {
          "dtype": "i1",
          "bdata": "AAECAwQFBgcICQoLDA0ODxAREhMUFRYXGBka"
         },
         "xaxis": "x",
         "y": [
          0.11232900619506836,
          0.03086090087890625,
          0.015487194061279297,
          0.013534963130950928,
          0.008995771408081055,
          0.0064046382904052734,
          0.004141688346862793,
          0.003724336624145508,
          0.00285261869430542,
          0.0025578737258911133,
          0.001721024513244629,
          0.001193404197692871,
          8.178353309631348E-4,
          6.761550903320312E-4,
          7.213354110717773E-4,
          9.64820384979248E-4,
          9.570121765136719E-4,
          0.0013021230697631836,
          0.0016379356384277344,
          0.0021476149559020996,
          0.002722501754760742,
          0.0030646324157714844,
          0.003385782241821289,
          0.003658115863800049,
          0.004162728786468506,
          0.0052658915519714355,
          0.009332776069641113
         ],
         "yaxis": "y",
         "type": "scattergl"
        },
        {
         "hovertemplate": "variable=bitter-jealous<br>Layer=%{x}<br>Euclidean Distance=%{y}<extra></extra>",
         "legendgroup": "bitter-jealous",
         "line": {
          "color": "#636efa",
          "dash": "solid"
         },
         "marker": {
          "symbol": "circle"
         },
         "mode": "lines",
         "name": "bitter-jealous",
         "showlegend": true,
         "x": {
          "dtype": "i1",
          "bdata": "AAECAwQFBgcICQoLDA0ODxAREhMUFRYXGBka"
         },
         "xaxis": "x",
         "y": [
          0.18807590007781982,
          0.05062228441238403,
          0.02875906229019165,
          0.0269240140914917,
          0.018552839756011963,
          0.013652026653289795,
          0.009920179843902588,
          0.008485853672027588,
          0.007212996482849121,
          0.006600737571716309,
          0.004729211330413818,
          0.0038675665855407715,
          0.003096163272857666,
          0.002642035484313965,
          0.0027500391006469727,
          0.0033769607543945312,
          0.0031211376190185547,
          0.0038626790046691895,
          0.004349172115325928,
          0.006467878818511963,
          0.00716090202331543,
          0.008710920810699463,
          0.010018765926361084,
          0.011088430881500244,
          0.01351940631866455,
          0.020578086376190186,
          0.037101030349731445
         ],
         "yaxis": "y",
         "type": "scattergl"
        },
        {
         "hovertemplate": "variable=bitter-angry<br>Layer=%{x}<br>Euclidean Distance=%{y}<extra></extra>",
         "legendgroup": "bitter-angry",
         "line": {
          "color": "#EF553B",
          "dash": "solid"
         },
         "marker": {
          "symbol": "circle"
         },
         "mode": "lines",
         "name": "bitter-angry",
         "showlegend": true,
         "x": {
          "dtype": "i1",
          "bdata": "AAECAwQFBgcICQoLDA0ODxAREhMUFRYXGBka"
         },
         "xaxis": "x",
         "y": [
          0.09485757350921631,
          0.026727139949798584,
          0.012408733367919922,
          0.011385142803192139,
          0.0070708394050598145,
          0.0048563480377197266,
          0.0033386945724487305,
          0.0029138922691345215,
          0.002213716506958008,
          0.0019803643226623535,
          0.0013105273246765137,
          9.177327156066895E-4,
          6.284713745117188E-4,
          5.162954330444336E-4,
          5.374550819396973E-4,
          7.334351539611816E-4,
          7.755160331726074E-4,
          0.00116044282913208,
          0.0014615058898925781,
          0.002183198928833008,
          0.0026447176933288574,
          0.00340348482131958,
          0.0037807822227478027,
          0.004117906093597412,
          0.004795968532562256,
          0.005823791027069092,
          0.00940316915512085
         ],
         "yaxis": "y",
         "type": "scattergl"
        },
        {
         "hovertemplate": "variable=bitter-guilty<br>Layer=%{x}<br>Euclidean Distance=%{y}<extra></extra>",
         "legendgroup": "bitter-guilty",
         "line": {
          "color": "#00cc96",
          "dash": "solid"
         },
         "marker": {
          "symbol": "circle"
         },
         "mode": "lines",
         "name": "bitter-guilty",
         "showlegend": true,
         "x": {
          "dtype": "i1",
          "bdata": "AAECAwQFBgcICQoLDA0ODxAREhMUFRYXGBka"
         },
         "xaxis": "x",
         "y": [
          0.1172565221786499,
          0.034200072288513184,
          0.01624929904937744,
          0.014001429080963135,
          0.00914841890335083,
          0.006418287754058838,
          0.004231572151184082,
          0.003740549087524414,
          0.0026023387908935547,
          0.002254009246826172,
          0.0014470815658569336,
          0.001019120216369629,
          7.135272026062012E-4,
          5.92648983001709E-4,
          6.248354911804199E-4,
          8.729696273803711E-4,
          9.659528732299805E-4,
          0.0014047622680664062,
          0.0018867254257202148,
          0.002803802490234375,
          0.0037679076194763184,
          0.004708290100097656,
          0.005414783954620361,
          0.005888760089874268,
          0.006788492202758789,
          0.008306026458740234,
          0.013272762298583984
         ],
         "yaxis": "y",
         "type": "scattergl"
        },
        {
         "hovertemplate": "variable=bitter-passionate<br>Layer=%{x}<br>Euclidean Distance=%{y}<extra></extra>",
         "legendgroup": "bitter-passionate",
         "line": {
          "color": "#ab63fa",
          "dash": "solid"
         },
         "marker": {
          "symbol": "circle"
         },
         "mode": "lines",
         "name": "bitter-passionate",
         "showlegend": true,
         "x": {
          "dtype": "i1",
          "bdata": "AAECAwQFBgcICQoLDA0ODxAREhMUFRYXGBka"
         },
         "xaxis": "x",
         "y": [
          0.17784547805786133,
          0.04562056064605713,
          0.02386927604675293,
          0.02451258897781372,
          0.017593026161193848,
          0.013045966625213623,
          0.00941091775894165,
          0.00898134708404541,
          0.007108092308044434,
          0.006466031074523926,
          0.0045130252838134766,
          0.0034800171852111816,
          0.0027273893356323242,
          0.00235903263092041,
          0.002541482448577881,
          0.0031043291091918945,
          0.003111720085144043,
          0.0038695335388183594,
          0.004335165023803711,
          0.006371796131134033,
          0.0074637532234191895,
          0.009025871753692627,
          0.010491132736206055,
          0.011704683303833008,
          0.014377117156982422,
          0.020523786544799805,
          0.03127521276473999
         ],
         "yaxis": "y",
         "type": "scattergl"
        },
        {
         "hovertemplate": "variable=bitter-brave<br>Layer=%{x}<br>Euclidean Distance=%{y}<extra></extra>",
         "legendgroup": "bitter-brave",
         "line": {
          "color": "#FFA15A",
          "dash": "solid"
         },
         "marker": {
          "symbol": "circle"
         },
         "mode": "lines",
         "name": "bitter-brave",
         "showlegend": true,
         "x": {
          "dtype": "i1",
          "bdata": "AAECAwQFBgcICQoLDA0ODxAREhMUFRYXGBka"
         },
         "xaxis": "x",
         "y": [
          0.11144602298736572,
          0.032066524028778076,
          0.015178203582763672,
          0.013827681541442871,
          0.009404897689819336,
          0.006709456443786621,
          0.0045989155769348145,
          0.0044179558753967285,
          0.0033519864082336426,
          0.0029877424240112305,
          0.0019355416297912598,
          0.0013229846954345703,
          8.884668350219727E-4,
          7.200241088867188E-4,
          7.447004318237305E-4,
          9.762048721313477E-4,
          0.0010142326354980469,
          0.0014023184776306152,
          0.0019106864929199219,
          0.002689659595489502,
          0.0031424760818481445,
          0.003905773162841797,
          0.00443655252456665,
          0.0049675703048706055,
          0.005894780158996582,
          0.0073316097259521484,
          0.013477444648742676
         ],
         "yaxis": "y",
         "type": "scattergl"
        },
        {
         "hovertemplate": "variable=bitter-confident<br>Layer=%{x}<br>Euclidean Distance=%{y}<extra></extra>",
         "legendgroup": "bitter-confident",
         "line": {
          "color": "#19d3f3",
          "dash": "solid"
         },
         "marker": {
          "symbol": "circle"
         },
         "mode": "lines",
         "name": "bitter-confident",
         "showlegend": true,
         "x": {
          "dtype": "i1",
          "bdata": "AAECAwQFBgcICQoLDA0ODxAREhMUFRYXGBka"
         },
         "xaxis": "x",
         "y": [
          0.11661875247955322,
          0.03238320350646973,
          0.015491306781768799,
          0.014088988304138184,
          0.009349942207336426,
          0.006582856178283691,
          0.004414975643157959,
          0.004043221473693848,
          0.0029317736625671387,
          0.0025724172592163086,
          0.0017213821411132812,
          0.0012139081954956055,
          8.592605590820312E-4,
          7.172822952270508E-4,
          7.60197639465332E-4,
          9.899139404296875E-4,
          0.0010554194450378418,
          0.001529395580291748,
          0.0018529891967773438,
          0.002651214599609375,
          0.003239452838897705,
          0.003871917724609375,
          0.004311740398406982,
          0.004552245140075684,
          0.005177140235900879,
          0.00595700740814209,
          0.010765612125396729
         ],
         "yaxis": "y",
         "type": "scattergl"
        },
        {
         "hovertemplate": "variable=jealous-angry<br>Layer=%{x}<br>Euclidean Distance=%{y}<extra></extra>",
         "legendgroup": "jealous-angry",
         "line": {
          "color": "#FF6692",
          "dash": "solid"
         },
         "marker": {
          "symbol": "circle"
         },
         "mode": "lines",
         "name": "jealous-angry",
         "showlegend": true,
         "x": {
          "dtype": "i1",
          "bdata": "AAECAwQFBgcICQoLDA0ODxAREhMUFRYXGBka"
         },
         "xaxis": "x",
         "y": [
          0.168532133102417,
          0.046559810638427734,
          0.0261879563331604,
          0.02376425266265869,
          0.01616084575653076,
          0.011951863765716553,
          0.008693039417266846,
          0.007382810115814209,
          0.006666302680969238,
          0.006024837493896484,
          0.004313051700592041,
          0.003647446632385254,
          0.0029053092002868652,
          0.0024471282958984375,
          0.0025466084480285645,
          0.003085494041442871,
          0.0027489662170410156,
          0.0032695531845092773,
          0.0038163065910339355,
          0.0056955814361572266,
          0.006308257579803467,
          0.007603764533996582,
          0.009005069732666016,
          0.01007455587387085,
          0.01248633861541748,
          0.019900143146514893,
          0.036728084087371826
         ],
         "yaxis": "y",
         "type": "scattergl"
        },
        {
         "hovertemplate": "variable=jealous-guilty<br>Layer=%{x}<br>Euclidean Distance=%{y}<extra></extra>",
         "legendgroup": "jealous-guilty",
         "line": {
          "color": "#B6E880",
          "dash": "solid"
         },
         "marker": {
          "symbol": "circle"
         },
         "mode": "lines",
         "name": "jealous-guilty",
         "showlegend": true,
         "x": {
          "dtype": "i1",
          "bdata": "AAECAwQFBgcICQoLDA0ODxAREhMUFRYXGBka"
         },
         "xaxis": "x",
         "y": [
          0.1925681233406067,
          0.05069160461425781,
          0.028973698616027832,
          0.02652716636657715,
          0.01801478862762451,
          0.013550996780395508,
          0.009592533111572266,
          0.008176803588867188,
          0.007076263427734375,
          0.006399750709533691,
          0.004503786563873291,
          0.003719806671142578,
          0.0029817819595336914,
          0.002553403377532959,
          0.0026913881301879883,
          0.0032508373260498047,
          0.0029641389846801758,
          0.0036202073097229004,
          0.0043621063232421875,
          0.006397366523742676,
          0.007544994354248047,
          0.008970022201538086,
          0.01052546501159668,
          0.011895477771759033,
          0.0147247314453125,
          0.021937191486358643,
          0.038643598556518555
         ],
         "yaxis": "y",
         "type": "scattergl"
        },
        {
         "hovertemplate": "variable=jealous-passionate<br>Layer=%{x}<br>Euclidean Distance=%{y}<extra></extra>",
         "legendgroup": "jealous-passionate",
         "line": {
          "color": "#FF97FF",
          "dash": "solid"
         },
         "marker": {
          "symbol": "circle"
         },
         "mode": "lines",
         "name": "jealous-passionate",
         "showlegend": true,
         "x": {
          "dtype": "i1",
          "bdata": "AAECAwQFBgcICQoLDA0ODxAREhMUFRYXGBka"
         },
         "xaxis": "x",
         "y": [
          0.20413732528686523,
          0.05664706230163574,
          0.03183138370513916,
          0.033908307552337646,
          0.023181259632110596,
          0.017833948135375977,
          0.012407481670379639,
          0.01132190227508545,
          0.009015083312988281,
          0.008096694946289062,
          0.0054056644439697266,
          0.004295229911804199,
          0.0030487775802612305,
          0.00254213809967041,
          0.0026723146438598633,
          0.0033410191535949707,
          0.002917349338531494,
          0.003680408000946045,
          0.004504680633544922,
          0.007295787334442139,
          0.008414149284362793,
          0.010573923587799072,
          0.012630105018615723,
          0.01388639211654663,
          0.01611006259918213,
          0.02227771282196045,
          0.03977763652801514
         ],
         "yaxis": "y",
         "type": "scattergl"
        },
        {
         "hovertemplate": "variable=jealous-brave<br>Layer=%{x}<br>Euclidean Distance=%{y}<extra></extra>",
         "legendgroup": "jealous-brave",
         "line": {
          "color": "#FECB52",
          "dash": "solid"
         },
         "marker": {
          "symbol": "circle"
         },
         "mode": "lines",
         "name": "jealous-brave",
         "showlegend": true,
         "x": {
          "dtype": "i1",
          "bdata": "AAECAwQFBgcICQoLDA0ODxAREhMUFRYXGBka"
         },
         "xaxis": "x",
         "y": [
          0.1813868284225464,
          0.05033373832702637,
          0.0292665958404541,
          0.027706503868103027,
          0.019463539123535156,
          0.014680266380310059,
          0.0103684663772583,
          0.00944453477859497,
          0.008647918701171875,
          0.0078029632568359375,
          0.005576610565185547,
          0.004371523857116699,
          0.003407001495361328,
          0.0028439760208129883,
          0.002955317497253418,
          0.0035949349403381348,
          0.003279387950897217,
          0.0038738250732421875,
          0.004681706428527832,
          0.006407618522644043,
          0.007074236869812012,
          0.00842893123626709,
          0.00990140438079834,
          0.011022388935089111,
          0.013555824756622314,
          0.019943952560424805,
          0.033739686012268066
         ],
         "yaxis": "y",
         "type": "scattergl"
        },
        {
         "hovertemplate": "variable=jealous-confident<br>Layer=%{x}<br>Euclidean Distance=%{y}<extra></extra>",
         "legendgroup": "jealous-confident",
         "line": {
          "color": "#636efa",
          "dash": "solid"
         },
         "marker": {
          "symbol": "circle"
         },
         "mode": "lines",
         "name": "jealous-confident",
         "showlegend": true,
         "x": {
          "dtype": "i1",
          "bdata": "AAECAwQFBgcICQoLDA0ODxAREhMUFRYXGBka"
         },
         "xaxis": "x",
         "y": [
          0.17691171169281006,
          0.048464417457580566,
          0.027927398681640625,
          0.026125311851501465,
          0.017213046550750732,
          0.01328587532043457,
          0.009533584117889404,
          0.008486270904541016,
          0.007171273231506348,
          0.006613969802856445,
          0.004694163799285889,
          0.0037810802459716797,
          0.002991974353790283,
          0.002531886100769043,
          0.0026697516441345215,
          0.0031766891479492188,
          0.0027526021003723145,
          0.0033648014068603516,
          0.003990113735198975,
          0.005687415599822998,
          0.00651097297668457,
          0.007713794708251953,
          0.009079992771148682,
          0.00998222827911377,
          0.012180805206298828,
          0.018597424030303955,
          0.032064855098724365
         ],
         "yaxis": "y",
         "type": "scattergl"
        },
        {
         "hovertemplate": "variable=angry-guilty<br>Layer=%{x}<br>Euclidean Distance=%{y}<extra></extra>",
         "legendgroup": "angry-guilty",
         "line": {
          "color": "#EF553B",
          "dash": "solid"
         },
         "marker": {
          "symbol": "circle"
         },
         "mode": "lines",
         "name": "angry-guilty",
         "showlegend": true,
         "x": {
          "dtype": "i1",
          "bdata": "AAECAwQFBgcICQoLDA0ODxAREhMUFRYXGBka"
         },
         "xaxis": "x",
         "y": [
          0.10434848070144653,
          0.028929591178894043,
          0.013333678245544434,
          0.011883735656738281,
          0.007624626159667969,
          0.005679309368133545,
          0.0037249326705932617,
          0.0032738447189331055,
          0.0024039149284362793,
          0.0021355748176574707,
          0.0014233589172363281,
          9.92119312286377E-4,
          6.783604621887207E-4,
          5.594491958618164E-4,
          5.886554718017578E-4,
          8.251667022705078E-4,
          8.710622787475586E-4,
          0.00118941068649292,
          0.0016300678253173828,
          0.002483069896697998,
          0.003434419631958008,
          0.0040190815925598145,
          0.004707753658294678,
          0.005220472812652588,
          0.0059670209884643555,
          0.007708847522735596,
          0.010551691055297852
         ],
         "yaxis": "y",
         "type": "scattergl"
        },
        {
         "hovertemplate": "variable=angry-passionate<br>Layer=%{x}<br>Euclidean Distance=%{y}<extra></extra>",
         "legendgroup": "angry-passionate",
         "line": {
          "color": "#00cc96",
          "dash": "solid"
         },
         "marker": {
          "symbol": "circle"
         },
         "mode": "lines",
         "name": "angry-passionate",
         "showlegend": true,
         "x": {
          "dtype": "i1",
          "bdata": "AAECAwQFBgcICQoLDA0ODxAREhMUFRYXGBka"
         },
         "xaxis": "x",
         "y": [
          0.15604650974273682,
          0.041705965995788574,
          0.02207326889038086,
          0.02254784107208252,
          0.016579508781433105,
          0.012483835220336914,
          0.009037137031555176,
          0.008534014225006104,
          0.0068482160568237305,
          0.006269395351409912,
          0.004374384880065918,
          0.003469109535217285,
          0.0027048587799072266,
          0.0023178458213806152,
          0.00248873233795166,
          0.0030698776245117188,
          0.0030516982078552246,
          0.0035821199417114258,
          0.004263162612915039,
          0.005928635597229004,
          0.006963670253753662,
          0.00861656665802002,
          0.010206818580627441,
          0.011534333229064941,
          0.014457404613494873,
          0.021063506603240967,
          0.030271291732788086
         ],
         "yaxis": "y",
         "type": "scattergl"
        },
        {
         "hovertemplate": "variable=angry-brave<br>Layer=%{x}<br>Euclidean Distance=%{y}<extra></extra>",
         "legendgroup": "angry-brave",
         "line": {
          "color": "#ab63fa",
          "dash": "solid"
         },
         "marker": {
          "symbol": "circle"
         },
         "mode": "lines",
         "name": "angry-brave",
         "showlegend": true,
         "x": {
          "dtype": "i1",
          "bdata": "AAECAwQFBgcICQoLDA0ODxAREhMUFRYXGBka"
         },
         "xaxis": "x",
         "y": [
          0.09561532735824585,
          0.02770233154296875,
          0.012941479682922363,
          0.01166987419128418,
          0.007638096809387207,
          0.005825042724609375,
          0.003994107246398926,
          0.0038388967514038086,
          0.0030214786529541016,
          0.002689957618713379,
          0.0017647743225097656,
          0.0011760592460632324,
          7.860660552978516E-4,
          6.357431411743164E-4,
          6.64055347442627E-4,
          8.996129035949707E-4,
          9.070634841918945E-4,
          0.001214146614074707,
          0.0017864704132080078,
          0.0024349093437194824,
          0.002767205238342285,
          0.0033391714096069336,
          0.003892660140991211,
          0.00430607795715332,
          0.0049506425857543945,
          0.006294846534729004,
          0.010405123233795166
         ],
         "yaxis": "y",
         "type": "scattergl"
        },
        {
         "hovertemplate": "variable=angry-confident<br>Layer=%{x}<br>Euclidean Distance=%{y}<extra></extra>",
         "legendgroup": "angry-confident",
         "line": {
          "color": "#FFA15A",
          "dash": "solid"
         },
         "marker": {
          "symbol": "circle"
         },
         "mode": "lines",
         "name": "angry-confident",
         "showlegend": true,
         "x": {
          "dtype": "i1",
          "bdata": "AAECAwQFBgcICQoLDA0ODxAREhMUFRYXGBka"
         },
         "xaxis": "x",
         "y": [
          0.0970686674118042,
          0.02779412269592285,
          0.013040006160736084,
          0.01184779405593872,
          0.007676839828491211,
          0.005606293678283691,
          0.0037382841110229492,
          0.0034350156784057617,
          0.0026586055755615234,
          0.002363860607147217,
          0.0016483068466186523,
          0.001172780990600586,
          7.873177528381348E-4,
          6.549954414367676E-4,
          6.987452507019043E-4,
          9.218454360961914E-4,
          9.504556655883789E-4,
          0.0012357831001281738,
          0.0016408562660217285,
          0.0022935867309570312,
          0.002862274646759033,
          0.003330826759338379,
          0.0036273598670959473,
          0.003963053226470947,
          0.004442036151885986,
          0.005833148956298828,
          0.010264396667480469
         ],
         "yaxis": "y",
         "type": "scattergl"
        },
        {
         "hovertemplate": "variable=guilty-passionate<br>Layer=%{x}<br>Euclidean Distance=%{y}<extra></extra>",
         "legendgroup": "guilty-passionate",
         "line": {
          "color": "#19d3f3",
          "dash": "solid"
         },
         "marker": {
          "symbol": "circle"
         },
         "mode": "lines",
         "name": "guilty-passionate",
         "showlegend": true,
         "x": {
          "dtype": "i1",
          "bdata": "AAECAwQFBgcICQoLDA0ODxAREhMUFRYXGBka"
         },
         "xaxis": "x",
         "y": [
          0.1880638599395752,
          0.047954559326171875,
          0.02548772096633911,
          0.025994062423706055,
          0.019010543823242188,
          0.014620542526245117,
          0.01039278507232666,
          0.00986415147781372,
          0.0077283382415771484,
          0.007033348083496094,
          0.004867434501647949,
          0.0037890076637268066,
          0.002940654754638672,
          0.002525627613067627,
          0.0027240514755249023,
          0.003329634666442871,
          0.0033325552940368652,
          0.0041141510009765625,
          0.0049027204513549805,
          0.006815552711486816,
          0.008265376091003418,
          0.009861946105957031,
          0.01195448637008667,
          0.01337820291519165,
          0.016471505165100098,
          0.02319401502609253,
          0.029909193515777588
         ],
         "yaxis": "y",
         "type": "scattergl"
        },
        {
         "hovertemplate": "variable=guilty-brave<br>Layer=%{x}<br>Euclidean Distance=%{y}<extra></extra>",
         "legendgroup": "guilty-brave",
         "line": {
          "color": "#FF6692",
          "dash": "solid"
         },
         "marker": {
          "symbol": "circle"
         },
         "mode": "lines",
         "name": "guilty-brave",
         "showlegend": true,
         "x": {
          "dtype": "i1",
          "bdata": "AAECAwQFBgcICQoLDA0ODxAREhMUFRYXGBka"
         },
         "xaxis": "x",
         "y": [
          0.11639732122421265,
          0.033632516860961914,
          0.016199350357055664,
          0.014857172966003418,
          0.010233283042907715,
          0.007605493068695068,
          0.0051163434982299805,
          0.00484776496887207,
          0.0035681724548339844,
          0.0031633377075195312,
          0.002089858055114746,
          0.0014357566833496094,
          9.769201278686523E-4,
          7.938146591186523E-4,
          8.285045623779297E-4,
          0.0011556148529052734,
          0.0011885762214660645,
          0.001520395278930664,
          0.0022906064987182617,
          0.002978026866912842,
          0.0038266777992248535,
          0.004356026649475098,
          0.005261063575744629,
          0.005797445774078369,
          0.006643950939178467,
          0.008196055889129639,
          0.012902319431304932
         ],
         "yaxis": "y",
         "type": "scattergl"
        },
        {
         "hovertemplate": "variable=guilty-confident<br>Layer=%{x}<br>Euclidean Distance=%{y}<extra></extra>",
         "legendgroup": "guilty-confident",
         "line": {
          "color": "#B6E880",
          "dash": "solid"
         },
         "marker": {
          "symbol": "circle"
         },
         "mode": "lines",
         "name": "guilty-confident",
         "showlegend": true,
         "x": {
          "dtype": "i1",
          "bdata": "AAECAwQFBgcICQoLDA0ODxAREhMUFRYXGBka"
         },
         "xaxis": "x",
         "y": [
          0.12029451131820679,
          0.03255307674407959,
          0.01545184850692749,
          0.013215422630310059,
          0.008748412132263184,
          0.006280064582824707,
          0.004042088985443115,
          0.003764927387237549,
          0.002619147300720215,
          0.002279520034790039,
          0.0014889240264892578,
          0.001051187515258789,
          7.294416427612305E-4,
          6.042122840881348E-4,
          6.446242332458496E-4,
          8.777379989624023E-4,
          9.298324584960938E-4,
          0.0012735724449157715,
          0.0017938017845153809,
          0.0024031400680541992,
          0.003380000591278076,
          0.0038284659385681152,
          0.0043852925300598145,
          0.0048215389251708984,
          0.005544483661651611,
          0.006780147552490234,
          0.010404765605926514
         ],
         "yaxis": "y",
         "type": "scattergl"
        },
        {
         "hovertemplate": "variable=passionate-brave<br>Layer=%{x}<br>Euclidean Distance=%{y}<extra></extra>",
         "legendgroup": "passionate-brave",
         "line": {
          "color": "#FF97FF",
          "dash": "solid"
         },
         "marker": {
          "symbol": "circle"
         },
         "mode": "lines",
         "name": "passionate-brave",
         "showlegend": true,
         "x": {
          "dtype": "i1",
          "bdata": "AAECAwQFBgcICQoLDA0ODxAREhMUFRYXGBka"
         },
         "xaxis": "x",
         "y": [
          0.16876697540283203,
          0.04508596658706665,
          0.02439713478088379,
          0.02526378631591797,
          0.01891636848449707,
          0.01426076889038086,
          0.010146856307983398,
          0.010166764259338379,
          0.008404970169067383,
          0.007609248161315918,
          0.005338191986083984,
          0.00401836633682251,
          0.0031066536903381348,
          0.0026442408561706543,
          0.002802252769470215,
          0.0033773183822631836,
          0.0033215880393981934,
          0.003921926021575928,
          0.004751980304718018,
          0.006436288356781006,
          0.007235884666442871,
          0.008552491664886475,
          0.01016378402709961,
          0.011446714401245117,
          0.014284968376159668,
          0.020313501358032227,
          0.026628434658050537
         ],
         "yaxis": "y",
         "type": "scattergl"
        },
        {
         "hovertemplate": "variable=passionate-confident<br>Layer=%{x}<br>Euclidean Distance=%{y}<extra></extra>",
         "legendgroup": "passionate-confident",
         "line": {
          "color": "#FECB52",
          "dash": "solid"
         },
         "marker": {
          "symbol": "circle"
         },
         "mode": "lines",
         "name": "passionate-confident",
         "showlegend": true,
         "x": {
          "dtype": "i1",
          "bdata": "AAECAwQFBgcICQoLDA0ODxAREhMUFRYXGBka"
         },
         "xaxis": "x",
         "y": [
          0.162267804145813,
          0.04114031791687012,
          0.021088480949401855,
          0.021469533443450928,
          0.015567183494567871,
          0.011826038360595703,
          0.008419275283813477,
          0.008290290832519531,
          0.00653684139251709,
          0.005946516990661621,
          0.004175543785095215,
          0.003249228000640869,
          0.0025679469108581543,
          0.002204418182373047,
          0.0023745298385620117,
          0.0028307437896728516,
          0.0027616024017333984,
          0.0032789111137390137,
          0.0038551688194274902,
          0.005230903625488281,
          0.00625985860824585,
          0.007359325885772705,
          0.00882500410079956,
          0.00992584228515625,
          0.012245357036590576,
          0.017808973789215088,
          0.022718071937561035
         ],
         "yaxis": "y",
         "type": "scattergl"
        },
        {
         "hovertemplate": "variable=brave-confident<br>Layer=%{x}<br>Euclidean Distance=%{y}<extra></extra>",
         "legendgroup": "brave-confident",
         "line": {
          "color": "#636efa",
          "dash": "solid"
         },
         "marker": {
          "symbol": "circle"
         },
         "mode": "lines",
         "name": "brave-confident",
         "showlegend": true,
         "x": {
          "dtype": "i1",
          "bdata": "AAECAwQFBgcICQoLDA0ODxAREhMUFRYXGBka"
         },
         "xaxis": "x",
         "y": [
          0.10020971298217773,
          0.02806258201599121,
          0.014000177383422852,
          0.012868344783782959,
          0.008838772773742676,
          0.006273746490478516,
          0.004185914993286133,
          0.004127621650695801,
          0.0032135844230651855,
          0.0028531551361083984,
          0.0019137859344482422,
          0.001317441463470459,
          9.018182754516602E-4,
          7.441043853759766E-4,
          7.920265197753906E-4,
          0.001032710075378418,
          0.0010134577751159668,
          0.0012489557266235352,
          0.001775979995727539,
          0.0021903514862060547,
          0.0025888681411743164,
          0.0030125975608825684,
          0.0034471750259399414,
          0.003682255744934082,
          0.0043097734451293945,
          0.005502223968505859,
          0.00946497917175293
         ],
         "yaxis": "y",
         "type": "scattergl"
        }
       ],
       "layout": {
        "template": {
         "data": {
          "histogram2dcontour": [
           {
            "type": "histogram2dcontour",
            "colorbar": {
             "outlinewidth": 0,
             "ticks": ""
            },
            "colorscale": [
             [
              0.0,
              "#0d0887"
             ],
             [
              0.1111111111111111,
              "#46039f"
             ],
             [
              0.2222222222222222,
              "#7201a8"
             ],
             [
              0.3333333333333333,
              "#9c179e"
             ],
             [
              0.4444444444444444,
              "#bd3786"
             ],
             [
              0.5555555555555556,
              "#d8576b"
             ],
             [
              0.6666666666666666,
              "#ed7953"
             ],
             [
              0.7777777777777778,
              "#fb9f3a"
             ],
             [
              0.8888888888888888,
              "#fdca26"
             ],
             [
              1.0,
              "#f0f921"
             ]
            ]
           }
          ],
          "choropleth": [
           {
            "type": "choropleth",
            "colorbar": {
             "outlinewidth": 0,
             "ticks": ""
            }
           }
          ],
          "histogram2d": [
           {
            "type": "histogram2d",
            "colorbar": {
             "outlinewidth": 0,
             "ticks": ""
            },
            "colorscale": [
             [
              0.0,
              "#0d0887"
             ],
             [
              0.1111111111111111,
              "#46039f"
             ],
             [
              0.2222222222222222,
              "#7201a8"
             ],
             [
              0.3333333333333333,
              "#9c179e"
             ],
             [
              0.4444444444444444,
              "#bd3786"
             ],
             [
              0.5555555555555556,
              "#d8576b"
             ],
             [
              0.6666666666666666,
              "#ed7953"
             ],
             [
              0.7777777777777778,
              "#fb9f3a"
             ],
             [
              0.8888888888888888,
              "#fdca26"
             ],
             [
              1.0,
              "#f0f921"
             ]
            ]
           }
          ],
          "heatmap": [
           {
            "type": "heatmap",
            "colorbar": {
             "outlinewidth": 0,
             "ticks": ""
            },
            "colorscale": [
             [
              0.0,
              "#0d0887"
             ],
             [
              0.1111111111111111,
              "#46039f"
             ],
             [
              0.2222222222222222,
              "#7201a8"
             ],
             [
              0.3333333333333333,
              "#9c179e"
             ],
             [
              0.4444444444444444,
              "#bd3786"
             ],
             [
              0.5555555555555556,
              "#d8576b"
             ],
             [
              0.6666666666666666,
              "#ed7953"
             ],
             [
              0.7777777777777778,
              "#fb9f3a"
             ],
             [
              0.8888888888888888,
              "#fdca26"
             ],
             [
              1.0,
              "#f0f921"
             ]
            ]
           }
          ],
          "contourcarpet": [
           {
            "type": "contourcarpet",
            "colorbar": {
             "outlinewidth": 0,
             "ticks": ""
            }
           }
          ],
          "contour": [
           {
            "type": "contour",
            "colorbar": {
             "outlinewidth": 0,
             "ticks": ""
            },
            "colorscale": [
             [
              0.0,
              "#0d0887"
             ],
             [
              0.1111111111111111,
              "#46039f"
             ],
             [
              0.2222222222222222,
              "#7201a8"
             ],
             [
              0.3333333333333333,
              "#9c179e"
             ],
             [
              0.4444444444444444,
              "#bd3786"
             ],
             [
              0.5555555555555556,
              "#d8576b"
             ],
             [
              0.6666666666666666,
              "#ed7953"
             ],
             [
              0.7777777777777778,
              "#fb9f3a"
             ],
             [
              0.8888888888888888,
              "#fdca26"
             ],
             [
              1.0,
              "#f0f921"
             ]
            ]
           }
          ],
          "surface": [
           {
            "type": "surface",
            "colorbar": {
             "outlinewidth": 0,
             "ticks": ""
            },
            "colorscale": [
             [
              0.0,
              "#0d0887"
             ],
             [
              0.1111111111111111,
              "#46039f"
             ],
             [
              0.2222222222222222,
              "#7201a8"
             ],
             [
              0.3333333333333333,
              "#9c179e"
             ],
             [
              0.4444444444444444,
              "#bd3786"
             ],
             [
              0.5555555555555556,
              "#d8576b"
             ],
             [
              0.6666666666666666,
              "#ed7953"
             ],
             [
              0.7777777777777778,
              "#fb9f3a"
             ],
             [
              0.8888888888888888,
              "#fdca26"
             ],
             [
              1.0,
              "#f0f921"
             ]
            ]
           }
          ],
          "mesh3d": [
           {
            "type": "mesh3d",
            "colorbar": {
             "outlinewidth": 0,
             "ticks": ""
            }
           }
          ],
          "scatter": [
           {
            "marker": {
             "line": {
              "color": "#283442"
             }
            },
            "type": "scatter"
           }
          ],
          "parcoords": [
           {
            "type": "parcoords",
            "line": {
             "colorbar": {
              "outlinewidth": 0,
              "ticks": ""
             }
            }
           }
          ],
          "scatterpolargl": [
           {
            "type": "scatterpolargl",
            "marker": {
             "colorbar": {
              "outlinewidth": 0,
              "ticks": ""
             }
            }
           }
          ],
          "bar": [
           {
            "error_x": {
             "color": "#f2f5fa"
            },
            "error_y": {
             "color": "#f2f5fa"
            },
            "marker": {
             "line": {
              "color": "rgb(17,17,17)",
              "width": 0.5
             },
             "pattern": {
              "fillmode": "overlay",
              "size": 10,
              "solidity": 0.2
             }
            },
            "type": "bar"
           }
          ],
          "scattergeo": [
           {
            "type": "scattergeo",
            "marker": {
             "colorbar": {
              "outlinewidth": 0,
              "ticks": ""
             }
            }
           }
          ],
          "scatterpolar": [
           {
            "type": "scatterpolar",
            "marker": {
             "colorbar": {
              "outlinewidth": 0,
              "ticks": ""
             }
            }
           }
          ],
          "histogram": [
           {
            "marker": {
             "pattern": {
              "fillmode": "overlay",
              "size": 10,
              "solidity": 0.2
             }
            },
            "type": "histogram"
           }
          ],
          "scattergl": [
           {
            "marker": {
             "line": {
              "color": "#283442"
             }
            },
            "type": "scattergl"
           }
          ],
          "scatter3d": [
           {
            "type": "scatter3d",
            "line": {
             "colorbar": {
              "outlinewidth": 0,
              "ticks": ""
             }
            },
            "marker": {
             "colorbar": {
              "outlinewidth": 0,
              "ticks": ""
             }
            }
           }
          ],
          "scattermap": [
           {
            "type": "scattermap",
            "marker": {
             "colorbar": {
              "outlinewidth": 0,
              "ticks": ""
             }
            }
           }
          ],
          "scattermapbox": [
           {
            "type": "scattermapbox",
            "marker": {
             "colorbar": {
              "outlinewidth": 0,
              "ticks": ""
             }
            }
           }
          ],
          "scatterternary": [
           {
            "type": "scatterternary",
            "marker": {
             "colorbar": {
              "outlinewidth": 0,
              "ticks": ""
             }
            }
           }
          ],
          "scattercarpet": [
           {
            "type": "scattercarpet",
            "marker": {
             "colorbar": {
              "outlinewidth": 0,
              "ticks": ""
             }
            }
           }
          ],
          "carpet": [
           {
            "aaxis": {
             "endlinecolor": "#A2B1C6",
             "gridcolor": "#506784",
             "linecolor": "#506784",
             "minorgridcolor": "#506784",
             "startlinecolor": "#A2B1C6"
            },
            "baxis": {
             "endlinecolor": "#A2B1C6",
             "gridcolor": "#506784",
             "linecolor": "#506784",
             "minorgridcolor": "#506784",
             "startlinecolor": "#A2B1C6"
            },
            "type": "carpet"
           }
          ],
          "table": [
           {
            "cells": {
             "fill": {
              "color": "#506784"
             },
             "line": {
              "color": "rgb(17,17,17)"
             }
            },
            "header": {
             "fill": {
              "color": "#2a3f5f"
             },
             "line": {
              "color": "rgb(17,17,17)"
             }
            },
            "type": "table"
           }
          ],
          "barpolar": [
           {
            "marker": {
             "line": {
              "color": "rgb(17,17,17)",
              "width": 0.5
             },
             "pattern": {
              "fillmode": "overlay",
              "size": 10,
              "solidity": 0.2
             }
            },
            "type": "barpolar"
           }
          ],
          "pie": [
           {
            "automargin": true,
            "type": "pie"
           }
          ]
         },
         "layout": {
          "autotypenumbers": "strict",
          "colorway": [
           "#636efa",
           "#EF553B",
           "#00cc96",
           "#ab63fa",
           "#FFA15A",
           "#19d3f3",
           "#FF6692",
           "#B6E880",
           "#FF97FF",
           "#FECB52"
          ],
          "font": {
           "color": "#f2f5fa"
          },
          "hovermode": "closest",
          "hoverlabel": {
           "align": "left"
          },
          "paper_bgcolor": "rgb(17,17,17)",
          "plot_bgcolor": "rgb(17,17,17)",
          "polar": {
           "bgcolor": "rgb(17,17,17)",
           "angularaxis": {
            "gridcolor": "#506784",
            "linecolor": "#506784",
            "ticks": ""
           },
           "radialaxis": {
            "gridcolor": "#506784",
            "linecolor": "#506784",
            "ticks": ""
           }
          },
          "ternary": {
           "bgcolor": "rgb(17,17,17)",
           "aaxis": {
            "gridcolor": "#506784",
            "linecolor": "#506784",
            "ticks": ""
           },
           "baxis": {
            "gridcolor": "#506784",
            "linecolor": "#506784",
            "ticks": ""
           },
           "caxis": {
            "gridcolor": "#506784",
            "linecolor": "#506784",
            "ticks": ""
           }
          },
          "coloraxis": {
           "colorbar": {
            "outlinewidth": 0,
            "ticks": ""
           }
          },
          "colorscale": {
           "sequential": [
            [
             0.0,
             "#0d0887"
            ],
            [
             0.1111111111111111,
             "#46039f"
            ],
            [
             0.2222222222222222,
             "#7201a8"
            ],
            [
             0.3333333333333333,
             "#9c179e"
            ],
            [
             0.4444444444444444,
             "#bd3786"
            ],
            [
             0.5555555555555556,
             "#d8576b"
            ],
            [
             0.6666666666666666,
             "#ed7953"
            ],
            [
             0.7777777777777778,
             "#fb9f3a"
            ],
            [
             0.8888888888888888,
             "#fdca26"
            ],
            [
             1.0,
             "#f0f921"
            ]
           ],
           "sequentialminus": [
            [
             0.0,
             "#0d0887"
            ],
            [
             0.1111111111111111,
             "#46039f"
            ],
            [
             0.2222222222222222,
             "#7201a8"
            ],
            [
             0.3333333333333333,
             "#9c179e"
            ],
            [
             0.4444444444444444,
             "#bd3786"
            ],
            [
             0.5555555555555556,
             "#d8576b"
            ],
            [
             0.6666666666666666,
             "#ed7953"
            ],
            [
             0.7777777777777778,
             "#fb9f3a"
            ],
            [
             0.8888888888888888,
             "#fdca26"
            ],
            [
             1.0,
             "#f0f921"
            ]
           ],
           "diverging": [
            [
             0,
             "#8e0152"
            ],
            [
             0.1,
             "#c51b7d"
            ],
            [
             0.2,
             "#de77ae"
            ],
            [
             0.3,
             "#f1b6da"
            ],
            [
             0.4,
             "#fde0ef"
            ],
            [
             0.5,
             "#f7f7f7"
            ],
            [
             0.6,
             "#e6f5d0"
            ],
            [
             0.7,
             "#b8e186"
            ],
            [
             0.8,
             "#7fbc41"
            ],
            [
             0.9,
             "#4d9221"
            ],
            [
             1,
             "#276419"
            ]
           ]
          },
          "xaxis": {
           "gridcolor": "#283442",
           "linecolor": "#506784",
           "ticks": "",
           "title": {
            "standoff": 15
           },
           "zerolinecolor": "#283442",
           "automargin": true,
           "zerolinewidth": 2
          },
          "yaxis": {
           "gridcolor": "#283442",
           "linecolor": "#506784",
           "ticks": "",
           "title": {
            "standoff": 15
           },
           "zerolinecolor": "#283442",
           "automargin": true,
           "zerolinewidth": 2
          },
          "scene": {
           "xaxis": {
            "backgroundcolor": "rgb(17,17,17)",
            "gridcolor": "#506784",
            "linecolor": "#506784",
            "showbackground": true,
            "ticks": "",
            "zerolinecolor": "#C8D4E3",
            "gridwidth": 2
           },
           "yaxis": {
            "backgroundcolor": "rgb(17,17,17)",
            "gridcolor": "#506784",
            "linecolor": "#506784",
            "showbackground": true,
            "ticks": "",
            "zerolinecolor": "#C8D4E3",
            "gridwidth": 2
           },
           "zaxis": {
            "backgroundcolor": "rgb(17,17,17)",
            "gridcolor": "#506784",
            "linecolor": "#506784",
            "showbackground": true,
            "ticks": "",
            "zerolinecolor": "#C8D4E3",
            "gridwidth": 2
           }
          },
          "shapedefaults": {
           "line": {
            "color": "#f2f5fa"
           }
          },
          "annotationdefaults": {
           "arrowcolor": "#f2f5fa",
           "arrowhead": 0,
           "arrowwidth": 1
          },
          "geo": {
           "bgcolor": "rgb(17,17,17)",
           "landcolor": "rgb(17,17,17)",
           "subunitcolor": "#506784",
           "showland": true,
           "showlakes": true,
           "lakecolor": "rgb(17,17,17)"
          },
          "title": {
           "x": 0.05
          },
          "updatemenudefaults": {
           "bgcolor": "#506784",
           "borderwidth": 0
          },
          "sliderdefaults": {
           "bgcolor": "#C8D4E3",
           "borderwidth": 1,
           "bordercolor": "rgb(17,17,17)",
           "tickwidth": 0
          },
          "mapbox": {
           "style": "dark"
          }
         }
        },
        "xaxis": {
         "anchor": "y",
         "domain": [
          0.0,
          1.0
         ],
         "title": {
          "text": "Layer"
         }
        },
        "yaxis": {
         "anchor": "x",
         "domain": [
          0.0,
          1.0
         ],
         "title": {
          "text": "Euclidean Distance"
         }
        },
        "legend": {
         "title": {
          "text": "variable"
         },
         "tracegroupgap": 0
        },
        "title": {
         "text": "Euclidean Distance Between Emotions"
        }
       },
       "config": {
        "plotlyServerURL": "https://plot.ly"
       }
      }
     },
     "metadata": {},
     "output_type": "display_data"
    }
   ],
   "execution_count": 68
  },
  {
   "metadata": {
    "ExecuteTime": {
     "end_time": "2025-08-25T04:43:19.409254Z",
     "start_time": "2025-08-25T04:43:19.277457Z"
    }
   },
   "cell_type": "code",
   "source": [
    "def figures_to_html(figs, filename=\"dashboard.html\"):\n",
    "    with open(filename, 'w', encoding='utf-8') as dashboard:\n",
    "        dashboard.write(\"<html><head></head><body>\" + \"\\n\")\n",
    "        for fig in figs:\n",
    "            inner_html = fig.to_html().split('<body>')[1].split('</body>')[0]\n",
    "            dashboard.write(inner_html)\n",
    "        dashboard.write(\"</body></html>\" + \"\\n\")\n",
    "\n",
    "figures_to_html([cos_fig] + [euc_fig], filename=\"results/06.layer_distances.html\")"
   ],
   "id": "a1618cec2a2ae9a8",
   "outputs": [],
   "execution_count": 69
  }
 ],
 "metadata": {
  "kernelspec": {
   "display_name": "Python 3",
   "language": "python",
   "name": "python3"
  },
  "language_info": {
   "codemirror_mode": {
    "name": "ipython",
    "version": 2
   },
   "file_extension": ".py",
   "mimetype": "text/x-python",
   "name": "python",
   "nbconvert_exporter": "python",
   "pygments_lexer": "ipython2",
   "version": "2.7.6"
  }
 },
 "nbformat": 4,
 "nbformat_minor": 5
}
