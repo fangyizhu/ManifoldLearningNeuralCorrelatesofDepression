{
 "cells": [
  {
   "cell_type": "code",
   "id": "initial_id",
   "metadata": {
    "collapsed": true,
    "ExecuteTime": {
     "end_time": "2025-08-20T23:58:27.906895Z",
     "start_time": "2025-08-20T23:58:27.895745Z"
    }
   },
   "source": [
    "from transformers import AutoModelForCausalLM, AutoTokenizer\n",
    "from torch import cuda, cdist\n",
    "from collections import OrderedDict\n",
    "import gc\n",
    "from functools import partial\n",
    "from pandas import DataFrame\n",
    "import warnings\n",
    "import torch.nn.functional as f\n",
    "from itertools import combinations\n",
    "import plotly.express as px\n",
    "warnings.simplefilter(action='ignore')"
   ],
   "outputs": [],
   "execution_count": 7
  },
  {
   "metadata": {
    "ExecuteTime": {
     "end_time": "2025-08-20T23:58:29.104346Z",
     "start_time": "2025-08-20T23:58:29.101024Z"
    }
   },
   "cell_type": "code",
   "source": [
    "MODEL = \"google/gemma-2-2b\"\n",
    "DEVICE = \"cpu\""
   ],
   "id": "8b5fa285cae359f8",
   "outputs": [],
   "execution_count": 8
  },
  {
   "metadata": {
    "ExecuteTime": {
     "end_time": "2025-08-20T23:58:32.336901Z",
     "start_time": "2025-08-20T23:58:30.656276Z"
    }
   },
   "cell_type": "code",
   "source": [
    "cuda.empty_cache()\n",
    "gc.collect()\n",
    "model = AutoModelForCausalLM.from_pretrained(\n",
    "    MODEL,\n",
    "    device_map=DEVICE,\n",
    "    torch_dtype=\"auto\",\n",
    "    trust_remote_code=True,\n",
    ")"
   ],
   "id": "b355d9de207f2763",
   "outputs": [
    {
     "data": {
      "text/plain": [
       "Loading checkpoint shards:   0%|          | 0/3 [00:00<?, ?it/s]"
      ],
      "application/vnd.jupyter.widget-view+json": {
       "version_major": 2,
       "version_minor": 0,
       "model_id": "46dd197befb5475e86cf5c86689f90ae"
      }
     },
     "metadata": {},
     "output_type": "display_data"
    }
   ],
   "execution_count": 9
  },
  {
   "metadata": {
    "ExecuteTime": {
     "end_time": "2025-08-21T00:21:58.027989Z",
     "start_time": "2025-08-21T00:21:57.018703Z"
    }
   },
   "cell_type": "code",
   "source": [
    "tokenizer = AutoTokenizer.from_pretrained(MODEL)\n",
    "emotions = [\"happy\", \"calm\", \"sad\", \"anxious\",  \"angry\", \"scared\", \"fearful\", \"el\", \"ated\", \"dep\", \"ressed\"]\n",
    "\n",
    "# squeeze tensor dim, strip <bos>\n",
    "print(\"orignal shape: \", tokenizer(\"happy\", return_tensors='pt').input_ids)\n",
    "emo_tokens = OrderedDict({emo: tokenizer(emo, return_tensors='pt').input_ids.squeeze()[1].unsqueeze(0).unsqueeze(0) for emo in emotions})\n",
    "print(emo_tokens)"
   ],
   "id": "22b5c00f0c1630e9",
   "outputs": [
    {
     "name": "stdout",
     "output_type": "stream",
     "text": [
      "orignal shape:  tensor([[    2, 11896]])\n",
      "OrderedDict({'happy': tensor([[11896]]), 'calm': tensor([[116051]]), 'sad': tensor([[37968]]), 'anxious': tensor([[481]]), 'lonely': tensor([[151738]]), 'bitter': tensor([[158930]]), 'depressed': tensor([[3243]]), 'angry': tensor([[70709]]), 'scared': tensor([[221959]]), 'fearful': tensor([[71339]]), 'el': tensor([[521]]), 'ated': tensor([[840]]), 'dep': tensor([[3243]]), 'ressed': tensor([[3734]])})\n"
     ]
    }
   ],
   "execution_count": 17
  },
  {
   "metadata": {
    "ExecuteTime": {
     "end_time": "2025-08-20T23:58:37.686005Z",
     "start_time": "2025-08-20T23:58:37.675370Z"
    }
   },
   "cell_type": "code",
   "source": [
    "# Create a table to record initial embeddings, and then output after selected layers\n",
    "layers = list(range(27))\n",
    "layer_embs = DataFrame(index=emotions, columns=layers)\n",
    "print(layer_embs)\n",
    "print(layer_embs[0]['happy'])"
   ],
   "id": "c8b55e224753c2f2",
   "outputs": [
    {
     "name": "stdout",
     "output_type": "stream",
     "text": [
      "          0    1    2    3    4    5    6    7    8    9   ...   17   18   19  \\\n",
      "happy    NaN  NaN  NaN  NaN  NaN  NaN  NaN  NaN  NaN  NaN  ...  NaN  NaN  NaN   \n",
      "calm     NaN  NaN  NaN  NaN  NaN  NaN  NaN  NaN  NaN  NaN  ...  NaN  NaN  NaN   \n",
      "sad      NaN  NaN  NaN  NaN  NaN  NaN  NaN  NaN  NaN  NaN  ...  NaN  NaN  NaN   \n",
      "anxious  NaN  NaN  NaN  NaN  NaN  NaN  NaN  NaN  NaN  NaN  ...  NaN  NaN  NaN   \n",
      "angry    NaN  NaN  NaN  NaN  NaN  NaN  NaN  NaN  NaN  NaN  ...  NaN  NaN  NaN   \n",
      "scared   NaN  NaN  NaN  NaN  NaN  NaN  NaN  NaN  NaN  NaN  ...  NaN  NaN  NaN   \n",
      "fearful  NaN  NaN  NaN  NaN  NaN  NaN  NaN  NaN  NaN  NaN  ...  NaN  NaN  NaN   \n",
      "el       NaN  NaN  NaN  NaN  NaN  NaN  NaN  NaN  NaN  NaN  ...  NaN  NaN  NaN   \n",
      "ated     NaN  NaN  NaN  NaN  NaN  NaN  NaN  NaN  NaN  NaN  ...  NaN  NaN  NaN   \n",
      "dep      NaN  NaN  NaN  NaN  NaN  NaN  NaN  NaN  NaN  NaN  ...  NaN  NaN  NaN   \n",
      "ressed   NaN  NaN  NaN  NaN  NaN  NaN  NaN  NaN  NaN  NaN  ...  NaN  NaN  NaN   \n",
      "\n",
      "          20   21   22   23   24   25   26  \n",
      "happy    NaN  NaN  NaN  NaN  NaN  NaN  NaN  \n",
      "calm     NaN  NaN  NaN  NaN  NaN  NaN  NaN  \n",
      "sad      NaN  NaN  NaN  NaN  NaN  NaN  NaN  \n",
      "anxious  NaN  NaN  NaN  NaN  NaN  NaN  NaN  \n",
      "angry    NaN  NaN  NaN  NaN  NaN  NaN  NaN  \n",
      "scared   NaN  NaN  NaN  NaN  NaN  NaN  NaN  \n",
      "fearful  NaN  NaN  NaN  NaN  NaN  NaN  NaN  \n",
      "el       NaN  NaN  NaN  NaN  NaN  NaN  NaN  \n",
      "ated     NaN  NaN  NaN  NaN  NaN  NaN  NaN  \n",
      "dep      NaN  NaN  NaN  NaN  NaN  NaN  NaN  \n",
      "ressed   NaN  NaN  NaN  NaN  NaN  NaN  NaN  \n",
      "\n",
      "[11 rows x 27 columns]\n",
      "nan\n"
     ]
    }
   ],
   "execution_count": 11
  },
  {
   "metadata": {
    "ExecuteTime": {
     "end_time": "2025-08-21T00:07:16.118436Z",
     "start_time": "2025-08-21T00:07:16.113117Z"
    }
   },
   "cell_type": "code",
   "source": [
    "def pandas_hook(module, input, output, word, layer_id):\n",
    "    if layer_id == 0: # put in initial embeddings\n",
    "        layer_embs[0][word] = input[0].squeeze()\n",
    "    layer_embs[layer_id+1][word] = output[0].squeeze()\n",
    "\n",
    "def pass_word_through_model(word):\n",
    "    for l in layers[:-1]:\n",
    "            model.model.layers[l]._forward_hooks = OrderedDict() # clear all the old hooks first\n",
    "            model.model.layers[l].register_forward_hook(partial(pandas_hook, word=word, layer_id=l))\n",
    "    model(emo_tokens[word])\n",
    " # model.model separates out attention head"
   ],
   "id": "9f0eeac43b1b882f",
   "outputs": [],
   "execution_count": 12
  },
  {
   "metadata": {
    "ExecuteTime": {
     "end_time": "2025-08-21T00:08:44.063949Z",
     "start_time": "2025-08-21T00:07:26.023892Z"
    }
   },
   "cell_type": "code",
   "source": [
    "for emo in emotions:\n",
    "    pass_word_through_model(emo)"
   ],
   "id": "871eefc87fc40a93",
   "outputs": [
    {
     "name": "stdout",
     "output_type": "stream",
     "text": [
      "                                                        0   \\\n",
      "happy    [tensor(-0.5460, grad_fn=<UnbindBackward0>), t...   \n",
      "calm     [tensor(-1.0288, grad_fn=<UnbindBackward0>), t...   \n",
      "sad      [tensor(2.1290, grad_fn=<UnbindBackward0>), te...   \n",
      "anxious  [tensor(-0.9365, grad_fn=<UnbindBackward0>), t...   \n",
      "angry    [tensor(2.2207, grad_fn=<UnbindBackward0>), te...   \n",
      "scared   [tensor(-0.9843, grad_fn=<UnbindBackward0>), t...   \n",
      "fearful  [tensor(1.5781, grad_fn=<UnbindBackward0>), te...   \n",
      "el       [tensor(1.6869, grad_fn=<UnbindBackward0>), te...   \n",
      "ated     [tensor(1.6462, grad_fn=<UnbindBackward0>), te...   \n",
      "dep      [tensor(-0.3469, grad_fn=<UnbindBackward0>), t...   \n",
      "ressed   [tensor(-0.9824, grad_fn=<UnbindBackward0>), t...   \n",
      "\n",
      "                                                        1   \\\n",
      "happy    [tensor(-0.9465, grad_fn=<UnbindBackward0>), t...   \n",
      "calm     [tensor(-1.3839, grad_fn=<UnbindBackward0>), t...   \n",
      "sad      [tensor(1.6476, grad_fn=<UnbindBackward0>), te...   \n",
      "anxious  [tensor(0.0193, grad_fn=<UnbindBackward0>), te...   \n",
      "angry    [tensor(1.1178, grad_fn=<UnbindBackward0>), te...   \n",
      "scared   [tensor(-1.2477, grad_fn=<UnbindBackward0>), t...   \n",
      "fearful  [tensor(1.0732, grad_fn=<UnbindBackward0>), te...   \n",
      "el       [tensor(1.8685, grad_fn=<UnbindBackward0>), te...   \n",
      "ated     [tensor(0.9142, grad_fn=<UnbindBackward0>), te...   \n",
      "dep      [tensor(0.6995, grad_fn=<UnbindBackward0>), te...   \n",
      "ressed   [tensor(-2.0794, grad_fn=<UnbindBackward0>), t...   \n",
      "\n",
      "                                                        2   \\\n",
      "happy    [tensor(-1.2943, grad_fn=<UnbindBackward0>), t...   \n",
      "calm     [tensor(-1.4528, grad_fn=<UnbindBackward0>), t...   \n",
      "sad      [tensor(1.5582, grad_fn=<UnbindBackward0>), te...   \n",
      "anxious  [tensor(0.5855, grad_fn=<UnbindBackward0>), te...   \n",
      "angry    [tensor(1.1084, grad_fn=<UnbindBackward0>), te...   \n",
      "scared   [tensor(-1.9950, grad_fn=<UnbindBackward0>), t...   \n",
      "fearful  [tensor(-0.1369, grad_fn=<UnbindBackward0>), t...   \n",
      "el       [tensor(1.7186, grad_fn=<UnbindBackward0>), te...   \n",
      "ated     [tensor(0.6637, grad_fn=<UnbindBackward0>), te...   \n",
      "dep      [tensor(1.4925, grad_fn=<UnbindBackward0>), te...   \n",
      "ressed   [tensor(-1.5737, grad_fn=<UnbindBackward0>), t...   \n",
      "\n",
      "                                                        3   \\\n",
      "happy    [tensor(-0.5142, grad_fn=<UnbindBackward0>), t...   \n",
      "calm     [tensor(-1.8186, grad_fn=<UnbindBackward0>), t...   \n",
      "sad      [tensor(2.1463, grad_fn=<UnbindBackward0>), te...   \n",
      "anxious  [tensor(0.9883, grad_fn=<UnbindBackward0>), te...   \n",
      "angry    [tensor(1.4024, grad_fn=<UnbindBackward0>), te...   \n",
      "scared   [tensor(-0.5795, grad_fn=<UnbindBackward0>), t...   \n",
      "fearful  [tensor(-0.2205, grad_fn=<UnbindBackward0>), t...   \n",
      "el       [tensor(1.3583, grad_fn=<UnbindBackward0>), te...   \n",
      "ated     [tensor(0.7708, grad_fn=<UnbindBackward0>), te...   \n",
      "dep      [tensor(2.3729, grad_fn=<UnbindBackward0>), te...   \n",
      "ressed   [tensor(0.0383, grad_fn=<UnbindBackward0>), te...   \n",
      "\n",
      "                                                        4   \\\n",
      "happy    [tensor(-0.1178, grad_fn=<UnbindBackward0>), t...   \n",
      "calm     [tensor(-1.6264, grad_fn=<UnbindBackward0>), t...   \n",
      "sad      [tensor(-0.8613, grad_fn=<UnbindBackward0>), t...   \n",
      "anxious  [tensor(-0.5814, grad_fn=<UnbindBackward0>), t...   \n",
      "angry    [tensor(0.9021, grad_fn=<UnbindBackward0>), te...   \n",
      "scared   [tensor(-1.0719, grad_fn=<UnbindBackward0>), t...   \n",
      "fearful  [tensor(0.2829, grad_fn=<UnbindBackward0>), te...   \n",
      "el       [tensor(1.3541, grad_fn=<UnbindBackward0>), te...   \n",
      "ated     [tensor(-0.9062, grad_fn=<UnbindBackward0>), t...   \n",
      "dep      [tensor(2.6468, grad_fn=<UnbindBackward0>), te...   \n",
      "ressed   [tensor(-0.4003, grad_fn=<UnbindBackward0>), t...   \n",
      "\n",
      "                                                        5   \\\n",
      "happy    [tensor(-0.6355, grad_fn=<UnbindBackward0>), t...   \n",
      "calm     [tensor(-1.7800, grad_fn=<UnbindBackward0>), t...   \n",
      "sad      [tensor(-0.3461, grad_fn=<UnbindBackward0>), t...   \n",
      "anxious  [tensor(-0.1326, grad_fn=<UnbindBackward0>), t...   \n",
      "angry    [tensor(-0.2202, grad_fn=<UnbindBackward0>), t...   \n",
      "scared   [tensor(-0.4896, grad_fn=<UnbindBackward0>), t...   \n",
      "fearful  [tensor(-1.2349, grad_fn=<UnbindBackward0>), t...   \n",
      "el       [tensor(1.1203, grad_fn=<UnbindBackward0>), te...   \n",
      "ated     [tensor(0.1899, grad_fn=<UnbindBackward0>), te...   \n",
      "dep      [tensor(1.4031, grad_fn=<UnbindBackward0>), te...   \n",
      "ressed   [tensor(-0.2099, grad_fn=<UnbindBackward0>), t...   \n",
      "\n",
      "                                                        6   \\\n",
      "happy    [tensor(-0.1694, grad_fn=<UnbindBackward0>), t...   \n",
      "calm     [tensor(-0.9991, grad_fn=<UnbindBackward0>), t...   \n",
      "sad      [tensor(-0.4275, grad_fn=<UnbindBackward0>), t...   \n",
      "anxious  [tensor(0.1535, grad_fn=<UnbindBackward0>), te...   \n",
      "angry    [tensor(-0.2193, grad_fn=<UnbindBackward0>), t...   \n",
      "scared   [tensor(0.0334, grad_fn=<UnbindBackward0>), te...   \n",
      "fearful  [tensor(-0.4938, grad_fn=<UnbindBackward0>), t...   \n",
      "el       [tensor(1.0403, grad_fn=<UnbindBackward0>), te...   \n",
      "ated     [tensor(0.1249, grad_fn=<UnbindBackward0>), te...   \n",
      "dep      [tensor(1.3730, grad_fn=<UnbindBackward0>), te...   \n",
      "ressed   [tensor(-0.2225, grad_fn=<UnbindBackward0>), t...   \n",
      "\n",
      "                                                        7   \\\n",
      "happy    [tensor(0.0954, grad_fn=<UnbindBackward0>), te...   \n",
      "calm     [tensor(0.2933, grad_fn=<UnbindBackward0>), te...   \n",
      "sad      [tensor(-0.2928, grad_fn=<UnbindBackward0>), t...   \n",
      "anxious  [tensor(2.0419, grad_fn=<UnbindBackward0>), te...   \n",
      "angry    [tensor(-0.4599, grad_fn=<UnbindBackward0>), t...   \n",
      "scared   [tensor(-0.1457, grad_fn=<UnbindBackward0>), t...   \n",
      "fearful  [tensor(-1.2704, grad_fn=<UnbindBackward0>), t...   \n",
      "el       [tensor(0.7865, grad_fn=<UnbindBackward0>), te...   \n",
      "ated     [tensor(1.5774, grad_fn=<UnbindBackward0>), te...   \n",
      "dep      [tensor(0.4293, grad_fn=<UnbindBackward0>), te...   \n",
      "ressed   [tensor(0.3109, grad_fn=<UnbindBackward0>), te...   \n",
      "\n",
      "                                                        8   \\\n",
      "happy    [tensor(0.1337, grad_fn=<UnbindBackward0>), te...   \n",
      "calm     [tensor(-0.2422, grad_fn=<UnbindBackward0>), t...   \n",
      "sad      [tensor(-0.4932, grad_fn=<UnbindBackward0>), t...   \n",
      "anxious  [tensor(1.1350, grad_fn=<UnbindBackward0>), te...   \n",
      "angry    [tensor(-0.3661, grad_fn=<UnbindBackward0>), t...   \n",
      "scared   [tensor(-0.5954, grad_fn=<UnbindBackward0>), t...   \n",
      "fearful  [tensor(-2.7968, grad_fn=<UnbindBackward0>), t...   \n",
      "el       [tensor(-0.0135, grad_fn=<UnbindBackward0>), t...   \n",
      "ated     [tensor(0.7026, grad_fn=<UnbindBackward0>), te...   \n",
      "dep      [tensor(-1.1685, grad_fn=<UnbindBackward0>), t...   \n",
      "ressed   [tensor(-0.0386, grad_fn=<UnbindBackward0>), t...   \n",
      "\n",
      "                                                        9   ...  \\\n",
      "happy    [tensor(0.2055, grad_fn=<UnbindBackward0>), te...  ...   \n",
      "calm     [tensor(-0.3142, grad_fn=<UnbindBackward0>), t...  ...   \n",
      "sad      [tensor(1.8498, grad_fn=<UnbindBackward0>), te...  ...   \n",
      "anxious  [tensor(1.3236, grad_fn=<UnbindBackward0>), te...  ...   \n",
      "angry    [tensor(-0.0908, grad_fn=<UnbindBackward0>), t...  ...   \n",
      "scared   [tensor(-0.1404, grad_fn=<UnbindBackward0>), t...  ...   \n",
      "fearful  [tensor(-1.5147, grad_fn=<UnbindBackward0>), t...  ...   \n",
      "el       [tensor(0.7905, grad_fn=<UnbindBackward0>), te...  ...   \n",
      "ated     [tensor(0.6998, grad_fn=<UnbindBackward0>), te...  ...   \n",
      "dep      [tensor(-1.5352, grad_fn=<UnbindBackward0>), t...  ...   \n",
      "ressed   [tensor(-0.3137, grad_fn=<UnbindBackward0>), t...  ...   \n",
      "\n",
      "                                                        17  \\\n",
      "happy    [tensor(1.9546, grad_fn=<UnbindBackward0>), te...   \n",
      "calm     [tensor(-3.1731, grad_fn=<UnbindBackward0>), t...   \n",
      "sad      [tensor(-3.5328, grad_fn=<UnbindBackward0>), t...   \n",
      "anxious  [tensor(0.9301, grad_fn=<UnbindBackward0>), te...   \n",
      "angry    [tensor(1.4923, grad_fn=<UnbindBackward0>), te...   \n",
      "scared   [tensor(0.9745, grad_fn=<UnbindBackward0>), te...   \n",
      "fearful  [tensor(-2.1071, grad_fn=<UnbindBackward0>), t...   \n",
      "el       [tensor(-4.4347, grad_fn=<UnbindBackward0>), t...   \n",
      "ated     [tensor(2.7817, grad_fn=<UnbindBackward0>), te...   \n",
      "dep      [tensor(-0.0839, grad_fn=<UnbindBackward0>), t...   \n",
      "ressed   [tensor(0.6108, grad_fn=<UnbindBackward0>), te...   \n",
      "\n",
      "                                                        18  \\\n",
      "happy    [tensor(-1.3686, grad_fn=<UnbindBackward0>), t...   \n",
      "calm     [tensor(-2.9312, grad_fn=<UnbindBackward0>), t...   \n",
      "sad      [tensor(-3.2901, grad_fn=<UnbindBackward0>), t...   \n",
      "anxious  [tensor(2.3031, grad_fn=<UnbindBackward0>), te...   \n",
      "angry    [tensor(-2.1671, grad_fn=<UnbindBackward0>), t...   \n",
      "scared   [tensor(-0.9603, grad_fn=<UnbindBackward0>), t...   \n",
      "fearful  [tensor(1.7535, grad_fn=<UnbindBackward0>), te...   \n",
      "el       [tensor(-3.3587, grad_fn=<UnbindBackward0>), t...   \n",
      "ated     [tensor(-0.2263, grad_fn=<UnbindBackward0>), t...   \n",
      "dep      [tensor(-1.9209, grad_fn=<UnbindBackward0>), t...   \n",
      "ressed   [tensor(-0.0829, grad_fn=<UnbindBackward0>), t...   \n",
      "\n",
      "                                                        19  \\\n",
      "happy    [tensor(1.0317, grad_fn=<UnbindBackward0>), te...   \n",
      "calm     [tensor(-3.2297, grad_fn=<UnbindBackward0>), t...   \n",
      "sad      [tensor(-4.7171, grad_fn=<UnbindBackward0>), t...   \n",
      "anxious  [tensor(1.9851, grad_fn=<UnbindBackward0>), te...   \n",
      "angry    [tensor(0.4861, grad_fn=<UnbindBackward0>), te...   \n",
      "scared   [tensor(-3.6541, grad_fn=<UnbindBackward0>), t...   \n",
      "fearful  [tensor(-1.6288, grad_fn=<UnbindBackward0>), t...   \n",
      "el       [tensor(-4.9870, grad_fn=<UnbindBackward0>), t...   \n",
      "ated     [tensor(0.1336, grad_fn=<UnbindBackward0>), te...   \n",
      "dep      [tensor(-2.0182, grad_fn=<UnbindBackward0>), t...   \n",
      "ressed   [tensor(-0.7615, grad_fn=<UnbindBackward0>), t...   \n",
      "\n",
      "                                                        20  \\\n",
      "happy    [tensor(-3.4680, grad_fn=<UnbindBackward0>), t...   \n",
      "calm     [tensor(-7.4851, grad_fn=<UnbindBackward0>), t...   \n",
      "sad      [tensor(-4.2584, grad_fn=<UnbindBackward0>), t...   \n",
      "anxious  [tensor(3.7374, grad_fn=<UnbindBackward0>), te...   \n",
      "angry    [tensor(-1.7775, grad_fn=<UnbindBackward0>), t...   \n",
      "scared   [tensor(-7.7332, grad_fn=<UnbindBackward0>), t...   \n",
      "fearful  [tensor(-6.1929, grad_fn=<UnbindBackward0>), t...   \n",
      "el       [tensor(-1.9211, grad_fn=<UnbindBackward0>), t...   \n",
      "ated     [tensor(0.1703, grad_fn=<UnbindBackward0>), te...   \n",
      "dep      [tensor(-10.1362, grad_fn=<UnbindBackward0>), ...   \n",
      "ressed   [tensor(-2.0566, grad_fn=<UnbindBackward0>), t...   \n",
      "\n",
      "                                                        21  \\\n",
      "happy    [tensor(-2.8660, grad_fn=<UnbindBackward0>), t...   \n",
      "calm     [tensor(-8.6809, grad_fn=<UnbindBackward0>), t...   \n",
      "sad      [tensor(-5.8604, grad_fn=<UnbindBackward0>), t...   \n",
      "anxious  [tensor(3.5863, grad_fn=<UnbindBackward0>), te...   \n",
      "angry    [tensor(-2.3615, grad_fn=<UnbindBackward0>), t...   \n",
      "scared   [tensor(-5.9769, grad_fn=<UnbindBackward0>), t...   \n",
      "fearful  [tensor(-6.4143, grad_fn=<UnbindBackward0>), t...   \n",
      "el       [tensor(-0.1717, grad_fn=<UnbindBackward0>), t...   \n",
      "ated     [tensor(-0.8369, grad_fn=<UnbindBackward0>), t...   \n",
      "dep      [tensor(-8.5263, grad_fn=<UnbindBackward0>), t...   \n",
      "ressed   [tensor(-2.4397, grad_fn=<UnbindBackward0>), t...   \n",
      "\n",
      "                                                        22  \\\n",
      "happy    [tensor(-2.6249, grad_fn=<UnbindBackward0>), t...   \n",
      "calm     [tensor(-7.0799, grad_fn=<UnbindBackward0>), t...   \n",
      "sad      [tensor(-7.9768, grad_fn=<UnbindBackward0>), t...   \n",
      "anxious  [tensor(2.8563, grad_fn=<UnbindBackward0>), te...   \n",
      "angry    [tensor(-1.2190, grad_fn=<UnbindBackward0>), t...   \n",
      "scared   [tensor(-8.6159, grad_fn=<UnbindBackward0>), t...   \n",
      "fearful  [tensor(-9.7245, grad_fn=<UnbindBackward0>), t...   \n",
      "el       [tensor(-4.1525, grad_fn=<UnbindBackward0>), t...   \n",
      "ated     [tensor(-1.5698, grad_fn=<UnbindBackward0>), t...   \n",
      "dep      [tensor(-7.4714, grad_fn=<UnbindBackward0>), t...   \n",
      "ressed   [tensor(-2.6228, grad_fn=<UnbindBackward0>), t...   \n",
      "\n",
      "                                                        23  \\\n",
      "happy    [tensor(2.1359, grad_fn=<UnbindBackward0>), te...   \n",
      "calm     [tensor(-4.3620, grad_fn=<UnbindBackward0>), t...   \n",
      "sad      [tensor(-5.3764, grad_fn=<UnbindBackward0>), t...   \n",
      "anxious  [tensor(4.6902, grad_fn=<UnbindBackward0>), te...   \n",
      "angry    [tensor(4.0261, grad_fn=<UnbindBackward0>), te...   \n",
      "scared   [tensor(-8.8313, grad_fn=<UnbindBackward0>), t...   \n",
      "fearful  [tensor(-2.7222, grad_fn=<UnbindBackward0>), t...   \n",
      "el       [tensor(-0.7190, grad_fn=<UnbindBackward0>), t...   \n",
      "ated     [tensor(2.0696, grad_fn=<UnbindBackward0>), te...   \n",
      "dep      [tensor(-11.2925, grad_fn=<UnbindBackward0>), ...   \n",
      "ressed   [tensor(-1.1911, grad_fn=<UnbindBackward0>), t...   \n",
      "\n",
      "                                                        24  \\\n",
      "happy    [tensor(0.3862, grad_fn=<UnbindBackward0>), te...   \n",
      "calm     [tensor(-4.8893, grad_fn=<UnbindBackward0>), t...   \n",
      "sad      [tensor(0.8755, grad_fn=<UnbindBackward0>), te...   \n",
      "anxious  [tensor(1.5364, grad_fn=<UnbindBackward0>), te...   \n",
      "angry    [tensor(0.1623, grad_fn=<UnbindBackward0>), te...   \n",
      "scared   [tensor(-7.3512, grad_fn=<UnbindBackward0>), t...   \n",
      "fearful  [tensor(-0.5142, grad_fn=<UnbindBackward0>), t...   \n",
      "el       [tensor(7.5135, grad_fn=<UnbindBackward0>), te...   \n",
      "ated     [tensor(6.6042, grad_fn=<UnbindBackward0>), te...   \n",
      "dep      [tensor(-6.1292, grad_fn=<UnbindBackward0>), t...   \n",
      "ressed   [tensor(0.8283, grad_fn=<UnbindBackward0>), te...   \n",
      "\n",
      "                                                        25  \\\n",
      "happy    [tensor(-2.9618, grad_fn=<UnbindBackward0>), t...   \n",
      "calm     [tensor(-10.2591, grad_fn=<UnbindBackward0>), ...   \n",
      "sad      [tensor(-7.1287, grad_fn=<UnbindBackward0>), t...   \n",
      "anxious  [tensor(-1.4475, grad_fn=<UnbindBackward0>), t...   \n",
      "angry    [tensor(-2.1917, grad_fn=<UnbindBackward0>), t...   \n",
      "scared   [tensor(-12.8919, grad_fn=<UnbindBackward0>), ...   \n",
      "fearful  [tensor(-9.7426, grad_fn=<UnbindBackward0>), t...   \n",
      "el       [tensor(12.9043, grad_fn=<UnbindBackward0>), t...   \n",
      "ated     [tensor(0.1075, grad_fn=<UnbindBackward0>), te...   \n",
      "dep      [tensor(-13.9213, grad_fn=<UnbindBackward0>), ...   \n",
      "ressed   [tensor(-3.6782, grad_fn=<UnbindBackward0>), t...   \n",
      "\n",
      "                                                        26  \n",
      "happy    [tensor(-3.3988, grad_fn=<UnbindBackward0>), t...  \n",
      "calm     [tensor(-9.0129, grad_fn=<UnbindBackward0>), t...  \n",
      "sad      [tensor(-20.3405, grad_fn=<UnbindBackward0>), ...  \n",
      "anxious  [tensor(0.8134, grad_fn=<UnbindBackward0>), te...  \n",
      "angry    [tensor(-2.6988, grad_fn=<UnbindBackward0>), t...  \n",
      "scared   [tensor(-14.9399, grad_fn=<UnbindBackward0>), ...  \n",
      "fearful  [tensor(-5.6624, grad_fn=<UnbindBackward0>), t...  \n",
      "el       [tensor(8.6135, grad_fn=<UnbindBackward0>), te...  \n",
      "ated     [tensor(-1.4387, grad_fn=<UnbindBackward0>), t...  \n",
      "dep      [tensor(-15.7256, grad_fn=<UnbindBackward0>), ...  \n",
      "ressed   [tensor(2.4812, grad_fn=<UnbindBackward0>), te...  \n",
      "\n",
      "[11 rows x 27 columns]\n"
     ]
    }
   ],
   "execution_count": 13
  },
  {
   "metadata": {},
   "cell_type": "code",
   "outputs": [],
   "execution_count": null,
   "source": [
    "def figures_to_html(figs, filename=\"dashboard.html\"):\n",
    "    with open(filename, 'w', encoding='utf-8') as dashboard:\n",
    "        dashboard.write(\"<html><head></head><body>\" + \"\\n\")\n",
    "        for fig in figs:\n",
    "            inner_html = fig.to_html().split('<body>')[1].split('</body>')[0]\n",
    "            dashboard.write(inner_html)\n",
    "        dashboard.write(\"</body></html>\" + \"\\n\")\n",
    "\n",
    "def cos_dist(emb1, emb2):\n",
    "    return 1 - f.cosine_similarity(emb1, emb2, dim=0).item()\n",
    "\n",
    "def euc(emb1, emb2):\n",
    "    return cdist(emb1.unsqueeze(0), emb2.unsqueeze(0)).item()"
   ],
   "id": "fa3e4b52642c8e29"
  },
  {
   "metadata": {},
   "cell_type": "code",
   "outputs": [],
   "execution_count": null,
   "source": [
    "cos_dist_figs = []\n",
    "\n",
    "for l in layers:\n",
    "    df = DataFrame(index=emotions+[\"depressed-avg\", \"elated-avg\"], columns=emotions+[\"depressed-avg\", \"elated-avg\"])\n",
    "\n",
    "    for p in combinations(emotions, r=2):\n",
    "        df[p[0]][p[1]]= cos_dist(layer_embs[l][p[0]], layer_embs[l][p[1]])\n",
    "\n",
    "    for emo in emotions:\n",
    "        df[emo]['depressed-avg'] = (cos_dist(layer_embs[l][emo], layer_embs[l]['dep']) + cos_dist(layer_embs[l][emo], layer_embs[l]['ressed'])) / 2\n",
    "        df[emo]['elated-avg'] = (cos_dist(layer_embs[l][emo], layer_embs[l]['el']) + cos_dist(layer_embs[l][emo], layer_embs[l]['ated'])) / 2\n",
    "        df['depressed-avg']['elated-avg'] = (cos_dist(layer_embs[l]['dep'], layer_embs[l]['el']) + cos_dist(layer_embs[l]['ressed'], layer_embs[l]['ated'])) / 2\n",
    "\n",
    "    fig = px.imshow(df, title=\"Cosine Distance between Emotions at Layer \" + str(l), labels=dict(color=\"Cosine Distance\"), text_auto=True, aspect=\"auto\", color_continuous_scale='RdBu', range_color=[0.13, 1.26])\n",
    "    cos_dist_figs.append(fig)\n",
    "\n",
    "fig = px.imshow(df, title=\"Cosine Distance at the End of the Model (Colorscale Normalized)\", labels=dict(color=\"Cosine Distance\"), text_auto=True, aspect=\"auto\", color_continuous_scale='RdBu')\n",
    "cos_dist_figs.append(fig)"
   ],
   "id": "f295d896689f6957"
  },
  {
   "metadata": {
    "ExecuteTime": {
     "end_time": "2025-08-20T01:37:39.470940Z",
     "start_time": "2025-08-20T01:37:39.244710Z"
    }
   },
   "cell_type": "code",
   "source": [
    "euc_dist_figs = []\n",
    "\n",
    "for l in layers:\n",
    "    df = DataFrame(index=emotions+[\"depressed-avg\", \"elated-avg\"], columns=emotions+[\"depressed-avg\", \"elated-avg\"])\n",
    "\n",
    "    for p in combinations(emotions, r=2):\n",
    "        df[p[0]][p[1]]= euc(layer_embs[l][p[0]], layer_embs[l][p[1]])\n",
    "\n",
    "    for emo in emotions:\n",
    "        df[emo]['depressed-avg'] = (euc(layer_embs[l][emo], layer_embs[l]['dep']) + euc(layer_embs[l][emo], layer_embs[l]['ressed'])) / 2\n",
    "        df[emo]['elated-avg'] = (euc(layer_embs[l][emo], layer_embs[l]['el']) + euc(layer_embs[l][emo], layer_embs[l]['ated'])) / 2\n",
    "        df['depressed-avg']['elated-avg'] = (euc(layer_embs[l]['dep'], layer_embs[l]['el']) + euc(layer_embs[l]['ressed'], layer_embs[l]['ated'])) / 2\n",
    "\n",
    "    fig = px.imshow(df, title=\"Euclidean Distance between Emotions at Layer \" + str(l), labels=dict(color=\"Euclidean Distance\"), text_auto=True, aspect=\"auto\", color_continuous_scale='RdBu', range_color=[44, 925])\n",
    "    euc_dist_figs.append(fig)\n",
    "\n",
    "fig = px.imshow(df, title=\"Euclidean Distances at the End of the Model (Colorscale Normalized)\", labels=dict(color=\"Euclidean Distance\"), text_auto=True, aspect=\"auto\", color_continuous_scale='RdBu')\n",
    "euc_dist_figs.append(fig)"
   ],
   "id": "c8c82fd71418de7b",
   "outputs": [],
   "execution_count": 172
  },
  {
   "metadata": {
    "ExecuteTime": {
     "end_time": "2025-08-20T01:37:42.106935Z",
     "start_time": "2025-08-20T01:37:41.644769Z"
    }
   },
   "cell_type": "code",
   "source": "figures_to_html(cos_dist_figs + euc_dist_figs, filename=\"results/06.layer_distances.html\")",
   "id": "a1618cec2a2ae9a8",
   "outputs": [],
   "execution_count": 173
  }
 ],
 "metadata": {
  "kernelspec": {
   "display_name": "Python 3",
   "language": "python",
   "name": "python3"
  },
  "language_info": {
   "codemirror_mode": {
    "name": "ipython",
    "version": 2
   },
   "file_extension": ".py",
   "mimetype": "text/x-python",
   "name": "python",
   "nbconvert_exporter": "python",
   "pygments_lexer": "ipython2",
   "version": "2.7.6"
  }
 },
 "nbformat": 4,
 "nbformat_minor": 5
}
