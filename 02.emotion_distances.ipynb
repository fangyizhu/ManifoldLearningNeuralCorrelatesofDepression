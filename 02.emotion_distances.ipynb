{
 "cells": [
  {
   "metadata": {
    "ExecuteTime": {
     "end_time": "2025-08-15T22:26:09.650880Z",
     "start_time": "2025-08-15T22:26:09.646297Z"
    }
   },
   "cell_type": "code",
   "source": [
    "from torch import load, nn, cdist, mean\n",
    "import torch.nn.functional as f\n",
    "from transformers import AutoModel, AutoTokenizer"
   ],
   "id": "519d59afd0a0d422",
   "outputs": [],
   "execution_count": 13
  },
  {
   "metadata": {
    "ExecuteTime": {
     "end_time": "2025-08-15T22:26:09.662838Z",
     "start_time": "2025-08-15T22:26:09.657273Z"
    }
   },
   "cell_type": "code",
   "source": [
    "MODEL = \"google/gemma-2b\"\n",
    "EMBEDDING_FILE = \"embeddings_google_gemma-2-2b.pth\"\n",
    "DEVICE = \"cuda:0\" # run on my gpu"
   ],
   "id": "74708e76fde1b8cb",
   "outputs": [],
   "execution_count": 14
  },
  {
   "metadata": {
    "ExecuteTime": {
     "end_time": "2025-08-15T22:26:10.864849Z",
     "start_time": "2025-08-15T22:26:09.666471Z"
    }
   },
   "cell_type": "code",
   "source": [
    "# load pretrained tokenizer from model\n",
    "tokenizer = AutoTokenizer.from_pretrained(MODEL)"
   ],
   "id": "1d14f8053e9d7d30",
   "outputs": [],
   "execution_count": 15
  },
  {
   "metadata": {
    "ExecuteTime": {
     "end_time": "2025-08-15T22:26:19.533924Z",
     "start_time": "2025-08-15T22:26:10.936447Z"
    }
   },
   "cell_type": "code",
   "source": [
    "# load local embedding file\n",
    "saved_embeddings = load(EMBEDDING_FILE)\n",
    "if 'weight' not in saved_embeddings:\n",
    "    raise KeyError(\"The saved embeddings file does not contain 'weight' key.\")\n",
    "embeddings_tensor = saved_embeddings['weight']"
   ],
   "id": "54159fd0502cc305",
   "outputs": [],
   "execution_count": 16
  },
  {
   "metadata": {
    "collapsed": true,
    "ExecuteTime": {
     "end_time": "2025-08-15T22:26:26.455747Z",
     "start_time": "2025-08-15T22:26:19.626182Z"
    }
   },
   "cell_type": "code",
   "source": [
    "# Create an embedding only model object\n",
    "class EmbeddingModel(nn.Module):\n",
    "    def __init__(self, vocab_size, embedding_dim):\n",
    "        super(EmbeddingModel, self).__init__()\n",
    "        self.embedding = nn.Embedding(num_embeddings=vocab_size, embedding_dim=embedding_dim)\n",
    "\n",
    "    def forward(self, input_ids):\n",
    "        return self.embedding(input_ids)\n",
    "\n",
    "# Create an empty LLM model that has the same shape with extracted embeddings\n",
    "emb_model = EmbeddingModel(*embeddings_tensor.size())\n",
    "\n",
    "# Give the LLM model the weight of extracted embeddings\n",
    "emb_model.embedding.weight.data = embeddings_tensor\n",
    "emb_model.eval()"
   ],
   "id": "f3b47355bf7948c8",
   "outputs": [
    {
     "data": {
      "text/plain": [
       "EmbeddingModel(\n",
       "  (embedding): Embedding(256000, 2304)\n",
       ")"
      ]
     },
     "execution_count": 17,
     "metadata": {},
     "output_type": "execute_result"
    }
   ],
   "execution_count": 17
  },
  {
   "metadata": {
    "ExecuteTime": {
     "end_time": "2025-08-15T22:26:28.462329Z",
     "start_time": "2025-08-15T22:26:27.667257Z"
    }
   },
   "cell_type": "code",
   "source": [
    "# Test the tokenizer layer\n",
    "emotions = [\"happy\", \"sad\", \"anxious\", \"calm\", \"depressed\", \"elated\"]\n",
    "emotion_tokens = {emo: tokenizer(emo, return_tensors='pt').input_ids for emo in emotions}\n",
    "print(\"tokens: \", emotion_tokens)\n",
    "print(\"2: \", tokenizer.decode(2))\n",
    "print(\"3243: \", tokenizer.decode(3243))\n",
    "print(\"3734: \", tokenizer.decode(3734))\n",
    "\n",
    "print(\"521: \", tokenizer.decode(521))\n",
    "print(\"840: \", tokenizer.decode(840))"
   ],
   "id": "a00d0e454b67853c",
   "outputs": [
    {
     "name": "stdout",
     "output_type": "stream",
     "text": [
      "tokens:  {'happy': tensor([[    2, 11896]]), 'sad': tensor([[    2, 37968]]), 'anxious': tensor([[    2,   481, 24192]]), 'calm': tensor([[     2, 116051]]), 'depressed': tensor([[   2, 3243, 3734]]), 'elated': tensor([[  2, 521, 840]])}\n",
      "2:  <bos>\n",
      "3243:  dep\n",
      "3734:  ressed\n",
      "521:  el\n",
      "840:  ated\n"
     ]
    }
   ],
   "execution_count": 18
  },
  {
   "metadata": {
    "ExecuteTime": {
     "end_time": "2025-08-15T22:26:28.526680Z",
     "start_time": "2025-08-15T22:26:28.501071Z"
    }
   },
   "cell_type": "code",
   "source": [
    "print(tokenizer(\"angry\", return_tensors='pt'))\n",
    "print(tokenizer(\"scared\", return_tensors='pt'))\n",
    "print(tokenizer(\"scared\", return_tensors='pt'))"
   ],
   "id": "c3b83ddafa1cf035",
   "outputs": [
    {
     "name": "stdout",
     "output_type": "stream",
     "text": [
      "{'input_ids': tensor([[    2, 70709]]), 'attention_mask': tensor([[1, 1]])}\n",
      "{'input_ids': tensor([[     2, 221959]]), 'attention_mask': tensor([[1, 1]])}\n",
      "{'input_ids': tensor([[     2, 221959]]), 'attention_mask': tensor([[1, 1]])}\n"
     ]
    }
   ],
   "execution_count": 19
  },
  {
   "metadata": {
    "ExecuteTime": {
     "end_time": "2025-08-15T22:26:28.576831Z",
     "start_time": "2025-08-15T22:26:28.550500Z"
    }
   },
   "cell_type": "code",
   "source": [
    "def word_to_embeddings(word: str):\n",
    "    # tokenize, and squeeze tensor\n",
    "    token_id = tokenizer(word, return_tensors=\"pt\")['input_ids'].squeeze()\n",
    "\n",
    "    # google gemma put <bos> in front of every word, remove <bos>\n",
    "    token_id = token_id[1:]\n",
    "\n",
    "    # make a forward pass through custom model\n",
    "    embeddings = emb_model(token_id)\n",
    "\n",
    "    return embeddings\n",
    "\n",
    "print(word_to_embeddings(\"happy\"))\n",
    "print(word_to_embeddings(\"depressed\"))"
   ],
   "id": "bd20eb0268dd58e6",
   "outputs": [
    {
     "name": "stdout",
     "output_type": "stream",
     "text": [
      "tensor([[-0.0114,  0.0487, -0.0604,  ..., -0.0208,  0.0486, -0.0094]],\n",
      "       grad_fn=<EmbeddingBackward0>)\n",
      "tensor([[-0.0072,  0.0453,  0.0191,  ...,  0.0112,  0.0566, -0.0158],\n",
      "        [-0.0205,  0.0073,  0.0221,  ...,  0.0179,  0.0276,  0.0154]],\n",
      "       grad_fn=<EmbeddingBackward0>)\n"
     ]
    }
   ],
   "execution_count": 20
  },
  {
   "metadata": {
    "ExecuteTime": {
     "end_time": "2025-08-15T22:26:28.597750Z",
     "start_time": "2025-08-15T22:26:28.582961Z"
    }
   },
   "cell_type": "code",
   "source": "emo_embeddings = {emo: word_to_embeddings(emo) for emo in emotions}",
   "id": "9431c8370825a4f0",
   "outputs": [],
   "execution_count": 21
  },
  {
   "metadata": {
    "ExecuteTime": {
     "end_time": "2025-08-15T22:26:28.626607Z",
     "start_time": "2025-08-15T22:26:28.619393Z"
    }
   },
   "cell_type": "code",
   "source": [
    "print(\"After one forward pass through embedding layer.\")\n",
    "print(\"embeddings: \", {k: v.shape for k, v in emo_embeddings.items()})"
   ],
   "id": "f845862bfa6a8854",
   "outputs": [
    {
     "name": "stdout",
     "output_type": "stream",
     "text": [
      "After one forward pass through embedding layer.\n",
      "embeddings:  {'happy': torch.Size([1, 2304]), 'sad': torch.Size([1, 2304]), 'anxious': torch.Size([2, 2304]), 'calm': torch.Size([1, 2304]), 'depressed': torch.Size([2, 2304]), 'elated': torch.Size([2, 2304])}\n"
     ]
    }
   ],
   "execution_count": 22
  },
  {
   "metadata": {
    "ExecuteTime": {
     "end_time": "2025-08-15T22:26:28.680844Z",
     "start_time": "2025-08-15T22:26:28.647372Z"
    }
   },
   "cell_type": "code",
   "source": [
    "# Understand how the model splits words\n",
    "dep = 'dep'\n",
    "ressed = 'ressed'\n",
    "dep_emb = word_to_embeddings(dep)\n",
    "ressed_emb = word_to_embeddings(ressed)\n",
    "print(dep_emb.shape, ressed_emb.shape)\n",
    "print(f.cosine_similarity(dep_emb, ressed_emb, dim=1))\n",
    "print(cdist(dep_emb, ressed_emb))"
   ],
   "id": "fc6c3a38d5dc8685",
   "outputs": [
    {
     "name": "stdout",
     "output_type": "stream",
     "text": [
      "torch.Size([1, 2304]) torch.Size([1, 2304])\n",
      "tensor([0.0625], grad_fn=<SumBackward1>)\n",
      "tensor([[2.2833]], grad_fn=<CdistBackward0>)\n"
     ]
    }
   ],
   "execution_count": 23
  },
  {
   "metadata": {
    "ExecuteTime": {
     "end_time": "2025-08-15T22:26:28.798075Z",
     "start_time": "2025-08-15T22:26:28.772148Z"
    }
   },
   "cell_type": "code",
   "source": [
    "# cosine similarity measures angle between vectors (direction, not magnitude), it measures semantic similarity\n",
    "# The resulting similarity ranges from −1 meaning exactly opposite, to +1 meaning exactly the same, with 0 indicating orthogonality or decorrelation, while in-between values indicate intermediate similarity or dissimilarity.\n",
    "# https://www.learndatasci.com/glossary/cosine-similarity/\n",
    "# https://docs.pytorch.org/docs/stable/generated/torch.nn.CosineSimilarity.html\n",
    "# Dimension variable expected to be in range of [-3, 2]\n",
    "\n",
    "print(\"happy, sad cos: \", f.cosine_similarity(emo_embeddings[\"happy\"], emo_embeddings[\"sad\"]))\n",
    "print(\"happy, sad euclid: \", cdist(emo_embeddings[\"happy\"], emo_embeddings[\"sad\"]))\n",
    "print(\"happy, calm cos: \", f.cosine_similarity(emo_embeddings[\"happy\"], emo_embeddings[\"calm\"]))\n",
    "print(\"happy, calm euclid: \", cdist(emo_embeddings[\"happy\"], emo_embeddings[\"calm\"]))\n",
    "print(\"Note: depressed is split into dep and pressed.\")\n",
    "print(\"happy, depressed cos: \", f.cosine_similarity(emo_embeddings[\"happy\"], emo_embeddings[\"depressed\"]))\n",
    "print(\"happy, depressed euclid: \", cdist(emo_embeddings[\"happy\"], emo_embeddings[\"depressed\"]))\n",
    "print(\"Note: elated is split into el and ated.\")\n",
    "print(\"happy, elated cos: \", f.cosine_similarity(emo_embeddings[\"happy\"], emo_embeddings[\"elated\"]))\n",
    "print(\"happy, elated euclid: \", cdist(emo_embeddings[\"happy\"], emo_embeddings[\"elated\"]))"
   ],
   "id": "e7f805d5ae8509fe",
   "outputs": [
    {
     "name": "stdout",
     "output_type": "stream",
     "text": [
      "happy, sad cos:  tensor([0.2026], grad_fn=<SumBackward1>)\n",
      "happy, sad euclid:  tensor([[2.0164]], grad_fn=<CdistBackward0>)\n",
      "happy, calm cos:  tensor([0.1687], grad_fn=<SumBackward1>)\n",
      "happy, calm euclid:  tensor([[2.1031]], grad_fn=<CdistBackward0>)\n",
      "Note: depressed is split into dep and pressed.\n",
      "happy, depressed cos:  tensor([0.0955, 0.1056], grad_fn=<SumBackward1>)\n",
      "happy, depressed euclid:  tensor([[2.1993, 2.1703]], grad_fn=<CdistBackward0>)\n",
      "Note: elated is split into el and ated.\n",
      "happy, elated cos:  tensor([-0.0579,  0.0084], grad_fn=<SumBackward1>)\n",
      "happy, elated euclid:  tensor([[2.3897, 2.2032]], grad_fn=<CdistBackward0>)\n"
     ]
    }
   ],
   "execution_count": 24
  }
 ],
 "metadata": {
  "kernelspec": {
   "display_name": "Python 3",
   "language": "python",
   "name": "python3"
  },
  "language_info": {
   "codemirror_mode": {
    "name": "ipython",
    "version": 2
   },
   "file_extension": ".py",
   "mimetype": "text/x-python",
   "name": "python",
   "nbconvert_exporter": "python",
   "pygments_lexer": "ipython2",
   "version": "2.7.6"
  }
 },
 "nbformat": 4,
 "nbformat_minor": 5
}
