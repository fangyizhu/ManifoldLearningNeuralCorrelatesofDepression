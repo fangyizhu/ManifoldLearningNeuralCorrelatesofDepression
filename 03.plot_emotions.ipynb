{
 "cells": [
  {
   "metadata": {
    "ExecuteTime": {
     "end_time": "2025-08-22T01:06:18.444352Z",
     "start_time": "2025-08-22T01:06:18.248512Z"
    }
   },
   "cell_type": "code",
   "source": [
    "import gc\n",
    "\n",
    "gc.collect()"
   ],
   "id": "6f6a9b2ab8f98d23",
   "outputs": [
    {
     "data": {
      "text/plain": [
       "4652"
      ]
     },
     "execution_count": 151,
     "metadata": {},
     "output_type": "execute_result"
    }
   ],
   "execution_count": 151
  },
  {
   "metadata": {
    "ExecuteTime": {
     "end_time": "2025-08-22T01:06:18.453171Z",
     "start_time": "2025-08-22T01:06:18.449099Z"
    }
   },
   "cell_type": "code",
   "source": [
    "from torch import load, nn, sum, cdist\n",
    "import torch.nn.functional as f\n",
    "from transformers import AutoTokenizer\n",
    "from pandas import DataFrame\n",
    "import plotly.express as px\n",
    "from collections import OrderedDict\n",
    "from itertools import combinations\n",
    "from utils import *\n",
    "import warnings\n",
    "\n",
    "warnings.simplefilter(action='ignore', category=FutureWarning)"
   ],
   "id": "7d19f487645e3ed0",
   "outputs": [],
   "execution_count": 152
  },
  {
   "metadata": {
    "ExecuteTime": {
     "end_time": "2025-08-22T01:06:18.463539Z",
     "start_time": "2025-08-22T01:06:18.460439Z"
    }
   },
   "cell_type": "code",
   "source": [
    "MODEL = \"google/gemma-2-2b\"\n",
    "EMBEDDING_FILE = \"embeddings_google_gemma-2-2b.pth\"\n",
    "DEVICE = \"cuda:0\"  # run on my gpu"
   ],
   "id": "bdc23479725dc48d",
   "outputs": [],
   "execution_count": 153
  },
  {
   "metadata": {
    "ExecuteTime": {
     "end_time": "2025-08-22T01:06:33.720037Z",
     "start_time": "2025-08-22T01:06:18.468937Z"
    }
   },
   "cell_type": "code",
   "source": [
    "# load pretrained tokenizer from model\n",
    "tokenizer = AutoTokenizer.from_pretrained(MODEL)\n",
    "\n",
    "# load local embedding file\n",
    "saved_embeddings = load(EMBEDDING_FILE)\n",
    "if 'weight' not in saved_embeddings:\n",
    "    raise KeyError(\"The saved embeddings file does not contain 'weight' key.\")\n",
    "embeddings_tensor = saved_embeddings['weight']\n",
    "\n",
    "\n",
    "# Create an embedding only model object\n",
    "class EmbeddingModel(nn.Module):\n",
    "    def __init__(self, vocab_size, embedding_dim):\n",
    "        super(EmbeddingModel, self).__init__()\n",
    "        self.embedding = nn.Embedding(num_embeddings=vocab_size, embedding_dim=embedding_dim)\n",
    "\n",
    "    def forward(self, input_ids):\n",
    "        return self.embedding(input_ids)\n",
    "\n",
    "\n",
    "# Create an empty LLM model that has the same shape with extracted embeddings\n",
    "emb_model = EmbeddingModel(*embeddings_tensor.size()).to(DEVICE)\n",
    "\n",
    "# Give the LLM model the weight of extracted embeddings\n",
    "emb_model.embedding.weight.data = embeddings_tensor\n",
    "emb_model.eval()"
   ],
   "id": "434bd3831ac0dee7",
   "outputs": [
    {
     "data": {
      "text/plain": [
       "EmbeddingModel(\n",
       "  (embedding): Embedding(256000, 2304)\n",
       ")"
      ]
     },
     "execution_count": 154,
     "metadata": {},
     "output_type": "execute_result"
    }
   ],
   "execution_count": 154
  },
  {
   "metadata": {
    "ExecuteTime": {
     "end_time": "2025-08-22T01:06:33.855072Z",
     "start_time": "2025-08-22T01:06:33.837956Z"
    }
   },
   "cell_type": "code",
   "source": [
    "print(tokenizer(\"depressed\", return_tensors='pt').input_ids)\n",
    "print(tokenizer(\"elated\", return_tensors='pt').input_ids)\n",
    "print(tokenizer.decode(3243))\n",
    "print(tokenizer.decode(3734))\n",
    "print(tokenizer.decode(521))\n",
    "print(tokenizer.decode(840))"
   ],
   "id": "af1ced401ea3b00e",
   "outputs": [
    {
     "name": "stdout",
     "output_type": "stream",
     "text": [
      "tensor([[   2, 3243, 3734]])\n",
      "tensor([[  2, 521, 840]])\n",
      "dep\n",
      "ressed\n",
      "el\n",
      "ated\n"
     ]
    }
   ],
   "execution_count": 155
  },
  {
   "metadata": {
    "ExecuteTime": {
     "end_time": "2025-08-22T01:06:33.911811Z",
     "start_time": "2025-08-22T01:06:33.861112Z"
    }
   },
   "cell_type": "code",
   "source": [
    "emotions = [\"happy\", \"elated\", \"peaceful\", \"calm\", \"content\", \"relaxed\", \"sad\", \"anxious\", \"fearful\", \"scared\",\n",
    "            \"depressed\", \"lonely\", \"bitter\", \"jealous\", \"angry\", \"guilty\", \"passionate\", \"brave\", \"confident\"]\n",
    "\n",
    "# squeeze tensor dim\n",
    "emo_tokens = OrderedDict({emo: tokenizer(emo, return_tensors='pt').input_ids for emo in emotions})\n",
    "print(emo_tokens)"
   ],
   "id": "36eda89b64376ec8",
   "outputs": [
    {
     "name": "stdout",
     "output_type": "stream",
     "text": [
      "OrderedDict({'happy': tensor([[    2, 11896]]), 'elated': tensor([[  2, 521, 840]]), 'peaceful': tensor([[     2, 211749]]), 'calm': tensor([[     2, 116051]]), 'content': tensor([[   2, 3312]]), 'relaxed': tensor([[     2, 163861]]), 'sad': tensor([[    2, 37968]]), 'anxious': tensor([[    2,   481, 24192]]), 'fearful': tensor([[    2, 71339,  1329]]), 'scared': tensor([[     2, 221959]]), 'depressed': tensor([[   2, 3243, 3734]]), 'lonely': tensor([[     2, 151738]]), 'bitter': tensor([[     2, 158930]]), 'jealous': tensor([[    2,  1792, 22108]]), 'angry': tensor([[    2, 70709]]), 'guilty': tensor([[     2, 206971]]), 'passionate': tensor([[    2, 94364,   607]]), 'brave': tensor([[     2, 149142]]), 'confident': tensor([[     2, 131181]])})\n"
     ]
    }
   ],
   "execution_count": 156
  },
  {
   "metadata": {
    "ExecuteTime": {
     "end_time": "2025-08-22T01:06:33.992557Z",
     "start_time": "2025-08-22T01:06:33.924605Z"
    }
   },
   "cell_type": "code",
   "source": "emo_embs = OrderedDict({k: emb_model(v) for k, v in emo_tokens.items()})",
   "id": "70dc5a5723ee1154",
   "outputs": [],
   "execution_count": 157
  },
  {
   "metadata": {
    "ExecuteTime": {
     "end_time": "2025-08-22T01:06:34.031250Z",
     "start_time": "2025-08-22T01:06:34.004377Z"
    }
   },
   "cell_type": "code",
   "source": [
    "# sanity check\n",
    "print(f.cosine_similarity(emo_embs['happy'], emo_embs['happy'], dim=0))"
   ],
   "id": "cc531c2b16ab2f48",
   "outputs": [
    {
     "name": "stdout",
     "output_type": "stream",
     "text": [
      "tensor([[1., 1., 1.,  ..., 1., 1., 1.],\n",
      "        [1., 1., 1.,  ..., 1., 1., 1.]], grad_fn=<SumBackward1>)\n"
     ]
    }
   ],
   "execution_count": 158
  },
  {
   "metadata": {
    "ExecuteTime": {
     "end_time": "2025-08-22T01:06:34.079585Z",
     "start_time": "2025-08-22T01:06:34.061242Z"
    }
   },
   "cell_type": "code",
   "source": "emo_pairs = list(combinations(emo_embs, r=2))",
   "id": "b18011450952e58a",
   "outputs": [],
   "execution_count": 159
  },
  {
   "metadata": {
    "ExecuteTime": {
     "end_time": "2025-08-22T01:06:34.246639Z",
     "start_time": "2025-08-22T01:06:34.088508Z"
    }
   },
   "cell_type": "code",
   "source": [
    "# put all the numbers in pandas df then plot\n",
    "\n",
    "df = DataFrame(index=emotions, columns=emotions)\n",
    "for p in combinations(emotions, r=2):\n",
    "    df[p[0]][p[1]] = 1 - f.cosine_similarity(sum(emo_embs[p[0]], 1), sum(emo_embs[p[1]], 1), dim=1).item()\n",
    "    df[p[1]][p[0]] = 1 - f.cosine_similarity(sum(emo_embs[p[1]], 1), sum(emo_embs[p[0]], 1), dim=1).item()\n",
    "\n",
    "fig1 = px.imshow(df, title=\"Cosine Distance between Emotions\", labels=dict(color=\"Cosine Distance\"), text_auto=True,\n",
    "                 aspect=\"auto\", color_continuous_scale='RdBu')\n",
    "fig1.show()"
   ],
   "id": "59a9e8b38ffe2315",
   "outputs": [
    {
     "data": {
      "application/vnd.plotly.v1+json": {
       "data": [
        {
         "coloraxis": "coloraxis",
         "name": "0",
         "texttemplate": "%{z}",
         "x": [
          "happy",
          "elated",
          "peaceful",
          "calm",
          "content",
          "relaxed",
          "sad",
          "anxious",
          "fearful",
          "scared",
          "depressed",
          "lonely",
          "bitter",
          "jealous",
          "angry",
          "guilty",
          "passionate",
          "brave",
          "confident"
         ],
         "y": [
          "happy",
          "elated",
          "peaceful",
          "calm",
          "content",
          "relaxed",
          "sad",
          "anxious",
          "fearful",
          "scared",
          "depressed",
          "lonely",
          "bitter",
          "jealous",
          "angry",
          "guilty",
          "passionate",
          "brave",
          "confident"
         ],
         "z": [
          [
           null,
           0.20340126752853394,
           0.11783277988433838,
           0.11361753940582275,
           0.12255430221557617,
           0.10900819301605225,
           0.1058511734008789,
           0.16494452953338623,
           0.17357492446899414,
           0.11202830076217651,
           0.17477625608444214,
           0.11269509792327881,
           0.1196947693824768,
           0.17353498935699463,
           0.08984780311584473,
           0.1252044439315796,
           0.16553163528442383,
           0.11207032203674316,
           0.10499435663223267
          ],
          [
           0.20340126752853394,
           null,
           0.2533034682273865,
           0.22427958250045776,
           0.18675976991653442,
           0.22818100452423096,
           0.2003496289253235,
           0.19329297542572021,
           0.2519271969795227,
           0.24137800931930542,
           0.2364451289176941,
           0.23531031608581543,
           0.2490464448928833,
           0.22442781925201416,
           0.2141982913017273,
           0.2584969997406006,
           0.18807059526443481,
           0.225147545337677,
           0.21960991621017456
          ],
          [
           0.11783277988433838,
           0.2533034682273865,
           null,
           0.0857170820236206,
           0.16091293096542358,
           0.09011971950531006,
           0.13003474473953247,
           0.1980310082435608,
           0.1847553253173828,
           0.10308843851089478,
           0.1951398253440857,
           0.1077808141708374,
           0.11031126976013184,
           0.19760704040527344,
           0.10087013244628906,
           0.11335843801498413,
           0.18354052305221558,
           0.10886317491531372,
           0.10888499021530151
          ],
          [
           0.11361753940582275,
           0.22427958250045776,
           0.0857170820236206,
           null,
           0.136069655418396,
           0.08815371990203857,
           0.11626267433166504,
           0.1740114688873291,
           0.17525917291641235,
           0.10909318923950195,
           0.18344128131866455,
           0.1116495132446289,
           0.11220818758010864,
           0.18421459197998047,
           0.09870243072509766,
           0.12052595615386963,
           0.16616880893707275,
           0.10585176944732666,
           0.10334897041320801
          ],
          [
           0.12255430221557617,
           0.18675976991653442,
           0.16091293096542358,
           0.136069655418396,
           null,
           0.13994014263153076,
           0.13212722539901733,
           0.1762561798095703,
           0.1928311586380005,
           0.15561175346374512,
           0.19556361436843872,
           0.1493968963623047,
           0.15336763858795166,
           0.18401551246643066,
           0.13429081439971924,
           0.16466563940048218,
           0.1782248616218567,
           0.14528334140777588,
           0.1345529556274414
          ],
          [
           0.10900819301605225,
           0.22818100452423096,
           0.09011971950531006,
           0.08815371990203857,
           0.13994014263153076,
           null,
           0.12132513523101807,
           0.18164515495300293,
           0.1819216012954712,
           0.10982668399810791,
           0.18393778800964355,
           0.10782057046890259,
           0.1138923168182373,
           0.1816847324371338,
           0.1043848991394043,
           0.11635637283325195,
           0.1706928014755249,
           0.10944914817810059,
           0.09696424007415771
          ],
          [
           0.1058511734008789,
           0.2003496289253235,
           0.13003474473953247,
           0.11626267433166504,
           0.13212722539901733,
           0.12132513523101807,
           null,
           0.1709423065185547,
           0.17648589611053467,
           0.1136864423751831,
           0.1710662841796875,
           0.11263716220855713,
           0.12151169776916504,
           0.17700481414794922,
           0.10365122556686401,
           0.13124871253967285,
           0.17226523160934448,
           0.12045657634735107,
           0.12095379829406738
          ],
          [
           0.16494452953338623,
           0.19329297542572021,
           0.1980310082435608,
           0.1740114688873291,
           0.1762561798095703,
           0.18164515495300293,
           0.1709423065185547,
           null,
           0.19756686687469482,
           0.1816844940185547,
           0.21212530136108398,
           0.1817898154258728,
           0.19239115715026855,
           0.20275866985321045,
           0.16425126791000366,
           0.20016908645629883,
           0.20800399780273438,
           0.1819925308227539,
           0.17093294858932495
          ],
          [
           0.17357492446899414,
           0.2519271969795227,
           0.1847553253173828,
           0.17525917291641235,
           0.1928311586380005,
           0.1819216012954712,
           0.17648589611053467,
           0.19756686687469482,
           null,
           0.15444540977478027,
           0.22590291500091553,
           0.18245375156402588,
           0.18630731105804443,
           0.22892463207244873,
           0.17078614234924316,
           0.19413095712661743,
           0.2116185426712036,
           0.18126285076141357,
           0.16992777585983276
          ],
          [
           0.11202830076217651,
           0.24137800931930542,
           0.10308843851089478,
           0.10909318923950195,
           0.15561175346374512,
           0.10982668399810791,
           0.1136864423751831,
           0.1816844940185547,
           0.15444540977478027,
           null,
           0.18787819147109985,
           0.10460054874420166,
           0.11245286464691162,
           0.18119007349014282,
           0.08991008996963501,
           0.10917747020721436,
           0.17833185195922852,
           0.1007722020149231,
           0.10461854934692383
          ],
          [
           0.17477625608444214,
           0.2364451289176941,
           0.1951398253440857,
           0.18344128131866455,
           0.19556361436843872,
           0.18393778800964355,
           0.1710662841796875,
           0.21212530136108398,
           0.22590291500091553,
           0.18787819147109985,
           null,
           0.18281042575836182,
           0.1969749927520752,
           0.2249678373336792,
           0.1747969388961792,
           0.20161688327789307,
           0.22459203004837036,
           0.18961572647094727,
           0.18265992403030396
          ],
          [
           0.11269509792327881,
           0.23531031608581543,
           0.1077808141708374,
           0.1116495132446289,
           0.1493968963623047,
           0.10782057046890259,
           0.11263716220855713,
           0.1817898154258728,
           0.18245375156402588,
           0.10460054874420166,
           0.18281042575836182,
           null,
           0.11136198043823242,
           0.18520569801330566,
           0.09552037715911865,
           0.11549657583236694,
           0.17742472887039185,
           0.10602408647537231,
           0.11232924461364746
          ],
          [
           0.1196947693824768,
           0.2490464448928833,
           0.11031126976013184,
           0.11220818758010864,
           0.15336763858795166,
           0.1138923168182373,
           0.12151169776916504,
           0.19239115715026855,
           0.18630731105804443,
           0.11245286464691162,
           0.1969749927520752,
           0.11136198043823242,
           null,
           0.1880759596824646,
           0.09485757350921631,
           0.11725670099258423,
           0.17784559726715088,
           0.11144602298736572,
           0.11661899089813232
          ],
          [
           0.17353498935699463,
           0.22442781925201416,
           0.19760704040527344,
           0.18421459197998047,
           0.18401551246643066,
           0.1816847324371338,
           0.17700481414794922,
           0.20275866985321045,
           0.22892463207244873,
           0.18119007349014282,
           0.2249678373336792,
           0.18520569801330566,
           0.1880759596824646,
           null,
           0.168532133102417,
           0.19256818294525146,
           0.20413732528686523,
           0.18138670921325684,
           0.17691177129745483
          ],
          [
           0.08984780311584473,
           0.2141982913017273,
           0.10087013244628906,
           0.09870243072509766,
           0.13429081439971924,
           0.1043848991394043,
           0.10365122556686401,
           0.16425126791000366,
           0.17078614234924316,
           0.08991008996963501,
           0.1747969388961792,
           0.09552037715911865,
           0.09485757350921631,
           0.168532133102417,
           null,
           0.10434848070144653,
           0.15604639053344727,
           0.09561508893966675,
           0.09706854820251465
          ],
          [
           0.1252044439315796,
           0.2584969997406006,
           0.11335843801498413,
           0.12052595615386963,
           0.16466563940048218,
           0.11635637283325195,
           0.13124871253967285,
           0.20016908645629883,
           0.19413095712661743,
           0.10917747020721436,
           0.20161688327789307,
           0.11549657583236694,
           0.11725670099258423,
           0.19256818294525146,
           0.10434848070144653,
           null,
           0.18806397914886475,
           0.11639732122421265,
           0.12029463052749634
          ],
          [
           0.16553163528442383,
           0.18807059526443481,
           0.18354052305221558,
           0.16616880893707275,
           0.1782248616218567,
           0.1706928014755249,
           0.17226523160934448,
           0.20800399780273438,
           0.2116185426712036,
           0.17833185195922852,
           0.22459203004837036,
           0.17742472887039185,
           0.17784559726715088,
           0.20413732528686523,
           0.15604639053344727,
           0.18806397914886475,
           null,
           0.16876685619354248,
           0.162267804145813
          ],
          [
           0.11207032203674316,
           0.225147545337677,
           0.10886317491531372,
           0.10585176944732666,
           0.14528334140777588,
           0.10944914817810059,
           0.12045657634735107,
           0.1819925308227539,
           0.18126285076141357,
           0.1007722020149231,
           0.18961572647094727,
           0.10602408647537231,
           0.11144602298736572,
           0.18138670921325684,
           0.09561508893966675,
           0.11639732122421265,
           0.16876685619354248,
           null,
           0.10020965337753296
          ],
          [
           0.10499435663223267,
           0.21960991621017456,
           0.10888499021530151,
           0.10334897041320801,
           0.1345529556274414,
           0.09696424007415771,
           0.12095379829406738,
           0.17093294858932495,
           0.16992777585983276,
           0.10461854934692383,
           0.18265992403030396,
           0.11232924461364746,
           0.11661899089813232,
           0.17691177129745483,
           0.09706854820251465,
           0.12029463052749634,
           0.162267804145813,
           0.10020965337753296,
           null
          ]
         ],
         "type": "heatmap",
         "xaxis": "x",
         "yaxis": "y",
         "hovertemplate": "x: %{x}<br>y: %{y}<br>Cosine Distance: %{z}<extra></extra>"
        }
       ],
       "layout": {
        "template": {
         "data": {
          "histogram2dcontour": [
           {
            "type": "histogram2dcontour",
            "colorbar": {
             "outlinewidth": 0,
             "ticks": ""
            },
            "colorscale": [
             [
              0.0,
              "#0d0887"
             ],
             [
              0.1111111111111111,
              "#46039f"
             ],
             [
              0.2222222222222222,
              "#7201a8"
             ],
             [
              0.3333333333333333,
              "#9c179e"
             ],
             [
              0.4444444444444444,
              "#bd3786"
             ],
             [
              0.5555555555555556,
              "#d8576b"
             ],
             [
              0.6666666666666666,
              "#ed7953"
             ],
             [
              0.7777777777777778,
              "#fb9f3a"
             ],
             [
              0.8888888888888888,
              "#fdca26"
             ],
             [
              1.0,
              "#f0f921"
             ]
            ]
           }
          ],
          "choropleth": [
           {
            "type": "choropleth",
            "colorbar": {
             "outlinewidth": 0,
             "ticks": ""
            }
           }
          ],
          "histogram2d": [
           {
            "type": "histogram2d",
            "colorbar": {
             "outlinewidth": 0,
             "ticks": ""
            },
            "colorscale": [
             [
              0.0,
              "#0d0887"
             ],
             [
              0.1111111111111111,
              "#46039f"
             ],
             [
              0.2222222222222222,
              "#7201a8"
             ],
             [
              0.3333333333333333,
              "#9c179e"
             ],
             [
              0.4444444444444444,
              "#bd3786"
             ],
             [
              0.5555555555555556,
              "#d8576b"
             ],
             [
              0.6666666666666666,
              "#ed7953"
             ],
             [
              0.7777777777777778,
              "#fb9f3a"
             ],
             [
              0.8888888888888888,
              "#fdca26"
             ],
             [
              1.0,
              "#f0f921"
             ]
            ]
           }
          ],
          "heatmap": [
           {
            "type": "heatmap",
            "colorbar": {
             "outlinewidth": 0,
             "ticks": ""
            },
            "colorscale": [
             [
              0.0,
              "#0d0887"
             ],
             [
              0.1111111111111111,
              "#46039f"
             ],
             [
              0.2222222222222222,
              "#7201a8"
             ],
             [
              0.3333333333333333,
              "#9c179e"
             ],
             [
              0.4444444444444444,
              "#bd3786"
             ],
             [
              0.5555555555555556,
              "#d8576b"
             ],
             [
              0.6666666666666666,
              "#ed7953"
             ],
             [
              0.7777777777777778,
              "#fb9f3a"
             ],
             [
              0.8888888888888888,
              "#fdca26"
             ],
             [
              1.0,
              "#f0f921"
             ]
            ]
           }
          ],
          "contourcarpet": [
           {
            "type": "contourcarpet",
            "colorbar": {
             "outlinewidth": 0,
             "ticks": ""
            }
           }
          ],
          "contour": [
           {
            "type": "contour",
            "colorbar": {
             "outlinewidth": 0,
             "ticks": ""
            },
            "colorscale": [
             [
              0.0,
              "#0d0887"
             ],
             [
              0.1111111111111111,
              "#46039f"
             ],
             [
              0.2222222222222222,
              "#7201a8"
             ],
             [
              0.3333333333333333,
              "#9c179e"
             ],
             [
              0.4444444444444444,
              "#bd3786"
             ],
             [
              0.5555555555555556,
              "#d8576b"
             ],
             [
              0.6666666666666666,
              "#ed7953"
             ],
             [
              0.7777777777777778,
              "#fb9f3a"
             ],
             [
              0.8888888888888888,
              "#fdca26"
             ],
             [
              1.0,
              "#f0f921"
             ]
            ]
           }
          ],
          "surface": [
           {
            "type": "surface",
            "colorbar": {
             "outlinewidth": 0,
             "ticks": ""
            },
            "colorscale": [
             [
              0.0,
              "#0d0887"
             ],
             [
              0.1111111111111111,
              "#46039f"
             ],
             [
              0.2222222222222222,
              "#7201a8"
             ],
             [
              0.3333333333333333,
              "#9c179e"
             ],
             [
              0.4444444444444444,
              "#bd3786"
             ],
             [
              0.5555555555555556,
              "#d8576b"
             ],
             [
              0.6666666666666666,
              "#ed7953"
             ],
             [
              0.7777777777777778,
              "#fb9f3a"
             ],
             [
              0.8888888888888888,
              "#fdca26"
             ],
             [
              1.0,
              "#f0f921"
             ]
            ]
           }
          ],
          "mesh3d": [
           {
            "type": "mesh3d",
            "colorbar": {
             "outlinewidth": 0,
             "ticks": ""
            }
           }
          ],
          "scatter": [
           {
            "marker": {
             "line": {
              "color": "#283442"
             }
            },
            "type": "scatter"
           }
          ],
          "parcoords": [
           {
            "type": "parcoords",
            "line": {
             "colorbar": {
              "outlinewidth": 0,
              "ticks": ""
             }
            }
           }
          ],
          "scatterpolargl": [
           {
            "type": "scatterpolargl",
            "marker": {
             "colorbar": {
              "outlinewidth": 0,
              "ticks": ""
             }
            }
           }
          ],
          "bar": [
           {
            "error_x": {
             "color": "#f2f5fa"
            },
            "error_y": {
             "color": "#f2f5fa"
            },
            "marker": {
             "line": {
              "color": "rgb(17,17,17)",
              "width": 0.5
             },
             "pattern": {
              "fillmode": "overlay",
              "size": 10,
              "solidity": 0.2
             }
            },
            "type": "bar"
           }
          ],
          "scattergeo": [
           {
            "type": "scattergeo",
            "marker": {
             "colorbar": {
              "outlinewidth": 0,
              "ticks": ""
             }
            }
           }
          ],
          "scatterpolar": [
           {
            "type": "scatterpolar",
            "marker": {
             "colorbar": {
              "outlinewidth": 0,
              "ticks": ""
             }
            }
           }
          ],
          "histogram": [
           {
            "marker": {
             "pattern": {
              "fillmode": "overlay",
              "size": 10,
              "solidity": 0.2
             }
            },
            "type": "histogram"
           }
          ],
          "scattergl": [
           {
            "marker": {
             "line": {
              "color": "#283442"
             }
            },
            "type": "scattergl"
           }
          ],
          "scatter3d": [
           {
            "type": "scatter3d",
            "line": {
             "colorbar": {
              "outlinewidth": 0,
              "ticks": ""
             }
            },
            "marker": {
             "colorbar": {
              "outlinewidth": 0,
              "ticks": ""
             }
            }
           }
          ],
          "scattermap": [
           {
            "type": "scattermap",
            "marker": {
             "colorbar": {
              "outlinewidth": 0,
              "ticks": ""
             }
            }
           }
          ],
          "scattermapbox": [
           {
            "type": "scattermapbox",
            "marker": {
             "colorbar": {
              "outlinewidth": 0,
              "ticks": ""
             }
            }
           }
          ],
          "scatterternary": [
           {
            "type": "scatterternary",
            "marker": {
             "colorbar": {
              "outlinewidth": 0,
              "ticks": ""
             }
            }
           }
          ],
          "scattercarpet": [
           {
            "type": "scattercarpet",
            "marker": {
             "colorbar": {
              "outlinewidth": 0,
              "ticks": ""
             }
            }
           }
          ],
          "carpet": [
           {
            "aaxis": {
             "endlinecolor": "#A2B1C6",
             "gridcolor": "#506784",
             "linecolor": "#506784",
             "minorgridcolor": "#506784",
             "startlinecolor": "#A2B1C6"
            },
            "baxis": {
             "endlinecolor": "#A2B1C6",
             "gridcolor": "#506784",
             "linecolor": "#506784",
             "minorgridcolor": "#506784",
             "startlinecolor": "#A2B1C6"
            },
            "type": "carpet"
           }
          ],
          "table": [
           {
            "cells": {
             "fill": {
              "color": "#506784"
             },
             "line": {
              "color": "rgb(17,17,17)"
             }
            },
            "header": {
             "fill": {
              "color": "#2a3f5f"
             },
             "line": {
              "color": "rgb(17,17,17)"
             }
            },
            "type": "table"
           }
          ],
          "barpolar": [
           {
            "marker": {
             "line": {
              "color": "rgb(17,17,17)",
              "width": 0.5
             },
             "pattern": {
              "fillmode": "overlay",
              "size": 10,
              "solidity": 0.2
             }
            },
            "type": "barpolar"
           }
          ],
          "pie": [
           {
            "automargin": true,
            "type": "pie"
           }
          ]
         },
         "layout": {
          "autotypenumbers": "strict",
          "colorway": [
           "#636efa",
           "#EF553B",
           "#00cc96",
           "#ab63fa",
           "#FFA15A",
           "#19d3f3",
           "#FF6692",
           "#B6E880",
           "#FF97FF",
           "#FECB52"
          ],
          "font": {
           "color": "#f2f5fa"
          },
          "hovermode": "closest",
          "hoverlabel": {
           "align": "left"
          },
          "paper_bgcolor": "rgb(17,17,17)",
          "plot_bgcolor": "rgb(17,17,17)",
          "polar": {
           "bgcolor": "rgb(17,17,17)",
           "angularaxis": {
            "gridcolor": "#506784",
            "linecolor": "#506784",
            "ticks": ""
           },
           "radialaxis": {
            "gridcolor": "#506784",
            "linecolor": "#506784",
            "ticks": ""
           }
          },
          "ternary": {
           "bgcolor": "rgb(17,17,17)",
           "aaxis": {
            "gridcolor": "#506784",
            "linecolor": "#506784",
            "ticks": ""
           },
           "baxis": {
            "gridcolor": "#506784",
            "linecolor": "#506784",
            "ticks": ""
           },
           "caxis": {
            "gridcolor": "#506784",
            "linecolor": "#506784",
            "ticks": ""
           }
          },
          "coloraxis": {
           "colorbar": {
            "outlinewidth": 0,
            "ticks": ""
           }
          },
          "colorscale": {
           "sequential": [
            [
             0.0,
             "#0d0887"
            ],
            [
             0.1111111111111111,
             "#46039f"
            ],
            [
             0.2222222222222222,
             "#7201a8"
            ],
            [
             0.3333333333333333,
             "#9c179e"
            ],
            [
             0.4444444444444444,
             "#bd3786"
            ],
            [
             0.5555555555555556,
             "#d8576b"
            ],
            [
             0.6666666666666666,
             "#ed7953"
            ],
            [
             0.7777777777777778,
             "#fb9f3a"
            ],
            [
             0.8888888888888888,
             "#fdca26"
            ],
            [
             1.0,
             "#f0f921"
            ]
           ],
           "sequentialminus": [
            [
             0.0,
             "#0d0887"
            ],
            [
             0.1111111111111111,
             "#46039f"
            ],
            [
             0.2222222222222222,
             "#7201a8"
            ],
            [
             0.3333333333333333,
             "#9c179e"
            ],
            [
             0.4444444444444444,
             "#bd3786"
            ],
            [
             0.5555555555555556,
             "#d8576b"
            ],
            [
             0.6666666666666666,
             "#ed7953"
            ],
            [
             0.7777777777777778,
             "#fb9f3a"
            ],
            [
             0.8888888888888888,
             "#fdca26"
            ],
            [
             1.0,
             "#f0f921"
            ]
           ],
           "diverging": [
            [
             0,
             "#8e0152"
            ],
            [
             0.1,
             "#c51b7d"
            ],
            [
             0.2,
             "#de77ae"
            ],
            [
             0.3,
             "#f1b6da"
            ],
            [
             0.4,
             "#fde0ef"
            ],
            [
             0.5,
             "#f7f7f7"
            ],
            [
             0.6,
             "#e6f5d0"
            ],
            [
             0.7,
             "#b8e186"
            ],
            [
             0.8,
             "#7fbc41"
            ],
            [
             0.9,
             "#4d9221"
            ],
            [
             1,
             "#276419"
            ]
           ]
          },
          "xaxis": {
           "gridcolor": "#283442",
           "linecolor": "#506784",
           "ticks": "",
           "title": {
            "standoff": 15
           },
           "zerolinecolor": "#283442",
           "automargin": true,
           "zerolinewidth": 2
          },
          "yaxis": {
           "gridcolor": "#283442",
           "linecolor": "#506784",
           "ticks": "",
           "title": {
            "standoff": 15
           },
           "zerolinecolor": "#283442",
           "automargin": true,
           "zerolinewidth": 2
          },
          "scene": {
           "xaxis": {
            "backgroundcolor": "rgb(17,17,17)",
            "gridcolor": "#506784",
            "linecolor": "#506784",
            "showbackground": true,
            "ticks": "",
            "zerolinecolor": "#C8D4E3",
            "gridwidth": 2
           },
           "yaxis": {
            "backgroundcolor": "rgb(17,17,17)",
            "gridcolor": "#506784",
            "linecolor": "#506784",
            "showbackground": true,
            "ticks": "",
            "zerolinecolor": "#C8D4E3",
            "gridwidth": 2
           },
           "zaxis": {
            "backgroundcolor": "rgb(17,17,17)",
            "gridcolor": "#506784",
            "linecolor": "#506784",
            "showbackground": true,
            "ticks": "",
            "zerolinecolor": "#C8D4E3",
            "gridwidth": 2
           }
          },
          "shapedefaults": {
           "line": {
            "color": "#f2f5fa"
           }
          },
          "annotationdefaults": {
           "arrowcolor": "#f2f5fa",
           "arrowhead": 0,
           "arrowwidth": 1
          },
          "geo": {
           "bgcolor": "rgb(17,17,17)",
           "landcolor": "rgb(17,17,17)",
           "subunitcolor": "#506784",
           "showland": true,
           "showlakes": true,
           "lakecolor": "rgb(17,17,17)"
          },
          "title": {
           "x": 0.05
          },
          "updatemenudefaults": {
           "bgcolor": "#506784",
           "borderwidth": 0
          },
          "sliderdefaults": {
           "bgcolor": "#C8D4E3",
           "borderwidth": 1,
           "bordercolor": "rgb(17,17,17)",
           "tickwidth": 0
          },
          "mapbox": {
           "style": "dark"
          }
         }
        },
        "xaxis": {
         "anchor": "y",
         "domain": [
          0.0,
          1.0
         ]
        },
        "yaxis": {
         "anchor": "x",
         "domain": [
          0.0,
          1.0
         ],
         "autorange": "reversed"
        },
        "coloraxis": {
         "colorbar": {
          "title": {
           "text": "Cosine Distance"
          }
         },
         "colorscale": [
          [
           0.0,
           "rgb(103,0,31)"
          ],
          [
           0.1,
           "rgb(178,24,43)"
          ],
          [
           0.2,
           "rgb(214,96,77)"
          ],
          [
           0.3,
           "rgb(244,165,130)"
          ],
          [
           0.4,
           "rgb(253,219,199)"
          ],
          [
           0.5,
           "rgb(247,247,247)"
          ],
          [
           0.6,
           "rgb(209,229,240)"
          ],
          [
           0.7,
           "rgb(146,197,222)"
          ],
          [
           0.8,
           "rgb(67,147,195)"
          ],
          [
           0.9,
           "rgb(33,102,172)"
          ],
          [
           1.0,
           "rgb(5,48,97)"
          ]
         ]
        },
        "title": {
         "text": "Cosine Distance between Emotions"
        }
       },
       "config": {
        "plotlyServerURL": "https://plot.ly"
       }
      }
     },
     "metadata": {},
     "output_type": "display_data"
    }
   ],
   "execution_count": 160
  },
  {
   "metadata": {
    "ExecuteTime": {
     "end_time": "2025-08-22T01:06:34.374617Z",
     "start_time": "2025-08-22T01:06:34.266987Z"
    }
   },
   "cell_type": "code",
   "source": [
    "# put all the numbers in pandas df then plot\n",
    "df2 = DataFrame(index=emotions, columns=emotions)\n",
    "for p in combinations(emotions, r=2):\n",
    "    df2[p[0]][p[1]] = cdist(sum(emo_embs[p[0]], 1), sum(emo_embs[p[1]], 1), p=2).squeeze().item()\n",
    "    df2[p[1]][p[0]] = cdist(sum(emo_embs[p[1]], 1), sum(emo_embs[p[0]], 1), p=2).squeeze().item()\n",
    "\n",
    "fig2 = px.imshow(df2, title=\"Euclidean Distance between Emotions\", labels=dict(color=\"Euclidean Distance\"),\n",
    "                 text_auto=True, aspect=\"auto\", color_continuous_scale='RdBu')\n",
    "fig2.show()"
   ],
   "id": "cad710bbf7bf22f4",
   "outputs": [
    {
     "data": {
      "application/vnd.plotly.v1+json": {
       "data": [
        {
         "coloraxis": "coloraxis",
         "name": "0",
         "texttemplate": "%{z}",
         "x": [
          "happy",
          "elated",
          "peaceful",
          "calm",
          "content",
          "relaxed",
          "sad",
          "anxious",
          "fearful",
          "scared",
          "depressed",
          "lonely",
          "bitter",
          "jealous",
          "angry",
          "guilty",
          "passionate",
          "brave",
          "confident"
         ],
         "y": [
          "happy",
          "elated",
          "peaceful",
          "calm",
          "content",
          "relaxed",
          "sad",
          "anxious",
          "fearful",
          "scared",
          "depressed",
          "lonely",
          "bitter",
          "jealous",
          "angry",
          "guilty",
          "passionate",
          "brave",
          "confident"
         ],
         "z": [
          [
           null,
           2.922785758972168,
           2.1715176105499268,
           2.1030538082122803,
           2.190687894821167,
           2.109285354614258,
           2.0164406299591064,
           2.6545960903167725,
           2.744584321975708,
           2.1226043701171875,
           2.714607000350952,
           2.1073460578918457,
           2.2111992835998535,
           2.7698893547058105,
           1.8836708068847656,
           2.254176378250122,
           2.6292803287506104,
           2.1319894790649414,
           2.0346643924713135
          ],
          [
           2.922785758972168,
           null,
           3.291893720626831,
           3.0689382553100586,
           2.8085265159606934,
           3.144939661026001,
           2.8890933990478516,
           2.944986581802368,
           3.3822453022003174,
           3.2189292907714844,
           3.242658853530884,
           3.1563985347747803,
           3.2870731353759766,
           3.2143516540527344,
           3.0143258571624756,
           3.341740131378174,
           2.881408929824829,
           3.117797613143921,
           3.0504841804504395
          ],
          [
           2.1715176105499268,
           3.291893720626831,
           null,
           1.8538960218429565,
           2.5442593097686768,
           1.9367337226867676,
           2.269886016845703,
           2.9303009510040283,
           2.8519153594970703,
           2.058788537979126,
           2.8934290409088135,
           2.087965250015259,
           2.143892765045166,
           2.9725663661956787,
           2.0214931964874268,
           2.1675517559051514,
           2.793980121612549,
           2.123033285140991,
           2.0990593433380127
          ],
          [
           2.1030538082122803,
           3.0689382553100586,
           1.8538960218429565,
           null,
           2.309659242630005,
           1.8991672992706299,
           2.114664077758789,
           2.7262940406799316,
           2.7584495544433594,
           2.095673084259033,
           2.781320571899414,
           2.098707675933838,
           2.14228892326355,
           2.852358102798462,
           1.9752540588378906,
           2.212848663330078,
           2.6353249549865723,
           2.0732014179229736,
           2.019761800765991
          ],
          [
           2.190687894821167,
           2.8085265159606934,
           2.5442593097686768,
           2.309659242630005,
           null,
           2.393984794616699,
           2.2615222930908203,
           2.7482285499572754,
           2.895418882369995,
           2.5075132846832275,
           2.8762638568878174,
           2.434088706970215,
           2.5075063705444336,
           2.8548741340637207,
           2.3098390102386475,
           2.5905661582946777,
           2.733661651611328,
           2.4323620796203613,
           2.3105812072753906
          ],
          [
           2.109285354614258,
           3.144939661026001,
           1.9367337226867676,
           1.8991672992706299,
           2.393984794616699,
           null,
           2.2156524658203125,
           2.823286771774292,
           2.8450536727905273,
           2.1414239406585693,
           2.826615333557129,
           2.1069796085357666,
           2.193436622619629,
           2.865583658218384,
           2.074578046798706,
           2.211888313293457,
           2.7117063999176025,
           2.1442344188690186,
           1.998839259147644
          ],
          [
           2.0164406299591064,
           2.8890933990478516,
           2.269886016845703,
           2.114664077758789,
           2.2615222930908203,
           2.2156524658203125,
           null,
           2.6925294399261475,
           2.758521318435669,
           2.1288342475891113,
           2.6761715412139893,
           2.095597743988037,
           2.219156503677368,
           2.7892093658447266,
           2.012683629989624,
           2.2977588176727295,
           2.6710572242736816,
           2.2006943225860596,
           2.171987295150757
          ],
          [
           2.6545960903167725,
           2.944986581802368,
           2.9303009510040283,
           2.7262940406799316,
           2.7482285499572754,
           2.823286771774292,
           2.6925294399261475,
           null,
           3.009636878967285,
           2.8115320205688477,
           3.0873639583587646,
           2.7955944538116455,
           2.906667709350586,
           3.0690903663635254,
           2.6603074073791504,
           2.9589836597442627,
           3.0465898513793945,
           2.820909261703491,
           2.712186336517334
          ],
          [
           2.744584321975708,
           3.3822453022003174,
           2.8519153594970703,
           2.7584495544433594,
           2.895418882369995,
           2.8450536727905273,
           2.758521318435669,
           3.009636878967285,
           null,
           2.6132278442382812,
           3.205214023590088,
           2.822482109069824,
           2.8801722526550293,
           3.2778875827789307,
           2.7335057258605957,
           2.934494972229004,
           3.0921146869659424,
           2.8352386951446533,
           2.7257659435272217
          ],
          [
           2.1226043701171875,
           3.2189292907714844,
           2.058788537979126,
           2.095673084259033,
           2.5075132846832275,
           2.1414239406585693,
           2.1288342475891113,
           2.8115320205688477,
           2.6132278442382812,
           null,
           2.8436360359191895,
           2.061490297317505,
           2.1682231426239014,
           2.8515000343322754,
           1.9128150939941406,
           2.1309690475463867,
           2.7585153579711914,
           2.046260118484497,
           2.0620739459991455
          ],
          [
           2.714607000350952,
           3.242658853530884,
           2.8934290409088135,
           2.781320571899414,
           2.8762638568878174,
           2.826615333557129,
           2.6761715412139893,
           3.0873639583587646,
           3.205214023590088,
           2.8436360359191895,
           null,
           2.7873191833496094,
           2.9263241291046143,
           3.2203338146209717,
           2.7276740074157715,
           2.954568862915039,
           3.151263475418091,
           2.864332675933838,
           2.7866363525390625
          ],
          [
           2.1073460578918457,
           3.1563985347747803,
           2.087965250015259,
           2.098707675933838,
           2.434088706970215,
           2.1069796085357666,
           2.095597743988037,
           2.7955944538116455,
           2.822482109069824,
           2.061490297317505,
           2.7873191833496094,
           null,
           2.1427114009857178,
           2.8682034015655518,
           1.95352041721344,
           2.1756680011749268,
           2.733215570449829,
           2.083543062210083,
           2.117109775543213
          ],
          [
           2.2111992835998535,
           3.2870731353759766,
           2.143892765045166,
           2.14228892326355,
           2.5075063705444336,
           2.193436622619629,
           2.219156503677368,
           2.906667709350586,
           2.8801722526550293,
           2.1682231426239014,
           2.9263241291046143,
           2.1427114009857178,
           null,
           2.9162285327911377,
           1.9794176816940308,
           2.2217373847961426,
           2.769282579421997,
           2.164991617202759,
           2.1928999423980713
          ],
          [
           2.7698893547058105,
           3.2143516540527344,
           2.9725663661956787,
           2.852358102798462,
           2.8548741340637207,
           2.865583658218384,
           2.7892093658447266,
           3.0690903663635254,
           3.2778875827789307,
           2.8515000343322754,
           3.2203338146209717,
           2.8682034015655518,
           2.9162285327911377,
           null,
           2.73994779586792,
           2.945770025253296,
           3.0586111545562744,
           2.858949661254883,
           2.8049142360687256
          ],
          [
           1.8836708068847656,
           3.0143258571624756,
           2.0214931964874268,
           1.9752540588378906,
           2.3098390102386475,
           2.074578046798706,
           2.012683629989624,
           2.6603074073791504,
           2.7335057258605957,
           1.9128150939941406,
           2.7276740074157715,
           1.95352041721344,
           1.9794176816940308,
           2.73994779586792,
           null,
           2.069660186767578,
           2.5659282207489014,
           1.9801998138427734,
           1.969745397567749
          ],
          [
           2.254176378250122,
           3.341740131378174,
           2.1675517559051514,
           2.212848663330078,
           2.5905661582946777,
           2.211888313293457,
           2.2977588176727295,
           2.9589836597442627,
           2.934494972229004,
           2.1309690475463867,
           2.954568862915039,
           2.1756680011749268,
           2.2217373847961426,
           2.945770025253296,
           2.069660186767578,
           null,
           2.8417129516601562,
           2.20721697807312,
           2.2206974029541016
          ],
          [
           2.6292803287506104,
           2.881408929824829,
           2.793980121612549,
           2.6353249549865723,
           2.733661651611328,
           2.7117063999176025,
           2.6710572242736816,
           3.0465898513793945,
           3.0921146869659424,
           2.7585153579711914,
           3.151263475418091,
           2.733215570449829,
           2.769282579421997,
           3.0586111545562744,
           2.5659282207489014,
           2.8417129516601562,
           null,
           2.6910696029663086,
           2.615077495574951
          ],
          [
           2.1319894790649414,
           3.117797613143921,
           2.123033285140991,
           2.0732014179229736,
           2.4323620796203613,
           2.1442344188690186,
           2.2006943225860596,
           2.820909261703491,
           2.8352386951446533,
           2.046260118484497,
           2.864332675933838,
           2.083543062210083,
           2.164991617202759,
           2.858949661254883,
           1.9801998138427734,
           2.20721697807312,
           2.6910696029663086,
           null,
           2.026125431060791
          ],
          [
           2.0346643924713135,
           3.0504841804504395,
           2.0990593433380127,
           2.019761800765991,
           2.3105812072753906,
           1.998839259147644,
           2.171987295150757,
           2.712186336517334,
           2.7257659435272217,
           2.0620739459991455,
           2.7866363525390625,
           2.117109775543213,
           2.1928999423980713,
           2.8049142360687256,
           1.969745397567749,
           2.2206974029541016,
           2.615077495574951,
           2.026125431060791,
           null
          ]
         ],
         "type": "heatmap",
         "xaxis": "x",
         "yaxis": "y",
         "hovertemplate": "x: %{x}<br>y: %{y}<br>Euclidean Distance: %{z}<extra></extra>"
        }
       ],
       "layout": {
        "template": {
         "data": {
          "histogram2dcontour": [
           {
            "type": "histogram2dcontour",
            "colorbar": {
             "outlinewidth": 0,
             "ticks": ""
            },
            "colorscale": [
             [
              0.0,
              "#0d0887"
             ],
             [
              0.1111111111111111,
              "#46039f"
             ],
             [
              0.2222222222222222,
              "#7201a8"
             ],
             [
              0.3333333333333333,
              "#9c179e"
             ],
             [
              0.4444444444444444,
              "#bd3786"
             ],
             [
              0.5555555555555556,
              "#d8576b"
             ],
             [
              0.6666666666666666,
              "#ed7953"
             ],
             [
              0.7777777777777778,
              "#fb9f3a"
             ],
             [
              0.8888888888888888,
              "#fdca26"
             ],
             [
              1.0,
              "#f0f921"
             ]
            ]
           }
          ],
          "choropleth": [
           {
            "type": "choropleth",
            "colorbar": {
             "outlinewidth": 0,
             "ticks": ""
            }
           }
          ],
          "histogram2d": [
           {
            "type": "histogram2d",
            "colorbar": {
             "outlinewidth": 0,
             "ticks": ""
            },
            "colorscale": [
             [
              0.0,
              "#0d0887"
             ],
             [
              0.1111111111111111,
              "#46039f"
             ],
             [
              0.2222222222222222,
              "#7201a8"
             ],
             [
              0.3333333333333333,
              "#9c179e"
             ],
             [
              0.4444444444444444,
              "#bd3786"
             ],
             [
              0.5555555555555556,
              "#d8576b"
             ],
             [
              0.6666666666666666,
              "#ed7953"
             ],
             [
              0.7777777777777778,
              "#fb9f3a"
             ],
             [
              0.8888888888888888,
              "#fdca26"
             ],
             [
              1.0,
              "#f0f921"
             ]
            ]
           }
          ],
          "heatmap": [
           {
            "type": "heatmap",
            "colorbar": {
             "outlinewidth": 0,
             "ticks": ""
            },
            "colorscale": [
             [
              0.0,
              "#0d0887"
             ],
             [
              0.1111111111111111,
              "#46039f"
             ],
             [
              0.2222222222222222,
              "#7201a8"
             ],
             [
              0.3333333333333333,
              "#9c179e"
             ],
             [
              0.4444444444444444,
              "#bd3786"
             ],
             [
              0.5555555555555556,
              "#d8576b"
             ],
             [
              0.6666666666666666,
              "#ed7953"
             ],
             [
              0.7777777777777778,
              "#fb9f3a"
             ],
             [
              0.8888888888888888,
              "#fdca26"
             ],
             [
              1.0,
              "#f0f921"
             ]
            ]
           }
          ],
          "contourcarpet": [
           {
            "type": "contourcarpet",
            "colorbar": {
             "outlinewidth": 0,
             "ticks": ""
            }
           }
          ],
          "contour": [
           {
            "type": "contour",
            "colorbar": {
             "outlinewidth": 0,
             "ticks": ""
            },
            "colorscale": [
             [
              0.0,
              "#0d0887"
             ],
             [
              0.1111111111111111,
              "#46039f"
             ],
             [
              0.2222222222222222,
              "#7201a8"
             ],
             [
              0.3333333333333333,
              "#9c179e"
             ],
             [
              0.4444444444444444,
              "#bd3786"
             ],
             [
              0.5555555555555556,
              "#d8576b"
             ],
             [
              0.6666666666666666,
              "#ed7953"
             ],
             [
              0.7777777777777778,
              "#fb9f3a"
             ],
             [
              0.8888888888888888,
              "#fdca26"
             ],
             [
              1.0,
              "#f0f921"
             ]
            ]
           }
          ],
          "surface": [
           {
            "type": "surface",
            "colorbar": {
             "outlinewidth": 0,
             "ticks": ""
            },
            "colorscale": [
             [
              0.0,
              "#0d0887"
             ],
             [
              0.1111111111111111,
              "#46039f"
             ],
             [
              0.2222222222222222,
              "#7201a8"
             ],
             [
              0.3333333333333333,
              "#9c179e"
             ],
             [
              0.4444444444444444,
              "#bd3786"
             ],
             [
              0.5555555555555556,
              "#d8576b"
             ],
             [
              0.6666666666666666,
              "#ed7953"
             ],
             [
              0.7777777777777778,
              "#fb9f3a"
             ],
             [
              0.8888888888888888,
              "#fdca26"
             ],
             [
              1.0,
              "#f0f921"
             ]
            ]
           }
          ],
          "mesh3d": [
           {
            "type": "mesh3d",
            "colorbar": {
             "outlinewidth": 0,
             "ticks": ""
            }
           }
          ],
          "scatter": [
           {
            "marker": {
             "line": {
              "color": "#283442"
             }
            },
            "type": "scatter"
           }
          ],
          "parcoords": [
           {
            "type": "parcoords",
            "line": {
             "colorbar": {
              "outlinewidth": 0,
              "ticks": ""
             }
            }
           }
          ],
          "scatterpolargl": [
           {
            "type": "scatterpolargl",
            "marker": {
             "colorbar": {
              "outlinewidth": 0,
              "ticks": ""
             }
            }
           }
          ],
          "bar": [
           {
            "error_x": {
             "color": "#f2f5fa"
            },
            "error_y": {
             "color": "#f2f5fa"
            },
            "marker": {
             "line": {
              "color": "rgb(17,17,17)",
              "width": 0.5
             },
             "pattern": {
              "fillmode": "overlay",
              "size": 10,
              "solidity": 0.2
             }
            },
            "type": "bar"
           }
          ],
          "scattergeo": [
           {
            "type": "scattergeo",
            "marker": {
             "colorbar": {
              "outlinewidth": 0,
              "ticks": ""
             }
            }
           }
          ],
          "scatterpolar": [
           {
            "type": "scatterpolar",
            "marker": {
             "colorbar": {
              "outlinewidth": 0,
              "ticks": ""
             }
            }
           }
          ],
          "histogram": [
           {
            "marker": {
             "pattern": {
              "fillmode": "overlay",
              "size": 10,
              "solidity": 0.2
             }
            },
            "type": "histogram"
           }
          ],
          "scattergl": [
           {
            "marker": {
             "line": {
              "color": "#283442"
             }
            },
            "type": "scattergl"
           }
          ],
          "scatter3d": [
           {
            "type": "scatter3d",
            "line": {
             "colorbar": {
              "outlinewidth": 0,
              "ticks": ""
             }
            },
            "marker": {
             "colorbar": {
              "outlinewidth": 0,
              "ticks": ""
             }
            }
           }
          ],
          "scattermap": [
           {
            "type": "scattermap",
            "marker": {
             "colorbar": {
              "outlinewidth": 0,
              "ticks": ""
             }
            }
           }
          ],
          "scattermapbox": [
           {
            "type": "scattermapbox",
            "marker": {
             "colorbar": {
              "outlinewidth": 0,
              "ticks": ""
             }
            }
           }
          ],
          "scatterternary": [
           {
            "type": "scatterternary",
            "marker": {
             "colorbar": {
              "outlinewidth": 0,
              "ticks": ""
             }
            }
           }
          ],
          "scattercarpet": [
           {
            "type": "scattercarpet",
            "marker": {
             "colorbar": {
              "outlinewidth": 0,
              "ticks": ""
             }
            }
           }
          ],
          "carpet": [
           {
            "aaxis": {
             "endlinecolor": "#A2B1C6",
             "gridcolor": "#506784",
             "linecolor": "#506784",
             "minorgridcolor": "#506784",
             "startlinecolor": "#A2B1C6"
            },
            "baxis": {
             "endlinecolor": "#A2B1C6",
             "gridcolor": "#506784",
             "linecolor": "#506784",
             "minorgridcolor": "#506784",
             "startlinecolor": "#A2B1C6"
            },
            "type": "carpet"
           }
          ],
          "table": [
           {
            "cells": {
             "fill": {
              "color": "#506784"
             },
             "line": {
              "color": "rgb(17,17,17)"
             }
            },
            "header": {
             "fill": {
              "color": "#2a3f5f"
             },
             "line": {
              "color": "rgb(17,17,17)"
             }
            },
            "type": "table"
           }
          ],
          "barpolar": [
           {
            "marker": {
             "line": {
              "color": "rgb(17,17,17)",
              "width": 0.5
             },
             "pattern": {
              "fillmode": "overlay",
              "size": 10,
              "solidity": 0.2
             }
            },
            "type": "barpolar"
           }
          ],
          "pie": [
           {
            "automargin": true,
            "type": "pie"
           }
          ]
         },
         "layout": {
          "autotypenumbers": "strict",
          "colorway": [
           "#636efa",
           "#EF553B",
           "#00cc96",
           "#ab63fa",
           "#FFA15A",
           "#19d3f3",
           "#FF6692",
           "#B6E880",
           "#FF97FF",
           "#FECB52"
          ],
          "font": {
           "color": "#f2f5fa"
          },
          "hovermode": "closest",
          "hoverlabel": {
           "align": "left"
          },
          "paper_bgcolor": "rgb(17,17,17)",
          "plot_bgcolor": "rgb(17,17,17)",
          "polar": {
           "bgcolor": "rgb(17,17,17)",
           "angularaxis": {
            "gridcolor": "#506784",
            "linecolor": "#506784",
            "ticks": ""
           },
           "radialaxis": {
            "gridcolor": "#506784",
            "linecolor": "#506784",
            "ticks": ""
           }
          },
          "ternary": {
           "bgcolor": "rgb(17,17,17)",
           "aaxis": {
            "gridcolor": "#506784",
            "linecolor": "#506784",
            "ticks": ""
           },
           "baxis": {
            "gridcolor": "#506784",
            "linecolor": "#506784",
            "ticks": ""
           },
           "caxis": {
            "gridcolor": "#506784",
            "linecolor": "#506784",
            "ticks": ""
           }
          },
          "coloraxis": {
           "colorbar": {
            "outlinewidth": 0,
            "ticks": ""
           }
          },
          "colorscale": {
           "sequential": [
            [
             0.0,
             "#0d0887"
            ],
            [
             0.1111111111111111,
             "#46039f"
            ],
            [
             0.2222222222222222,
             "#7201a8"
            ],
            [
             0.3333333333333333,
             "#9c179e"
            ],
            [
             0.4444444444444444,
             "#bd3786"
            ],
            [
             0.5555555555555556,
             "#d8576b"
            ],
            [
             0.6666666666666666,
             "#ed7953"
            ],
            [
             0.7777777777777778,
             "#fb9f3a"
            ],
            [
             0.8888888888888888,
             "#fdca26"
            ],
            [
             1.0,
             "#f0f921"
            ]
           ],
           "sequentialminus": [
            [
             0.0,
             "#0d0887"
            ],
            [
             0.1111111111111111,
             "#46039f"
            ],
            [
             0.2222222222222222,
             "#7201a8"
            ],
            [
             0.3333333333333333,
             "#9c179e"
            ],
            [
             0.4444444444444444,
             "#bd3786"
            ],
            [
             0.5555555555555556,
             "#d8576b"
            ],
            [
             0.6666666666666666,
             "#ed7953"
            ],
            [
             0.7777777777777778,
             "#fb9f3a"
            ],
            [
             0.8888888888888888,
             "#fdca26"
            ],
            [
             1.0,
             "#f0f921"
            ]
           ],
           "diverging": [
            [
             0,
             "#8e0152"
            ],
            [
             0.1,
             "#c51b7d"
            ],
            [
             0.2,
             "#de77ae"
            ],
            [
             0.3,
             "#f1b6da"
            ],
            [
             0.4,
             "#fde0ef"
            ],
            [
             0.5,
             "#f7f7f7"
            ],
            [
             0.6,
             "#e6f5d0"
            ],
            [
             0.7,
             "#b8e186"
            ],
            [
             0.8,
             "#7fbc41"
            ],
            [
             0.9,
             "#4d9221"
            ],
            [
             1,
             "#276419"
            ]
           ]
          },
          "xaxis": {
           "gridcolor": "#283442",
           "linecolor": "#506784",
           "ticks": "",
           "title": {
            "standoff": 15
           },
           "zerolinecolor": "#283442",
           "automargin": true,
           "zerolinewidth": 2
          },
          "yaxis": {
           "gridcolor": "#283442",
           "linecolor": "#506784",
           "ticks": "",
           "title": {
            "standoff": 15
           },
           "zerolinecolor": "#283442",
           "automargin": true,
           "zerolinewidth": 2
          },
          "scene": {
           "xaxis": {
            "backgroundcolor": "rgb(17,17,17)",
            "gridcolor": "#506784",
            "linecolor": "#506784",
            "showbackground": true,
            "ticks": "",
            "zerolinecolor": "#C8D4E3",
            "gridwidth": 2
           },
           "yaxis": {
            "backgroundcolor": "rgb(17,17,17)",
            "gridcolor": "#506784",
            "linecolor": "#506784",
            "showbackground": true,
            "ticks": "",
            "zerolinecolor": "#C8D4E3",
            "gridwidth": 2
           },
           "zaxis": {
            "backgroundcolor": "rgb(17,17,17)",
            "gridcolor": "#506784",
            "linecolor": "#506784",
            "showbackground": true,
            "ticks": "",
            "zerolinecolor": "#C8D4E3",
            "gridwidth": 2
           }
          },
          "shapedefaults": {
           "line": {
            "color": "#f2f5fa"
           }
          },
          "annotationdefaults": {
           "arrowcolor": "#f2f5fa",
           "arrowhead": 0,
           "arrowwidth": 1
          },
          "geo": {
           "bgcolor": "rgb(17,17,17)",
           "landcolor": "rgb(17,17,17)",
           "subunitcolor": "#506784",
           "showland": true,
           "showlakes": true,
           "lakecolor": "rgb(17,17,17)"
          },
          "title": {
           "x": 0.05
          },
          "updatemenudefaults": {
           "bgcolor": "#506784",
           "borderwidth": 0
          },
          "sliderdefaults": {
           "bgcolor": "#C8D4E3",
           "borderwidth": 1,
           "bordercolor": "rgb(17,17,17)",
           "tickwidth": 0
          },
          "mapbox": {
           "style": "dark"
          }
         }
        },
        "xaxis": {
         "anchor": "y",
         "domain": [
          0.0,
          1.0
         ]
        },
        "yaxis": {
         "anchor": "x",
         "domain": [
          0.0,
          1.0
         ],
         "autorange": "reversed"
        },
        "coloraxis": {
         "colorbar": {
          "title": {
           "text": "Euclidean Distance"
          }
         },
         "colorscale": [
          [
           0.0,
           "rgb(103,0,31)"
          ],
          [
           0.1,
           "rgb(178,24,43)"
          ],
          [
           0.2,
           "rgb(214,96,77)"
          ],
          [
           0.3,
           "rgb(244,165,130)"
          ],
          [
           0.4,
           "rgb(253,219,199)"
          ],
          [
           0.5,
           "rgb(247,247,247)"
          ],
          [
           0.6,
           "rgb(209,229,240)"
          ],
          [
           0.7,
           "rgb(146,197,222)"
          ],
          [
           0.8,
           "rgb(67,147,195)"
          ],
          [
           0.9,
           "rgb(33,102,172)"
          ],
          [
           1.0,
           "rgb(5,48,97)"
          ]
         ]
        },
        "title": {
         "text": "Euclidean Distance between Emotions"
        }
       },
       "config": {
        "plotlyServerURL": "https://plot.ly"
       }
      }
     },
     "metadata": {},
     "output_type": "display_data"
    }
   ],
   "execution_count": 161
  },
  {
   "metadata": {
    "ExecuteTime": {
     "end_time": "2025-08-22T01:06:34.659896Z",
     "start_time": "2025-08-22T01:06:34.412535Z"
    }
   },
   "cell_type": "code",
   "source": "figures_to_html([fig1, fig2], filename=\"results/03.emotion_distances.html\")",
   "id": "16e3a3c1d6e8162f",
   "outputs": [],
   "execution_count": 162
  }
 ],
 "metadata": {
  "kernelspec": {
   "display_name": "Python 3",
   "language": "python",
   "name": "python3"
  },
  "language_info": {
   "codemirror_mode": {
    "name": "ipython",
    "version": 2
   },
   "file_extension": ".py",
   "mimetype": "text/x-python",
   "name": "python",
   "nbconvert_exporter": "python",
   "pygments_lexer": "ipython2",
   "version": "2.7.6"
  }
 },
 "nbformat": 4,
 "nbformat_minor": 5
}
