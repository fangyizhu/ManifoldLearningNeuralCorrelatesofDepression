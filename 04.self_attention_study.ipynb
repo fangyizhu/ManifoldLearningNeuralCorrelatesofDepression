{
 "cells": [
  {
   "cell_type": "code",
   "id": "initial_id",
   "metadata": {
    "collapsed": true,
    "ExecuteTime": {
     "end_time": "2025-08-15T19:47:39.056609Z",
     "start_time": "2025-08-15T19:47:34.755337Z"
    }
   },
   "source": [
    "import torch ## torch let's us create tensors and also provides helper functions\n",
    "import torch.nn as nn ## torch.nn gives us nn.module() and nn.Linear()\n",
    "import torch.nn.functional as F # This gives us the softmax()"
   ],
   "outputs": [],
   "execution_count": 2
  },
  {
   "metadata": {
    "ExecuteTime": {
     "end_time": "2025-08-15T19:47:39.079585Z",
     "start_time": "2025-08-15T19:47:39.069043Z"
    }
   },
   "cell_type": "code",
   "source": [
    "# Ripped off from https://learn.deeplearning.ai/courses/attention-in-transformers-concepts-and-code-in-pytorch/lesson/kxluu/coding-self-attention-in-pytorch\n",
    "class SelfAttention(nn.Module):\n",
    "\n",
    "    def __init__(self, d_model=2,\n",
    "                 row_dim=0,\n",
    "                 col_dim=1):\n",
    "        ## d_model = the number of embedding values per token.\n",
    "        ##           Because we want to be able to do the math by hand, we've\n",
    "        ##           the default value for d_model=2.\n",
    "        ##           However, in \"Attention Is All You Need\" d_model=512\n",
    "        ##\n",
    "        ## row_dim, col_dim = the indices we should use to access rows or columns\n",
    "\n",
    "\n",
    "        super().__init__()\n",
    "\n",
    "        ## Initialize the Weights (W) that we'll use to create the\n",
    "        ## query (q), key (k) and value (v) for each token\n",
    "        ## NOTE: A lot of implementations include bias terms when\n",
    "        ##       creating the the queries, keys, and values, but\n",
    "        ##       the original manuscript that described Attention,\n",
    "        ##       \"Attention Is All You Need\" did not, so we won't either\n",
    "        self.W_q = nn.Linear(in_features=d_model, out_features=d_model, bias=False)\n",
    "        self.W_k = nn.Linear(in_features=d_model, out_features=d_model, bias=False)\n",
    "        self.W_v = nn.Linear(in_features=d_model, out_features=d_model, bias=False)\n",
    "\n",
    "        self.row_dim = row_dim\n",
    "        self.col_dim = col_dim\n",
    "\n",
    "\n",
    "    def forward(self, token_encodings):\n",
    "        ## Create the query, key and values using the encoding numbers\n",
    "        ## associated with each token (token encodings)\n",
    "        q = self.W_q(token_encodings)\n",
    "        k = self.W_k(token_encodings)\n",
    "        v = self.W_v(token_encodings)\n",
    "\n",
    "        ## Compute similarities scores: (q * k^T)\n",
    "        sims = torch.matmul(q, k.transpose(dim0=self.row_dim, dim1=self.col_dim))\n",
    "\n",
    "        ## Scale the similarities by dividing by sqrt(k.col_dim)\n",
    "        scaled_sims = sims / torch.tensor(k.size(self.col_dim)**0.5)\n",
    "\n",
    "        ## Apply softmax to determine what percent of each tokens' value to\n",
    "        ## use in the final attention values.\n",
    "        attention_percents = F.softmax(scaled_sims, dim=self.col_dim)\n",
    "\n",
    "        ## Scale the values by their associated percentages and add them up.\n",
    "        attention_scores = torch.matmul(attention_percents, v)\n",
    "\n",
    "        return attention_scores"
   ],
   "id": "feb8e85bf265635",
   "outputs": [],
   "execution_count": 3
  },
  {
   "metadata": {
    "ExecuteTime": {
     "end_time": "2025-08-15T19:47:39.181524Z",
     "start_time": "2025-08-15T19:47:39.093108Z"
    }
   },
   "cell_type": "code",
   "source": [
    "## create a matrix of token encodings...\n",
    "encodings_matrix = torch.tensor([[1.16, 0.23],\n",
    "                                 [0.57, 1.36],\n",
    "                                 [4.41, -2.16]])\n",
    "\n",
    "## set the seed for the random number generator\n",
    "torch.manual_seed(42)\n",
    "\n",
    "## create a basic self-attention object\n",
    "selfAttention = SelfAttention(d_model=2,\n",
    "                               row_dim=0,\n",
    "                               col_dim=1)\n",
    "\n",
    "## calculate basic attention for the token encodings\n",
    "print(selfAttention(encodings_matrix))"
   ],
   "id": "f25afa7a3b27d0cc",
   "outputs": [
    {
     "name": "stdout",
     "output_type": "stream",
     "text": [
      "tensor([[1.0100, 1.0641],\n",
      "        [0.2040, 0.7057],\n",
      "        [3.4989, 2.2427]], grad_fn=<MmBackward0>)\n"
     ]
    }
   ],
   "execution_count": 4
  },
  {
   "metadata": {
    "ExecuteTime": {
     "end_time": "2025-08-15T19:47:39.231119Z",
     "start_time": "2025-08-15T19:47:39.223967Z"
    }
   },
   "cell_type": "code",
   "source": [
    "## print out the weight matrix that creates the queries\n",
    "print(selfAttention.W_q.weight.transpose(0, 1))"
   ],
   "id": "6fd96d4742babd28",
   "outputs": [
    {
     "name": "stdout",
     "output_type": "stream",
     "text": [
      "tensor([[ 0.5406, -0.1657],\n",
      "        [ 0.5869,  0.6496]], grad_fn=<TransposeBackward0>)\n"
     ]
    }
   ],
   "execution_count": 5
  },
  {
   "metadata": {
    "ExecuteTime": {
     "end_time": "2025-08-15T19:47:39.268058Z",
     "start_time": "2025-08-15T19:47:39.263878Z"
    }
   },
   "cell_type": "code",
   "source": [
    "## print out the weight matrix that creates the values\n",
    "print(selfAttention.W_v.weight.transpose(0, 1))"
   ],
   "id": "5fd15085d173c6b2",
   "outputs": [
    {
     "name": "stdout",
     "output_type": "stream",
     "text": [
      "tensor([[ 0.6233,  0.6146],\n",
      "        [-0.5188,  0.1323]], grad_fn=<TransposeBackward0>)\n"
     ]
    }
   ],
   "execution_count": 6
  },
  {
   "metadata": {
    "ExecuteTime": {
     "end_time": "2025-08-15T19:47:39.293333Z",
     "start_time": "2025-08-15T19:47:39.288827Z"
    }
   },
   "cell_type": "code",
   "source": [
    "## calculate the queries\n",
    "print(selfAttention.W_q(encodings_matrix))"
   ],
   "id": "3d673ee0c19a0225",
   "outputs": [
    {
     "name": "stdout",
     "output_type": "stream",
     "text": [
      "tensor([[ 0.7621, -0.0428],\n",
      "        [ 1.1063,  0.7890],\n",
      "        [ 1.1164, -2.1336]], grad_fn=<MmBackward0>)\n"
     ]
    }
   ],
   "execution_count": 7
  },
  {
   "metadata": {
    "ExecuteTime": {
     "end_time": "2025-08-15T19:47:39.330768Z",
     "start_time": "2025-08-15T19:47:39.326064Z"
    }
   },
   "cell_type": "code",
   "source": [
    "## calculate the keys\n",
    "print(selfAttention.W_k(encodings_matrix))"
   ],
   "id": "7b6763cd62de188b",
   "outputs": [
    {
     "name": "stdout",
     "output_type": "stream",
     "text": [
      "tensor([[-0.1469, -0.3038],\n",
      "        [ 0.1057,  0.3685],\n",
      "        [-0.9914, -2.4152]], grad_fn=<MmBackward0>)\n"
     ]
    }
   ],
   "execution_count": 8
  },
  {
   "metadata": {
    "ExecuteTime": {
     "end_time": "2025-08-15T19:47:39.365125Z",
     "start_time": "2025-08-15T19:47:39.360217Z"
    }
   },
   "cell_type": "code",
   "source": [
    "q = selfAttention.W_q(encodings_matrix)\n",
    "print(q)"
   ],
   "id": "c16cf6cdd40cf566",
   "outputs": [
    {
     "name": "stdout",
     "output_type": "stream",
     "text": [
      "tensor([[ 0.7621, -0.0428],\n",
      "        [ 1.1063,  0.7890],\n",
      "        [ 1.1164, -2.1336]], grad_fn=<MmBackward0>)\n"
     ]
    }
   ],
   "execution_count": 9
  },
  {
   "metadata": {
    "ExecuteTime": {
     "end_time": "2025-08-15T19:47:39.391397Z",
     "start_time": "2025-08-15T19:47:39.386767Z"
    }
   },
   "cell_type": "code",
   "source": [
    "k = selfAttention.W_k(encodings_matrix)\n",
    "print(k)"
   ],
   "id": "c657ea076ff4ffdd",
   "outputs": [
    {
     "name": "stdout",
     "output_type": "stream",
     "text": [
      "tensor([[-0.1469, -0.3038],\n",
      "        [ 0.1057,  0.3685],\n",
      "        [-0.9914, -2.4152]], grad_fn=<MmBackward0>)\n"
     ]
    }
   ],
   "execution_count": 10
  },
  {
   "metadata": {
    "ExecuteTime": {
     "end_time": "2025-08-15T19:47:39.413789Z",
     "start_time": "2025-08-15T19:47:39.409214Z"
    }
   },
   "cell_type": "code",
   "source": [
    "sims = torch.matmul(q, k.transpose(dim0=0, dim1=1))\n",
    "print(sims)"
   ],
   "id": "4984eb1598cc9bf9",
   "outputs": [
    {
     "name": "stdout",
     "output_type": "stream",
     "text": [
      "tensor([[-0.0990,  0.0648, -0.6523],\n",
      "        [-0.4022,  0.4078, -3.0024],\n",
      "        [ 0.4842, -0.6683,  4.0461]], grad_fn=<MmBackward0>)\n"
     ]
    }
   ],
   "execution_count": 11
  },
  {
   "metadata": {
    "ExecuteTime": {
     "end_time": "2025-08-15T19:47:39.438837Z",
     "start_time": "2025-08-15T19:47:39.430596Z"
    }
   },
   "cell_type": "code",
   "source": [
    "scaled_sims = sims / (torch.tensor(2)**0.5)\n",
    "print(scaled_sims)"
   ],
   "id": "4e7ba7cb62ac5fb5",
   "outputs": [
    {
     "name": "stdout",
     "output_type": "stream",
     "text": [
      "tensor([[-0.0700,  0.0458, -0.4612],\n",
      "        [-0.2844,  0.2883, -2.1230],\n",
      "        [ 0.3424, -0.4725,  2.8610]], grad_fn=<DivBackward0>)\n"
     ]
    }
   ],
   "execution_count": 12
  },
  {
   "metadata": {
    "ExecuteTime": {
     "end_time": "2025-08-15T19:47:39.466204Z",
     "start_time": "2025-08-15T19:47:39.461345Z"
    }
   },
   "cell_type": "code",
   "source": [
    "attention_percents = F.softmax(scaled_sims, dim=1)\n",
    "print(attention_percents)"
   ],
   "id": "9a8cd52666fc6e90",
   "outputs": [
    {
     "name": "stdout",
     "output_type": "stream",
     "text": [
      "tensor([[0.3573, 0.4011, 0.2416],\n",
      "        [0.3410, 0.6047, 0.0542],\n",
      "        [0.0722, 0.0320, 0.8959]], grad_fn=<SoftmaxBackward0>)\n"
     ]
    }
   ],
   "execution_count": 13
  },
  {
   "metadata": {
    "ExecuteTime": {
     "end_time": "2025-08-15T19:47:39.490655Z",
     "start_time": "2025-08-15T19:47:39.485983Z"
    }
   },
   "cell_type": "code",
   "source": "print(torch.matmul(attention_percents, selfAttention.W_v(encodings_matrix)))",
   "id": "c76e0111c5c8ab42",
   "outputs": [
    {
     "name": "stdout",
     "output_type": "stream",
     "text": [
      "tensor([[1.0100, 1.0641],\n",
      "        [0.2040, 0.7057],\n",
      "        [3.4989, 2.2427]], grad_fn=<MmBackward0>)\n"
     ]
    }
   ],
   "execution_count": 14
  },
  {
   "metadata": {},
   "cell_type": "markdown",
   "source": "Masked self attention",
   "id": "5a870e6da3abef63"
  },
  {
   "metadata": {
    "ExecuteTime": {
     "end_time": "2025-08-15T19:47:39.515173Z",
     "start_time": "2025-08-15T19:47:39.509439Z"
    }
   },
   "cell_type": "code",
   "source": [
    "class MaskedSelfAttention(nn.Module):\n",
    "\n",
    "    def __init__(self, d_model=2,\n",
    "                 row_dim=0,\n",
    "                 col_dim=1):\n",
    "\n",
    "        super().__init__()\n",
    "\n",
    "        self.W_q = nn.Linear(in_features=d_model, out_features=d_model, bias=False)\n",
    "        self.W_k = nn.Linear(in_features=d_model, out_features=d_model, bias=False)\n",
    "        self.W_v = nn.Linear(in_features=d_model, out_features=d_model, bias=False)\n",
    "\n",
    "        self.row_dim = row_dim\n",
    "        self.col_dim = col_dim\n",
    "\n",
    "\n",
    "    def forward(self, token_encodings, mask=None):\n",
    "\n",
    "        q = self.W_q(token_encodings)\n",
    "        k = self.W_k(token_encodings)\n",
    "        v = self.W_v(token_encodings)\n",
    "\n",
    "        sims = torch.matmul(q, k.transpose(dim0=self.row_dim, dim1=self.col_dim))\n",
    "\n",
    "        scaled_sims = sims / torch.tensor(k.size(self.col_dim)**0.5)\n",
    "\n",
    "        if mask is not None:\n",
    "            ## Here we are masking out things we don't want to pay attention to\n",
    "            ##\n",
    "            ## We replace values we wanted masked out\n",
    "            ## with a very small negative number so that the SoftMax() function\n",
    "            ## will give all masked elements an output value (or \"probability\") of 0.\n",
    "            scaled_sims = scaled_sims.masked_fill(mask=mask, value=-1e9) # I've also seen -1e20 and -9e15 used in masking\n",
    "\n",
    "        attention_percents = F.softmax(scaled_sims, dim=self.col_dim)\n",
    "\n",
    "        attention_scores = torch.matmul(attention_percents, v)\n",
    "\n",
    "        return attention_scores"
   ],
   "id": "70dd2e7085615a9c",
   "outputs": [],
   "execution_count": 15
  },
  {
   "metadata": {
    "ExecuteTime": {
     "end_time": "2025-08-15T19:47:50.903441Z",
     "start_time": "2025-08-15T19:47:50.894691Z"
    }
   },
   "cell_type": "code",
   "source": [
    "## create a matrix of token encodings...\n",
    "encodings_matrix = torch.tensor([[1.16, 0.23],\n",
    "                                 [0.57, 1.36],\n",
    "                                 [4.41, -2.16]])\n",
    "\n",
    "## set the seed for the random number generator\n",
    "torch.manual_seed(42)\n",
    "\n",
    "## create a masked self-attention object\n",
    "maskedSelfAttention = MaskedSelfAttention(d_model=2,\n",
    "                               row_dim=0,\n",
    "                               col_dim=1)\n",
    "\n",
    "## create the mask so that we don't use\n",
    "## tokens that come after a token of interest\n",
    "mask = torch.tril(torch.ones(3, 3))\n",
    "mask = mask == 0\n",
    "mask # print out the mask"
   ],
   "id": "60514085ae44e59b",
   "outputs": [
    {
     "data": {
      "text/plain": [
       "tensor([[False,  True,  True],\n",
       "        [False, False,  True],\n",
       "        [False, False, False]])"
      ]
     },
     "execution_count": 17,
     "metadata": {},
     "output_type": "execute_result"
    }
   ],
   "execution_count": 17
  },
  {
   "metadata": {
    "ExecuteTime": {
     "end_time": "2025-08-15T19:48:06.573784Z",
     "start_time": "2025-08-15T19:48:06.564837Z"
    }
   },
   "cell_type": "code",
   "source": [
    "## calculate masked self-attention\n",
    "print(maskedSelfAttention(encodings_matrix, mask))"
   ],
   "id": "bb88e72245329f9",
   "outputs": [
    {
     "name": "stdout",
     "output_type": "stream",
     "text": [
      "tensor([[ 0.6038,  0.7434],\n",
      "        [-0.0062,  0.6072],\n",
      "        [ 3.4989,  2.2427]], grad_fn=<MmBackward0>)\n"
     ]
    }
   ],
   "execution_count": 18
  },
  {
   "metadata": {
    "ExecuteTime": {
     "end_time": "2025-08-15T19:50:05.983903Z",
     "start_time": "2025-08-15T19:50:05.979680Z"
    }
   },
   "cell_type": "code",
   "source": [
    "## print out the weight matrix that creates the queries\n",
    "print(maskedSelfAttention.W_q.weight.transpose(0, 1))"
   ],
   "id": "cf601e8629720f60",
   "outputs": [
    {
     "name": "stdout",
     "output_type": "stream",
     "text": [
      "tensor([[ 0.5406, -0.1657],\n",
      "        [ 0.5869,  0.6496]], grad_fn=<TransposeBackward0>)\n"
     ]
    }
   ],
   "execution_count": 19
  },
  {
   "metadata": {
    "ExecuteTime": {
     "end_time": "2025-08-15T19:50:42.808579Z",
     "start_time": "2025-08-15T19:50:42.803851Z"
    }
   },
   "cell_type": "code",
   "source": [
    "## print out the weight matrix that creates the keys\n",
    "print(maskedSelfAttention.W_k.weight.transpose(0, 1))"
   ],
   "id": "91ec85f6a926e5f4",
   "outputs": [
    {
     "name": "stdout",
     "output_type": "stream",
     "text": [
      "tensor([[-0.1549, -0.3443],\n",
      "        [ 0.1427,  0.4153]], grad_fn=<TransposeBackward0>)\n"
     ]
    }
   ],
   "execution_count": 20
  },
  {
   "metadata": {
    "ExecuteTime": {
     "end_time": "2025-08-15T19:50:57.334006Z",
     "start_time": "2025-08-15T19:50:57.329524Z"
    }
   },
   "cell_type": "code",
   "source": [
    "## print out the weight matrix that creates the values\n",
    "print(maskedSelfAttention.W_v.weight.transpose(0, 1))"
   ],
   "id": "7c10461208cd9780",
   "outputs": [
    {
     "name": "stdout",
     "output_type": "stream",
     "text": [
      "tensor([[ 0.6233,  0.6146],\n",
      "        [-0.5188,  0.1323]], grad_fn=<TransposeBackward0>)\n"
     ]
    }
   ],
   "execution_count": 21
  },
  {
   "metadata": {
    "ExecuteTime": {
     "end_time": "2025-08-15T19:52:01.720509Z",
     "start_time": "2025-08-15T19:52:01.713967Z"
    }
   },
   "cell_type": "code",
   "source": [
    "## calculate the queries\n",
    "print(maskedSelfAttention.W_q(encodings_matrix))\n",
    "\n",
    "## calculate the keys\n",
    "print(maskedSelfAttention.W_k(encodings_matrix))\n",
    "\n",
    "## calculate the values\n",
    "print(maskedSelfAttention.W_v(encodings_matrix))"
   ],
   "id": "8fa9ca48a0f37da4",
   "outputs": [
    {
     "name": "stdout",
     "output_type": "stream",
     "text": [
      "tensor([[ 0.7621, -0.0428],\n",
      "        [ 1.1063,  0.7890],\n",
      "        [ 1.1164, -2.1336]], grad_fn=<MmBackward0>)\n",
      "tensor([[-0.1469, -0.3038],\n",
      "        [ 0.1057,  0.3685],\n",
      "        [-0.9914, -2.4152]], grad_fn=<MmBackward0>)\n",
      "tensor([[ 0.6038,  0.7434],\n",
      "        [-0.3502,  0.5303],\n",
      "        [ 3.8695,  2.4246]], grad_fn=<MmBackward0>)\n"
     ]
    }
   ],
   "execution_count": 22
  },
  {
   "metadata": {
    "ExecuteTime": {
     "end_time": "2025-08-15T19:52:15.687171Z",
     "start_time": "2025-08-15T19:52:15.683010Z"
    }
   },
   "cell_type": "code",
   "source": [
    "q = maskedSelfAttention.W_q(encodings_matrix)\n",
    "print(q)"
   ],
   "id": "bbede252971b4e6c",
   "outputs": [
    {
     "name": "stdout",
     "output_type": "stream",
     "text": [
      "tensor([[ 0.7621, -0.0428],\n",
      "        [ 1.1063,  0.7890],\n",
      "        [ 1.1164, -2.1336]], grad_fn=<MmBackward0>)\n"
     ]
    }
   ],
   "execution_count": 23
  },
  {
   "metadata": {
    "ExecuteTime": {
     "end_time": "2025-08-15T19:52:29.068712Z",
     "start_time": "2025-08-15T19:52:29.064362Z"
    }
   },
   "cell_type": "code",
   "source": [
    "k = maskedSelfAttention.W_k(encodings_matrix)\n",
    "print(k)"
   ],
   "id": "9f4b313ee109b0a0",
   "outputs": [
    {
     "name": "stdout",
     "output_type": "stream",
     "text": [
      "tensor([[-0.1469, -0.3038],\n",
      "        [ 0.1057,  0.3685],\n",
      "        [-0.9914, -2.4152]], grad_fn=<MmBackward0>)\n"
     ]
    }
   ],
   "execution_count": 24
  },
  {
   "metadata": {
    "ExecuteTime": {
     "end_time": "2025-08-15T19:53:35.654500Z",
     "start_time": "2025-08-15T19:53:35.650339Z"
    }
   },
   "cell_type": "code",
   "source": [
    "sims = torch.matmul(q, k.transpose(dim0=0, dim1=1))\n",
    "print(sims)"
   ],
   "id": "a231973d414d61e8",
   "outputs": [
    {
     "name": "stdout",
     "output_type": "stream",
     "text": [
      "tensor([[-0.0990,  0.0648, -0.6523],\n",
      "        [-0.4022,  0.4078, -3.0024],\n",
      "        [ 0.4842, -0.6683,  4.0461]], grad_fn=<MmBackward0>)\n"
     ]
    }
   ],
   "execution_count": 25
  },
  {
   "metadata": {
    "ExecuteTime": {
     "end_time": "2025-08-15T19:53:39.617738Z",
     "start_time": "2025-08-15T19:53:39.613111Z"
    }
   },
   "cell_type": "code",
   "source": [
    "scaled_sims = sims / (torch.tensor(2)**0.5)\n",
    "print(scaled_sims)"
   ],
   "id": "e1d34929873c3ab5",
   "outputs": [
    {
     "name": "stdout",
     "output_type": "stream",
     "text": [
      "tensor([[-0.0700,  0.0458, -0.4612],\n",
      "        [-0.2844,  0.2883, -2.1230],\n",
      "        [ 0.3424, -0.4725,  2.8610]], grad_fn=<DivBackward0>)\n"
     ]
    }
   ],
   "execution_count": 26
  },
  {
   "metadata": {
    "ExecuteTime": {
     "end_time": "2025-08-15T19:53:41.627437Z",
     "start_time": "2025-08-15T19:53:41.621296Z"
    }
   },
   "cell_type": "code",
   "source": [
    "masked_scaled_sims = scaled_sims.masked_fill(mask=mask, value=-1e9)\n",
    "print(masked_scaled_sims)"
   ],
   "id": "8333e81bbca737f7",
   "outputs": [
    {
     "name": "stdout",
     "output_type": "stream",
     "text": [
      "tensor([[-6.9975e-02, -1.0000e+09, -1.0000e+09],\n",
      "        [-2.8442e-01,  2.8833e-01, -1.0000e+09],\n",
      "        [ 3.4241e-01, -4.7253e-01,  2.8610e+00]],\n",
      "       grad_fn=<MaskedFillBackward0>)\n"
     ]
    }
   ],
   "execution_count": 27
  },
  {
   "metadata": {
    "ExecuteTime": {
     "end_time": "2025-08-15T19:54:27.553736Z",
     "start_time": "2025-08-15T19:54:27.548463Z"
    }
   },
   "cell_type": "code",
   "source": [
    "attention_percents = F.softmax(masked_scaled_sims, dim=1)\n",
    "print(attention_percents)"
   ],
   "id": "526191584079fb8d",
   "outputs": [
    {
     "name": "stdout",
     "output_type": "stream",
     "text": [
      "tensor([[1.0000, 0.0000, 0.0000],\n",
      "        [0.3606, 0.6394, 0.0000],\n",
      "        [0.0722, 0.0320, 0.8959]], grad_fn=<SoftmaxBackward0>)\n"
     ]
    }
   ],
   "execution_count": 28
  },
  {
   "metadata": {
    "ExecuteTime": {
     "end_time": "2025-08-15T19:54:29.081175Z",
     "start_time": "2025-08-15T19:54:29.076678Z"
    }
   },
   "cell_type": "code",
   "source": "print(torch.matmul(attention_percents, maskedSelfAttention.W_v(encodings_matrix)))",
   "id": "f4f0d0b5bd674c76",
   "outputs": [
    {
     "name": "stdout",
     "output_type": "stream",
     "text": [
      "tensor([[ 0.6038,  0.7434],\n",
      "        [-0.0062,  0.6072],\n",
      "        [ 3.4989,  2.2427]], grad_fn=<MmBackward0>)\n"
     ]
    }
   ],
   "execution_count": 29
  },
  {
   "metadata": {
    "ExecuteTime": {
     "end_time": "2025-08-15T21:04:23.474277Z",
     "start_time": "2025-08-15T21:04:23.455985Z"
    }
   },
   "cell_type": "code",
   "source": [
    "class Attention(nn.Module):\n",
    "\n",
    "    def __init__(self, d_model=2,\n",
    "                 row_dim=0,\n",
    "                 col_dim=1):\n",
    "\n",
    "        super().__init__()\n",
    "\n",
    "        self.W_q = nn.Linear(in_features=d_model, out_features=d_model, bias=False)\n",
    "        self.W_k = nn.Linear(in_features=d_model, out_features=d_model, bias=False)\n",
    "        self.W_v = nn.Linear(in_features=d_model, out_features=d_model, bias=False)\n",
    "\n",
    "        self.row_dim = row_dim\n",
    "        self.col_dim = col_dim\n",
    "\n",
    "\n",
    "    ## The only change from SelfAttention and attention is that\n",
    "    ## now we expect 3 sets of encodings to be passed in...\n",
    "    def forward(self, encodings_for_q, encodings_for_k, encodings_for_v, mask=None):\n",
    "        ## ...and we pass those sets of encodings to the various weight matrices.\n",
    "        q = self.W_q(encodings_for_q)\n",
    "        k = self.W_k(encodings_for_k)\n",
    "        v = self.W_v(encodings_for_v)\n",
    "\n",
    "        sims = torch.matmul(q, k.transpose(dim0=self.row_dim, dim1=self.col_dim))\n",
    "\n",
    "        scaled_sims = sims / torch.tensor(k.size(self.col_dim)**0.5)\n",
    "\n",
    "        if mask is not None:\n",
    "            scaled_sims = scaled_sims.masked_fill(mask=mask, value=-1e9)\n",
    "\n",
    "        attention_percents = F.softmax(scaled_sims, dim=self.col_dim)\n",
    "\n",
    "        attention_scores = torch.matmul(attention_percents, v)\n",
    "\n",
    "        return attention_scores"
   ],
   "id": "a14472e3bcba2894",
   "outputs": [],
   "execution_count": 30
  },
  {
   "metadata": {},
   "cell_type": "markdown",
   "source": "Calculate Encoder-Decoder Attention",
   "id": "5b5ceb1b5bc3d792"
  },
  {
   "metadata": {
    "ExecuteTime": {
     "end_time": "2025-08-15T21:09:55.156096Z",
     "start_time": "2025-08-15T21:09:55.147057Z"
    }
   },
   "cell_type": "code",
   "source": [
    "## create matrices of token encodings...\n",
    "encodings_for_q = torch.tensor([[1.16, 0.23],\n",
    "                                [0.57, 1.36],\n",
    "                                [4.41, -2.16]])\n",
    "\n",
    "encodings_for_k = torch.tensor([[1.16, 0.23],\n",
    "                                [0.57, 1.36],\n",
    "                                [4.41, -2.16]])\n",
    "\n",
    "encodings_for_v = torch.tensor([[1.16, 0.23],\n",
    "                                [0.57, 1.36],\n",
    "                                [4.41, -2.16]])\n",
    "\n",
    "## set the seed for the random number generator\n",
    "torch.manual_seed(42)\n",
    "\n",
    "## create an attention object\n",
    "attention = Attention(d_model=2,\n",
    "                      row_dim=0,\n",
    "                      col_dim=1)\n",
    "\n",
    "## calculate encoder-decoder attention\n",
    "print(attention(encodings_for_q, encodings_for_k, encodings_for_v))"
   ],
   "id": "a1aaa08fc58e448",
   "outputs": [
    {
     "name": "stdout",
     "output_type": "stream",
     "text": [
      "tensor([[1.0100, 1.0641],\n",
      "        [0.2040, 0.7057],\n",
      "        [3.4989, 2.2427]], grad_fn=<MmBackward0>)\n"
     ]
    }
   ],
   "execution_count": 37
  },
  {
   "metadata": {},
   "cell_type": "markdown",
   "source": "Code Mutli-Head Attention",
   "id": "f32fdc1e59d7af6d"
  },
  {
   "metadata": {
    "ExecuteTime": {
     "end_time": "2025-08-15T21:09:59.310669Z",
     "start_time": "2025-08-15T21:09:59.306076Z"
    }
   },
   "cell_type": "code",
   "source": [
    "class MultiHeadAttention(nn.Module):\n",
    "\n",
    "    def __init__(self,\n",
    "                 d_model=2,\n",
    "                 row_dim=0,\n",
    "                 col_dim=1,\n",
    "                 num_heads=1):\n",
    "\n",
    "        super().__init__()\n",
    "\n",
    "        ## create a bunch of attention heads\n",
    "        self.heads = nn.ModuleList(\n",
    "            [Attention(d_model, row_dim, col_dim)\n",
    "             for _ in range(num_heads)]\n",
    "        )\n",
    "\n",
    "        self.col_dim = col_dim\n",
    "\n",
    "    def forward(self,\n",
    "                encodings_for_q,\n",
    "                encodings_for_k,\n",
    "                encodings_for_v):\n",
    "\n",
    "        ## run the data through all of the attention heads\n",
    "        return torch.cat([head(encodings_for_q,\n",
    "                               encodings_for_k,\n",
    "                               encodings_for_v)\n",
    "                          for head in self.heads], dim=self.col_dim)"
   ],
   "id": "ff67095295eb14f7",
   "outputs": [],
   "execution_count": 38
  },
  {
   "metadata": {},
   "cell_type": "markdown",
   "source": "First, verify that we can still correctly calculate attention with a single head...",
   "id": "b1191c31caa47e3f"
  },
  {
   "metadata": {
    "ExecuteTime": {
     "end_time": "2025-08-15T21:10:26.008891Z",
     "start_time": "2025-08-15T21:10:25.999268Z"
    }
   },
   "cell_type": "code",
   "source": [
    "## set the seed for the random number generator\n",
    "torch.manual_seed(42)\n",
    "\n",
    "## create an attention object\n",
    "multiHeadAttention = MultiHeadAttention(d_model=2,\n",
    "                                        row_dim=0,\n",
    "                                        col_dim=1,\n",
    "                                        num_heads=1)\n",
    "\n",
    "## calculate encoder-decoder attention\n",
    "print(multiHeadAttention(encodings_for_q, encodings_for_k, encodings_for_v))"
   ],
   "id": "5760aefb43be94a1",
   "outputs": [
    {
     "name": "stdout",
     "output_type": "stream",
     "text": [
      "tensor([[1.0100, 1.0641],\n",
      "        [0.2040, 0.7057],\n",
      "        [3.4989, 2.2427]], grad_fn=<CatBackward0>)\n"
     ]
    }
   ],
   "execution_count": 40
  },
  {
   "metadata": {},
   "cell_type": "markdown",
   "source": "Second, calculate attention with multiple heads...",
   "id": "44774e915ed3e5a0"
  },
  {
   "metadata": {
    "ExecuteTime": {
     "end_time": "2025-08-15T21:36:20.061247Z",
     "start_time": "2025-08-15T21:36:20.049720Z"
    }
   },
   "cell_type": "code",
   "source": [
    "## set the seed for the random number generator\n",
    "torch.manual_seed(42)\n",
    "\n",
    "## create an attention object\n",
    "multiHeadAttention = MultiHeadAttention(d_model=2,\n",
    "                                        row_dim=0,\n",
    "                                        col_dim=1,\n",
    "                                        num_heads=3)\n",
    "\n",
    "## calculate encoder-decoder attention\n",
    "print(multiHeadAttention(encodings_for_q, encodings_for_k, encodings_for_v))"
   ],
   "id": "6fe273c97db334be",
   "outputs": [
    {
     "name": "stdout",
     "output_type": "stream",
     "text": [
      "tensor([[ 1.0100,  1.0641, -0.7081, -0.8268,  0.6226,  0.1312],\n",
      "        [ 0.2040,  0.7057, -0.7417, -0.9193,  0.5522,  0.2499],\n",
      "        [ 3.4989,  2.2427, -0.7190, -0.8447,  0.5669,  0.2324]],\n",
      "       grad_fn=<CatBackward0>)\n"
     ]
    }
   ],
   "execution_count": 44
  }
 ],
 "metadata": {
  "kernelspec": {
   "display_name": "Python 3",
   "language": "python",
   "name": "python3"
  },
  "language_info": {
   "codemirror_mode": {
    "name": "ipython",
    "version": 2
   },
   "file_extension": ".py",
   "mimetype": "text/x-python",
   "name": "python",
   "nbconvert_exporter": "python",
   "pygments_lexer": "ipython2",
   "version": "2.7.6"
  }
 },
 "nbformat": 4,
 "nbformat_minor": 5
}
