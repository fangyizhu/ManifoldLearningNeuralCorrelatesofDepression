{
 "cells": [
  {
   "cell_type": "code",
   "id": "initial_id",
   "metadata": {
    "collapsed": true,
    "ExecuteTime": {
     "end_time": "2025-08-09T00:42:20.955764Z",
     "start_time": "2025-08-09T00:42:12.268660Z"
    }
   },
   "source": "from transformers import AutoModel, AutoTokenizer",
   "outputs": [],
   "execution_count": 1
  },
  {
   "metadata": {
    "ExecuteTime": {
     "end_time": "2025-08-09T00:42:20.964863Z",
     "start_time": "2025-08-09T00:42:20.961529Z"
    }
   },
   "cell_type": "code",
   "source": [
    "MODEL = \"google/gemma-2b\"\n",
    "DEVICE = \"cuda:0\" # run on my gpu"
   ],
   "id": "8798e7ba01c0dbf8",
   "outputs": [],
   "execution_count": 2
  },
  {
   "metadata": {
    "ExecuteTime": {
     "end_time": "2025-08-09T00:42:40.247480Z",
     "start_time": "2025-08-09T00:42:20.968255Z"
    }
   },
   "cell_type": "code",
   "source": [
    "tokenizer = AutoTokenizer.from_pretrained(MODEL)\n",
    "model = AutoModel.from_pretrained(MODEL)"
   ],
   "id": "606ba52520901dc1",
   "outputs": [
    {
     "data": {
      "text/plain": [
       "Loading checkpoint shards:   0%|          | 0/2 [00:00<?, ?it/s]"
      ],
      "application/vnd.jupyter.widget-view+json": {
       "version_major": 2,
       "version_minor": 0,
       "model_id": "2ba5098f64874ba8a8fa91f08e4b1294"
      }
     },
     "metadata": {},
     "output_type": "display_data"
    }
   ],
   "execution_count": 3
  },
  {
   "metadata": {
    "ExecuteTime": {
     "end_time": "2025-08-09T00:48:41.250281Z",
     "start_time": "2025-08-09T00:48:41.164980Z"
    }
   },
   "cell_type": "code",
   "source": [
    "emotions = [\"happy\", \"sad\", \"anxious\", \"calm\", \"depressed\", \"elated\"]\n",
    "emotion_tokens = [tokenizer(emo, return_tensors='pt').input_ids for emo in emotions]\n",
    "print(emotion_tokens)"
   ],
   "id": "15e7b58f6c647e84",
   "outputs": [
    {
     "name": "stdout",
     "output_type": "stream",
     "text": [
      "[tensor([[    2, 11896]]), tensor([[    2, 37968]]), tensor([[    2,   481, 24192]]), tensor([[     2, 116051]]), tensor([[   2, 3243, 3734]]), tensor([[  2, 521, 840]])]\n"
     ]
    }
   ],
   "execution_count": 5
  },
  {
   "metadata": {
    "ExecuteTime": {
     "end_time": "2025-08-09T00:52:13.205875Z",
     "start_time": "2025-08-09T00:52:11.430002Z"
    }
   },
   "cell_type": "code",
   "source": "from sentence_transformers import SentenceTransformer\n",
   "id": "733eeea9adea54ff",
   "outputs": [],
   "execution_count": 9
  }
 ],
 "metadata": {
  "kernelspec": {
   "display_name": "Python 3",
   "language": "python",
   "name": "python3"
  },
  "language_info": {
   "codemirror_mode": {
    "name": "ipython",
    "version": 2
   },
   "file_extension": ".py",
   "mimetype": "text/x-python",
   "name": "python",
   "nbconvert_exporter": "python",
   "pygments_lexer": "ipython2",
   "version": "2.7.6"
  }
 },
 "nbformat": 4,
 "nbformat_minor": 5
}
