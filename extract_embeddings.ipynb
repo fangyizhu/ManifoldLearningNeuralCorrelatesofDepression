{
 "cells": [
  {
   "cell_type": "code",
   "id": "initial_id",
   "metadata": {
    "collapsed": true,
    "ExecuteTime": {
     "end_time": "2025-08-11T22:55:04.602878Z",
     "start_time": "2025-08-11T22:55:04.599354Z"
    }
   },
   "source": [
    "from torch import save\n",
    "from transformers import AutoModel, AutoTokenizer"
   ],
   "outputs": [],
   "execution_count": 18
  },
  {
   "metadata": {
    "ExecuteTime": {
     "end_time": "2025-08-11T22:43:01.998050Z",
     "start_time": "2025-08-11T22:43:01.994970Z"
    }
   },
   "cell_type": "code",
   "source": [
    "MODEL = \"google/gemma-2b\"\n",
    "EMBEDDING_FILE = \"embeddings_google_gemma-2b.pth\"\n",
    "DEVICE = \"cuda:0\" # run on my gpu"
   ],
   "id": "8798e7ba01c0dbf8",
   "outputs": [],
   "execution_count": 11
  },
  {
   "metadata": {
    "ExecuteTime": {
     "end_time": "2025-08-11T21:54:35.475254Z",
     "start_time": "2025-08-11T21:54:13.579456Z"
    }
   },
   "cell_type": "code",
   "source": [
    "tokenizer = AutoTokenizer.from_pretrained(MODEL)\n",
    "model = AutoModel.from_pretrained(MODEL)"
   ],
   "id": "606ba52520901dc1",
   "outputs": [
    {
     "data": {
      "text/plain": [
       "Loading checkpoint shards:   0%|          | 0/2 [00:00<?, ?it/s]"
      ],
      "application/vnd.jupyter.widget-view+json": {
       "version_major": 2,
       "version_minor": 0,
       "model_id": "fea77f92f37c41809abd52c0f9128bee"
      }
     },
     "metadata": {},
     "output_type": "display_data"
    }
   ],
   "execution_count": 4
  },
  {
   "metadata": {
    "ExecuteTime": {
     "end_time": "2025-08-11T21:54:36.090674Z",
     "start_time": "2025-08-11T21:54:35.952263Z"
    }
   },
   "cell_type": "code",
   "source": [
    "emotions = [\"happy\", \"sad\", \"anxious\", \"calm\", \"depressed\", \"elated\"]\n",
    "emotion_tokens = [tokenizer(emo, return_tensors='pt').input_ids for emo in emotions]\n",
    "print(emotion_tokens)"
   ],
   "id": "15e7b58f6c647e84",
   "outputs": [
    {
     "name": "stdout",
     "output_type": "stream",
     "text": [
      "[tensor([[    2, 11896]]), tensor([[    2, 37968]]), tensor([[    2,   481, 24192]]), tensor([[     2, 116051]]), tensor([[   2, 3243, 3734]]), tensor([[  2, 521, 840]])]\n"
     ]
    }
   ],
   "execution_count": 5
  },
  {
   "metadata": {
    "ExecuteTime": {
     "end_time": "2025-08-11T22:34:52.028907Z",
     "start_time": "2025-08-11T22:34:36.576181Z"
    }
   },
   "cell_type": "code",
   "source": [
    "# extract embedding layer from a model, save locally\n",
    "embeddings = model.get_input_embeddings()\n",
    "print(f\"Extracted Embeddings Layer for {MODEL}: {embeddings}\")\n",
    "save(embeddings.state_dict(), EMBEDDING_FILE)"
   ],
   "id": "c198df8d79e8f090",
   "outputs": [
    {
     "name": "stdout",
     "output_type": "stream",
     "text": [
      "Extracted Embeddings Layer for google/gemma-2b: Embedding(256000, 2048, padding_idx=0)\n"
     ]
    }
   ],
   "execution_count": 9
  }
 ],
 "metadata": {
  "kernelspec": {
   "display_name": "Python 3",
   "language": "python",
   "name": "python3"
  },
  "language_info": {
   "codemirror_mode": {
    "name": "ipython",
    "version": 2
   },
   "file_extension": ".py",
   "mimetype": "text/x-python",
   "name": "python",
   "nbconvert_exporter": "python",
   "pygments_lexer": "ipython2",
   "version": "2.7.6"
  }
 },
 "nbformat": 4,
 "nbformat_minor": 5
}
